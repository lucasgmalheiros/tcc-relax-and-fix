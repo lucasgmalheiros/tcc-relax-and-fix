{
 "cells": [
  {
   "cell_type": "code",
   "execution_count": 74,
   "id": "956764c4-b200-458e-9d71-c81bf49cc13b",
   "metadata": {},
   "outputs": [],
   "source": [
    "import gurobipy as gp\n",
    "from gurobipy import GRB\n",
    "import numpy as np"
   ]
  },
  {
   "cell_type": "code",
   "execution_count": 159,
   "id": "157a87f5-a9b3-4ac9-929c-47ca668fbbeb",
   "metadata": {},
   "outputs": [
    {
     "name": "stdout",
     "output_type": "stream",
     "text": [
      "['AAA01226_2.dat']\n"
     ]
    }
   ],
   "source": [
    "# Lê a primeira coluna do CSV de resultados para ver instâncias já resolvidas\n",
    "try:\n",
    "    instancias_resolvidas = [row[0] for row in csv.reader(open('results.csv'))][1:]  # Exclui o cabeçalho\n",
    "except IndexError:\n",
    "    instancias_resolvidas = []\n",
    "\n",
    "folder_path = 'instancias/maria_desiree/'\n",
    "instancias = natsorted([f for f in os.listdir(folder_path) if f.startswith('AAA01226') and f.replace('.dat', '') not in instancias_resolvidas])  # Instâncias a serem resolvidas\n",
    "\n",
    "print(instancias)"
   ]
  },
  {
   "cell_type": "markdown",
   "id": "52639ada-84bb-4384-811a-2e1ea738d92d",
   "metadata": {},
   "source": [
    "# Leitura de instâncias"
   ]
  },
  {
   "cell_type": "code",
   "execution_count": 75,
   "id": "11301d1f-0aef-4c96-b33e-85db4a44158e",
   "metadata": {
    "scrolled": true
   },
   "outputs": [],
   "source": [
    "def read_dat_file(file_path):\n",
    "    \"\"\"\"Função para a leitura das instâncias de Mariá\"\"\"\n",
    "    with open(file_path, 'r') as file:\n",
    "        lines = file.readlines()\n",
    "\n",
    "    # 1. Lendo quantidade de itens e períodos\n",
    "    items, periods = map(int, lines[0].split())\n",
    "\n",
    "    # 2. Lendo número de plantas\n",
    "    num_plants = int(lines[1].strip())\n",
    "\n",
    "    # 3. Lendo capacidades das plantas\n",
    "    capacities = [int(lines[i + 2].strip()) for i in range(num_plants)]\n",
    "    capacities = np.tile(capacities, (periods, 1)).T  # Repete as capacidades ao longo dos períodos (deixar na forma j, t)\n",
    "\n",
    "    # 4. Lendo a matriz de produção (tempo de produção, tempo de setup, custo de setup, custo de produção)\n",
    "    production_data = []\n",
    "    start_line = 2 + num_plants\n",
    "    production_time = np.zeros((items, num_plants))  # Inicializar listas para armazenar separadamente os tempos e custos\n",
    "    setup_time = np.zeros((items, num_plants))\n",
    "    setup_cost = np.zeros((items, num_plants))\n",
    "    production_cost = np.zeros((items, num_plants))\n",
    "    for i in range(num_plants * items):  # Preencher as matrizes com os dados lidos\n",
    "        plant = i // items  # Determina a planta\n",
    "        item = i % items    # Determina o item\n",
    "        # Extrair os dados de cada linha\n",
    "        prod_time, set_time, set_cost, prod_cost = map(float, lines[start_line + i].split())\n",
    "        production_time[item, plant] = prod_time  # Preencher as respectivas matrizes\n",
    "        setup_time[item, plant] = set_time\n",
    "        setup_cost[item, plant] = set_cost\n",
    "        production_cost[item, plant] = prod_cost\n",
    "\n",
    "    # 5. Lendo os custos de inventário\n",
    "    inventory_costs_line = start_line + num_plants * items\n",
    "    inventory_costs = list(map(float, lines[inventory_costs_line].split()))  # Lê todos os valores de inventory_costs como uma única lista\n",
    "    inventory_costs = np.array(inventory_costs).reshape(num_plants, -1)  # Divide a lista de custos de inventário por planta\n",
    "    inventory_costs = inventory_costs.T  # Deixa na forma (i, j)\n",
    "\n",
    "    # 6. Lendo a matriz de demanda (12 linhas, 12 colunas)\n",
    "    demand_matrix = []\n",
    "    demand_start_line = inventory_costs_line + 1\n",
    "    \n",
    "    for i in range(periods):  # Lê a linha de demandas para o período\n",
    "        demands = list(map(int, lines[demand_start_line + i].split()))\n",
    "        period_demand = []  # Divide as demandas entre as plantas\n",
    "        for j in range(num_plants):\n",
    "            # Extraindo demandas por planta (assumindo que cada planta tem um número igual de itens)\n",
    "            plant_demand = demands[j*items:(j+1)*items]\n",
    "            period_demand.append(plant_demand)\n",
    "\n",
    "        demand_matrix.append(period_demand)\n",
    "    demand_matrix = np.array(demand_matrix)\n",
    "    demand_matrix = np.transpose(demand_matrix, (2, 1, 0))\n",
    "\n",
    "    # 7. Lendo os custos de transferência\n",
    "    transfer_costs = []\n",
    "    transfer_cost_line = demand_start_line + periods\n",
    "    while transfer_cost_line < len(lines):\n",
    "        line = lines[transfer_cost_line].strip()  # Verificar se a linha não está vazia antes de tentar ler\n",
    "        if line:\n",
    "            transfer_costs.append(float(line))\n",
    "        transfer_cost_line += 1\n",
    "\n",
    "    def create_transfer_cost_matrix(transfer_costs, num_plants):  # Criar a matriz de custos de transferência (simétrica)\n",
    "        transfer_cost_matrix = np.zeros((num_plants, num_plants))  # Inicializar a matriz de zeros\n",
    "        if len(transfer_costs) == 1:\n",
    "            transfer_cost = transfer_costs[0]  # Se houver apenas um custo de transferência, aplicar para todos os pares de plantas\n",
    "            for j in range(num_plants):\n",
    "                for k in range(j + 1, num_plants):\n",
    "                    transfer_cost_matrix[j, k] = transfer_cost\n",
    "                    transfer_cost_matrix[k, j] = transfer_cost\n",
    "        else:\n",
    "            idx = 0  # Se houver múltiplos custos, aplicar entre pares de plantas\n",
    "            for j in range(num_plants):\n",
    "                for k in range(j + 1, num_plants):\n",
    "                    transfer_cost_matrix[j, k] = transfer_costs[idx]\n",
    "                    transfer_cost_matrix[k, j] = transfer_costs[idx]\n",
    "                    idx += 1\n",
    "        return transfer_cost_matrix\n",
    "\n",
    "    transfer_costs = create_transfer_cost_matrix(transfer_costs, num_plants)\n",
    "\n",
    "    return {\"items\": items,\n",
    "            \"periods\": periods,\n",
    "            \"num_plants\": num_plants,\n",
    "            \"capacities\": capacities,\n",
    "            \"production_time\": production_time,\n",
    "            \"setup_time\": setup_time,\n",
    "            \"setup_cost\": setup_cost,  \n",
    "            \"production_cost\": production_cost,\n",
    "            \"inventory_costs\": inventory_costs,\n",
    "            \"demand_matrix\": demand_matrix,\n",
    "            \"transfer_costs\": transfer_costs}"
   ]
  },
  {
   "cell_type": "code",
   "execution_count": 76,
   "id": "7769846c-052e-42e0-94c6-7121bf1349bd",
   "metadata": {},
   "outputs": [],
   "source": [
    "# Exemplo de uso\n",
    "file_path = 'instancias/maria_desiree/AAA01226_0.dat'\n",
    "data = read_dat_file(file_path)\n",
    "# display(data)"
   ]
  },
  {
   "cell_type": "markdown",
   "id": "2576c1b9-b389-40f2-ae39-33bda1a0a356",
   "metadata": {},
   "source": [
    "# Modelagem"
   ]
  },
  {
   "cell_type": "code",
   "execution_count": 77,
   "id": "f5513369-f935-49de-99a4-6cec0bf7b4db",
   "metadata": {},
   "outputs": [],
   "source": [
    "m = gp.Model('Lot-sizing Sambasivan and Yahya')"
   ]
  },
  {
   "cell_type": "markdown",
   "id": "595f2fa2-1bf1-4ae9-a58f-95422587e232",
   "metadata": {},
   "source": [
    "## Conjuntos"
   ]
  },
  {
   "cell_type": "code",
   "execution_count": 78,
   "id": "337e6777-3f4c-49f3-b1e8-d3547010f4a8",
   "metadata": {},
   "outputs": [],
   "source": [
    "# Produtos (i)\n",
    "I = np.array([_ for _ in range(data['items'])])\n",
    "# Plantas (j)\n",
    "J = np.array([_ for _ in range(data['num_plants'])])\n",
    "# Períodos (t)\n",
    "T = np.array([_ for _ in range(data['periods'])])"
   ]
  },
  {
   "cell_type": "markdown",
   "id": "55ac26fa-edaf-4a2e-bd2a-4f4e1e9ea660",
   "metadata": {},
   "source": [
    "## Parâmetros"
   ]
  },
  {
   "cell_type": "code",
   "execution_count": 79,
   "id": "75ce9cbc-acad-4bac-a3aa-259cce01163e",
   "metadata": {},
   "outputs": [],
   "source": [
    "# Demanda (i, j, t)\n",
    "d = np.array(data['demand_matrix'])\n",
    "# Capacidade (j, t)\n",
    "cap = np.array(data['capacities'])\n",
    "# Tempo de produção (i, j)\n",
    "b = np.array(data['production_time'])\n",
    "# Tempo de setup (i, j)\n",
    "f = np.array(data['setup_time'])\n",
    "# Custo de produção (i, j)\n",
    "c = np.array(data['production_cost'])\n",
    "# Custo de setup (i, j)\n",
    "s = np.array(data['setup_cost'])\n",
    "# Custo de transporte (j, k)\n",
    "r = np.array(data['transfer_costs'])\n",
    "# Custo de estoque (i, j)\n",
    "h = np.array(data['inventory_costs'])"
   ]
  },
  {
   "cell_type": "markdown",
   "id": "c5f5d3c7-7d4a-4176-855e-b24febf323a9",
   "metadata": {},
   "source": [
    "## Variáveis de decisão"
   ]
  },
  {
   "cell_type": "code",
   "execution_count": 80,
   "id": "5143de99-4749-492d-a91d-43ed8c4df221",
   "metadata": {},
   "outputs": [],
   "source": [
    "# Quantidade produzida (i, j, t)\n",
    "X = m.addVars(I, J, T, vtype=GRB.CONTINUOUS, name='X')\n",
    "# Quantidade estocada (i, j, t)\n",
    "Q = m.addVars(I, J, T, vtype=GRB.CONTINUOUS, name='Q')\n",
    "# # Quantidade transportada (i, j, k(um outro j), t)\n",
    "W = m.addVars(I, J, J, T, vtype=GRB.CONTINUOUS, name='W')\n",
    "# # Variável de setup (binária) (i, j, t)\n",
    "Z = m.addVars(I, J, T, vtype=GRB.BINARY, name='Z')"
   ]
  },
  {
   "cell_type": "markdown",
   "id": "acfdabf5-3640-4fdb-9467-3887f426c0a1",
   "metadata": {},
   "source": [
    "## Função objetivo"
   ]
  },
  {
   "cell_type": "code",
   "execution_count": 81,
   "id": "e61bc597-0a2c-4812-9b81-292a570fd5a6",
   "metadata": {},
   "outputs": [],
   "source": [
    "expr_objetivo = sum(sum(sum(c[i, j] * X[i, j, t] + h[i, j] * Q[i, j, t] + s[i, j] * Z[i, j, t] + \n",
    "                            sum(r[j, k] * W[i, j, k, t] for k in J if k != j) for t in T) for j in J) for i in I)\n",
    "m.setObjective(expr_objetivo, sense=GRB.MINIMIZE)"
   ]
  },
  {
   "cell_type": "markdown",
   "id": "47df9ee1-6f26-4817-ab5f-d69a7b88fff5",
   "metadata": {},
   "source": [
    "## Restrições"
   ]
  },
  {
   "cell_type": "code",
   "execution_count": 82,
   "id": "3ae73222-b1d7-494f-b42c-da159098b56f",
   "metadata": {},
   "outputs": [],
   "source": [
    "# Balanço de estoque (revisar comportamento)\n",
    "# Período inicial\n",
    "m.addConstrs((Q[i, j, t] == X[i, j, t] - sum(W[i, j, k, t] for k in J if k != j) + sum(W[i, l, j, t] for l in J if l != j) - d[i, j, t] for i in I for j in J for t in T if t == 0),\n",
    "             name='restricao_balanco_estoque')\n",
    "# Demais períodos\n",
    "m.addConstrs((Q[i, j, t] == Q[i, j, t-1] + X[i, j, t] - sum(W[i, j, k, t] for k in J if k != j) + sum(W[i, l, j, t] for l in J if l != j) - d[i, j, t] for i in I for j in J for t in T if t > 0),\n",
    "             name='restricao_balanco_estoque');"
   ]
  },
  {
   "cell_type": "code",
   "execution_count": 83,
   "id": "b96463c3-af9a-4df4-b8cd-a30971e09361",
   "metadata": {},
   "outputs": [],
   "source": [
    "# Restrição que obriga setup (validar o range do r)\n",
    "m.addConstrs((X[i, j, t] <= min((cap[j, t] - f[i, j]) / b[i, j], sum(sum(d[i, k, r] for r in range(t, T[-1] + 1)) for k in J)) * Z[i, j, t] for i in I for j in J for t in T)\n",
    "             , name='restricao_setup');"
   ]
  },
  {
   "cell_type": "code",
   "execution_count": 84,
   "id": "9a8cc89f-d774-4dc4-b11e-eb2b9cc4e38c",
   "metadata": {},
   "outputs": [],
   "source": [
    "# Restrição de capacidade\n",
    "m.addConstrs((sum(b[i, j] * X[i, j, t] + f[i, j] * Z[i, j, t] for i in I) <= cap[j, t] for j in J for t in T)\n",
    "             , name='restricao_capacidade');"
   ]
  },
  {
   "cell_type": "markdown",
   "id": "11ecb20e-293d-4bab-ae28-868c052be388",
   "metadata": {},
   "source": [
    "# Resolução"
   ]
  },
  {
   "cell_type": "code",
   "execution_count": 85,
   "id": "91524fee-1939-42e7-9755-ae333346d9a4",
   "metadata": {},
   "outputs": [
    {
     "name": "stdout",
     "output_type": "stream",
     "text": [
      "Gurobi Optimizer version 11.0.3 build v11.0.3rc0 (win64 - Windows 10.0 (19045.2))\n",
      "\n",
      "CPU model: Intel(R) Core(TM) i5-1035G1 CPU @ 1.00GHz, instruction set [SSE2|AVX|AVX2|AVX512]\n",
      "Thread count: 4 physical cores, 8 logical processors, using up to 8 threads\n",
      "\n",
      "Optimize a model with 312 rows, 720 columns and 1284 nonzeros\n",
      "Model fingerprint: 0x70ecf60e\n",
      "Variable types: 576 continuous, 144 integer (144 binary)\n",
      "Coefficient statistics:\n",
      "  Matrix range     [1e+00, 1e+03]\n",
      "  Objective range  [2e-01, 9e+02]\n",
      "  Bounds range     [1e+00, 1e+00]\n",
      "  RHS range        [2e+00, 1e+03]\n",
      "Presolve removed 0 rows and 156 columns\n",
      "Presolve time: 0.00s\n",
      "Presolved: 312 rows, 564 columns, 1272 nonzeros\n",
      "Variable types: 420 continuous, 144 integer (144 binary)\n",
      "\n",
      "Root relaxation: objective 3.855114e+04, 546 iterations, 0.01 seconds (0.00 work units)\n",
      "\n",
      "    Nodes    |    Current Node    |     Objective Bounds      |     Work\n",
      " Expl Unexpl |  Obj  Depth IntInf | Incumbent    BestBd   Gap | It/Node Time\n",
      "\n",
      "     0     0 38551.1395    0   72          - 38551.1395      -     -    0s\n",
      "H    0     0                    65477.029081 38551.1395  41.1%     -    0s\n",
      "H    0     0                    62296.799256 38551.1395  38.1%     -    0s\n",
      "     0     0 41204.0743    0   60 62296.7993 41204.0743  33.9%     -    0s\n",
      "H    0     0                    60858.440873 41487.0786  31.8%     -    0s\n",
      "     0     0 41487.0786    0   59 60858.4409 41487.0786  31.8%     -    0s\n",
      "     0     0 41489.9294    0   59 60858.4409 41489.9294  31.8%     -    0s\n",
      "     0     0 41489.9348    0   60 60858.4409 41489.9348  31.8%     -    0s\n",
      "     0     0 43456.1924    0   63 60858.4409 43456.1924  28.6%     -    0s\n",
      "     0     0 43549.3492    0   59 60858.4409 43549.3492  28.4%     -    0s\n",
      "     0     0 43549.3492    0   59 60858.4409 43549.3492  28.4%     -    0s\n",
      "     0     0 43549.3492    0   61 60858.4409 43549.3492  28.4%     -    0s\n",
      "     0     0 44018.0335    0   62 60858.4409 44018.0335  27.7%     -    0s\n",
      "     0     0 44106.8646    0   61 60858.4409 44106.8646  27.5%     -    0s\n",
      "     0     0 44117.7654    0   63 60858.4409 44117.7654  27.5%     -    0s\n",
      "     0     0 44121.5139    0   64 60858.4409 44121.5139  27.5%     -    0s\n",
      "     0     0 44259.6326    0   65 60858.4409 44259.6326  27.3%     -    0s\n",
      "H    0     0                    56495.872622 44275.5987  21.6%     -    0s\n",
      "H    0     0                    52665.464297 44291.5242  15.9%     -    0s\n",
      "     0     0 44291.5242    0   62 52665.4643 44291.5242  15.9%     -    0s\n",
      "     0     0 44302.4697    0   63 52665.4643 44302.4697  15.9%     -    0s\n",
      "     0     0 44304.2662    0   62 52665.4643 44304.2662  15.9%     -    0s\n",
      "     0     0 44343.7847    0   59 52665.4643 44343.7847  15.8%     -    0s\n",
      "     0     0 44351.6496    0   62 52665.4643 44351.6496  15.8%     -    0s\n",
      "     0     0 44354.3083    0   64 52665.4643 44354.3083  15.8%     -    0s\n",
      "     0     0 44364.5687    0   63 52665.4643 44364.5687  15.8%     -    0s\n",
      "     0     0 44375.9086    0   63 52665.4643 44375.9086  15.7%     -    0s\n",
      "     0     2 44377.8124    0   63 52665.4643 44377.8124  15.7%     -    0s\n",
      "H  109   123                    52475.820297 44474.0754  15.2%  43.0    0s\n",
      "H  364   338                    52453.560297 44482.5632  15.2%  32.3    1s\n",
      "*  438   389              82    51725.793313 44482.5632  14.0%  30.5    1s\n",
      "H  446   400                    51560.523313 44482.5632  13.7%  30.0    1s\n",
      "H  453   390                    50772.441096 44482.5632  12.4%  30.2    1s\n",
      "H  483   423                    49759.446766 44482.5632  10.6%  29.7    1s\n",
      "*  489   419              88    49686.634690 44482.5632  10.5%  29.4    1s\n",
      "H  768   624                    49677.575431 44524.5695  10.4%  27.4    1s\n",
      "H  809   655                    49533.407906 44524.5695  10.1%  27.6    1s\n",
      "H  811   654                    49475.221869 44524.5695  10.0%  27.5    1s\n",
      "*  817   654              82    49437.353289 44524.5695  9.94%  27.4    1s\n",
      "H  904   659                    48983.291046 44524.5695  9.10%  27.1    2s\n",
      "  1253   925 45061.0103   16   54 48983.2910 44994.6589  8.14%  31.2    5s\n",
      "H 1325   936                    48971.503773 44994.6589  8.12%  34.9    5s\n",
      "H 1473   978                    48440.900455 44994.6589  7.11%  38.8    5s\n",
      "H 1525   965                    48380.334055 44994.6589  7.00%  40.2    5s\n",
      "H 1529   925                    48210.730810 44994.6589  6.67%  40.3    5s\n",
      "H 1626   949                    47328.158708 44994.6589  4.93%  42.3    6s\n",
      "H 1628   913                    46547.981358 44994.6589  3.34%  42.3    6s\n",
      "  4854  2141 46374.4987   32   47 46547.9814 45344.2291  2.59%  54.0   10s\n",
      "H 6126  2607                    46494.895644 45409.0718  2.34%  55.5   11s\n",
      "  8368  3551 46282.7813   26   46 46494.8956 45488.9785  2.16%  56.8   15s\n",
      " 10111  4048     cutoff   31      46494.8956 45533.8611  2.07%  57.1   21s\n",
      " 12796  5122 46260.7261   26   57 46494.8956 45597.9058  1.93%  58.3   25s\n",
      " 16310  6449 46019.7751   26   54 46494.8956 45659.4842  1.80%  59.0   30s\n",
      " 19251  7212 46108.3265   27   59 46494.8956 45704.1902  1.70%  58.9   35s\n",
      "H19306  7158                    46480.604916 45704.1902  1.67%  58.9   35s\n",
      "H21438  7756                    46458.022408 45727.7238  1.57%  59.1   39s\n",
      " 21529  8061     cutoff   34      46458.0224 45734.6892  1.56%  59.1   40s\n",
      "H23892  8389                    46438.111107 45755.0519  1.47%  59.2   43s\n",
      " 24827  8828 46419.6133   38   56 46438.1111 45768.1183  1.44%  59.1   45s\n",
      " 28119  9664 46323.9889   36   47 46438.1111 45808.8503  1.36%  59.2   50s\n",
      " 29875 10005 46382.5412   28   54 46438.1111 45827.8227  1.31%  59.1   56s\n",
      " 32423 10613 46076.5996   33   32 46438.1111 45856.4133  1.25%  59.3   61s\n",
      " 34122 10901 46141.6607   26   49 46438.1111 45873.0251  1.22%  59.5   65s\n",
      "*35037 10892              53    46421.152086 45879.3704  1.17%  59.7   66s\n",
      " 36449 11171     cutoff   23      46421.1521 45892.8038  1.14%  59.9   70s\n",
      "*37988 10579              61    46372.785008 45910.5298  1.00%  60.2   72s\n",
      "H38077 10479                    46364.661563 45911.3795  0.98%  60.2   74s\n",
      "H38142 10433                    46362.686773 45911.5404  0.97%  60.2   74s\n",
      " 38470 10440 46150.9850   33   37 46362.6868 45914.4716  0.97%  60.3   75s\n",
      " 41507 10499 46142.8872   34   33 46362.6868 45956.2616  0.88%  61.1   81s\n",
      " 44033 10570     cutoff   21      46362.6868 45983.7899  0.82%  61.5   85s\n",
      "*46187  9492              52    46312.904976 46002.4299  0.67%  61.5   89s\n",
      " 46826  9416     cutoff   25      46312.9050 46010.0652  0.65%  61.5   90s\n",
      " 49337  9049 46121.8583   31   39 46312.9050 46041.1265  0.59%  61.5   96s\n",
      " 52069  8516     cutoff   41      46312.9050 46076.2887  0.51%  61.4  101s\n",
      "*53728  7940              45    46299.189474 46086.5454  0.46%  61.2  102s\n",
      " 55198  7438 46257.8653   52    6 46299.1895 46105.5762  0.42%  60.9  105s\n",
      "*59235  5704              54    46279.599784 46149.1891  0.28%  60.0  109s\n",
      "*59259  5591              58    46276.378600 46149.1891  0.27%  60.0  109s\n",
      " 59391  5055     cutoff   45      46276.3786 46149.3835  0.27%  60.0  110s\n",
      "*61506  3554              55    46269.262857 46176.6162  0.20%  59.3  112s\n",
      "*63652  1152              52    46248.147331 46205.4758  0.09%  58.3  114s\n",
      "\n",
      "Cutting planes:\n",
      "  Gomory: 23\n",
      "  Cover: 30\n",
      "  Implied bound: 5\n",
      "  Projected implied bound: 3\n",
      "  MIR: 352\n",
      "  Mixing: 71\n",
      "  Flow cover: 350\n",
      "  Flow path: 187\n",
      "  Inf proof: 3\n",
      "\n",
      "Explored 65374 nodes (3742627 simplex iterations) in 114.97 seconds (59.49 work units)\n",
      "Thread count was 8 (of 8 available processors)\n",
      "\n",
      "Solution count 10: 46248.1 46248.1 46269.3 ... 46372.8\n",
      "\n",
      "Optimal solution found (tolerance 1.00e-04)\n",
      "Best objective 4.624814733083e+04, best bound 4.624814733083e+04, gap 0.0000%\n"
     ]
    }
   ],
   "source": [
    "# Critérios de parada\n",
    "m.Params.timelimit = 3600  # Tempo (default = inf)\n",
    "# m.Params.MIPgap = 0.01  # Gap de otimalidade (default = 0.0001 = 0.01%)\n",
    "\n",
    "# Otimização\n",
    "m.optimize()"
   ]
  },
  {
   "cell_type": "code",
   "execution_count": 97,
   "id": "4979d2e1-caf3-4ffa-b443-f1dbcb1e4a08",
   "metadata": {},
   "outputs": [
    {
     "data": {
      "text/plain": [
       "'Lot-sizing Sambasivan and Yahya'"
      ]
     },
     "execution_count": 97,
     "metadata": {},
     "output_type": "execute_result"
    }
   ],
   "source": [
    "# Nome do teste\n",
    "m.ModelName"
   ]
  },
  {
   "cell_type": "code",
   "execution_count": 99,
   "id": "5417b64a-fe6b-43f0-be06-9abdcdfb4e2f",
   "metadata": {},
   "outputs": [
    {
     "data": {
      "text/plain": [
       "12"
      ]
     },
     "execution_count": 99,
     "metadata": {},
     "output_type": "execute_result"
    }
   ],
   "source": [
    "# Número de períodos da instância\n",
    "len(T)"
   ]
  },
  {
   "cell_type": "code",
   "execution_count": 100,
   "id": "9ceef625-c129-45d5-8c86-d9b1bfa65779",
   "metadata": {},
   "outputs": [
    {
     "data": {
      "text/plain": [
       "2"
      ]
     },
     "execution_count": 100,
     "metadata": {},
     "output_type": "execute_result"
    }
   ],
   "source": [
    "# Número de fábricas\n",
    "len(J)"
   ]
  },
  {
   "cell_type": "code",
   "execution_count": 101,
   "id": "b198daca-5743-485b-bd2b-9ea8bf166b09",
   "metadata": {},
   "outputs": [
    {
     "data": {
      "text/plain": [
       "6"
      ]
     },
     "execution_count": 101,
     "metadata": {},
     "output_type": "execute_result"
    }
   ],
   "source": [
    "# Número de produtos\n",
    "len(I)"
   ]
  },
  {
   "cell_type": "code",
   "execution_count": 86,
   "id": "549d7945-bfff-435f-9d19-ecf9689d735e",
   "metadata": {},
   "outputs": [
    {
     "data": {
      "text/plain": [
       "114.98000001907349"
      ]
     },
     "execution_count": 86,
     "metadata": {},
     "output_type": "execute_result"
    }
   ],
   "source": [
    "# Tempo de execução em segundos\n",
    "m.Runtime"
   ]
  },
  {
   "cell_type": "code",
   "execution_count": 87,
   "id": "c050182a-6878-4b5d-8a5b-618faf150152",
   "metadata": {},
   "outputs": [
    {
     "data": {
      "text/plain": [
       "46248.14733082707"
      ]
     },
     "execution_count": 87,
     "metadata": {},
     "output_type": "execute_result"
    }
   ],
   "source": [
    "# Valor da função objetivo da melhor solução encontrada (upper bound da minimização)\n",
    "m.ObjVal"
   ]
  },
  {
   "cell_type": "code",
   "execution_count": 88,
   "id": "160d96c6-175f-44d6-ab99-f69a4e5adf98",
   "metadata": {},
   "outputs": [
    {
     "data": {
      "text/plain": [
       "46248.14733082707"
      ]
     },
     "execution_count": 88,
     "metadata": {},
     "output_type": "execute_result"
    }
   ],
   "source": [
    "# Lower bound da minimização\n",
    "m.ObjBound"
   ]
  },
  {
   "cell_type": "code",
   "execution_count": 89,
   "id": "be3fff20-12f8-4fb3-86a7-ca80f96bc893",
   "metadata": {},
   "outputs": [
    {
     "data": {
      "text/plain": [
       "0.0"
      ]
     },
     "execution_count": 89,
     "metadata": {},
     "output_type": "execute_result"
    }
   ],
   "source": [
    "# Gap da solução\n",
    "m.MIPgap"
   ]
  },
  {
   "cell_type": "code",
   "execution_count": 90,
   "id": "2b939b33-dbd6-483f-8eda-9e035e365f1c",
   "metadata": {},
   "outputs": [
    {
     "data": {
      "text/plain": [
       "2"
      ]
     },
     "execution_count": 90,
     "metadata": {},
     "output_type": "execute_result"
    }
   ],
   "source": [
    "m.Status  # Ver https://www.gurobi.com/documentation/current/refman/optimization_status_codes.html#sec:StatusCodes para interpretar códigos"
   ]
  }
 ],
 "metadata": {
  "kernelspec": {
   "display_name": "Python 3 (ipykernel)",
   "language": "python",
   "name": "python3"
  },
  "language_info": {
   "codemirror_mode": {
    "name": "ipython",
    "version": 3
   },
   "file_extension": ".py",
   "mimetype": "text/x-python",
   "name": "python",
   "nbconvert_exporter": "python",
   "pygments_lexer": "ipython3",
   "version": "3.11.3"
  }
 },
 "nbformat": 4,
 "nbformat_minor": 5
}
