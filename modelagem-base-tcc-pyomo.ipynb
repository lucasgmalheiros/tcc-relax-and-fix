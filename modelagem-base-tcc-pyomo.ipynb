{
 "cells": [
  {
   "cell_type": "markdown",
   "id": "454f1180-91f9-4ddf-b7c7-d08ac2f8e657",
   "metadata": {},
   "source": [
    "Modelo como proposto por Sambasivan & Yahya (2005)"
   ]
  },
  {
   "cell_type": "code",
   "execution_count": null,
   "id": "5a243691-bfe3-4492-a987-c270f352837b",
   "metadata": {},
   "outputs": [],
   "source": [
    "import pyomo.environ as pyo\n",
    "from pyomo.opt import SolverFactory"
   ]
  },
  {
   "cell_type": "markdown",
   "id": "c33b6419-f55b-45fe-b5d7-1e8513486d8b",
   "metadata": {},
   "source": [
    "# Entrada de dados"
   ]
  },
  {
   "cell_type": "code",
   "execution_count": null,
   "id": "fd14c653-de0c-4645-8094-6f8dd2a69aa8",
   "metadata": {},
   "outputs": [],
   "source": [
    "Produtos = [1]\n",
    "Plantas = [1]\n",
    "Periodos = [1]"
   ]
  },
  {
   "cell_type": "code",
   "execution_count": null,
   "id": "d4e0eac7-f693-42d1-8ee6-4aa3f99fb1c7",
   "metadata": {},
   "outputs": [],
   "source": [
    "# demanda =\n",
    "# capacidade_planta =\n",
    "# tempo_producao = \n",
    "# tempo_setup =\n",
    "# custo_producao =\n",
    "# custo_setup =\n",
    "# custo_transporte =\n",
    "# custo_estoque =\n",
    "# limite_produto ="
   ]
  },
  {
   "cell_type": "markdown",
   "id": "cd67542d-a43e-4b4d-ba24-b91d57e7595f",
   "metadata": {},
   "source": [
    "# Modelagem"
   ]
  },
  {
   "cell_type": "code",
   "execution_count": null,
   "id": "7816fd61-27e0-4d3b-aeeb-4cba4fd3d82a",
   "metadata": {},
   "outputs": [],
   "source": [
    "model = pyo.ConcreteModel()"
   ]
  },
  {
   "cell_type": "markdown",
   "id": "506d4643-0b6d-4269-a43f-60801b3adec6",
   "metadata": {},
   "source": [
    "## Conjuntos"
   ]
  },
  {
   "cell_type": "code",
   "execution_count": null,
   "id": "055e5aa7-ccd4-42cd-91dc-a8d932242536",
   "metadata": {},
   "outputs": [],
   "source": [
    "# Produtos\n",
    "model.I = pyo.Set(initialize=Produtos)  # Índice i relativo aos produtos\n",
    "# Plantas\n",
    "model.J = pyo.Set(initialize=Plantas)  # Índice j relativo às plantas\n",
    "# Períodos\n",
    "model.T = pyo.Set(initialize=Periodos)  # Índice t relativo aos periodos\n",
    "\n",
    "I, J, T = model.I, model.J, model.T"
   ]
  },
  {
   "cell_type": "markdown",
   "id": "93334f9a-5703-447c-b26e-1c6024bd2aed",
   "metadata": {},
   "source": [
    "## Parâmetros"
   ]
  },
  {
   "cell_type": "code",
   "execution_count": null,
   "id": "724597ae-31d0-4b23-9a8c-dbc9d191e48e",
   "metadata": {},
   "outputs": [],
   "source": [
    "# TENHO QUE TERMINAR ESSA BUDEGA E VER COMO APLICAR CORRETAMENTE NA DOCUMENTAÇÂO\n",
    "# Função para inicialização do parâmetro que limita a produção do produto i na planta j no período t\n",
    "def limite_produto_planta(model, i, j, t):\n",
    "    return min((model.cap[j, t] - model.f[i, j]) / model.b[j, t], sum(sum(model.d[i, j, r] for r in T) for j in J))"
   ]
  },
  {
   "cell_type": "code",
   "execution_count": null,
   "id": "1529f4e1-4d70-42cf-a621-dda5cf22706d",
   "metadata": {},
   "outputs": [],
   "source": [
    "# Demanda\n",
    "model.d = pyo.Param(I * J * T, within=pyo.NonNegativeReals)\n",
    "# Capacidade\n",
    "model.cap = pyo.Param(J * T, within=pyo.NonNegativeReals)\n",
    "# Tempo de produção\n",
    "model.b = pyo.Param(I * J, within=pyo.NonNegativeReals)\n",
    "# Tempo de setup\n",
    "model.f = pyo.Param(I * J, within=pyo.NonNegativeReals)\n",
    "# Custo de produção\n",
    "model.c = pyo.Param(I * J, within=pyo.NonNegativeReals)\n",
    "# Custo de setup\n",
    "model.s = pyo.Param(I * J, within=pyo.NonNegativeReals)\n",
    "# Custo de transporte\n",
    "model.r = pyo.Param(J * J, within=pyo.NonNegativeReals)\n",
    "# Custo de estoque\n",
    "model.h = pyo.Param(I * J, within=pyo.NonNegativeReals)\n",
    "# Limite de produção de produto por planta\n",
    "model.lim = pyo.Param(I * J * T, within=pyo.NonNegativeReals)  # , initialize=limite_produto_planta (terminar de montar)\n",
    "\n",
    "d, cap, b, f, c, s, r, h, lim = model.d, model.cap, model.b, model.f, model.c, model.s, model.r, model.h, model.lim"
   ]
  },
  {
   "cell_type": "markdown",
   "id": "88bd9162-2935-4558-8063-e0df6a7228e0",
   "metadata": {},
   "source": [
    "## Variáveis de decisão"
   ]
  },
  {
   "cell_type": "code",
   "execution_count": null,
   "id": "2610ff78-295f-47a3-9d17-bc88d356930f",
   "metadata": {},
   "outputs": [],
   "source": [
    "# Quantidade produzida\n",
    "model.X = pyo.Var(I * J * T, within=pyo.NonNegativeReals)\n",
    "# Quantidade estocada\n",
    "model.Q = pyo.Var(I * J * T, within=pyo.NonNegativeReals)\n",
    "# Quantidade transportada\n",
    "model.W = pyo.Var(I * J * J * T, within=pyo.NonNegativeReals)\n",
    "# Variável de setup (binária)\n",
    "model.Z = pyo.Var(I * J * T, within=pyo.Binary)\n",
    "\n",
    "X, Q, W, Z = model.X, model.Q, model.W, model.Z"
   ]
  },
  {
   "cell_type": "markdown",
   "id": "e893c055-0f76-41af-8bd2-14d427509cb8",
   "metadata": {},
   "source": [
    "## Função objetivo"
   ]
  },
  {
   "cell_type": "code",
   "execution_count": null,
   "id": "6ab7ed1f-58a2-431d-b55b-2986fa28c56c",
   "metadata": {
    "scrolled": true
   },
   "outputs": [],
   "source": [
    "expr_objetivo = sum(sum(sum(c[i, j] * X[i, j, t] + h[i, j] * Q[i, j, t] + s[i, j] * Z[i, j, t] + sum(r[j, k] * W[i, j, k, t] for k in J if k != j) for t in T) for j in J) for i in I) \n",
    "model.obj = pyo.Objective(sense=pyo.minimize,\n",
    "                          expr=expr_objetivo)\n",
    "\n",
    "objetivo = model.obj"
   ]
  },
  {
   "cell_type": "markdown",
   "id": "d8db820e-26be-468c-9211-68138989a1f2",
   "metadata": {},
   "source": [
    "## Restrições"
   ]
  },
  {
   "cell_type": "code",
   "execution_count": null,
   "id": "dee32ca9-2b4e-452a-a4bd-106e84184294",
   "metadata": {},
   "outputs": [],
   "source": [
    "# Balanço de estoque\n",
    "model.r_balanco = pyo.ConstraintList()\n",
    "for i in I:\n",
    "    for j in J:\n",
    "        for t in T:\n",
    "            if t == 1:\n",
    "                restr = Q[i, j, t] == X[i, j, t] - sum(W[i, j, k, t] for k in J if k != j) + sum(W[i, l, j, t] for l in J if l != j) - d[i, j, t]\n",
    "            else:\n",
    "                restr = Q[i, j, t] == Q[i, j, t-1] + X[i, j, t] - sum(W[i, j, k, t] for k in J if k != j) + sum(W[i, l, j, t] for l in J if l != j) - d[i, j, t]\n",
    "            model.r_balanco.add(expr=restr)"
   ]
  },
  {
   "cell_type": "code",
   "execution_count": null,
   "id": "4e300cc8-a7ef-4eeb-91b8-311dad7c3fd8",
   "metadata": {},
   "outputs": [],
   "source": [
    "# Restrição que obriga setup\n",
    "model.r_setup = pyo.ConstraintList()\n",
    "for i in I:\n",
    "    for j in J:\n",
    "        for t in T:\n",
    "            restr = X[i, j, t] <= lim[i, j, t] * Z[i, j, t]\n",
    "            model.r_setup.add(expr=restr)"
   ]
  },
  {
   "cell_type": "code",
   "execution_count": null,
   "id": "b54d3ca7-2341-4057-8964-e4c69d21d333",
   "metadata": {},
   "outputs": [],
   "source": [
    "# Restrição de capacidade\n",
    "model.r_capacidade = pyo.ConstraintList()\n",
    "for j in J:\n",
    "    for t in T:\n",
    "        restr = sum(b[i, j] * X[i, j, t] + f[i, j] * Z[i, j, t] for i in I) <= cap[j, t]\n",
    "        model.r_capacidade.add(expr=restr)"
   ]
  },
  {
   "cell_type": "markdown",
   "id": "a52ffa30-dd1d-4ac3-afdd-26b3f8b01298",
   "metadata": {},
   "source": [
    "# Solver"
   ]
  },
  {
   "cell_type": "code",
   "execution_count": null,
   "id": "4cc561a5-3ac5-434e-8888-a728544ff7a7",
   "metadata": {},
   "outputs": [],
   "source": [
    "solver = SolverFactory(\"gurobi\")\n",
    "resultado = solver.solve(model, tee=False)"
   ]
  },
  {
   "cell_type": "markdown",
   "id": "d035b92c-fdf6-4333-a10c-959bcf8c7dff",
   "metadata": {},
   "source": [
    "# Resultados (método exato)"
   ]
  },
  {
   "cell_type": "markdown",
   "id": "d28094e1-c200-4e38-b17f-0b60e1bc1ea3",
   "metadata": {},
   "source": [
    "# Resultados (heurística)"
   ]
  }
 ],
 "metadata": {
  "kernelspec": {
   "display_name": "Python 3 (ipykernel)",
   "language": "python",
   "name": "python3"
  },
  "language_info": {
   "codemirror_mode": {
    "name": "ipython",
    "version": 3
   },
   "file_extension": ".py",
   "mimetype": "text/x-python",
   "name": "python",
   "nbconvert_exporter": "python",
   "pygments_lexer": "ipython3",
   "version": "3.11.3"
  }
 },
 "nbformat": 4,
 "nbformat_minor": 5
}
