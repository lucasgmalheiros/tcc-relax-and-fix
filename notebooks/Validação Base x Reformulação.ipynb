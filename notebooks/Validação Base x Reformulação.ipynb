{
 "cells": [
  {
   "cell_type": "code",
   "execution_count": 446,
   "id": "26ed6650-e90f-4337-a3f9-b203531f34c3",
   "metadata": {},
   "outputs": [],
   "source": [
    "import gurobipy as gp\n",
    "from gurobipy import GRB\n",
    "import numpy as np\n",
    "import math"
   ]
  },
  {
   "cell_type": "markdown",
   "id": "e6acd335-0d2b-421b-b668-e54ae3bbadb4",
   "metadata": {},
   "source": [
    "# Leitura instância"
   ]
  },
  {
   "cell_type": "code",
   "execution_count": 447,
   "id": "52e1087a-f5b9-4266-83c7-dc5ec0241ee5",
   "metadata": {},
   "outputs": [],
   "source": [
    "def read_dat_file(file_path):\n",
    "    \"\"\"\"Função para a leitura das instâncias de Mariá\"\"\"\n",
    "    with open(file_path, 'r') as file:\n",
    "        lines = file.readlines()\n",
    "\n",
    "    # 1. Lendo quantidade de itens e períodos\n",
    "    items, periods = map(int, lines[0].split())\n",
    "\n",
    "    # 2. Lendo número de plantas\n",
    "    num_plants = int(lines[1].strip())\n",
    "\n",
    "    # 3. Lendo capacidades das plantas\n",
    "    capacities = [int(lines[i + 2].strip()) for i in range(num_plants)]\n",
    "    capacities = np.tile(capacities, (periods, 1)).T  # Repete as capacidades ao longo dos períodos (deixar na forma j, t)\n",
    "\n",
    "    # 4. Lendo a matriz de produção (tempo de produção, tempo de setup, custo de setup, custo de produção)\n",
    "    production_data = []\n",
    "    start_line = 2 + num_plants\n",
    "    production_time = np.zeros((items, num_plants))  # Inicializar listas para armazenar separadamente os tempos e custos\n",
    "    setup_time = np.zeros((items, num_plants))\n",
    "    setup_cost = np.zeros((items, num_plants))\n",
    "    production_cost = np.zeros((items, num_plants))\n",
    "    for i in range(num_plants * items):  # Preencher as matrizes com os dados lidos\n",
    "        plant = i // items  # Determina a planta\n",
    "        item = i % items    # Determina o item\n",
    "        # Extrair os dados de cada linha\n",
    "        prod_time, set_time, set_cost, prod_cost = map(float, lines[start_line + i].split())\n",
    "        production_time[item, plant] = prod_time  # Preencher as respectivas matrizes\n",
    "        setup_time[item, plant] = set_time\n",
    "        setup_cost[item, plant] = set_cost\n",
    "        production_cost[item, plant] = prod_cost\n",
    "\n",
    "    # 5. Lendo os custos de inventário\n",
    "    inventory_costs_line = start_line + num_plants * items\n",
    "    inventory_costs = list(map(float, lines[inventory_costs_line].split()))  # Lê todos os valores de inventory_costs como uma única lista\n",
    "    inventory_costs = np.array(inventory_costs).reshape(num_plants, -1)  # Divide a lista de custos de inventário por planta\n",
    "    inventory_costs = inventory_costs.T  # Deixa na forma (i, j)\n",
    "\n",
    "    # 6. Lendo a matriz de demanda (12 linhas, 12 colunas)\n",
    "    demand_matrix = []\n",
    "    demand_start_line = inventory_costs_line + 1\n",
    "\n",
    "    # Verifica se a matriz de demanda está na forma padrão\n",
    "    num_demand_lines = 0\n",
    "    for i in range(demand_start_line, len(lines)):\n",
    "        if lines[i].strip():  # Se a linha não estiver vazia, contamos como linha de demanda\n",
    "            num_demand_lines += 1\n",
    "        else:\n",
    "            break  # Interrompe se encontrar uma linha vazia (ou um bloco separado)\n",
    "    \n",
    "    # Calcula o multiplicador, caso tenha mais linhas do que períodos\n",
    "    if num_demand_lines == periods * 2:\n",
    "        multiplier = 2  # A matriz de demanda tem o dobro de linhas\n",
    "    else:\n",
    "        multiplier = 1  # A matriz de demanda tem o número esperado de linhas (T)\n",
    "    \n",
    "    # Leitura inicial das demandas\n",
    "    for i in range(periods * multiplier):  # Lê as linhas de demandas para os períodos\n",
    "        demands = list(map(int, lines[demand_start_line + i].split()))\n",
    "        demand_matrix.append(demands)\n",
    "\n",
    "    # print('Linha 1:', demand_matrix[0])\n",
    "    # print('Linha 13:', demand_matrix[periods], '\\n\\n')\n",
    "    \n",
    "    # Agora, se multiplier == 2, precisamos combinar as linhas 1-12 com 13-24 corretamente\n",
    "    if multiplier == 2:\n",
    "        new_demand_matrix = []\n",
    "        \n",
    "        for i in range(periods):  # Para cada linha do primeiro bloco (1-12)\n",
    "            combined_period_demand = []  # Lista única para armazenar a demanda combinada para o período i\n",
    "            \n",
    "            # Quebrar a linha i entre as plantas\n",
    "            demands_first_part = demand_matrix[i]\n",
    "            demands_second_part = demand_matrix[i + periods]  # Linha correspondente do segundo bloco\n",
    "            \n",
    "            # Calcular o número de elementos por planta\n",
    "            elements_per_plant_first = len(demands_first_part) // num_plants\n",
    "            elements_per_plant_second = len(demands_second_part) // num_plants\n",
    "            \n",
    "            # Concatenar as demandas para cada planta\n",
    "            for j in range(num_plants):\n",
    "                # Particionar a demanda de cada planta\n",
    "                plant_demand_first = demands_first_part[j*elements_per_plant_first:(j+1)*elements_per_plant_first]\n",
    "                plant_demand_second = demands_second_part[j*elements_per_plant_second:(j+1)*elements_per_plant_second]\n",
    "                \n",
    "                # Concatenar as demandas da planta j (primeiro e segundo blocos) e adicionar diretamente à lista única\n",
    "                combined_period_demand.extend(plant_demand_first + plant_demand_second)\n",
    "            \n",
    "            # Adicionar a demanda ajustada (em formato de lista única) do período à nova matriz de demanda\n",
    "            new_demand_matrix.append(combined_period_demand)\n",
    "        \n",
    "        # Substitui a matriz de demandas pela combinada e particionada por planta\n",
    "        demand_matrix = new_demand_matrix\n",
    "    \n",
    "    # print('Linha 1 output após junção:', demand_matrix[0])\n",
    "\n",
    "    # Agora vamos dividir os valores de cada linha combinada entre as plantas\n",
    "    final_demand_matrix = []\n",
    "    for demands in demand_matrix:\n",
    "        period_demand = []\n",
    "        for j in range(num_plants):\n",
    "            # Divide a demanda combinada por planta, assumindo que cada planta tem o mesmo número de itens\n",
    "            plant_demand = demands[j*items:(j+1)*items]\n",
    "            period_demand.append(plant_demand)\n",
    "        final_demand_matrix.append(period_demand)\n",
    "    \n",
    "    # Transpor a matriz de demanda para o formato correto (itens, plantas, períodos)\n",
    "    final_demand_matrix = np.array(final_demand_matrix)\n",
    "    # print(final_demand_matrix)\n",
    "    final_demand_matrix = np.transpose(final_demand_matrix, (2, 1, 0))  # Converte para o formato (itens, plantas, períodos)\n",
    "\n",
    "    # 7. Lendo os custos de transferência\n",
    "    transfer_costs = []\n",
    "    transfer_cost_line = demand_start_line + periods * multiplier\n",
    "    while transfer_cost_line < len(lines):\n",
    "        line = lines[transfer_cost_line].strip()  # Verificar se a linha não está vazia antes de tentar ler\n",
    "        if line:\n",
    "            transfer_costs.append(float(line))\n",
    "        transfer_cost_line += 1\n",
    "\n",
    "    def create_transfer_cost_matrix(transfer_costs, num_plants):  # Criar a matriz de custos de transferência (simétrica)\n",
    "        transfer_cost_matrix = np.zeros((num_plants, num_plants))  # Inicializar a matriz de zeros\n",
    "        if len(transfer_costs) == 1:\n",
    "            transfer_cost = transfer_costs[0]  # Se houver apenas um custo de transferência, aplicar para todos os pares de plantas\n",
    "            for j in range(num_plants):\n",
    "                for k in range(j + 1, num_plants):\n",
    "                    transfer_cost_matrix[j, k] = transfer_cost\n",
    "                    transfer_cost_matrix[k, j] = transfer_cost\n",
    "        else:\n",
    "            idx = 0  # Se houver model_syúltiplos custos, aplicar entre pares de plantas\n",
    "            for j in range(num_plants):\n",
    "                for k in range(j + 1, num_plants):\n",
    "                    transfer_cost_matrix[j, k] = transfer_costs[idx]\n",
    "                    transfer_cost_matrix[k, j] = transfer_costs[idx]\n",
    "                    idx += 1\n",
    "        return transfer_cost_matrix\n",
    "\n",
    "    transfer_costs = create_transfer_cost_matrix(transfer_costs, num_plants)\n",
    "\n",
    "    return {\"items\": items,\n",
    "            \"periods\": periods,\n",
    "            \"num_plants\": num_plants,\n",
    "            \"capacities\": capacities,\n",
    "            \"production_time\": production_time,\n",
    "            \"setup_time\": setup_time,\n",
    "            \"setup_cost\": setup_cost,  \n",
    "            \"production_cost\": production_cost,\n",
    "            \"inventory_costs\": inventory_costs,\n",
    "            \"demand_matrix\": final_demand_matrix,\n",
    "            \"transfer_costs\": transfer_costs}"
   ]
  },
  {
   "cell_type": "code",
   "execution_count": 448,
   "id": "429093bc-dcbd-4ffa-87ba-deb93a9a166c",
   "metadata": {},
   "outputs": [],
   "source": [
    "file_path = '../instancias/maria_desiree/NBB01266_2.dat'\n",
    "data = read_dat_file(file_path)\n",
    "# display(data)"
   ]
  },
  {
   "cell_type": "code",
   "execution_count": 449,
   "id": "3b6aaed7-de5e-4acb-b271-30bf99eca4cc",
   "metadata": {},
   "outputs": [],
   "source": [
    "# Produtos (i)\n",
    "I = np.array([_ for _ in range(data['items'])])\n",
    "# Plantas (j)\n",
    "J = np.array([_ for _ in range(data['num_plants'])])\n",
    "# Períodos (t)\n",
    "T = np.array([_ for _ in range(data['periods'])])\n",
    "\n",
    "# Demanda (i, j, t)\n",
    "d = np.array(data['demand_matrix'])\n",
    "# Capacidade (j, t)\n",
    "cap = np.array(data['capacities'])\n",
    "# Tempo de produção (i, j)\n",
    "b = np.array(data['production_time'])\n",
    "# Tempo de setup (i, j)\n",
    "f = np.array(data['setup_time'])\n",
    "# Custo de produção (i, j)\n",
    "c = np.array(data['production_cost'])\n",
    "# Custo de setup (i, j)\n",
    "s = np.array(data['setup_cost'])\n",
    "# Custo de transporte (j, k)\n",
    "r = np.array(data['transfer_costs'])\n",
    "# Custo de estoque (i, j)\n",
    "h = np.array(data['inventory_costs'])"
   ]
  },
  {
   "cell_type": "markdown",
   "id": "98c8c6dc-090f-439c-bc00-b3d5b3ae403f",
   "metadata": {},
   "source": [
    "# Modelo base"
   ]
  },
  {
   "cell_type": "code",
   "execution_count": 450,
   "id": "661c2e3f-495d-4482-98bc-00e741dc4a09",
   "metadata": {},
   "outputs": [],
   "source": [
    "model_sy = gp.Model('Lot-sizing Sambasivan and Yahya')\n",
    "\n",
    "# Quantidade produzida (i, j, t)\n",
    "X = model_sy.addVars(I, J, T, vtype=GRB.CONTINUOUS, name='X')\n",
    "# Quantidade estocada (i, j, t)\n",
    "Q = model_sy.addVars(I, J, T, vtype=GRB.CONTINUOUS, name='Q')\n",
    "# Quantidade transportada (i, j, k(um outro j), t)\n",
    "W = model_sy.addVars(I, J, J, T, vtype=GRB.CONTINUOUS, name='W')\n",
    "# Variável de setup (binária) (i, j, t)\n",
    "Z = model_sy.addVars(I, J, T, vtype=GRB.BINARY, name='Z')\n",
    "\n",
    "expr_objetivo = sum(sum(sum(c[i, j] * X[i, j, t] + h[i, j] * Q[i, j, t] + s[i, j] * Z[i, j, t] + \n",
    "                            sum(r[j, k] * W[i, j, k, t] for k in J if k != j) for t in T) for j in J) for i in I)\n",
    "model_sy.setObjective(expr_objetivo, sense=GRB.MINIMIZE)\n",
    "\n",
    "# Balanço de estoque (revisar comportamento)\n",
    "# Período inicial\n",
    "model_sy.addConstrs((Q[i, j, t] == X[i, j, t] - sum(W[i, j, k, t] for k in J if k != j) + sum(W[i, l, j, t] for l in J if l != j) - d[i, j, t] for i in I for j in J for t in T if t == 0),\n",
    "             name='restricao_balanco_estoque')\n",
    "# Demais períodos\n",
    "model_sy.addConstrs((Q[i, j, t] == Q[i, j, t-1] + X[i, j, t] - sum(W[i, j, k, t] for k in J if k != j) + sum(W[i, l, j, t] for l in J if l != j) - d[i, j, t] for i in I for j in J for t in T if t > 0),\n",
    "             name='restricao_balanco_estoque');\n",
    "\n",
    "# Restrição que obriga setup (validar o range do r)\n",
    "# model_sy.addConstrs((X[i, j, t] <= min((cap[j, t] - f[i, j]) / b[i, j], sum(sum(d[i, k, r] for r in range(t, T[-1] + 1)) for k in J)) * Z[i, j, t] for i in I for j in J for t in T)\n",
    "#              , name='restricao_setup');\n",
    "model_sy.addConstrs((X[i, j, t] <= sum(sum(d[i, j, b] for b in range(t, len(T))) for j in J) * Z[i, j, t] for i in I for j in J for t in T)\n",
    "             , name='restricao_setup');\n",
    "\n",
    "# Restrição de capacidade\n",
    "model_sy.addConstrs((sum(b[i, j] * X[i, j, t] + f[i, j] * Z[i, j, t] for i in I) <= cap[j, t] for j in J for t in T)\n",
    "             , name='restricao_capacidade');"
   ]
  },
  {
   "cell_type": "code",
   "execution_count": 451,
   "id": "e60e2417-f5a9-4b4a-99c1-a32d81597938",
   "metadata": {},
   "outputs": [
    {
     "name": "stdout",
     "output_type": "stream",
     "text": [
      "Set parameter TimeLimit to value 1800\n"
     ]
    }
   ],
   "source": [
    "# Critérios de parada\n",
    "model_sy.Params.timelimit = 1800  # Tempo (default = inf)\n",
    "# model_sy.Params.MIPgap = 0.01  # Gap de otimalidade (default = 0.0001 = 0.01%)\n",
    "model_sy.Params.OutputFlag = 0\n",
    "# Otimização\n",
    "model_sy.optimize()"
   ]
  },
  {
   "cell_type": "code",
   "execution_count": 452,
   "id": "86f65348-f931-4026-bc50-442ddc1c547a",
   "metadata": {},
   "outputs": [
    {
     "name": "stdout",
     "output_type": "stream",
     "text": [
      "UB: 77368.26444168697\n",
      "LB: 77366.14526534216\n"
     ]
    }
   ],
   "source": [
    "print('UB:', model_sy.ObjVal)\n",
    "print('LB:', model_sy.ObjBound)"
   ]
  },
  {
   "cell_type": "code",
   "execution_count": 453,
   "id": "e96b4184-688a-4655-b71b-ad865cb71c74",
   "metadata": {},
   "outputs": [],
   "source": [
    "# Armazenamento das soluções\n",
    "X_sy = X\n",
    "Q_sy = Q\n",
    "W_sy = W\n",
    "Z_sy = Z"
   ]
  },
  {
   "cell_type": "markdown",
   "id": "e84f21f4-091c-4948-9bfa-884815227f53",
   "metadata": {},
   "source": [
    "# Modelo reformulação"
   ]
  },
  {
   "cell_type": "code",
   "execution_count": 464,
   "id": "538f680c-81c1-4274-8c47-3da718f0f9f4",
   "metadata": {},
   "outputs": [],
   "source": [
    "reformulacao = gp.Model('Lot-sizing Reformulation')"
   ]
  },
  {
   "cell_type": "code",
   "execution_count": 465,
   "id": "945dfe16-708d-4296-8a9c-64ccda53d56b",
   "metadata": {},
   "outputs": [],
   "source": [
    "# Quantidade produzida (i, j, t, k, u)\n",
    "X = reformulacao.addVars(I, J, T, J, T, vtype=GRB.CONTINUOUS, name='X')\n",
    "# Variável de setup (binária) (i, j, t)\n",
    "Z = reformulacao.addVars(I, J, T, vtype=GRB.BINARY, name='Z')"
   ]
  },
  {
   "cell_type": "code",
   "execution_count": 466,
   "id": "5abfeb1c-3c78-4b10-ae40-200407b11de4",
   "metadata": {},
   "outputs": [],
   "source": [
    "expr1 = sum(sum(sum(sum(sum(\n",
    "    X[i, j, t, k, u] * (c[i, j] + min((u - t) * h[i, v] + r[j, v] + r[v, k] for v in J) if u >= t else 0) \n",
    "    for u in T) for k in J) for t in T) for j in J) for i in I)\n",
    "expr2 = sum(sum(sum(s[i, j] * Z[i, j, t] for t in T) for j in J) for i in I)\n",
    "reformulacao.setObjective(expr1 + expr2, sense=GRB.MINIMIZE)"
   ]
  },
  {
   "cell_type": "code",
   "execution_count": 467,
   "id": "6040dcb1-cc47-48d3-9ac4-af1ae82785ad",
   "metadata": {},
   "outputs": [],
   "source": [
    "# Balanço de estoque\n",
    "reformulacao.addConstrs((sum(sum(X[i, j, t, k, u] for t in range(u + 1)) for j in J) == d[i, k, u] for i in I for k in J for u in T), name='restricao_balanco_estoque');"
   ]
  },
  {
   "cell_type": "code",
   "execution_count": 468,
   "id": "86165233-8847-4a1b-8d40-1ff468da892b",
   "metadata": {},
   "outputs": [],
   "source": [
    "# Restrição que obriga setup\n",
    "reformulacao.addConstrs((X[i, j, t, k, u] <= min(math.floor((cap[j, t] - f[i, j]) / b[i, j]), d[i, k, u]) * Z[i, j, t] for i in I for j in J for t in T for k in J for u in T)\n",
    "             , name='restricao_setup');"
   ]
  },
  {
   "cell_type": "code",
   "execution_count": 469,
   "id": "916efac1-4af6-4bc1-8ecc-dc37b80a8349",
   "metadata": {},
   "outputs": [],
   "source": [
    "# Restrição de capacidade\n",
    "reformulacao.addConstrs((sum(f[i, j] * Z[i, j, t] + sum(sum(b[i, j] * X[i, j, t, k, u] for u in T) for k in J) for i in I) <= cap[j, t] for j in J for t in T)\n",
    "             , name='restricao_capacidade');"
   ]
  },
  {
   "cell_type": "code",
   "execution_count": 470,
   "id": "d1ff8363-1eae-4d9d-9ccd-9701e87f2436",
   "metadata": {},
   "outputs": [],
   "source": [
    "# FORÇAR SOLUÇÕES DE PRODUÇÃO ANTERIOR NESSA FORMULAÇÃO\n",
    "reformulacao.addConstrs((sum(sum(X[i, j, t, k, u] for k in J) for u in range(t, T[-1] + 1)) == X_sy[i, j, t].X for i in I for j in J for t in T)\n",
    "                        , name='force_Xijt_bounds');"
   ]
  },
  {
   "cell_type": "code",
   "execution_count": 471,
   "id": "8b6ad14e-805a-4b0e-8787-f58a17de92b1",
   "metadata": {},
   "outputs": [
    {
     "name": "stdout",
     "output_type": "stream",
     "text": [
      "Set parameter TimeLimit to value 1800\n",
      "Gurobi Optimizer version 11.0.3 build v11.0.3rc0 (win64 - Windows 10.0 (19045.2))\n",
      "\n",
      "CPU model: Intel(R) Core(TM) i5-1035G1 CPU @ 1.00GHz, instruction set [SSE2|AVX|AVX2|AVX512]\n",
      "Thread count: 4 physical cores, 8 logical processors, using up to 8 threads\n",
      "\n",
      "Optimize a model with 32040 rows, 31536 columns and 127224 nonzeros\n",
      "Model fingerprint: 0x1a6e4458\n",
      "Variable types: 31104 continuous, 432 integer (432 binary)\n",
      "Coefficient statistics:\n",
      "  Matrix range     [1e+00, 2e+02]\n",
      "  Objective range  [2e+00, 9e+01]\n",
      "  Bounds range     [1e+00, 1e+00]\n",
      "  RHS range        [1e+00, 2e+03]\n",
      "Presolve removed 31950 rows and 30607 columns\n",
      "Presolve time: 0.12s\n",
      "Presolved: 90 rows, 929 columns, 1858 nonzeros\n",
      "Variable types: 929 continuous, 0 integer (0 binary)\n",
      "\n",
      "Root relaxation: objective 7.736826e+04, 32 iterations, 0.00 seconds (0.00 work units)\n",
      "\n",
      "    Nodes    |    Current Node    |     Objective Bounds      |     Work\n",
      " Expl Unexpl |  Obj  Depth IntInf | Incumbent    BestBd   Gap | It/Node Time\n",
      "\n",
      "*    0     0               0    77368.264442 77368.2644  0.00%     -    0s\n",
      "\n",
      "Explored 1 nodes (32 simplex iterations) in 0.18 seconds (0.08 work units)\n",
      "Thread count was 8 (of 8 available processors)\n",
      "\n",
      "Solution count 1: 77368.3 \n",
      "\n",
      "Optimal solution found (tolerance 1.00e-04)\n",
      "Best objective 7.736826444169e+04, best bound 7.736826444169e+04, gap 0.0000%\n"
     ]
    }
   ],
   "source": [
    "# Critérios de parada\n",
    "reformulacao.Params.timelimit = 1800  # Tempo (default = inf)\n",
    "# reformulacao.Params.MIPgap = 0.01  # Gap de otimalidade (default = 0.0001 = 0.01%)\n",
    "reformulacao.Params.OutputFlag = 1\n",
    "# Otimização\n",
    "reformulacao.optimize()"
   ]
  },
  {
   "cell_type": "code",
   "execution_count": 472,
   "id": "27ee9165-2d7c-43db-8914-e223dc1fbb89",
   "metadata": {},
   "outputs": [
    {
     "name": "stdout",
     "output_type": "stream",
     "text": [
      "UB: 77368.26444168696\n",
      "LB: 77368.26444168696\n"
     ]
    }
   ],
   "source": [
    "print('UB:', reformulacao.ObjVal)\n",
    "print('LB:', reformulacao.ObjBound)"
   ]
  }
 ],
 "metadata": {
  "kernelspec": {
   "display_name": "Python 3 (ipykernel)",
   "language": "python",
   "name": "python3"
  },
  "language_info": {
   "codemirror_mode": {
    "name": "ipython",
    "version": 3
   },
   "file_extension": ".py",
   "mimetype": "text/x-python",
   "name": "python",
   "nbconvert_exporter": "python",
   "pygments_lexer": "ipython3",
   "version": "3.11.3"
  }
 },
 "nbformat": 4,
 "nbformat_minor": 5
}
