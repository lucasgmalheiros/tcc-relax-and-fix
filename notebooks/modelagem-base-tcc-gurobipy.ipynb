{
 "cells": [
  {
   "cell_type": "code",
   "execution_count": 1,
   "id": "956764c4-b200-458e-9d71-c81bf49cc13b",
   "metadata": {},
   "outputs": [],
   "source": [
    "import gurobipy as gp\n",
    "from gurobipy import GRB\n",
    "import numpy as np"
   ]
  },
  {
   "cell_type": "markdown",
   "id": "52639ada-84bb-4384-811a-2e1ea738d92d",
   "metadata": {},
   "source": [
    "# Leitura de instâncias"
   ]
  },
  {
   "cell_type": "code",
   "execution_count": 2,
   "id": "bdfcc335-c26e-4b06-bec3-0d97e5fc003c",
   "metadata": {},
   "outputs": [],
   "source": [
    "def read_dat_file(file_path):\n",
    "    \"\"\"\"Função para a leitura das instâncias de Mariá\"\"\"\n",
    "    with open(file_path, 'r') as file:\n",
    "        lines = file.readlines()\n",
    "\n",
    "    # 1. Lendo quantidade de itens e períodos\n",
    "    items, periods = map(int, lines[0].split())\n",
    "\n",
    "    # 2. Lendo número de plantas\n",
    "    num_plants = int(lines[1].strip())\n",
    "\n",
    "    # 3. Lendo capacidades das plantas\n",
    "    capacities = [int(lines[i + 2].strip()) for i in range(num_plants)]\n",
    "    capacities = np.tile(capacities, (periods, 1)).T  # Repete as capacidades ao longo dos períodos (deixar na forma j, t)\n",
    "\n",
    "    # 4. Lendo a matriz de produção (tempo de produção, tempo de setup, custo de setup, custo de produção)\n",
    "    production_data = []\n",
    "    start_line = 2 + num_plants\n",
    "    production_time = np.zeros((items, num_plants))  # Inicializar listas para armazenar separadamente os tempos e custos\n",
    "    setup_time = np.zeros((items, num_plants))\n",
    "    setup_cost = np.zeros((items, num_plants))\n",
    "    production_cost = np.zeros((items, num_plants))\n",
    "    for i in range(num_plants * items):  # Preencher as matrizes com os dados lidos\n",
    "        plant = i // items  # Determina a planta\n",
    "        item = i % items    # Determina o item\n",
    "        # Extrair os dados de cada linha\n",
    "        prod_time, set_time, set_cost, prod_cost = map(float, lines[start_line + i].split())\n",
    "        production_time[item, plant] = prod_time  # Preencher as respectivas matrizes\n",
    "        setup_time[item, plant] = set_time\n",
    "        setup_cost[item, plant] = set_cost\n",
    "        production_cost[item, plant] = prod_cost\n",
    "\n",
    "    # 5. Lendo os custos de inventário\n",
    "    inventory_costs_line = start_line + num_plants * items\n",
    "    inventory_costs = list(map(float, lines[inventory_costs_line].split()))  # Lê todos os valores de inventory_costs como uma única lista\n",
    "    inventory_costs = np.array(inventory_costs).reshape(num_plants, -1)  # Divide a lista de custos de inventário por planta\n",
    "    inventory_costs = inventory_costs.T  # Deixa na forma (i, j)\n",
    "\n",
    "    # 6. Lendo a matriz de demanda (12 linhas, 12 colunas)\n",
    "    demand_matrix = []\n",
    "    demand_start_line = inventory_costs_line + 1\n",
    "    \n",
    "    # Leitura inicial das demandas\n",
    "    for i in range(periods):  # Lê as linhas de demandas para os períodos\n",
    "        demands = list(map(int, lines[demand_start_line + i].split()))\n",
    "        demand_matrix.append(demands)\n",
    "    \n",
    "    # Agora vamos dividir os valores de cada linha combinada entre as plantas\n",
    "    final_demand_matrix = []\n",
    "    for demands in demand_matrix:\n",
    "        period_demand = []\n",
    "        for j in range(num_plants):\n",
    "            # Divide a demanda combinada por planta, assumindo que cada planta tem o mesmo número de itens\n",
    "            plant_demand = demands[j*items:(j+1)*items]\n",
    "            period_demand.append(plant_demand)\n",
    "        final_demand_matrix.append(period_demand)\n",
    "    \n",
    "    # Transpor a matriz de demanda para o formato correto (itens, plantas, períodos)\n",
    "    final_demand_matrix = np.array(final_demand_matrix)\n",
    "    final_demand_matrix = np.transpose(final_demand_matrix, (2, 1, 0))  # Converte para o formato (itens, plantas, períodos)\n",
    "\n",
    "    # 7. Reading transfer costs directly from the document as a matrix\n",
    "    transfer_cost_matrix = []\n",
    "    transfer_cost_line = demand_start_line + periods\n",
    "\n",
    "    # Read the matrix of transfer costs line by line\n",
    "    while transfer_cost_line < len(lines):\n",
    "        line = lines[transfer_cost_line].strip()\n",
    "        if line:\n",
    "            # Split the line into individual cost values and convert them to float\n",
    "            row = [float(value) for value in line.split()]\n",
    "            transfer_cost_matrix.append(row)\n",
    "        transfer_cost_line += 1\n",
    "\n",
    "    # Convert to a numpy array (optional, if you want to work with numpy for matrix operations)\n",
    "    transfer_costs = np.array(transfer_cost_matrix)\n",
    "\n",
    "    return {\"items\": items,\n",
    "            \"periods\": periods,\n",
    "            \"num_plants\": num_plants,\n",
    "            \"capacities\": capacities,\n",
    "            \"production_time\": production_time,\n",
    "            \"setup_time\": setup_time,\n",
    "            \"setup_cost\": setup_cost,  \n",
    "            \"production_cost\": production_cost,\n",
    "            \"inventory_costs\": inventory_costs,\n",
    "            \"demand_matrix\": final_demand_matrix,\n",
    "            \"transfer_costs\": transfer_costs}"
   ]
  },
  {
   "cell_type": "code",
   "execution_count": 3,
   "id": "7769846c-052e-42e0-94c6-7121bf1349bd",
   "metadata": {},
   "outputs": [
    {
     "data": {
      "text/plain": [
       "{'items': 10,\n",
       " 'periods': 12,\n",
       " 'num_plants': 2,\n",
       " 'capacities': array([[2758, 2758, 2758, 2758, 2758, 2758, 2758, 2758, 2758, 2758, 2758,\n",
       "         2758],\n",
       "        [3044, 3044, 3044, 3044, 3044, 3044, 3044, 3044, 3044, 3044, 3044,\n",
       "         3044]]),\n",
       " 'production_time': array([[3.2, 2.4],\n",
       "        [4.2, 4.8],\n",
       "        [3.3, 4.9],\n",
       "        [2.6, 4.3],\n",
       "        [3.8, 1.2],\n",
       "        [3.6, 1.7],\n",
       "        [1.8, 3.6],\n",
       "        [3. , 1.9],\n",
       "        [1.9, 3.6],\n",
       "        [1.9, 4.1]]),\n",
       " 'setup_time': array([[50.5, 26.3],\n",
       "        [28.9, 51. ],\n",
       "        [34. , 42.1],\n",
       "        [19.1, 16. ],\n",
       "        [41. , 30. ],\n",
       "        [16. , 54.6],\n",
       "        [53.9, 47.8],\n",
       "        [62.1, 63. ],\n",
       "        [72.2, 27.8],\n",
       "        [60.9, 42.5]]),\n",
       " 'setup_cost': array([[927.7, 351.7],\n",
       "        [922.7, 509.4],\n",
       "        [153.2, 913.4],\n",
       "        [177.1, 773.7],\n",
       "        [812.1, 142.6],\n",
       "        [428. , 358.4],\n",
       "        [371.7,  72.2],\n",
       "        [922.4,  54.7],\n",
       "        [356.6, 550.4],\n",
       "        [117.6, 600. ]]),\n",
       " 'production_cost': array([[1.8, 2.2],\n",
       "        [2.2, 1.5],\n",
       "        [1.6, 1.8],\n",
       "        [2.2, 1.8],\n",
       "        [1.8, 1.5],\n",
       "        [2.3, 2.4],\n",
       "        [2.3, 2. ],\n",
       "        [1.7, 2.4],\n",
       "        [2.5, 1.7],\n",
       "        [2. , 1.7]]),\n",
       " 'inventory_costs': array([[0.2, 0.3],\n",
       "        [0.2, 0.2],\n",
       "        [0.3, 0.3],\n",
       "        [0.4, 0.2],\n",
       "        [0.2, 0.4],\n",
       "        [0.3, 0.3],\n",
       "        [0.4, 0.3],\n",
       "        [0.4, 0.3],\n",
       "        [0.2, 0.3],\n",
       "        [0.2, 0.2]]),\n",
       " 'demand_matrix': array([[[154,  58, 156, 179,  14,  23, 128,  20, 115,   1,  62,  24],\n",
       "         [131,  69, 155,  42, 179, 105, 112, 119, 147,  26, 180, 112]],\n",
       " \n",
       "        [[123,  82, 155,  70,  37, 170, 102,  36,  23,  91,  34,  42],\n",
       "         [ 45,  60, 124, 117, 105,  65, 147,  81, 174,  23, 131, 128]],\n",
       " \n",
       "        [[108,  64,  56, 154,  19,  39, 161, 110,  41,   7, 171,  66],\n",
       "         [174,  96, 157, 111,  90,  13,  64,   3,  64,  75,  17,  29]],\n",
       " \n",
       "        [[ 84,  71,  82, 153, 141,  17,  90, 129, 101,  60,  85, 138],\n",
       "         [147, 157,  23, 101,  17, 112,  94, 163,  89, 173, 174,  14]],\n",
       " \n",
       "        [[173, 149,  94, 180,  33, 169,  31, 109, 179,  81,  24, 138],\n",
       "         [105,  20, 143, 152,  49,   6, 139, 107, 180,  62, 143, 162]],\n",
       " \n",
       "        [[ 88,  25,   2,  47,  46,  83,  40, 157, 132,  22,  79,  87],\n",
       "         [ 43,  77, 160,  19, 161,  63,  70, 170, 136, 173,  23, 130]],\n",
       " \n",
       "        [[162,  20, 149,  67, 178,  35, 148,  98,  66, 161, 179,  18],\n",
       "         [143,  51, 138,  93, 110,  37,   8,  12, 144, 152,  43, 100]],\n",
       " \n",
       "        [[  4, 165, 123,  70,  79,  34, 149, 115,  93,  78,  86,  59],\n",
       "         [ 55, 132,  17,  27,  99, 180, 132, 124,  51,  10,  25, 160]],\n",
       " \n",
       "        [[164, 111, 166, 145,  63, 173, 101,  51, 122,  39,  62,  63],\n",
       "         [136, 131, 114,  54,  18, 169, 180,  81,  24, 124,  27,  66]],\n",
       " \n",
       "        [[139,   6,   5,  57, 115, 118, 164, 166,  88,  79, 170,  87],\n",
       "         [ 20,  15, 136, 104, 173,  28, 147, 107,  94, 116, 157, 166]]]),\n",
       " 'transfer_costs': array([[0.  , 0.25],\n",
       "        [0.25, 0.  ]])}"
      ]
     },
     "metadata": {},
     "output_type": "display_data"
    }
   ],
   "source": [
    "# Exemplo de uso\n",
    "file_path = '../instancias/multi_plant_instances/AAA01_12_2_10.dat'\n",
    "data = read_dat_file(file_path)\n",
    "display(data)"
   ]
  },
  {
   "cell_type": "markdown",
   "id": "2576c1b9-b389-40f2-ae39-33bda1a0a356",
   "metadata": {},
   "source": [
    "# Modelagem"
   ]
  },
  {
   "cell_type": "code",
   "execution_count": 4,
   "id": "f5513369-f935-49de-99a4-6cec0bf7b4db",
   "metadata": {},
   "outputs": [
    {
     "name": "stdout",
     "output_type": "stream",
     "text": [
      "Set parameter Username\n",
      "Academic license - for non-commercial use only - expires 2025-09-13\n"
     ]
    }
   ],
   "source": [
    "m = gp.Model('Lot-sizing Sambasivan and Yahya')"
   ]
  },
  {
   "cell_type": "markdown",
   "id": "595f2fa2-1bf1-4ae9-a58f-95422587e232",
   "metadata": {},
   "source": [
    "## Conjuntos"
   ]
  },
  {
   "cell_type": "code",
   "execution_count": 5,
   "id": "337e6777-3f4c-49f3-b1e8-d3547010f4a8",
   "metadata": {},
   "outputs": [],
   "source": [
    "# Produtos (i)\n",
    "I = np.array([_ for _ in range(data['items'])])\n",
    "# Plantas (j)\n",
    "J = np.array([_ for _ in range(data['num_plants'])])\n",
    "# Períodos (t)\n",
    "T = np.array([_ for _ in range(data['periods'])])"
   ]
  },
  {
   "cell_type": "markdown",
   "id": "55ac26fa-edaf-4a2e-bd2a-4f4e1e9ea660",
   "metadata": {},
   "source": [
    "## Parâmetros"
   ]
  },
  {
   "cell_type": "code",
   "execution_count": 6,
   "id": "75ce9cbc-acad-4bac-a3aa-259cce01163e",
   "metadata": {},
   "outputs": [],
   "source": [
    "# Demanda (i, j, t)\n",
    "d = np.array(data['demand_matrix'])\n",
    "# Capacidade (j, t)\n",
    "cap = np.array(data['capacities'])\n",
    "# Tempo de produção (i, j)\n",
    "b = np.array(data['production_time'])\n",
    "# Tempo de setup (i, j)\n",
    "f = np.array(data['setup_time'])\n",
    "# Custo de produção (i, j)\n",
    "c = np.array(data['production_cost'])\n",
    "# Custo de setup (i, j)\n",
    "s = np.array(data['setup_cost'])\n",
    "# Custo de transporte (j, k)\n",
    "r = np.array(data['transfer_costs'])\n",
    "# Custo de estoque (i, j)\n",
    "h = np.array(data['inventory_costs'])"
   ]
  },
  {
   "cell_type": "markdown",
   "id": "c5f5d3c7-7d4a-4176-855e-b24febf323a9",
   "metadata": {},
   "source": [
    "## Variáveis de decisão"
   ]
  },
  {
   "cell_type": "code",
   "execution_count": 7,
   "id": "5143de99-4749-492d-a91d-43ed8c4df221",
   "metadata": {},
   "outputs": [],
   "source": [
    "# Quantidade produzida (i, j, t)\n",
    "X = m.addVars(I, J, T, vtype=GRB.CONTINUOUS, name='X')\n",
    "# Quantidade estocada (i, j, t)\n",
    "Q = m.addVars(I, J, T, vtype=GRB.CONTINUOUS, name='Q')\n",
    "# # Quantidade transportada (i, j, k(um outro j), t)\n",
    "W = m.addVars(I, J, J, T, vtype=GRB.CONTINUOUS, name='W')\n",
    "# # Variável de setup (binária) (i, j, t)\n",
    "Z = m.addVars(I, J, T, vtype=GRB.BINARY, name='Z')"
   ]
  },
  {
   "cell_type": "markdown",
   "id": "acfdabf5-3640-4fdb-9467-3887f426c0a1",
   "metadata": {},
   "source": [
    "## Função objetivo"
   ]
  },
  {
   "cell_type": "code",
   "execution_count": 8,
   "id": "e61bc597-0a2c-4812-9b81-292a570fd5a6",
   "metadata": {},
   "outputs": [],
   "source": [
    "expr_objetivo = sum(sum(sum(c[i, j] * X[i, j, t] + h[i, j] * Q[i, j, t] + s[i, j] * Z[i, j, t] + \n",
    "                            sum(r[j, k] * W[i, j, k, t] for k in J if k != j) for t in T) for j in J) for i in I)\n",
    "m.setObjective(expr_objetivo, sense=GRB.MINIMIZE)"
   ]
  },
  {
   "cell_type": "markdown",
   "id": "47df9ee1-6f26-4817-ab5f-d69a7b88fff5",
   "metadata": {},
   "source": [
    "## Restrições"
   ]
  },
  {
   "cell_type": "code",
   "execution_count": 9,
   "id": "3ae73222-b1d7-494f-b42c-da159098b56f",
   "metadata": {},
   "outputs": [],
   "source": [
    "# Balanço de estoque (revisar comportamento)\n",
    "# Período inicial\n",
    "m.addConstrs((Q[i, j, t] == X[i, j, t] - sum(W[i, j, k, t] for k in J if k != j) + sum(W[i, l, j, t] for l in J if l != j) - d[i, j, t] for i in I for j in J for t in T if t == 0),\n",
    "             name='restricao_balanco_estoque')\n",
    "# Demais períodos\n",
    "m.addConstrs((Q[i, j, t] == Q[i, j, t-1] + X[i, j, t] - sum(W[i, j, k, t] for k in J if k != j) + sum(W[i, l, j, t] for l in J if l != j) - d[i, j, t] for i in I for j in J for t in T if t > 0),\n",
    "             name='restricao_balanco_estoque');"
   ]
  },
  {
   "cell_type": "code",
   "execution_count": 10,
   "id": "b96463c3-af9a-4df4-b8cd-a30971e09361",
   "metadata": {},
   "outputs": [],
   "source": [
    "# Restrição que obriga setup (validar o range do r)\n",
    "m.addConstrs((X[i, j, t] <= min((cap[j, t] - f[i, j]) / b[i, j], sum(sum(d[i, k, r] for r in range(t, T[-1] + 1)) for k in J)) * Z[i, j, t] for i in I for j in J for t in T)\n",
    "             , name='restricao_setup');\n",
    "# m.addConstrs((X[i, j, t] <= sum(sum(d[i, j, b] for b in range(t, len(T))) for j in J) * Z[i, j, t] for i in I for j in J for t in T)\n",
    "#              , name='restricao_setup');"
   ]
  },
  {
   "cell_type": "code",
   "execution_count": 11,
   "id": "9a8cc89f-d774-4dc4-b11e-eb2b9cc4e38c",
   "metadata": {},
   "outputs": [],
   "source": [
    "# Restrição de capacidade\n",
    "m.addConstrs((sum(b[i, j] * X[i, j, t] + f[i, j] * Z[i, j, t] for i in I) <= cap[j, t] for j in J for t in T)\n",
    "             , name='restricao_capacidade');"
   ]
  },
  {
   "cell_type": "markdown",
   "id": "11ecb20e-293d-4bab-ae28-868c052be388",
   "metadata": {},
   "source": [
    "# Resolução"
   ]
  },
  {
   "cell_type": "code",
   "execution_count": 12,
   "id": "91524fee-1939-42e7-9755-ae333346d9a4",
   "metadata": {},
   "outputs": [
    {
     "name": "stdout",
     "output_type": "stream",
     "text": [
      "Set parameter TimeLimit to value 60\n",
      "Gurobi Optimizer version 11.0.3 build v11.0.3rc0 (win64 - Windows 10.0 (19045.2))\n",
      "\n",
      "CPU model: Intel(R) Core(TM) i5-1035G1 CPU @ 1.00GHz, instruction set [SSE2|AVX|AVX2|AVX512]\n",
      "Thread count: 4 physical cores, 8 logical processors, using up to 8 threads\n",
      "\n",
      "Optimize a model with 504 rows, 1200 columns and 2140 nonzeros\n",
      "Model fingerprint: 0xb63b8462\n",
      "Variable types: 960 continuous, 240 integer (240 binary)\n",
      "Coefficient statistics:\n",
      "  Matrix range     [1e+00, 3e+03]\n",
      "  Objective range  [2e-01, 9e+02]\n",
      "  Bounds range     [1e+00, 1e+00]\n",
      "  RHS range        [1e+00, 3e+03]\n",
      "Presolve removed 0 rows and 260 columns\n",
      "Presolve time: 0.00s\n",
      "Presolved: 504 rows, 940 columns, 2120 nonzeros\n",
      "Variable types: 700 continuous, 240 integer (240 binary)\n",
      "\n",
      "Root relaxation: objective 5.559498e+04, 995 iterations, 0.01 seconds (0.00 work units)\n",
      "\n",
      "    Nodes    |    Current Node    |     Objective Bounds      |     Work\n",
      " Expl Unexpl |  Obj  Depth IntInf | Incumbent    BestBd   Gap | It/Node Time\n",
      "\n",
      "     0     0 55594.9772    0  139          - 55594.9772      -     -    0s\n",
      "     0     0 60509.4271    0  123          - 60509.4271      -     -    0s\n",
      "     0     0 60938.8688    0  108          - 60938.8688      -     -    0s\n",
      "     0     0 60948.6658    0  110          - 60948.6658      -     -    0s\n",
      "     0     0 60948.6670    0  112          - 60948.6670      -     -    0s\n",
      "     0     0 65173.7428    0   82          - 65173.7428      -     -    0s\n",
      "     0     0 infeasible    0               - infeasible      -     -    0s\n",
      "\n",
      "Cutting planes:\n",
      "  Gomory: 3\n",
      "  Implied bound: 10\n",
      "  MIR: 61\n",
      "  Flow cover: 220\n",
      "  Flow path: 52\n",
      "\n",
      "Explored 1 nodes (1831 simplex iterations) in 0.23 seconds (0.07 work units)\n",
      "Thread count was 8 (of 8 available processors)\n",
      "\n",
      "Solution count 0\n",
      "\n",
      "Model is infeasible\n",
      "Best objective -, best bound -, gap -\n"
     ]
    }
   ],
   "source": [
    "# Critérios de parada\n",
    "m.Params.timelimit = 60  # Tempo (default = inf)\n",
    "# m.Params.MIPgap = 0.01  # Gap de otimalidade (default = 0.0001 = 0.01%)\n",
    "\n",
    "# Otimização\n",
    "m.optimize()"
   ]
  },
  {
   "cell_type": "code",
   "execution_count": 13,
   "id": "5417b64a-fe6b-43f0-be06-9abdcdfb4e2f",
   "metadata": {},
   "outputs": [
    {
     "data": {
      "text/plain": [
       "12"
      ]
     },
     "execution_count": 13,
     "metadata": {},
     "output_type": "execute_result"
    }
   ],
   "source": [
    "# Número de períodos da instância\n",
    "len(T)"
   ]
  },
  {
   "cell_type": "code",
   "execution_count": 14,
   "id": "9ceef625-c129-45d5-8c86-d9b1bfa65779",
   "metadata": {},
   "outputs": [
    {
     "data": {
      "text/plain": [
       "2"
      ]
     },
     "execution_count": 14,
     "metadata": {},
     "output_type": "execute_result"
    }
   ],
   "source": [
    "# Número de fábricas\n",
    "len(J)"
   ]
  },
  {
   "cell_type": "code",
   "execution_count": 15,
   "id": "b198daca-5743-485b-bd2b-9ea8bf166b09",
   "metadata": {},
   "outputs": [
    {
     "data": {
      "text/plain": [
       "10"
      ]
     },
     "execution_count": 15,
     "metadata": {},
     "output_type": "execute_result"
    }
   ],
   "source": [
    "# Número de produtos\n",
    "len(I)"
   ]
  },
  {
   "cell_type": "code",
   "execution_count": 16,
   "id": "549d7945-bfff-435f-9d19-ecf9689d735e",
   "metadata": {},
   "outputs": [
    {
     "data": {
      "text/plain": [
       "0.23600006103515625"
      ]
     },
     "execution_count": 16,
     "metadata": {},
     "output_type": "execute_result"
    }
   ],
   "source": [
    "# Tempo de execução em segundos\n",
    "m.Runtime"
   ]
  },
  {
   "cell_type": "code",
   "execution_count": 17,
   "id": "4979d2e1-caf3-4ffa-b443-f1dbcb1e4a08",
   "metadata": {},
   "outputs": [
    {
     "data": {
      "text/plain": [
       "'Lot-sizing Sambasivan and Yahya'"
      ]
     },
     "execution_count": 17,
     "metadata": {},
     "output_type": "execute_result"
    }
   ],
   "source": [
    "# Nome do modelo\n",
    "m.ModelName"
   ]
  },
  {
   "cell_type": "code",
   "execution_count": 18,
   "id": "c050182a-6878-4b5d-8a5b-618faf150152",
   "metadata": {},
   "outputs": [
    {
     "name": "stdout",
     "output_type": "stream",
     "text": [
      "Gurobi Optimizer version 11.0.3 build v11.0.3rc0 (win64 - Windows 10.0 (19045.2))\n",
      "\n",
      "CPU model: Intel(R) Core(TM) i5-1035G1 CPU @ 1.00GHz, instruction set [SSE2|AVX|AVX2|AVX512]\n",
      "Thread count: 4 physical cores, 8 logical processors, using up to 8 threads\n",
      "\n",
      "\n",
      "Computing Irreducible Inconsistent Subsystem (IIS)...\n",
      "\n",
      "           Constraints          |            Bounds           |  Runtime\n",
      "      Min       Max     Guess   |   Min       Max     Guess   |\n",
      "--------------------------------------------------------------------------\n",
      "        0       504         -         0       960         -           0s\n",
      "       32        32        32        29        29        29           2s\n",
      "\n",
      "IIS computed: 32 constraints, 29 bounds\n",
      "IIS runtime: 1.94 seconds (0.33 work units)\n",
      "\n",
      "The following constraints and variables are in the IIS:\n",
      "\trestricao_balanco_estoque[0,0,0]: -1.0 X[0,0,0] + Q[0,0,0] + W[0,0,1,0] + -1.0 W[0,1,0,0] = -154.0\n",
      "\trestricao_balanco_estoque[0,1,0]: -1.0 X[0,1,0] + Q[0,1,0] + -1.0 W[0,0,1,0] + W[0,1,0,0] = -131.0\n",
      "\trestricao_balanco_estoque[1,0,0]: -1.0 X[1,0,0] + Q[1,0,0] + W[1,0,1,0] + -1.0 W[1,1,0,0] = -123.0\n",
      "\trestricao_balanco_estoque[1,1,0]: -1.0 X[1,1,0] + Q[1,1,0] + -1.0 W[1,0,1,0] + W[1,1,0,0] = -45.0\n",
      "\trestricao_balanco_estoque[2,0,0]: -1.0 X[2,0,0] + Q[2,0,0] + W[2,0,1,0] + -1.0 W[2,1,0,0] = -108.0\n",
      "\trestricao_balanco_estoque[2,1,0]: -1.0 X[2,1,0] + Q[2,1,0] + -1.0 W[2,0,1,0] + W[2,1,0,0] = -174.0\n",
      "\trestricao_balanco_estoque[3,0,0]: -1.0 X[3,0,0] + Q[3,0,0] + W[3,0,1,0] + -1.0 W[3,1,0,0] = -84.0\n",
      "\trestricao_balanco_estoque[3,1,0]: -1.0 X[3,1,0] + Q[3,1,0] + -1.0 W[3,0,1,0] + W[3,1,0,0] = -147.0\n",
      "\trestricao_balanco_estoque[4,0,0]: -1.0 X[4,0,0] + Q[4,0,0] + W[4,0,1,0] + -1.0 W[4,1,0,0] = -173.0\n",
      "\trestricao_balanco_estoque[4,1,0]: -1.0 X[4,1,0] + Q[4,1,0] + -1.0 W[4,0,1,0] + W[4,1,0,0] = -105.0\n",
      "\trestricao_balanco_estoque[5,0,0]: -1.0 X[5,0,0] + Q[5,0,0] + W[5,0,1,0] + -1.0 W[5,1,0,0] = -88.0\n",
      "\trestricao_balanco_estoque[5,1,0]: -1.0 X[5,1,0] + Q[5,1,0] + -1.0 W[5,0,1,0] + W[5,1,0,0] = -43.0\n",
      "\trestricao_balanco_estoque[6,0,0]: -1.0 X[6,0,0] + Q[6,0,0] + W[6,0,1,0] + -1.0 W[6,1,0,0] = -162.0\n",
      "\trestricao_balanco_estoque[6,1,0]: -1.0 X[6,1,0] + Q[6,1,0] + -1.0 W[6,0,1,0] + W[6,1,0,0] = -143.0\n",
      "\trestricao_balanco_estoque[7,0,0]: -1.0 X[7,0,0] + Q[7,0,0] + W[7,0,1,0] + -1.0 W[7,1,0,0] = -4.0\n",
      "\trestricao_balanco_estoque[7,1,0]: -1.0 X[7,1,0] + Q[7,1,0] + -1.0 W[7,0,1,0] + W[7,1,0,0] = -55.0\n",
      "\trestricao_balanco_estoque[8,0,0]: -1.0 X[8,0,0] + Q[8,0,0] + W[8,0,1,0] + -1.0 W[8,1,0,0] = -164.0\n",
      "\trestricao_balanco_estoque[8,1,0]: -1.0 X[8,1,0] + Q[8,1,0] + -1.0 W[8,0,1,0] + W[8,1,0,0] = -136.0\n",
      "\trestricao_balanco_estoque[9,0,0]: -1.0 X[9,0,0] + Q[9,0,0] + W[9,0,1,0] + -1.0 W[9,1,0,0] = -139.0\n",
      "\trestricao_balanco_estoque[9,1,0]: -1.0 X[9,1,0] + Q[9,1,0] + -1.0 W[9,0,1,0] + W[9,1,0,0] = -20.0\n",
      "\trestricao_setup[1,1,0]: X[1,1,0] + -623.5416666666667 Z[1,1,0] < 0.0\n",
      "\trestricao_setup[2,0,0]: X[2,0,0] + -825.4545454545455 Z[2,0,0] < 0.0\n",
      "\trestricao_setup[2,1,0]: X[2,1,0] + -612.6326530612245 Z[2,1,0] < 0.0\n",
      "\trestricao_setup[3,0,0]: X[3,0,0] + -1053.423076923077 Z[3,0,0] < 0.0\n",
      "\trestricao_setup[4,1,0]: X[4,1,0] + -2511.666666666667 Z[4,1,0] < 0.0\n",
      "\trestricao_setup[5,1,0]: X[5,1,0] + -1758.4705882352941 Z[5,1,0] < 0.0\n",
      "\trestricao_setup[6,0,0]: X[6,0,0] + -1502.2777777777776 Z[6,0,0] < 0.0\n",
      "\trestricao_setup[7,1,0]: X[7,1,0] + -1568.9473684210527 Z[7,1,0] < 0.0\n",
      "\trestricao_setup[8,0,0]: X[8,0,0] + -1413.5789473684213 Z[8,0,0] < 0.0\n",
      "\trestricao_setup[9,0,0]: X[9,0,0] + -1419.5263157894738 Z[9,0,0] < 0.0\n",
      "\trestricao_capacidade[0,0]: 3.2 X[0,0,0] + 4.2 X[1,0,0] + 3.3 X[2,0,0] + 2.6 X[3,0,0] + 3.8 X[4,0,0] + 3.6 X[5,0,0] + 1.8 X[6,0,0] + 3.0 X[7,0,0] + 1.9 X[8,0,0] + 1.9 X[9,0,0] + 50.5 Z[0,0,0] + 28.9 Z[1,0,0] + 34.0 Z[2,0,0] + 19.1 Z[3,0,0] + 41.0 Z[4,0,0] + 16.0 Z[5,0,0] + 53.9 Z[6,0,0] + 62.1 Z[7,0,0] + 72.2 Z[8,0,0] + 60.9 Z[9,0,0] < 2758.0\n",
      "\trestricao_capacidade[1,0]: 2.4 X[0,1,0] + 4.8 X[1,1,0] + 4.9 X[2,1,0] + 4.3 X[3,1,0] + 1.2 X[4,1,0] + 1.7 X[5,1,0] + 3.6 X[6,1,0] + 1.9 X[7,1,0] + 3.6 X[8,1,0] + 4.1 X[9,1,0] + 26.3 Z[0,1,0] + 51.0 Z[1,1,0] + 42.1 Z[2,1,0] + 16.0 Z[3,1,0] + 30.0 Z[4,1,0] + 54.6 Z[5,1,0] + 47.8 Z[6,1,0] + 63.0 Z[7,1,0] + 27.8 Z[8,1,0] + 42.5 Z[9,1,0] < 3044.0\n",
      "\tX[0,0,0] ≥ 0.0\n",
      "\tX[1,0,0] ≥ 0.0\n",
      "\tX[3,1,0] ≥ 0.0\n",
      "\tX[4,0,0] ≥ 0.0\n",
      "\tX[5,0,0] ≥ 0.0\n",
      "\tX[6,1,0] ≥ 0.0\n",
      "\tX[7,0,0] ≥ 0.0\n",
      "\tX[8,1,0] ≥ 0.0\n",
      "\tX[9,1,0] ≥ 0.0\n",
      "\tQ[0,0,0] ≥ 0.0\n",
      "\tQ[0,1,0] ≥ 0.0\n",
      "\tQ[1,0,0] ≥ 0.0\n",
      "\tQ[1,1,0] ≥ 0.0\n",
      "\tQ[2,0,0] ≥ 0.0\n",
      "\tQ[2,1,0] ≥ 0.0\n",
      "\tQ[3,0,0] ≥ 0.0\n",
      "\tQ[3,1,0] ≥ 0.0\n",
      "\tQ[4,0,0] ≥ 0.0\n",
      "\tQ[4,1,0] ≥ 0.0\n",
      "\tQ[5,0,0] ≥ 0.0\n",
      "\tQ[5,1,0] ≥ 0.0\n",
      "\tQ[6,0,0] ≥ 0.0\n",
      "\tQ[6,1,0] ≥ 0.0\n",
      "\tQ[7,0,0] ≥ 0.0\n",
      "\tQ[7,1,0] ≥ 0.0\n",
      "\tQ[8,0,0] ≥ 0.0\n",
      "\tQ[8,1,0] ≥ 0.0\n",
      "\tQ[9,0,0] ≥ 0.0\n",
      "\tQ[9,1,0] ≥ 0.0\n"
     ]
    }
   ],
   "source": [
    "# Valor da função objetivo da melhor solução encontrada (upper bound da minimização)\n",
    "try: \n",
    "    print(m.ObjVal)\n",
    "except AttributeError:\n",
    "    # Print out the IIS constraints and variables\n",
    "    m.computeIIS()\n",
    "    print('\\nThe following constraints and variables are in the IIS:')\n",
    "    for c in m.getConstrs():\n",
    "        if c.IISConstr: print(f'\\t{c.constrname}: {m.getRow(c)} {c.Sense} {c.RHS}')\n",
    "\n",
    "    for v in m.getVars():\n",
    "        if v.IISLB: print(f'\\t{v.varname} ≥ {v.LB}')\n",
    "        if v.IISUB: print(f'\\t{v.varname} ≤ {v.UB}')"
   ]
  },
  {
   "cell_type": "code",
   "execution_count": 19,
   "id": "160d96c6-175f-44d6-ab99-f69a4e5adf98",
   "metadata": {},
   "outputs": [
    {
     "data": {
      "text/plain": [
       "inf"
      ]
     },
     "execution_count": 19,
     "metadata": {},
     "output_type": "execute_result"
    }
   ],
   "source": [
    "# Lower bound da minimização\n",
    "m.ObjBound"
   ]
  },
  {
   "cell_type": "code",
   "execution_count": 23,
   "id": "be3fff20-12f8-4fb3-86a7-ca80f96bc893",
   "metadata": {},
   "outputs": [
    {
     "data": {
      "text/plain": [
       "inf"
      ]
     },
     "execution_count": 23,
     "metadata": {},
     "output_type": "execute_result"
    }
   ],
   "source": [
    "# Gap da solução\n",
    "m.MIPgap"
   ]
  },
  {
   "cell_type": "code",
   "execution_count": 21,
   "id": "2b939b33-dbd6-483f-8eda-9e035e365f1c",
   "metadata": {},
   "outputs": [
    {
     "data": {
      "text/plain": [
       "3"
      ]
     },
     "execution_count": 21,
     "metadata": {},
     "output_type": "execute_result"
    }
   ],
   "source": [
    "m.Status  # Ver https://www.gurobi.com/documentation/current/refman/optimization_status_codes.html#sec:StatusCodes para interpretar códigos"
   ]
  }
 ],
 "metadata": {
  "kernelspec": {
   "display_name": "venv",
   "language": "python",
   "name": "python3"
  },
  "language_info": {
   "codemirror_mode": {
    "name": "ipython",
    "version": 3
   },
   "file_extension": ".py",
   "mimetype": "text/x-python",
   "name": "python",
   "nbconvert_exporter": "python",
   "pygments_lexer": "ipython3",
   "version": "3.11.3"
  }
 },
 "nbformat": 4,
 "nbformat_minor": 5
}
