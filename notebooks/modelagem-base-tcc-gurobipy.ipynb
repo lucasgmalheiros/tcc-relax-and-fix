{
 "cells": [
  {
   "cell_type": "code",
   "execution_count": 199,
   "id": "956764c4-b200-458e-9d71-c81bf49cc13b",
   "metadata": {},
   "outputs": [],
   "source": [
    "import gurobipy as gp\n",
    "from gurobipy import GRB\n",
    "import numpy as np"
   ]
  },
  {
   "cell_type": "markdown",
   "id": "52639ada-84bb-4384-811a-2e1ea738d92d",
   "metadata": {},
   "source": [
    "# Leitura de instâncias"
   ]
  },
  {
   "cell_type": "code",
   "execution_count": 200,
   "id": "11301d1f-0aef-4c96-b33e-85db4a44158e",
   "metadata": {
    "scrolled": true
   },
   "outputs": [],
   "source": [
    "def read_dat_file(file_path):\n",
    "    \"\"\"\"Função para a leitura das instâncias de Mariá\"\"\"\n",
    "    with open(file_path, 'r') as file:\n",
    "        lines = file.readlines()\n",
    "\n",
    "    # 1. Lendo quantidade de itens e períodos\n",
    "    items, periods = map(int, lines[0].split())\n",
    "\n",
    "    # 2. Lendo número de plantas\n",
    "    num_plants = int(lines[1].strip())\n",
    "\n",
    "    # 3. Lendo capacidades das plantas\n",
    "    capacities = [int(lines[i + 2].strip()) for i in range(num_plants)]\n",
    "    capacities = np.tile(capacities, (periods, 1)).T  # Repete as capacidades ao longo dos períodos (deixar na forma j, t)\n",
    "\n",
    "    # 4. Lendo a matriz de produção (tempo de produção, tempo de setup, custo de setup, custo de produção)\n",
    "    production_data = []\n",
    "    start_line = 2 + num_plants\n",
    "    production_time = np.zeros((items, num_plants))  # Inicializar listas para armazenar separadamente os tempos e custos\n",
    "    setup_time = np.zeros((items, num_plants))\n",
    "    setup_cost = np.zeros((items, num_plants))\n",
    "    production_cost = np.zeros((items, num_plants))\n",
    "    for i in range(num_plants * items):  # Preencher as matrizes com os dados lidos\n",
    "        plant = i // items  # Determina a planta\n",
    "        item = i % items    # Determina o item\n",
    "        # Extrair os dados de cada linha\n",
    "        prod_time, set_time, set_cost, prod_cost = map(float, lines[start_line + i].split())\n",
    "        production_time[item, plant] = prod_time  # Preencher as respectivas matrizes\n",
    "        setup_time[item, plant] = set_time\n",
    "        setup_cost[item, plant] = set_cost\n",
    "        production_cost[item, plant] = prod_cost\n",
    "\n",
    "    # 5. Lendo os custos de inventário\n",
    "    inventory_costs_line = start_line + num_plants * items\n",
    "    inventory_costs = list(map(float, lines[inventory_costs_line].split()))  # Lê todos os valores de inventory_costs como uma única lista\n",
    "    inventory_costs = np.array(inventory_costs).reshape(num_plants, -1)  # Divide a lista de custos de inventário por planta\n",
    "    inventory_costs = inventory_costs.T  # Deixa na forma (i, j)\n",
    "\n",
    "    # 6. Lendo a matriz de demanda (12 linhas, 12 colunas)\n",
    "    demand_matrix = []\n",
    "    demand_start_line = inventory_costs_line + 1\n",
    "\n",
    "    # Verifica se a matriz de demanda está na forma padrão\n",
    "    num_demand_lines = 0\n",
    "    for i in range(demand_start_line, len(lines)):\n",
    "        if lines[i].strip():  # Se a linha não estiver vazia, contamos como linha de demanda\n",
    "            num_demand_lines += 1\n",
    "        else:\n",
    "            break  # Interrompe se encontrar uma linha vazia (ou um bloco separado)\n",
    "    \n",
    "    # Calcula o multiplicador, caso tenha mais linhas do que períodos\n",
    "    if num_demand_lines == periods * 2:\n",
    "        multiplier = 2  # A matriz de demanda tem o dobro de linhas\n",
    "        # raise Exception(\"FUCKED\") \n",
    "    else:\n",
    "        multiplier = 1  # A matriz de demanda tem o número esperado de linhas (T)\n",
    "    \n",
    "    # Leitura inicial das demandas\n",
    "    for i in range(periods * multiplier):  # Lê as linhas de demandas para os períodos\n",
    "        demands = list(map(int, lines[demand_start_line + i].split()))\n",
    "        demand_matrix.append(demands)\n",
    "    \n",
    "    # Agora, se multiplier == 2, precisamos combinar as linhas 1-12 com 13-24 corretamente\n",
    "    if multiplier == 2:\n",
    "        new_demand_matrix = []\n",
    "        for i in range(periods):  # Para cada linha do primeiro bloco (1-12), combinar com (13-24)\n",
    "            combined_demand = demand_matrix[i] + demand_matrix[i + periods]  # Junta a linha i com i+12\n",
    "            new_demand_matrix.append(combined_demand)\n",
    "        demand_matrix = new_demand_matrix  # Substitui a matriz de demandas pela combinada\n",
    "    \n",
    "    # Agora vamos dividir os valores de cada linha combinada entre as plantas\n",
    "    final_demand_matrix = []\n",
    "    for demands in demand_matrix:\n",
    "        period_demand = []\n",
    "        for j in range(num_plants):\n",
    "            # Divide a demanda combinada por planta, assumindo que cada planta tem o mesmo número de itens\n",
    "            plant_demand = demands[j*items:(j+1)*items]\n",
    "            period_demand.append(plant_demand)\n",
    "        final_demand_matrix.append(period_demand)\n",
    "    \n",
    "    # Transpor a matriz de demanda para o formato correto (itens, plantas, períodos)\n",
    "    final_demand_matrix = np.array(final_demand_matrix)\n",
    "    final_demand_matrix = np.transpose(final_demand_matrix, (2, 1, 0))  # Converte para o formato (itens, plantas, períodos)\n",
    "\n",
    "    # 7. Lendo os custos de transferência\n",
    "    transfer_costs = []\n",
    "    transfer_cost_line = demand_start_line + periods * multiplier\n",
    "    while transfer_cost_line < len(lines):\n",
    "        line = lines[transfer_cost_line].strip()  # Verificar se a linha não está vazia antes de tentar ler\n",
    "        if line:\n",
    "            transfer_costs.append(float(line))\n",
    "        transfer_cost_line += 1\n",
    "\n",
    "    def create_transfer_cost_matrix(transfer_costs, num_plants):  # Criar a matriz de custos de transferência (simétrica)\n",
    "        transfer_cost_matrix = np.zeros((num_plants, num_plants))  # Inicializar a matriz de zeros\n",
    "        if len(transfer_costs) == 1:\n",
    "            transfer_cost = transfer_costs[0]  # Se houver apenas um custo de transferência, aplicar para todos os pares de plantas\n",
    "            for j in range(num_plants):\n",
    "                for k in range(j + 1, num_plants):\n",
    "                    transfer_cost_matrix[j, k] = transfer_cost\n",
    "                    transfer_cost_matrix[k, j] = transfer_cost\n",
    "        else:\n",
    "            idx = 0  # Se houver múltiplos custos, aplicar entre pares de plantas\n",
    "            for j in range(num_plants):\n",
    "                for k in range(j + 1, num_plants):\n",
    "                    transfer_cost_matrix[j, k] = transfer_costs[idx]\n",
    "                    transfer_cost_matrix[k, j] = transfer_costs[idx]\n",
    "                    idx += 1\n",
    "        return transfer_cost_matrix\n",
    "\n",
    "    transfer_costs = create_transfer_cost_matrix(transfer_costs, num_plants)\n",
    "\n",
    "    return {\"items\": items,\n",
    "            \"periods\": periods,\n",
    "            \"num_plants\": num_plants,\n",
    "            \"capacities\": capacities,\n",
    "            \"production_time\": production_time,\n",
    "            \"setup_time\": setup_time,\n",
    "            \"setup_cost\": setup_cost,  \n",
    "            \"production_cost\": production_cost,\n",
    "            \"inventory_costs\": inventory_costs,\n",
    "            \"demand_matrix\": final_demand_matrix,\n",
    "            \"transfer_costs\": transfer_costs}"
   ]
  },
  {
   "cell_type": "code",
   "execution_count": 201,
   "id": "7769846c-052e-42e0-94c6-7121bf1349bd",
   "metadata": {},
   "outputs": [],
   "source": [
    "# Exemplo de uso\n",
    "file_path = 'instancias/maria_desiree/AAA01266_0.dat'\n",
    "data = read_dat_file(file_path)\n",
    "# display(data)"
   ]
  },
  {
   "cell_type": "markdown",
   "id": "2576c1b9-b389-40f2-ae39-33bda1a0a356",
   "metadata": {},
   "source": [
    "# Modelagem"
   ]
  },
  {
   "cell_type": "code",
   "execution_count": 202,
   "id": "f5513369-f935-49de-99a4-6cec0bf7b4db",
   "metadata": {},
   "outputs": [],
   "source": [
    "m = gp.Model('Lot-sizing Sambasivan and Yahya')"
   ]
  },
  {
   "cell_type": "markdown",
   "id": "595f2fa2-1bf1-4ae9-a58f-95422587e232",
   "metadata": {},
   "source": [
    "## Conjuntos"
   ]
  },
  {
   "cell_type": "code",
   "execution_count": 203,
   "id": "337e6777-3f4c-49f3-b1e8-d3547010f4a8",
   "metadata": {},
   "outputs": [],
   "source": [
    "# Produtos (i)\n",
    "I = np.array([_ for _ in range(data['items'])])\n",
    "# Plantas (j)\n",
    "J = np.array([_ for _ in range(data['num_plants'])])\n",
    "# Períodos (t)\n",
    "T = np.array([_ for _ in range(data['periods'])])"
   ]
  },
  {
   "cell_type": "markdown",
   "id": "55ac26fa-edaf-4a2e-bd2a-4f4e1e9ea660",
   "metadata": {},
   "source": [
    "## Parâmetros"
   ]
  },
  {
   "cell_type": "code",
   "execution_count": 204,
   "id": "75ce9cbc-acad-4bac-a3aa-259cce01163e",
   "metadata": {},
   "outputs": [],
   "source": [
    "# Demanda (i, j, t)\n",
    "d = np.array(data['demand_matrix'])\n",
    "# Capacidade (j, t)\n",
    "cap = np.array(data['capacities'])\n",
    "# Tempo de produção (i, j)\n",
    "b = np.array(data['production_time'])\n",
    "# Tempo de setup (i, j)\n",
    "f = np.array(data['setup_time'])\n",
    "# Custo de produção (i, j)\n",
    "c = np.array(data['production_cost'])\n",
    "# Custo de setup (i, j)\n",
    "s = np.array(data['setup_cost'])\n",
    "# Custo de transporte (j, k)\n",
    "r = np.array(data['transfer_costs'])\n",
    "# Custo de estoque (i, j)\n",
    "h = np.array(data['inventory_costs'])"
   ]
  },
  {
   "cell_type": "markdown",
   "id": "c5f5d3c7-7d4a-4176-855e-b24febf323a9",
   "metadata": {},
   "source": [
    "## Variáveis de decisão"
   ]
  },
  {
   "cell_type": "code",
   "execution_count": 209,
   "id": "5143de99-4749-492d-a91d-43ed8c4df221",
   "metadata": {},
   "outputs": [],
   "source": [
    "# Quantidade produzida (i, j, t)\n",
    "X = m.addVars(I, J, T, vtype=GRB.CONTINUOUS, name='X')\n",
    "# Quantidade estocada (i, j, t)\n",
    "Q = m.addVars(I, J, T, vtype=GRB.CONTINUOUS, name='Q')\n",
    "# # Quantidade transportada (i, j, k(um outro j), t)\n",
    "W = m.addVars(I, J, J, T, vtype=GRB.CONTINUOUS, name='W')\n",
    "# # Variável de setup (binária) (i, j, t)\n",
    "Z = m.addVars(I, J, T, vtype=GRB.BINARY, name='Z')"
   ]
  },
  {
   "cell_type": "markdown",
   "id": "acfdabf5-3640-4fdb-9467-3887f426c0a1",
   "metadata": {},
   "source": [
    "## Função objetivo"
   ]
  },
  {
   "cell_type": "code",
   "execution_count": 210,
   "id": "e61bc597-0a2c-4812-9b81-292a570fd5a6",
   "metadata": {},
   "outputs": [],
   "source": [
    "expr_objetivo = sum(sum(sum(c[i, j] * X[i, j, t] + h[i, j] * Q[i, j, t] + s[i, j] * Z[i, j, t] + \n",
    "                            sum(r[j, k] * W[i, j, k, t] for k in J if k != j) for t in T) for j in J) for i in I)\n",
    "m.setObjective(expr_objetivo, sense=GRB.MINIMIZE)"
   ]
  },
  {
   "cell_type": "markdown",
   "id": "47df9ee1-6f26-4817-ab5f-d69a7b88fff5",
   "metadata": {},
   "source": [
    "## Restrições"
   ]
  },
  {
   "cell_type": "code",
   "execution_count": 211,
   "id": "3ae73222-b1d7-494f-b42c-da159098b56f",
   "metadata": {},
   "outputs": [],
   "source": [
    "# Balanço de estoque (revisar comportamento)\n",
    "# Período inicial\n",
    "m.addConstrs((Q[i, j, t] == X[i, j, t] - sum(W[i, j, k, t] for k in J if k != j) + sum(W[i, l, j, t] for l in J if l != j) - d[i, j, t] for i in I for j in J for t in T if t == 0),\n",
    "             name='restricao_balanco_estoque')\n",
    "# Demais períodos\n",
    "m.addConstrs((Q[i, j, t] == Q[i, j, t-1] + X[i, j, t] - sum(W[i, j, k, t] for k in J if k != j) + sum(W[i, l, j, t] for l in J if l != j) - d[i, j, t] for i in I for j in J for t in T if t > 0),\n",
    "             name='restricao_balanco_estoque');"
   ]
  },
  {
   "cell_type": "code",
   "execution_count": 212,
   "id": "b96463c3-af9a-4df4-b8cd-a30971e09361",
   "metadata": {},
   "outputs": [],
   "source": [
    "# Restrição que obriga setup (validar o range do r)\n",
    "m.addConstrs((X[i, j, t] <= min((cap[j, t] - f[i, j]) / b[i, j], sum(sum(d[i, k, r] for r in range(t, T[-1] + 1)) for k in J)) * Z[i, j, t] for i in I for j in J for t in T)\n",
    "             , name='restricao_setup');"
   ]
  },
  {
   "cell_type": "code",
   "execution_count": 213,
   "id": "9a8cc89f-d774-4dc4-b11e-eb2b9cc4e38c",
   "metadata": {},
   "outputs": [],
   "source": [
    "# Restrição de capacidade\n",
    "m.addConstrs((sum(b[i, j] * X[i, j, t] + f[i, j] * Z[i, j, t] for i in I) <= cap[j, t] for j in J for t in T)\n",
    "             , name='restricao_capacidade');"
   ]
  },
  {
   "cell_type": "markdown",
   "id": "11ecb20e-293d-4bab-ae28-868c052be388",
   "metadata": {},
   "source": [
    "# Resolução"
   ]
  },
  {
   "cell_type": "code",
   "execution_count": 214,
   "id": "91524fee-1939-42e7-9755-ae333346d9a4",
   "metadata": {},
   "outputs": [
    {
     "name": "stdout",
     "output_type": "stream",
     "text": [
      "Set parameter TimeLimit to value 1800\n",
      "Gurobi Optimizer version 11.0.3 build v11.0.3rc0 (win64 - Windows 10.0 (19045.2))\n",
      "\n",
      "CPU model: Intel(R) Core(TM) i5-1035G1 CPU @ 1.00GHz, instruction set [SSE2|AVX|AVX2|AVX512]\n",
      "Thread count: 4 physical cores, 8 logical processors, using up to 8 threads\n",
      "\n",
      "Optimize a model with 624 rows, 2016 columns and 3720 nonzeros\n",
      "Model fingerprint: 0xe0352395\n",
      "Variable types: 1728 continuous, 288 integer (288 binary)\n",
      "Coefficient statistics:\n",
      "  Matrix range     [1e+00, 1e+03]\n",
      "  Objective range  [2e-01, 9e+02]\n",
      "  Bounds range     [1e+00, 1e+00]\n",
      "  RHS range        [1e+00, 2e+03]\n",
      "Presolve removed 0 rows and 312 columns\n",
      "Presolve time: 0.01s\n",
      "Presolved: 624 rows, 1704 columns, 3696 nonzeros\n",
      "Variable types: 1416 continuous, 288 integer (288 binary)\n",
      "\n",
      "Root relaxation: objective 6.157274e+04, 1414 iterations, 0.02 seconds (0.01 work units)\n",
      "\n",
      "    Nodes    |    Current Node    |     Objective Bounds      |     Work\n",
      " Expl Unexpl |  Obj  Depth IntInf | Incumbent    BestBd   Gap | It/Node Time\n",
      "\n",
      "     0     0 61572.7445    0  119          - 61572.7445      -     -    0s\n",
      "H    0     0                    75884.789234 61572.7445  18.9%     -    0s\n",
      "     0     0 63727.7163    0  104 75884.7892 63727.7163  16.0%     -    0s\n",
      "     0     0 63849.5824    0  103 75884.7892 63849.5824  15.9%     -    0s\n",
      "     0     0 63849.5824    0  105 75884.7892 63849.5824  15.9%     -    0s\n",
      "     0     0 65208.4718    0   99 75884.7892 65208.4718  14.1%     -    0s\n",
      "     0     0 65301.5847    0  101 75884.7892 65301.5847  13.9%     -    0s\n",
      "     0     0 65313.3552    0  101 75884.7892 65313.3552  13.9%     -    0s\n",
      "     0     0 65315.9647    0  100 75884.7892 65315.9647  13.9%     -    0s\n",
      "     0     0 65698.4341    0  105 75884.7892 65698.4341  13.4%     -    0s\n",
      "     0     0 65762.6751    0  105 75884.7892 65762.6751  13.3%     -    0s\n",
      "     0     0 65775.6140    0  102 75884.7892 65775.6140  13.3%     -    0s\n",
      "     0     0 65781.1248    0  105 75884.7892 65781.1248  13.3%     -    0s\n",
      "     0     0 65783.3304    0  106 75884.7892 65783.3304  13.3%     -    0s\n",
      "     0     0 65921.1067    0  106 75884.7892 65921.1067  13.1%     -    0s\n",
      "H    0     0                    70400.541650 65961.8167  6.30%     -    0s\n",
      "H    0     0                    70311.956748 65961.8167  6.19%     -    0s\n",
      "     0     0 65961.8167    0  109 70311.9567 65961.8167  6.19%     -    0s\n",
      "     0     0 65972.7568    0  107 70311.9567 65972.7568  6.17%     -    0s\n",
      "     0     0 65975.6856    0  106 70311.9567 65975.6856  6.17%     -    1s\n",
      "     0     0 66030.1864    0  108 70311.9567 66030.1864  6.09%     -    1s\n",
      "     0     0 66044.1196    0  104 70311.9567 66044.1196  6.07%     -    1s\n",
      "     0     0 66046.6338    0  104 70311.9567 66046.6338  6.07%     -    1s\n",
      "     0     0 66085.1130    0  104 70311.9567 66085.1130  6.01%     -    1s\n",
      "     0     0 66090.2435    0  104 70311.9567 66090.2435  6.00%     -    1s\n",
      "     0     2 66096.3766    0  104 70311.9567 66096.3766  6.00%     -    1s\n",
      "H  252   238                    70294.405498 66155.8851  5.89%  66.2    3s\n",
      "H  255   238                    70291.550071 66155.8851  5.88%  65.8    3s\n",
      "H  480   459                    69839.028204 66155.8851  5.27%  48.7    3s\n",
      "H  644   476                    69047.668114 66159.1774  4.18%  45.8    3s\n",
      "H 1006   746                    68815.183408 66201.3656  3.80%  45.9    4s\n",
      "  1079   843 67051.7614   29   71 68815.1834 66201.3656  3.80%  45.1    5s\n",
      "* 1134   635             107    67936.680012 66201.3656  2.55%  43.8    5s\n",
      "  1188   639 66564.2872   16  121 67936.6800 66564.2872  2.02%  42.6   10s\n",
      "H 1349   686                    67782.542117 66617.8360  1.72%  61.9   14s\n",
      "  1401   703     cutoff   33      67782.5421 66617.8360  1.72%  64.2   15s\n",
      "H 1478   691                    67757.296722 66617.8360  1.68%  67.8   16s\n",
      "H 1651   741                    67196.741482 66617.8360  0.86%  72.5   22s\n",
      "H 1655   712                    67194.685908 66617.8360  0.86%  72.6   22s\n",
      "  2035   711 66911.6849   39   74 67194.6859 66640.0856  0.83%  76.0   25s\n",
      "H 3124   826                    67188.339552 66768.6759  0.62%  83.8   31s\n",
      "  4002  1178 66902.9722   27   81 67188.3396 66818.0771  0.55%  87.2   35s\n",
      "  4783  1457 67172.2352   28   86 67188.3396 66853.6027  0.50%  88.9   40s\n",
      "  5873  1679     cutoff   29      67188.3396 66889.6121  0.44%  89.6   45s\n",
      "  6852  1809     cutoff   37      67188.3396 66914.2421  0.41%  90.7   50s\n",
      "  7928  1932 67109.9448   32   73 67188.3396 66951.3299  0.35%  92.2   55s\n",
      "  9243  2080 67044.4122   36   73 67188.3396 66988.7544  0.30%  92.6   60s\n",
      "H10503  1614                    67138.465150 67013.7626  0.19%  92.0   64s\n",
      " 10598  1461 67092.4208   34   87 67138.4652 67023.0762  0.17%  91.9   66s\n",
      " 11834  1010 67135.9102   49   38 67138.4652 67058.6146  0.12%  89.8   71s\n",
      "\n",
      "Cutting planes:\n",
      "  Gomory: 6\n",
      "  Cover: 8\n",
      "  Projected implied bound: 1\n",
      "  MIR: 296\n",
      "  Mixing: 65\n",
      "  Flow cover: 524\n",
      "  Flow path: 205\n",
      "  Inf proof: 5\n",
      "  Relax-and-lift: 1\n",
      "\n",
      "Explored 13966 nodes (1160379 simplex iterations) in 74.10 seconds (40.04 work units)\n",
      "Thread count was 8 (of 8 available processors)\n",
      "\n",
      "Solution count 10: 67138.5 67188.3 67194.7 ... 70291.6\n",
      "\n",
      "Optimal solution found (tolerance 1.00e-04)\n",
      "Best objective 6.713846515000e+04, best bound 6.713399895709e+04, gap 0.0067%\n"
     ]
    }
   ],
   "source": [
    "# Critérios de parada\n",
    "m.Params.timelimit = 1800  # Tempo (default = inf)\n",
    "# m.Params.MIPgap = 0.01  # Gap de otimalidade (default = 0.0001 = 0.01%)\n",
    "\n",
    "# Otimização\n",
    "m.optimize()"
   ]
  },
  {
   "cell_type": "code",
   "execution_count": 215,
   "id": "4979d2e1-caf3-4ffa-b443-f1dbcb1e4a08",
   "metadata": {},
   "outputs": [
    {
     "data": {
      "text/plain": [
       "'Lot-sizing Sambasivan and Yahya'"
      ]
     },
     "execution_count": 215,
     "metadata": {},
     "output_type": "execute_result"
    }
   ],
   "source": [
    "# Nome do teste\n",
    "m.ModelName"
   ]
  },
  {
   "cell_type": "code",
   "execution_count": 216,
   "id": "5417b64a-fe6b-43f0-be06-9abdcdfb4e2f",
   "metadata": {},
   "outputs": [
    {
     "data": {
      "text/plain": [
       "12"
      ]
     },
     "execution_count": 216,
     "metadata": {},
     "output_type": "execute_result"
    }
   ],
   "source": [
    "# Número de períodos da instância\n",
    "len(T)"
   ]
  },
  {
   "cell_type": "code",
   "execution_count": 217,
   "id": "9ceef625-c129-45d5-8c86-d9b1bfa65779",
   "metadata": {},
   "outputs": [
    {
     "data": {
      "text/plain": [
       "4"
      ]
     },
     "execution_count": 217,
     "metadata": {},
     "output_type": "execute_result"
    }
   ],
   "source": [
    "# Número de fábricas\n",
    "len(J)"
   ]
  },
  {
   "cell_type": "code",
   "execution_count": 218,
   "id": "b198daca-5743-485b-bd2b-9ea8bf166b09",
   "metadata": {},
   "outputs": [
    {
     "data": {
      "text/plain": [
       "6"
      ]
     },
     "execution_count": 218,
     "metadata": {},
     "output_type": "execute_result"
    }
   ],
   "source": [
    "# Número de produtos\n",
    "len(I)"
   ]
  },
  {
   "cell_type": "code",
   "execution_count": 219,
   "id": "549d7945-bfff-435f-9d19-ecf9689d735e",
   "metadata": {},
   "outputs": [
    {
     "data": {
      "text/plain": [
       "74.10999989509583"
      ]
     },
     "execution_count": 219,
     "metadata": {},
     "output_type": "execute_result"
    }
   ],
   "source": [
    "# Tempo de execução em segundos\n",
    "m.Runtime"
   ]
  },
  {
   "cell_type": "code",
   "execution_count": 220,
   "id": "c050182a-6878-4b5d-8a5b-618faf150152",
   "metadata": {},
   "outputs": [
    {
     "data": {
      "text/plain": [
       "67138.46515000309"
      ]
     },
     "execution_count": 220,
     "metadata": {},
     "output_type": "execute_result"
    }
   ],
   "source": [
    "# Valor da função objetivo da melhor solução encontrada (upper bound da minimização)\n",
    "m.ObjVal"
   ]
  },
  {
   "cell_type": "code",
   "execution_count": 221,
   "id": "160d96c6-175f-44d6-ab99-f69a4e5adf98",
   "metadata": {},
   "outputs": [
    {
     "data": {
      "text/plain": [
       "67133.99895709036"
      ]
     },
     "execution_count": 221,
     "metadata": {},
     "output_type": "execute_result"
    }
   ],
   "source": [
    "# Lower bound da minimização\n",
    "m.ObjBound"
   ]
  },
  {
   "cell_type": "code",
   "execution_count": 222,
   "id": "be3fff20-12f8-4fb3-86a7-ca80f96bc893",
   "metadata": {},
   "outputs": [
    {
     "data": {
      "text/plain": [
       "6.652211817404291e-05"
      ]
     },
     "execution_count": 222,
     "metadata": {},
     "output_type": "execute_result"
    }
   ],
   "source": [
    "# Gap da solução\n",
    "m.MIPgap"
   ]
  },
  {
   "cell_type": "code",
   "execution_count": 223,
   "id": "2b939b33-dbd6-483f-8eda-9e035e365f1c",
   "metadata": {},
   "outputs": [
    {
     "data": {
      "text/plain": [
       "2"
      ]
     },
     "execution_count": 223,
     "metadata": {},
     "output_type": "execute_result"
    }
   ],
   "source": [
    "m.Status  # Ver https://www.gurobi.com/documentation/current/refman/optimization_status_codes.html#sec:StatusCodes para interpretar códigos"
   ]
  }
 ],
 "metadata": {
  "kernelspec": {
   "display_name": "Python 3 (ipykernel)",
   "language": "python",
   "name": "python3"
  },
  "language_info": {
   "codemirror_mode": {
    "name": "ipython",
    "version": 3
   },
   "file_extension": ".py",
   "mimetype": "text/x-python",
   "name": "python",
   "nbconvert_exporter": "python",
   "pygments_lexer": "ipython3",
   "version": "3.11.3"
  }
 },
 "nbformat": 4,
 "nbformat_minor": 5
}
