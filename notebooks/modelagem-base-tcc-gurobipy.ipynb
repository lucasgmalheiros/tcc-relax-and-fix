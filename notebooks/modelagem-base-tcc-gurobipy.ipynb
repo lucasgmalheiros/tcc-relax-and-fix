{
 "cells": [
  {
   "cell_type": "code",
   "execution_count": 24,
   "id": "956764c4-b200-458e-9d71-c81bf49cc13b",
   "metadata": {},
   "outputs": [],
   "source": [
    "import gurobipy as gp\n",
    "from gurobipy import GRB\n",
    "import numpy as np"
   ]
  },
  {
   "cell_type": "markdown",
   "id": "52639ada-84bb-4384-811a-2e1ea738d92d",
   "metadata": {},
   "source": [
    "# Leitura de instâncias"
   ]
  },
  {
   "cell_type": "code",
   "execution_count": 25,
   "id": "bdfcc335-c26e-4b06-bec3-0d97e5fc003c",
   "metadata": {},
   "outputs": [],
   "source": [
    "def read_dat_file(file_path):\n",
    "    \"\"\"\"Função para a leitura das instâncias de Mariá\"\"\"\n",
    "    with open(file_path, 'r') as file:\n",
    "        lines = file.readlines()\n",
    "\n",
    "    # 1. Lendo quantidade de itens e períodos\n",
    "    items, periods = map(int, lines[0].split())\n",
    "\n",
    "    # 2. Lendo número de plantas\n",
    "    num_plants = int(lines[1].strip())\n",
    "\n",
    "    # 3. Lendo capacidades das plantas\n",
    "    capacities = [int(lines[i + 2].strip()) for i in range(num_plants)]\n",
    "    capacities = np.tile(capacities, (periods, 1)).T  # Repete as capacidades ao longo dos períodos (deixar na forma j, t)\n",
    "\n",
    "    # 4. Lendo a matriz de produção (tempo de produção, tempo de setup, custo de setup, custo de produção)\n",
    "    production_data = []\n",
    "    start_line = 2 + num_plants\n",
    "    production_time = np.zeros((items, num_plants))  # Inicializar listas para armazenar separadamente os tempos e custos\n",
    "    setup_time = np.zeros((items, num_plants))\n",
    "    setup_cost = np.zeros((items, num_plants))\n",
    "    production_cost = np.zeros((items, num_plants))\n",
    "    for i in range(num_plants * items):  # Preencher as matrizes com os dados lidos\n",
    "        plant = i // items  # Determina a planta\n",
    "        item = i % items    # Determina o item\n",
    "        # Extrair os dados de cada linha\n",
    "        prod_time, set_time, set_cost, prod_cost = map(float, lines[start_line + i].split())\n",
    "        production_time[item, plant] = prod_time  # Preencher as respectivas matrizes\n",
    "        setup_time[item, plant] = set_time\n",
    "        setup_cost[item, plant] = set_cost\n",
    "        production_cost[item, plant] = prod_cost\n",
    "\n",
    "    # 5. Lendo os custos de inventário\n",
    "    inventory_costs_line = start_line + num_plants * items\n",
    "    inventory_costs = list(map(float, lines[inventory_costs_line].split()))  # Lê todos os valores de inventory_costs como uma única lista\n",
    "    inventory_costs = np.array(inventory_costs).reshape(num_plants, -1)  # Divide a lista de custos de inventário por planta\n",
    "    inventory_costs = inventory_costs.T  # Deixa na forma (i, j)\n",
    "\n",
    "    # 6. Lendo a matriz de demanda (12 linhas, 12 colunas)\n",
    "    demand_matrix = []\n",
    "    demand_start_line = inventory_costs_line + 1\n",
    "    \n",
    "    # Leitura inicial das demandas\n",
    "    for i in range(periods):  # Lê as linhas de demandas para os períodos\n",
    "        demands = list(map(int, lines[demand_start_line + i].split()))\n",
    "        demand_matrix.append(demands)\n",
    "    \n",
    "    # Agora vamos dividir os valores de cada linha combinada entre as plantas\n",
    "    final_demand_matrix = []\n",
    "    for demands in demand_matrix:\n",
    "        period_demand = []\n",
    "        for j in range(num_plants):\n",
    "            # Divide a demanda combinada por planta, assumindo que cada planta tem o mesmo número de itens\n",
    "            plant_demand = demands[j*items:(j+1)*items]\n",
    "            period_demand.append(plant_demand)\n",
    "        final_demand_matrix.append(period_demand)\n",
    "    \n",
    "    # Transpor a matriz de demanda para o formato correto (itens, plantas, períodos)\n",
    "    final_demand_matrix = np.array(final_demand_matrix)\n",
    "    final_demand_matrix = np.transpose(final_demand_matrix, (2, 1, 0))  # Converte para o formato (itens, plantas, períodos)\n",
    "\n",
    "    # 7. Reading transfer costs directly from the document as a matrix\n",
    "    transfer_cost_matrix = []\n",
    "    transfer_cost_line = demand_start_line + periods\n",
    "\n",
    "    # Read the matrix of transfer costs line by line\n",
    "    while transfer_cost_line < len(lines):\n",
    "        line = lines[transfer_cost_line].strip()\n",
    "        if line:\n",
    "            # Split the line into individual cost values and convert them to float\n",
    "            row = [float(value) for value in line.split()]\n",
    "            transfer_cost_matrix.append(row)\n",
    "        transfer_cost_line += 1\n",
    "\n",
    "    # Convert to a numpy array (optional, if you want to work with numpy for matrix operations)\n",
    "    transfer_costs = np.array(transfer_cost_matrix)\n",
    "\n",
    "    return {\"items\": items,\n",
    "            \"periods\": periods,\n",
    "            \"num_plants\": num_plants,\n",
    "            \"capacities\": capacities,\n",
    "            \"production_time\": production_time,\n",
    "            \"setup_time\": setup_time,\n",
    "            \"setup_cost\": setup_cost,  \n",
    "            \"production_cost\": production_cost,\n",
    "            \"inventory_costs\": inventory_costs,\n",
    "            \"demand_matrix\": final_demand_matrix,\n",
    "            \"transfer_costs\": transfer_costs}"
   ]
  },
  {
   "cell_type": "code",
   "execution_count": 26,
   "id": "7769846c-052e-42e0-94c6-7121bf1349bd",
   "metadata": {},
   "outputs": [
    {
     "data": {
      "text/plain": [
       "{'items': 10,\n",
       " 'periods': 12,\n",
       " 'num_plants': 2,\n",
       " 'capacities': array([[3069, 3069, 3069, 3069, 3069, 3069, 3069, 3069, 3069, 3069, 3069,\n",
       "         3069],\n",
       "        [2804, 2804, 2804, 2804, 2804, 2804, 2804, 2804, 2804, 2804, 2804,\n",
       "         2804]]),\n",
       " 'production_time': array([[2.4, 1.3],\n",
       "        [3.8, 4.1],\n",
       "        [1.8, 2.6],\n",
       "        [2.2, 3.2],\n",
       "        [4.4, 3.6],\n",
       "        [1.6, 1.9],\n",
       "        [3.8, 4.6],\n",
       "        [4.7, 4.7],\n",
       "        [4.2, 2.2],\n",
       "        [4.9, 1.1]]),\n",
       " 'setup_time': array([[69.1, 66.4],\n",
       "        [23.8, 48.7],\n",
       "        [23.3, 74.5],\n",
       "        [38.6, 16.8],\n",
       "        [48.9, 60.8],\n",
       "        [58.1, 67.8],\n",
       "        [71.5, 51.6],\n",
       "        [57.6, 65.5],\n",
       "        [22.4, 68.5],\n",
       "        [20.6, 44.8]]),\n",
       " 'setup_cost': array([[561.8, 139.1],\n",
       "        [946.3, 871.3],\n",
       "        [898.8,  55.2],\n",
       "        [419.1, 918.5],\n",
       "        [604.3, 937.9],\n",
       "        [643.1, 593.9],\n",
       "        [ 91.2, 143.3],\n",
       "        [821.9, 208.5],\n",
       "        [ 65. , 667.6],\n",
       "        [578.8, 221.5]]),\n",
       " 'production_cost': array([[2.1, 1.6],\n",
       "        [1.8, 2.5],\n",
       "        [2.2, 2. ],\n",
       "        [2. , 2.1],\n",
       "        [1.5, 1.9],\n",
       "        [1.7, 1.7],\n",
       "        [1.7, 1.6],\n",
       "        [2.2, 2. ],\n",
       "        [2.4, 1.5],\n",
       "        [2. , 1.8]]),\n",
       " 'inventory_costs': array([[0.2, 0.3],\n",
       "        [0.4, 0.2],\n",
       "        [0.2, 0.3],\n",
       "        [0.3, 0.2],\n",
       "        [0.3, 0.2],\n",
       "        [0.4, 0.3],\n",
       "        [0.3, 0.4],\n",
       "        [0.2, 0.2],\n",
       "        [0.4, 0.3],\n",
       "        [0.3, 0.3]]),\n",
       " 'demand_matrix': array([[[ 75,  13,  61, 136, 156, 165, 128, 145,  29, 132,  38,  92],\n",
       "         [ 27, 108,  39,  33,  80, 177,  11,  31, 154,  37, 134,  73]],\n",
       " \n",
       "        [[156,  71,  45, 112,  23, 170,  32,  69, 162,  49, 142, 154],\n",
       "         [116,  46,  79, 173, 130,  15, 101, 132, 139,  75,  74, 109]],\n",
       " \n",
       "        [[ 43, 163,  90,  31,   1, 127, 148,  19,  13,  92, 111,  63],\n",
       "         [ 76, 155,   6,  72, 104, 180,  89, 173,  42,  47,  18,  83]],\n",
       " \n",
       "        [[171,  60, 102, 180,  97,  52,  55,  88, 155,   2, 107, 163],\n",
       "         [175, 161,  22,  38, 173,  26, 169,  72, 147,  20,  30,  78]],\n",
       " \n",
       "        [[ 94, 161,  26, 152,  80,  54,   3, 114, 102,  54,  14,  61],\n",
       "         [127,  52,  52, 154,  91, 128,  52,  26,  34, 131, 142, 102]],\n",
       " \n",
       "        [[  4, 167,  82,  89, 110,  68,  44,  49, 180,  40,  53,  33],\n",
       "         [ 25,   8,  73, 178, 126,  70,  12,  15, 177,   5,  87,  46]],\n",
       " \n",
       "        [[ 25, 141,  19,  63,  79, 118, 179,  48, 155,  98, 136,  97],\n",
       "         [ 77,  89,  67,   4,  53, 148,  31,  27, 157, 145,  93, 117]],\n",
       " \n",
       "        [[  9,  27, 130,  90, 137,  74,  50,  53,  47,  99,  64,  76],\n",
       "         [126,  63, 121, 162,  42,  84, 140,  63, 117,  23,  37,   4]],\n",
       " \n",
       "        [[144,   1,  34, 118,  45, 101, 131, 145,  95, 142,  50, 106],\n",
       "         [ 99, 105,  68,  45, 109, 126,  66, 172,  73, 134,  22, 118]],\n",
       " \n",
       "        [[  2, 166,  72,  90,  31, 146, 169, 176,  37,  19,  21, 164],\n",
       "         [123,  17,  81,   9,   1, 104, 153,  14,  51,  20, 167, 130]]]),\n",
       " 'transfer_costs': array([[0.  , 0.21],\n",
       "        [0.21, 0.  ]])}"
      ]
     },
     "metadata": {},
     "output_type": "display_data"
    }
   ],
   "source": [
    "# Exemplo de uso\n",
    "file_path = '../instancias/multi_plant_instances/AAA00_12_2_10.dat'\n",
    "data = read_dat_file(file_path)\n",
    "display(data)"
   ]
  },
  {
   "cell_type": "markdown",
   "id": "2576c1b9-b389-40f2-ae39-33bda1a0a356",
   "metadata": {},
   "source": [
    "# Modelagem"
   ]
  },
  {
   "cell_type": "code",
   "execution_count": 27,
   "id": "f5513369-f935-49de-99a4-6cec0bf7b4db",
   "metadata": {},
   "outputs": [],
   "source": [
    "m = gp.Model('Lot-sizing Sambasivan and Yahya')"
   ]
  },
  {
   "cell_type": "markdown",
   "id": "595f2fa2-1bf1-4ae9-a58f-95422587e232",
   "metadata": {},
   "source": [
    "## Conjuntos"
   ]
  },
  {
   "cell_type": "code",
   "execution_count": 28,
   "id": "337e6777-3f4c-49f3-b1e8-d3547010f4a8",
   "metadata": {},
   "outputs": [],
   "source": [
    "# Produtos (i)\n",
    "I = np.array([_ for _ in range(data['items'])])\n",
    "# Plantas (j)\n",
    "J = np.array([_ for _ in range(data['num_plants'])])\n",
    "# Períodos (t)\n",
    "T = np.array([_ for _ in range(data['periods'])])"
   ]
  },
  {
   "cell_type": "markdown",
   "id": "55ac26fa-edaf-4a2e-bd2a-4f4e1e9ea660",
   "metadata": {},
   "source": [
    "## Parâmetros"
   ]
  },
  {
   "cell_type": "code",
   "execution_count": 29,
   "id": "75ce9cbc-acad-4bac-a3aa-259cce01163e",
   "metadata": {},
   "outputs": [],
   "source": [
    "# Demanda (i, j, t)\n",
    "d = np.array(data['demand_matrix'])\n",
    "# Capacidade (j, t)\n",
    "cap = np.array(data['capacities'])\n",
    "# Tempo de produção (i, j)\n",
    "b = np.array(data['production_time'])\n",
    "# Tempo de setup (i, j)\n",
    "f = np.array(data['setup_time'])\n",
    "# Custo de produção (i, j)\n",
    "c = np.array(data['production_cost'])\n",
    "# Custo de setup (i, j)\n",
    "s = np.array(data['setup_cost'])\n",
    "# Custo de transporte (j, k)\n",
    "r = np.array(data['transfer_costs'])\n",
    "# Custo de estoque (i, j)\n",
    "h = np.array(data['inventory_costs'])"
   ]
  },
  {
   "cell_type": "markdown",
   "id": "c5f5d3c7-7d4a-4176-855e-b24febf323a9",
   "metadata": {},
   "source": [
    "## Variáveis de decisão"
   ]
  },
  {
   "cell_type": "code",
   "execution_count": 30,
   "id": "5143de99-4749-492d-a91d-43ed8c4df221",
   "metadata": {},
   "outputs": [],
   "source": [
    "# Quantidade produzida (i, j, t)\n",
    "X = m.addVars(I, J, T, vtype=GRB.CONTINUOUS, name='X')\n",
    "# Quantidade estocada (i, j, t)\n",
    "Q = m.addVars(I, J, T, vtype=GRB.CONTINUOUS, name='Q')\n",
    "# # Quantidade transportada (i, j, k(um outro j), t)\n",
    "W = m.addVars(I, J, J, T, vtype=GRB.CONTINUOUS, name='W')\n",
    "# # Variável de setup (binária) (i, j, t)\n",
    "Z = m.addVars(I, J, T, vtype=GRB.BINARY, name='Z')"
   ]
  },
  {
   "cell_type": "markdown",
   "id": "acfdabf5-3640-4fdb-9467-3887f426c0a1",
   "metadata": {},
   "source": [
    "## Função objetivo"
   ]
  },
  {
   "cell_type": "code",
   "execution_count": 31,
   "id": "e61bc597-0a2c-4812-9b81-292a570fd5a6",
   "metadata": {},
   "outputs": [],
   "source": [
    "expr_objetivo = sum(sum(sum(c[i, j] * X[i, j, t] + h[i, j] * Q[i, j, t] + s[i, j] * Z[i, j, t] + \n",
    "                            sum(r[j, k] * W[i, j, k, t] for k in J if k != j) for t in T) for j in J) for i in I)\n",
    "m.setObjective(expr_objetivo, sense=GRB.MINIMIZE)"
   ]
  },
  {
   "cell_type": "markdown",
   "id": "47df9ee1-6f26-4817-ab5f-d69a7b88fff5",
   "metadata": {},
   "source": [
    "## Restrições"
   ]
  },
  {
   "cell_type": "code",
   "execution_count": 32,
   "id": "3ae73222-b1d7-494f-b42c-da159098b56f",
   "metadata": {},
   "outputs": [],
   "source": [
    "# Balanço de estoque (revisar comportamento)\n",
    "# Período inicial\n",
    "m.addConstrs((Q[i, j, t] == X[i, j, t] - sum(W[i, j, k, t] for k in J if k != j) + sum(W[i, l, j, t] for l in J if l != j) - d[i, j, t] for i in I for j in J for t in T if t == 0),\n",
    "             name='restricao_balanco_estoque')\n",
    "# Demais períodos\n",
    "m.addConstrs((Q[i, j, t] == Q[i, j, t-1] + X[i, j, t] - sum(W[i, j, k, t] for k in J if k != j) + sum(W[i, l, j, t] for l in J if l != j) - d[i, j, t] for i in I for j in J for t in T if t > 0),\n",
    "             name='restricao_balanco_estoque');"
   ]
  },
  {
   "cell_type": "code",
   "execution_count": 33,
   "id": "b96463c3-af9a-4df4-b8cd-a30971e09361",
   "metadata": {},
   "outputs": [],
   "source": [
    "# Restrição que obriga setup (validar o range do r)\n",
    "m.addConstrs((X[i, j, t] <= min((cap[j, t] - f[i, j]) / b[i, j], sum(sum(d[i, k, r] for r in range(t, T[-1] + 1)) for k in J)) * Z[i, j, t] for i in I for j in J for t in T)\n",
    "             , name='restricao_setup');\n",
    "# m.addConstrs((X[i, j, t] <= sum(sum(d[i, j, b] for b in range(t, len(T))) for j in J) * Z[i, j, t] for i in I for j in J for t in T)\n",
    "#              , name='restricao_setup');"
   ]
  },
  {
   "cell_type": "code",
   "execution_count": 34,
   "id": "9a8cc89f-d774-4dc4-b11e-eb2b9cc4e38c",
   "metadata": {},
   "outputs": [],
   "source": [
    "# Restrição de capacidade\n",
    "m.addConstrs((sum(b[i, j] * X[i, j, t] + f[i, j] * Z[i, j, t] for i in I) <= cap[j, t] for j in J for t in T)\n",
    "             , name='restricao_capacidade');"
   ]
  },
  {
   "cell_type": "markdown",
   "id": "11ecb20e-293d-4bab-ae28-868c052be388",
   "metadata": {},
   "source": [
    "# Resolução"
   ]
  },
  {
   "cell_type": "code",
   "execution_count": 35,
   "id": "91524fee-1939-42e7-9755-ae333346d9a4",
   "metadata": {},
   "outputs": [
    {
     "name": "stdout",
     "output_type": "stream",
     "text": [
      "Set parameter TimeLimit to value 60\n",
      "Gurobi Optimizer version 11.0.3 build v11.0.3rc0 (win64 - Windows 10.0 (19045.2))\n",
      "\n",
      "CPU model: Intel(R) Core(TM) i5-1035G1 CPU @ 1.00GHz, instruction set [SSE2|AVX|AVX2|AVX512]\n",
      "Thread count: 4 physical cores, 8 logical processors, using up to 8 threads\n",
      "\n",
      "Optimize a model with 504 rows, 1200 columns and 2140 nonzeros\n",
      "Model fingerprint: 0xba7263df\n",
      "Variable types: 0 continuous, 1200 integer (240 binary)\n",
      "Coefficient statistics:\n",
      "  Matrix range     [1e+00, 2e+03]\n",
      "  Objective range  [2e-01, 9e+02]\n",
      "  Bounds range     [1e+00, 1e+00]\n",
      "  RHS range        [1e+00, 3e+03]\n",
      "Presolve removed 0 rows and 260 columns\n",
      "Presolve time: 0.00s\n",
      "Presolved: 504 rows, 940 columns, 2120 nonzeros\n",
      "Variable types: 0 continuous, 940 integer (240 binary)\n",
      "\n",
      "Root relaxation: objective 5.026663e+04, 996 iterations, 0.01 seconds (0.00 work units)\n",
      "\n",
      "    Nodes    |    Current Node    |     Objective Bounds      |     Work\n",
      " Expl Unexpl |  Obj  Depth IntInf | Incumbent    BestBd   Gap | It/Node Time\n",
      "\n",
      "     0     0 50266.6271    0  165          - 50266.6271      -     -    0s\n",
      "     0     0 56495.0032    0  402          - 56495.0032      -     -    0s\n",
      "     0     0 56533.3506    0  388          - 56533.3506      -     -    0s\n",
      "H    0     0                    102118.62000 56533.3506  44.6%     -    0s\n",
      "     0     0 59888.5359    0  401 102118.620 59888.5359  41.4%     -    0s\n",
      "H    0     0                    89117.710000 59888.5359  32.8%     -    0s\n",
      "     0     0 60071.5357    0  377 89117.7100 60071.5357  32.6%     -    0s\n",
      "     0     0 60092.6486    0  356 89117.7100 60092.6486  32.6%     -    0s\n",
      "     0     0 60096.9726    0  352 89117.7100 60096.9726  32.6%     -    0s\n",
      "     0     0 60599.5555    0  376 89117.7100 60599.5555  32.0%     -    0s\n",
      "H    0     0                    88695.210000 60607.4811  31.7%     -    0s\n",
      "     0     0 60789.6863    0  345 88695.2100 60789.6863  31.5%     -    0s\n",
      "     0     0 60816.6898    0  343 88695.2100 60816.6898  31.4%     -    0s\n",
      "     0     0 60827.3619    0  322 88695.2100 60827.3619  31.4%     -    0s\n",
      "     0     0 61097.0283    0  391 88695.2100 61097.0283  31.1%     -    0s\n",
      "H    0     0                    88686.110000 61107.1490  31.1%     -    0s\n",
      "H    0     0                    88562.670000 61107.1490  31.0%     -    0s\n",
      "     0     0 61188.6194    0  412 88562.6700 61188.6194  30.9%     -    0s\n",
      "     0     0 61210.3193    0  404 88562.6700 61210.3193  30.9%     -    0s\n",
      "     0     0 61215.8438    0  394 88562.6700 61215.8438  30.9%     -    0s\n",
      "     0     0 61305.0029    0  394 88562.6700 61305.0029  30.8%     -    0s\n",
      "H    0     0                    88553.270000 61306.2752  30.8%     -    0s\n",
      "     0     0 61326.0155    0  395 88553.2700 61326.0155  30.7%     -    0s\n",
      "     0     0 61330.0349    0  437 88553.2700 61330.0349  30.7%     -    0s\n",
      "     0     0 61375.9373    0  424 88553.2700 61375.9373  30.7%     -    0s\n",
      "     0     0 61376.3351    0  422 88553.2700 61376.3351  30.7%     -    0s\n",
      "H    0     0                    88508.130000 61376.3351  30.7%     -    0s\n",
      "     0     2 61376.3351    0  412 88508.1300 61376.3351  30.7%     -    0s\n",
      "H   31    39                    88115.130000 61586.3587  30.1%   129    0s\n",
      "H   64    72                    86988.540000 61586.3587  29.2%   112    1s\n",
      "H   97   104                    86970.010000 61586.3587  29.2%  99.4    1s\n",
      "H  100   104                    86889.230000 61586.3587  29.1%  98.3    1s\n",
      "H  105   116                    86618.320000 61586.3587  28.9%  97.2    1s\n",
      "H  127   141                    86232.450000 61586.3587  28.6%  90.5    1s\n",
      "H  130   141                    85649.870000 61586.3587  28.1%  89.9    1s\n",
      "H  132   141                    85233.290000 61586.3587  27.7%  89.8    1s\n",
      "H  165   179                    85213.580000 61586.3587  27.7%  84.5    1s\n",
      "H  167   179                    85208.240000 61586.3587  27.7%  84.5    1s\n",
      "H  170   179                    84261.830000 61586.3587  26.9%  83.8    1s\n",
      "H  200   212                    83878.950000 61586.3587  26.6%  78.9    1s\n",
      "H  237   248                    83757.500000 61586.3587  26.5%  72.6    1s\n",
      "H  240   248                    83644.660000 61586.3587  26.4%  72.5    1s\n",
      "H  242   248                    83367.090000 61586.3587  26.1%  72.3    1s\n",
      "H  283   288                    82317.610000 61586.3587  25.2%  65.9    1s\n",
      "H  286   288                    81964.970000 61586.3587  24.9%  65.8    1s\n",
      "H  460   444                    68168.040000 61586.3587  9.66%  54.4    2s\n",
      "H  497   470                    68135.340000 61588.9602  9.61%  53.7    2s\n",
      "H  501   470                    68120.540000 61588.9602  9.59%  53.6    2s\n",
      "H 1149  1037                    68106.440000 61794.9688  9.27%  44.2    3s\n",
      "H 1153   938                    68105.240000 61794.9688  9.27%  44.0    3s\n",
      "  1168   948 67122.5693   97  423 68105.2400 61918.1755  9.08%  43.5    5s\n",
      "H 1171   902                    68105.140000 62061.4460  8.87%  43.3    5s\n",
      "H 1185   865                    68004.840000 62159.4048  8.60%  42.8    6s\n",
      "H 1223   848                    67999.740000 62413.3062  8.22%  50.3    7s\n",
      "H 1330   881                    67997.940000 62413.3062  8.21%  55.5    7s\n",
      "H 1332   841                    67994.900000 62413.3062  8.21%  55.8    7s\n",
      "H 1335   802                    67795.980000 62413.3062  7.94%  55.9    7s\n",
      "H 1367   796                    67793.880000 62413.3062  7.94%  57.8    7s\n",
      "H 1368   761                    67784.580000 62413.3062  7.92%  57.9    7s\n",
      "H 1370   729                    67472.940000 62413.3062  7.50%  57.9    7s\n",
      "H 1378   703                    67349.000000 62413.3062  7.33%  58.4    8s\n",
      "H 1381   673                    65860.070000 62413.3062  5.23%  58.5    8s\n",
      "H 1382   646                    65465.530000 62413.3062  4.66%  58.6    8s\n",
      "H 1477   690                    65465.520000 62413.3062  4.66%  61.6    8s\n",
      "H 1481   664                    65447.830000 62413.3062  4.64%  61.8    8s\n",
      "H 1484   640                    65369.380000 62413.3062  4.52%  61.8    8s\n",
      "  1805   830 64190.0908   57  208 65369.3800 62413.3062  4.52%  62.7   10s\n",
      "H 2870  1429                    65357.980000 62416.9556  4.50%  56.5   11s\n",
      "H 4047  2334                    65351.680000 62572.1549  4.25%  51.9   14s\n",
      "H 4602  2766                    65349.650000 62580.6399  4.24%  49.7   14s\n",
      "H 4610  2692                    65220.060000 62580.6399  4.05%  49.8   14s\n",
      "H 4612  2651                    65156.330000 62580.6399  3.95%  49.8   14s\n",
      "  4617  2767 63210.4242   31  323 65156.3300 62580.6399  3.95%  49.8   15s\n",
      "H 7123  4500                    65155.630000 62665.7271  3.82%  50.0   19s\n",
      "H 7140  4500                    65155.530000 62665.7271  3.82%  50.0   19s\n",
      "H 7146  4500                    65155.340000 62665.7271  3.82%  50.0   19s\n",
      "H 7181  4438                    65089.320000 62665.7271  3.72%  49.9   19s\n",
      "H 7194  4297                    64999.600000 62665.7271  3.59%  49.9   19s\n",
      "  7204  4541 63981.0249   31  349 64999.6000 62665.7271  3.59%  49.9   20s\n",
      "H 8121  5057                    64998.000000 62692.6749  3.55%  49.7   22s\n",
      "  9639  6255 63075.8124   34  286 64998.0000 62729.6580  3.49%  49.0   25s\n",
      "H10796  7128                    64996.070000 62753.6997  3.45%  49.2   27s\n",
      "H10895  5666                    64547.430000 62754.6290  2.78%  49.1   27s\n",
      " 12033  6429 64083.0129   41  243 64547.4300 62783.6169  2.73%  48.9   30s\n",
      "H14503  7835                    64523.670000 62823.2884  2.64%  48.8   37s\n",
      "H14684  7835                    64523.650000 62828.6239  2.63%  48.8   37s\n",
      " 15572  8727 63832.1304   32  368 64523.6500 62839.9092  2.61%  49.0   40s\n",
      "H16821  9124                    64523.450000 62854.3702  2.59%  49.5   42s\n",
      "H17766 10040                    64523.360000 62867.9946  2.57%  49.3   47s\n",
      "H17848 10039                    64522.960000 62870.5828  2.56%  49.3   47s\n",
      " 19291 11405 63565.9909   43  282 64522.9600 62885.2311  2.54%  49.2   51s\n",
      " 21032 12386 63532.0765   26  379 64522.9600 62901.0139  2.51%  49.0   55s\n",
      "\n",
      "Cutting planes:\n",
      "  Gomory: 13\n",
      "  Cover: 12\n",
      "  Implied bound: 12\n",
      "  Projected implied bound: 10\n",
      "  MIR: 322\n",
      "  StrongCG: 1\n",
      "  Flow cover: 394\n",
      "  Flow path: 183\n",
      "  Inf proof: 2\n",
      "  Zero half: 1\n",
      "  Relax-and-lift: 2\n",
      "\n",
      "Explored 24125 nodes (1202839 simplex iterations) in 60.03 seconds (28.30 work units)\n",
      "Thread count was 8 (of 8 available processors)\n",
      "\n",
      "Solution count 10: 64523 64523.4 64523.5 ... 65089.3\n",
      "\n",
      "Time limit reached\n",
      "Best objective 6.452296000000e+04, best bound 6.293396204801e+04, gap 2.4627%\n"
     ]
    }
   ],
   "source": [
    "# Critérios de parada\n",
    "m.Params.timelimit = 60  # Tempo (default = inf)\n",
    "# m.Params.MIPgap = 0.01  # Gap de otimalidade (default = 0.0001 = 0.01%)\n",
    "\n",
    "# Otimização\n",
    "m.optimize()"
   ]
  },
  {
   "cell_type": "code",
   "execution_count": 36,
   "id": "5417b64a-fe6b-43f0-be06-9abdcdfb4e2f",
   "metadata": {},
   "outputs": [
    {
     "data": {
      "text/plain": [
       "12"
      ]
     },
     "execution_count": 36,
     "metadata": {},
     "output_type": "execute_result"
    }
   ],
   "source": [
    "# Número de períodos da instância\n",
    "len(T)"
   ]
  },
  {
   "cell_type": "code",
   "execution_count": 37,
   "id": "9ceef625-c129-45d5-8c86-d9b1bfa65779",
   "metadata": {},
   "outputs": [
    {
     "data": {
      "text/plain": [
       "2"
      ]
     },
     "execution_count": 37,
     "metadata": {},
     "output_type": "execute_result"
    }
   ],
   "source": [
    "# Número de fábricas\n",
    "len(J)"
   ]
  },
  {
   "cell_type": "code",
   "execution_count": 38,
   "id": "b198daca-5743-485b-bd2b-9ea8bf166b09",
   "metadata": {},
   "outputs": [
    {
     "data": {
      "text/plain": [
       "10"
      ]
     },
     "execution_count": 38,
     "metadata": {},
     "output_type": "execute_result"
    }
   ],
   "source": [
    "# Número de produtos\n",
    "len(I)"
   ]
  },
  {
   "cell_type": "code",
   "execution_count": 39,
   "id": "549d7945-bfff-435f-9d19-ecf9689d735e",
   "metadata": {},
   "outputs": [
    {
     "data": {
      "text/plain": [
       "60.037999868392944"
      ]
     },
     "execution_count": 39,
     "metadata": {},
     "output_type": "execute_result"
    }
   ],
   "source": [
    "# Tempo de execução em segundos\n",
    "m.Runtime"
   ]
  },
  {
   "cell_type": "code",
   "execution_count": 40,
   "id": "4979d2e1-caf3-4ffa-b443-f1dbcb1e4a08",
   "metadata": {},
   "outputs": [
    {
     "data": {
      "text/plain": [
       "'Lot-sizing Sambasivan and Yahya'"
      ]
     },
     "execution_count": 40,
     "metadata": {},
     "output_type": "execute_result"
    }
   ],
   "source": [
    "# Nome do modelo\n",
    "m.ModelName"
   ]
  },
  {
   "cell_type": "code",
   "execution_count": 41,
   "id": "c050182a-6878-4b5d-8a5b-618faf150152",
   "metadata": {},
   "outputs": [
    {
     "data": {
      "text/plain": [
       "64522.96000000001"
      ]
     },
     "execution_count": 41,
     "metadata": {},
     "output_type": "execute_result"
    }
   ],
   "source": [
    "# Valor da função objetivo da melhor solução encontrada (upper bound da minimização)\n",
    "m.ObjVal"
   ]
  },
  {
   "cell_type": "code",
   "execution_count": 42,
   "id": "160d96c6-175f-44d6-ab99-f69a4e5adf98",
   "metadata": {},
   "outputs": [
    {
     "data": {
      "text/plain": [
       "62933.96204801117"
      ]
     },
     "execution_count": 42,
     "metadata": {},
     "output_type": "execute_result"
    }
   ],
   "source": [
    "# Lower bound da minimização\n",
    "m.ObjBound"
   ]
  },
  {
   "cell_type": "code",
   "execution_count": 43,
   "id": "be3fff20-12f8-4fb3-86a7-ca80f96bc893",
   "metadata": {},
   "outputs": [
    {
     "data": {
      "text/plain": [
       "0.024626860763809294"
      ]
     },
     "execution_count": 43,
     "metadata": {},
     "output_type": "execute_result"
    }
   ],
   "source": [
    "# Gap da solução\n",
    "m.MIPgap"
   ]
  },
  {
   "cell_type": "code",
   "execution_count": 44,
   "id": "2b939b33-dbd6-483f-8eda-9e035e365f1c",
   "metadata": {},
   "outputs": [
    {
     "data": {
      "text/plain": [
       "9"
      ]
     },
     "execution_count": 44,
     "metadata": {},
     "output_type": "execute_result"
    }
   ],
   "source": [
    "m.Status  # Ver https://www.gurobi.com/documentation/current/refman/optimization_status_codes.html#sec:StatusCodes para interpretar códigos"
   ]
  }
 ],
 "metadata": {
  "kernelspec": {
   "display_name": "venv",
   "language": "python",
   "name": "python3"
  },
  "language_info": {
   "codemirror_mode": {
    "name": "ipython",
    "version": 3
   },
   "file_extension": ".py",
   "mimetype": "text/x-python",
   "name": "python",
   "nbconvert_exporter": "python",
   "pygments_lexer": "ipython3",
   "version": "3.11.3"
  }
 },
 "nbformat": 4,
 "nbformat_minor": 5
}
