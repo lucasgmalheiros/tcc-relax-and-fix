{
 "cells": [
  {
   "cell_type": "code",
   "execution_count": 1,
   "id": "956764c4-b200-458e-9d71-c81bf49cc13b",
   "metadata": {},
   "outputs": [],
   "source": [
    "import gurobipy as gp\n",
    "from gurobipy import GRB\n",
    "import numpy as np"
   ]
  },
  {
   "cell_type": "markdown",
   "id": "52639ada-84bb-4384-811a-2e1ea738d92d",
   "metadata": {},
   "source": [
    "# Leitura de instâncias"
   ]
  },
  {
   "cell_type": "code",
   "execution_count": 2,
   "id": "11301d1f-0aef-4c96-b33e-85db4a44158e",
   "metadata": {
    "scrolled": true
   },
   "outputs": [],
   "source": [
    "### VERSÃO ORIGINAL\n",
    "def read_dat_file(file_path):\n",
    "    \"\"\"\"Função para a leitura das instâncias de Mariá\"\"\"\n",
    "    with open(file_path, 'r') as file:\n",
    "        lines = file.readlines()\n",
    "\n",
    "    # 1. Lendo quantidade de itens e períodos\n",
    "    items, periods = map(int, lines[0].split())\n",
    "\n",
    "    # 2. Lendo número de plantas\n",
    "    num_plants = int(lines[1].strip())\n",
    "\n",
    "    # 3. Lendo capacidades das plantas\n",
    "    capacities = [int(lines[i + 2].strip()) for i in range(num_plants)]\n",
    "    capacities = np.tile(capacities, (periods, 1)).T  # Repete as capacidades ao longo dos períodos (deixar na forma j, t)\n",
    "\n",
    "    # 4. Lendo a matriz de produção (tempo de produção, tempo de setup, custo de setup, custo de produção)\n",
    "    production_data = []\n",
    "    start_line = 2 + num_plants\n",
    "    production_time = np.zeros((items, num_plants))  # Inicializar listas para armazenar separadamente os tempos e custos\n",
    "    setup_time = np.zeros((items, num_plants))\n",
    "    setup_cost = np.zeros((items, num_plants))\n",
    "    production_cost = np.zeros((items, num_plants))\n",
    "    for i in range(num_plants * items):  # Preencher as matrizes com os dados lidos\n",
    "        plant = i // items  # Determina a planta\n",
    "        item = i % items    # Determina o item\n",
    "        # Extrair os dados de cada linha\n",
    "        prod_time, set_time, set_cost, prod_cost = map(float, lines[start_line + i].split())\n",
    "        production_time[item, plant] = prod_time  # Preencher as respectivas matrizes\n",
    "        setup_time[item, plant] = set_time\n",
    "        setup_cost[item, plant] = set_cost\n",
    "        production_cost[item, plant] = prod_cost\n",
    "\n",
    "    # 5. Lendo os custos de inventário\n",
    "    inventory_costs_line = start_line + num_plants * items\n",
    "    inventory_costs = list(map(float, lines[inventory_costs_line].split()))  # Lê todos os valores de inventory_costs como uma única lista\n",
    "    inventory_costs = np.array(inventory_costs).reshape(num_plants, -1)  # Divide a lista de custos de inventário por planta\n",
    "    inventory_costs = inventory_costs.T  # Deixa na forma (i, j)\n",
    "\n",
    "    # 6. Lendo a matriz de demanda (12 linhas, 12 colunas)\n",
    "    demand_matrix = []\n",
    "    demand_start_line = inventory_costs_line + 1\n",
    "\n",
    "    # Verifica se a matriz de demanda está na forma padrão\n",
    "    num_demand_lines = 0\n",
    "    for i in range(demand_start_line, len(lines)):\n",
    "        if lines[i].strip():  # Se a linha não estiver vazia, contamos como linha de demanda\n",
    "            num_demand_lines += 1\n",
    "        else:\n",
    "            break  # Interrompe se encontrar uma linha vazia (ou um bloco separado)\n",
    "    \n",
    "    # Calcula o multiplicador, caso tenha mais linhas do que períodos\n",
    "    if num_demand_lines == periods * 2:\n",
    "        multiplier = 2  # A matriz de demanda tem o dobro de linhas\n",
    "    else:\n",
    "        multiplier = 1  # A matriz de demanda tem o número esperado de linhas (T)\n",
    "    \n",
    "    # Leitura inicial das demandas\n",
    "    for i in range(periods * multiplier):  # Lê as linhas de demandas para os períodos\n",
    "        demands = list(map(int, lines[demand_start_line + i].split()))\n",
    "        demand_matrix.append(demands)\n",
    "\n",
    "    print(demand_matrix)\n",
    "    \n",
    "    # Agora, se multiplier == 2, precisamos combinar as linhas 1-12 com 13-24 corretamente\n",
    "    if multiplier == 2:\n",
    "        new_demand_matrix = []\n",
    "        for i in range(periods):  # Para cada linha do primeiro bloco (1-12), combinar com (13-24)\n",
    "            combined_demand = demand_matrix[i] + demand_matrix[i + periods]  # Junta a linha i com i+12\n",
    "            new_demand_matrix.append(combined_demand)\n",
    "        demand_matrix = new_demand_matrix  # Substitui a matriz de demandas pela combinada\n",
    "    \n",
    "    # Agora vamos dividir os valores de cada linha combinada entre as plantas\n",
    "    final_demand_matrix = []\n",
    "    for demands in demand_matrix:\n",
    "        period_demand = []\n",
    "        for j in range(num_plants):\n",
    "            # Divide a demanda combinada por planta, assumindo que cada planta tem o mesmo número de itens\n",
    "            plant_demand = demands[j*items:(j+1)*items]\n",
    "            period_demand.append(plant_demand)\n",
    "        final_demand_matrix.append(period_demand)\n",
    "    \n",
    "    # Transpor a matriz de demanda para o formato correto (itens, plantas, períodos)\n",
    "    final_demand_matrix = np.array(final_demand_matrix)\n",
    "    final_demand_matrix = np.transpose(final_demand_matrix, (2, 1, 0))  # Converte para o formato (itens, plantas, períodos)\n",
    "\n",
    "    # 7. Lendo os custos de transferência\n",
    "    transfer_costs = []\n",
    "    transfer_cost_line = demand_start_line + periods * multiplier\n",
    "    while transfer_cost_line < len(lines):\n",
    "        line = lines[transfer_cost_line].strip()  # Verificar se a linha não está vazia antes de tentar ler\n",
    "        if line:\n",
    "            transfer_costs.append(float(line))\n",
    "        transfer_cost_line += 1\n",
    "\n",
    "    def create_transfer_cost_matrix(transfer_costs, num_plants):  # Criar a matriz de custos de transferência (simétrica)\n",
    "        transfer_cost_matrix = np.zeros((num_plants, num_plants))  # Inicializar a matriz de zeros\n",
    "        if len(transfer_costs) == 1:\n",
    "            transfer_cost = transfer_costs[0]  # Se houver apenas um custo de transferência, aplicar para todos os pares de plantas\n",
    "            for j in range(num_plants):\n",
    "                for k in range(j + 1, num_plants):\n",
    "                    transfer_cost_matrix[j, k] = transfer_cost\n",
    "                    transfer_cost_matrix[k, j] = transfer_cost\n",
    "        else:\n",
    "            idx = 0  # Se houver múltiplos custos, aplicar entre pares de plantas\n",
    "            for j in range(num_plants):\n",
    "                for k in range(j + 1, num_plants):\n",
    "                    transfer_cost_matrix[j, k] = transfer_costs[idx]\n",
    "                    transfer_cost_matrix[k, j] = transfer_costs[idx]\n",
    "                    idx += 1\n",
    "        return transfer_cost_matrix\n",
    "\n",
    "    transfer_costs = create_transfer_cost_matrix(transfer_costs, num_plants)\n",
    "\n",
    "    return {\"items\": items,\n",
    "            \"periods\": periods,\n",
    "            \"num_plants\": num_plants,\n",
    "            \"capacities\": capacities,\n",
    "            \"production_time\": production_time,\n",
    "            \"setup_time\": setup_time,\n",
    "            \"setup_cost\": setup_cost,  \n",
    "            \"production_cost\": production_cost,\n",
    "            \"inventory_costs\": inventory_costs,\n",
    "            \"demand_matrix\": final_demand_matrix,\n",
    "            \"transfer_costs\": transfer_costs}"
   ]
  },
  {
   "cell_type": "code",
   "execution_count": 3,
   "id": "bdfcc335-c26e-4b06-bec3-0d97e5fc003c",
   "metadata": {},
   "outputs": [],
   "source": [
    "def read_dat_file(file_path):\n",
    "    \"\"\"\"Função para a leitura das instâncias de Mariá\"\"\"\n",
    "    with open(file_path, 'r') as file:\n",
    "        lines = file.readlines()\n",
    "\n",
    "    # 1. Lendo quantidade de itens e períodos\n",
    "    items, periods = map(int, lines[0].split())\n",
    "\n",
    "    # 2. Lendo número de plantas\n",
    "    num_plants = int(lines[1].strip())\n",
    "\n",
    "    # 3. Lendo capacidades das plantas\n",
    "    capacities = [int(lines[i + 2].strip()) for i in range(num_plants)]\n",
    "    capacities = np.tile(capacities, (periods, 1)).T  # Repete as capacidades ao longo dos períodos (deixar na forma j, t)\n",
    "\n",
    "    # 4. Lendo a matriz de produção (tempo de produção, tempo de setup, custo de setup, custo de produção)\n",
    "    production_data = []\n",
    "    start_line = 2 + num_plants\n",
    "    production_time = np.zeros((items, num_plants))  # Inicializar listas para armazenar separadamente os tempos e custos\n",
    "    setup_time = np.zeros((items, num_plants))\n",
    "    setup_cost = np.zeros((items, num_plants))\n",
    "    production_cost = np.zeros((items, num_plants))\n",
    "    for i in range(num_plants * items):  # Preencher as matrizes com os dados lidos\n",
    "        plant = i // items  # Determina a planta\n",
    "        item = i % items    # Determina o item\n",
    "        # Extrair os dados de cada linha\n",
    "        prod_time, set_time, set_cost, prod_cost = map(float, lines[start_line + i].split())\n",
    "        production_time[item, plant] = prod_time  # Preencher as respectivas matrizes\n",
    "        setup_time[item, plant] = set_time\n",
    "        setup_cost[item, plant] = set_cost\n",
    "        production_cost[item, plant] = prod_cost\n",
    "\n",
    "    # 5. Lendo os custos de inventário\n",
    "    inventory_costs_line = start_line + num_plants * items\n",
    "    inventory_costs = list(map(float, lines[inventory_costs_line].split()))  # Lê todos os valores de inventory_costs como uma única lista\n",
    "    inventory_costs = np.array(inventory_costs).reshape(num_plants, -1)  # Divide a lista de custos de inventário por planta\n",
    "    inventory_costs = inventory_costs.T  # Deixa na forma (i, j)\n",
    "\n",
    "    # 6. Lendo a matriz de demanda (12 linhas, 12 colunas)\n",
    "    demand_matrix = []\n",
    "    demand_start_line = inventory_costs_line + 1\n",
    "\n",
    "    # Verifica se a matriz de demanda está na forma padrão\n",
    "    num_demand_lines = 0\n",
    "    for i in range(demand_start_line, len(lines)):\n",
    "        if lines[i].strip():  # Se a linha não estiver vazia, contamos como linha de demanda\n",
    "            num_demand_lines += 1\n",
    "        else:\n",
    "            break  # Interrompe se encontrar uma linha vazia (ou um bloco separado)\n",
    "    \n",
    "    # Calcula o multiplicador, caso tenha mais linhas do que períodos\n",
    "    if num_demand_lines == periods * 2:\n",
    "        multiplier = 2  # A matriz de demanda tem o dobro de linhas\n",
    "    else:\n",
    "        multiplier = 1  # A matriz de demanda tem o número esperado de linhas (T)\n",
    "    \n",
    "    # Leitura inicial das demandas\n",
    "    for i in range(periods * multiplier):  # Lê as linhas de demandas para os períodos\n",
    "        demands = list(map(int, lines[demand_start_line + i].split()))\n",
    "        demand_matrix.append(demands)\n",
    "\n",
    "    # print('Linha 1:', demand_matrix[0])\n",
    "    # print('Linha 13:', demand_matrix[periods], '\\n\\n')\n",
    "    \n",
    "    # Agora, se multiplier == 2, precisamos combinar as linhas 1-12 com 13-24 corretamente\n",
    "    if multiplier == 2:\n",
    "        new_demand_matrix = []\n",
    "        \n",
    "        for i in range(periods):  # Para cada linha do primeiro bloco (1-12)\n",
    "            combined_period_demand = []  # Lista única para armazenar a demanda combinada para o período i\n",
    "            \n",
    "            # Quebrar a linha i entre as plantas\n",
    "            demands_first_part = demand_matrix[i]\n",
    "            demands_second_part = demand_matrix[i + periods]  # Linha correspondente do segundo bloco\n",
    "            \n",
    "            # Calcular o número de elementos por planta\n",
    "            elements_per_plant_first = len(demands_first_part) // num_plants\n",
    "            elements_per_plant_second = len(demands_second_part) // num_plants\n",
    "            \n",
    "            # Concatenar as demandas para cada planta\n",
    "            for j in range(num_plants):\n",
    "                # Particionar a demanda de cada planta\n",
    "                plant_demand_first = demands_first_part[j*elements_per_plant_first:(j+1)*elements_per_plant_first]\n",
    "                plant_demand_second = demands_second_part[j*elements_per_plant_second:(j+1)*elements_per_plant_second]\n",
    "                \n",
    "                # Concatenar as demandas da planta j (primeiro e segundo blocos) e adicionar diretamente à lista única\n",
    "                combined_period_demand.extend(plant_demand_first + plant_demand_second)\n",
    "            \n",
    "            # Adicionar a demanda ajustada (em formato de lista única) do período à nova matriz de demanda\n",
    "            new_demand_matrix.append(combined_period_demand)\n",
    "        \n",
    "        # Substitui a matriz de demandas pela combinada e particionada por planta\n",
    "        demand_matrix = new_demand_matrix\n",
    "    \n",
    "    # print('Linha 1 output após junção:', demand_matrix[0])\n",
    "\n",
    "    # Agora vamos dividir os valores de cada linha combinada entre as plantas\n",
    "    final_demand_matrix = []\n",
    "    for demands in demand_matrix:\n",
    "        period_demand = []\n",
    "        for j in range(num_plants):\n",
    "            # Divide a demanda combinada por planta, assumindo que cada planta tem o mesmo número de itens\n",
    "            plant_demand = demands[j*items:(j+1)*items]\n",
    "            period_demand.append(plant_demand)\n",
    "        final_demand_matrix.append(period_demand)\n",
    "    \n",
    "    # Transpor a matriz de demanda para o formato correto (itens, plantas, períodos)\n",
    "    final_demand_matrix = np.array(final_demand_matrix)\n",
    "    # print(final_demand_matrix)\n",
    "    final_demand_matrix = np.transpose(final_demand_matrix, (2, 1, 0))  # Converte para o formato (itens, plantas, períodos)\n",
    "\n",
    "    # 7. Lendo os custos de transferência\n",
    "    transfer_costs = []\n",
    "    transfer_cost_line = demand_start_line + periods * multiplier\n",
    "    while transfer_cost_line < len(lines):\n",
    "        line = lines[transfer_cost_line].strip()  # Verificar se a linha não está vazia antes de tentar ler\n",
    "        if line:\n",
    "            transfer_costs.append(float(line))\n",
    "        transfer_cost_line += 1\n",
    "\n",
    "    def create_transfer_cost_matrix(transfer_costs, num_plants):  # Criar a matriz de custos de transferência (simétrica)\n",
    "        transfer_cost_matrix = np.zeros((num_plants, num_plants))  # Inicializar a matriz de zeros\n",
    "        if len(transfer_costs) == 1:\n",
    "            transfer_cost = transfer_costs[0]  # Se houver apenas um custo de transferência, aplicar para todos os pares de plantas\n",
    "            for j in range(num_plants):\n",
    "                for k in range(j + 1, num_plants):\n",
    "                    transfer_cost_matrix[j, k] = transfer_cost\n",
    "                    transfer_cost_matrix[k, j] = transfer_cost\n",
    "        else:\n",
    "            idx = 0  # Se houver múltiplos custos, aplicar entre pares de plantas\n",
    "            for j in range(num_plants):\n",
    "                for k in range(j + 1, num_plants):\n",
    "                    transfer_cost_matrix[j, k] = transfer_costs[idx]\n",
    "                    transfer_cost_matrix[k, j] = transfer_costs[idx]\n",
    "                    idx += 1\n",
    "        return transfer_cost_matrix\n",
    "\n",
    "    transfer_costs = create_transfer_cost_matrix(transfer_costs, num_plants)\n",
    "\n",
    "    return {\"items\": items,\n",
    "            \"periods\": periods,\n",
    "            \"num_plants\": num_plants,\n",
    "            \"capacities\": capacities,\n",
    "            \"production_time\": production_time,\n",
    "            \"setup_time\": setup_time,\n",
    "            \"setup_cost\": setup_cost,  \n",
    "            \"production_cost\": production_cost,\n",
    "            \"inventory_costs\": inventory_costs,\n",
    "            \"demand_matrix\": final_demand_matrix,\n",
    "            \"transfer_costs\": transfer_costs}"
   ]
  },
  {
   "cell_type": "code",
   "execution_count": 4,
   "id": "7769846c-052e-42e0-94c6-7121bf1349bd",
   "metadata": {
    "scrolled": true
   },
   "outputs": [
    {
     "data": {
      "text/plain": [
       "{'items': 6,\n",
       " 'periods': 12,\n",
       " 'num_plants': 2,\n",
       " 'capacities': array([[1541, 1541, 1541, 1541, 1541, 1541, 1541, 1541, 1541, 1541, 1541,\n",
       "         1541],\n",
       "        [1107, 1107, 1107, 1107, 1107, 1107, 1107, 1107, 1107, 1107, 1107,\n",
       "         1107]]),\n",
       " 'production_time': array([[1.1, 2.4],\n",
       "        [1.7, 1.8],\n",
       "        [1.8, 1.2],\n",
       "        [3.8, 2.8],\n",
       "        [4.8, 1.1],\n",
       "        [2.9, 2.3]]),\n",
       " 'setup_time': array([[52. , 74.2],\n",
       "        [54.5, 51.3],\n",
       "        [17.7, 21.2],\n",
       "        [66.5, 25.6],\n",
       "        [16. , 56.2],\n",
       "        [50.3, 26.4]]),\n",
       " 'setup_cost': array([[ 78.1, 870.5],\n",
       "        [819.8, 240.3],\n",
       "        [241.2, 185. ],\n",
       "        [601.2, 139.1],\n",
       "        [938.2, 898.8],\n",
       "        [506.7, 918.5]]),\n",
       " 'production_cost': array([[2.4, 2. ],\n",
       "        [1.5, 2.2],\n",
       "        [1.5, 2.3],\n",
       "        [2. , 1.6],\n",
       "        [2.5, 2.2],\n",
       "        [1.5, 2.1]]),\n",
       " 'inventory_costs': array([[0.2, 0.3],\n",
       "        [0.3, 0.3],\n",
       "        [0.3, 0.3],\n",
       "        [0.3, 0.3],\n",
       "        [0.3, 0.4],\n",
       "        [0.3, 0.3]]),\n",
       " 'demand_matrix': array([[[ 64, 162,  11, 154, 128,  26, 139, 101,  36,  24,  70, 178],\n",
       "         [154, 160,  51,   7,  88,  62, 104,  16,  60,  44,  89, 101]],\n",
       " \n",
       "        [[ 53,  70,  97,   5, 152, 101, 118, 137,  26, 129,  40, 158],\n",
       "         [ 25,  81,  18, 129,  33,  71,  38,  78,   5,  21,  51,  72]],\n",
       " \n",
       "        [[127, 169, 160, 109, 167, 127, 166, 151, 143,  22,  56, 160],\n",
       "         [ 66, 120,  67,  80, 135, 111,  30, 179, 151,  88,  62,  89]],\n",
       " \n",
       "        [[175,  16,   2,  89,  74, 155,  42, 170,  93,   3,  24,   8],\n",
       "         [117,  89,  32, 172,  71,  37, 153, 177,   3, 161,  44,   8]],\n",
       " \n",
       "        [[143,   1,  26, 115,  75, 174, 126,  24,  76, 125,  98, 122],\n",
       "         [155,  22,   0,  96,  79, 109,  78, 136,  44,  30,  79, 129]],\n",
       " \n",
       "        [[ 12,  70, 162,  59, 160, 166, 140,  26,   0, 165, 107,  45],\n",
       "         [103, 172,  90, 125,  52,  41, 108,   0, 164, 169, 126,  51]]]),\n",
       " 'transfer_costs': array([[0.  , 0.26],\n",
       "        [0.26, 0.  ]])}"
      ]
     },
     "metadata": {},
     "output_type": "display_data"
    }
   ],
   "source": [
    "# Exemplo de uso\n",
    "file_path = '../instancias/maria_desiree/AAA01226_0.dat'\n",
    "data = read_dat_file(file_path)\n",
    "display(data)"
   ]
  },
  {
   "cell_type": "markdown",
   "id": "2576c1b9-b389-40f2-ae39-33bda1a0a356",
   "metadata": {},
   "source": [
    "# Modelagem"
   ]
  },
  {
   "cell_type": "code",
   "execution_count": 5,
   "id": "f5513369-f935-49de-99a4-6cec0bf7b4db",
   "metadata": {},
   "outputs": [
    {
     "name": "stdout",
     "output_type": "stream",
     "text": [
      "Set parameter Username\n",
      "Academic license - for non-commercial use only - expires 2025-09-13\n"
     ]
    }
   ],
   "source": [
    "m = gp.Model('Lot-sizing Sambasivan and Yahya')"
   ]
  },
  {
   "cell_type": "markdown",
   "id": "595f2fa2-1bf1-4ae9-a58f-95422587e232",
   "metadata": {},
   "source": [
    "## Conjuntos"
   ]
  },
  {
   "cell_type": "code",
   "execution_count": 6,
   "id": "337e6777-3f4c-49f3-b1e8-d3547010f4a8",
   "metadata": {},
   "outputs": [],
   "source": [
    "# Produtos (i)\n",
    "I = np.array([_ for _ in range(data['items'])])\n",
    "# Plantas (j)\n",
    "J = np.array([_ for _ in range(data['num_plants'])])\n",
    "# Períodos (t)\n",
    "T = np.array([_ for _ in range(data['periods'])])"
   ]
  },
  {
   "cell_type": "markdown",
   "id": "55ac26fa-edaf-4a2e-bd2a-4f4e1e9ea660",
   "metadata": {},
   "source": [
    "## Parâmetros"
   ]
  },
  {
   "cell_type": "code",
   "execution_count": 7,
   "id": "75ce9cbc-acad-4bac-a3aa-259cce01163e",
   "metadata": {},
   "outputs": [],
   "source": [
    "# Demanda (i, j, t)\n",
    "d = np.array(data['demand_matrix'])\n",
    "# Capacidade (j, t)\n",
    "cap = np.array(data['capacities'])\n",
    "# Tempo de produção (i, j)\n",
    "b = np.array(data['production_time'])\n",
    "# Tempo de setup (i, j)\n",
    "f = np.array(data['setup_time'])\n",
    "# Custo de produção (i, j)\n",
    "c = np.array(data['production_cost'])\n",
    "# Custo de setup (i, j)\n",
    "s = np.array(data['setup_cost'])\n",
    "# Custo de transporte (j, k)\n",
    "r = np.array(data['transfer_costs'])\n",
    "# Custo de estoque (i, j)\n",
    "h = np.array(data['inventory_costs'])"
   ]
  },
  {
   "cell_type": "markdown",
   "id": "c5f5d3c7-7d4a-4176-855e-b24febf323a9",
   "metadata": {},
   "source": [
    "## Variáveis de decisão"
   ]
  },
  {
   "cell_type": "code",
   "execution_count": 8,
   "id": "5143de99-4749-492d-a91d-43ed8c4df221",
   "metadata": {},
   "outputs": [],
   "source": [
    "# Quantidade produzida (i, j, t)\n",
    "X = m.addVars(I, J, T, vtype=GRB.CONTINUOUS, name='X')\n",
    "# Quantidade estocada (i, j, t)\n",
    "Q = m.addVars(I, J, T, vtype=GRB.CONTINUOUS, name='Q')\n",
    "# # Quantidade transportada (i, j, k(um outro j), t)\n",
    "W = m.addVars(I, J, J, T, vtype=GRB.CONTINUOUS, name='W')\n",
    "# # Variável de setup (binária) (i, j, t)\n",
    "Z = m.addVars(I, J, T, vtype=GRB.BINARY, name='Z')"
   ]
  },
  {
   "cell_type": "markdown",
   "id": "acfdabf5-3640-4fdb-9467-3887f426c0a1",
   "metadata": {},
   "source": [
    "## Função objetivo"
   ]
  },
  {
   "cell_type": "code",
   "execution_count": 9,
   "id": "e61bc597-0a2c-4812-9b81-292a570fd5a6",
   "metadata": {},
   "outputs": [],
   "source": [
    "expr_objetivo = sum(sum(sum(c[i, j] * X[i, j, t] + h[i, j] * Q[i, j, t] + s[i, j] * Z[i, j, t] + \n",
    "                            sum(r[j, k] * W[i, j, k, t] for k in J if k != j) for t in T) for j in J) for i in I)\n",
    "m.setObjective(expr_objetivo, sense=GRB.MINIMIZE)"
   ]
  },
  {
   "cell_type": "markdown",
   "id": "47df9ee1-6f26-4817-ab5f-d69a7b88fff5",
   "metadata": {},
   "source": [
    "## Restrições"
   ]
  },
  {
   "cell_type": "code",
   "execution_count": 10,
   "id": "3ae73222-b1d7-494f-b42c-da159098b56f",
   "metadata": {},
   "outputs": [],
   "source": [
    "# Balanço de estoque (revisar comportamento)\n",
    "# Período inicial\n",
    "m.addConstrs((Q[i, j, t] == X[i, j, t] - sum(W[i, j, k, t] for k in J if k != j) + sum(W[i, l, j, t] for l in J if l != j) - d[i, j, t] for i in I for j in J for t in T if t == 0),\n",
    "             name='restricao_balanco_estoque')\n",
    "# Demais períodos\n",
    "m.addConstrs((Q[i, j, t] == Q[i, j, t-1] + X[i, j, t] - sum(W[i, j, k, t] for k in J if k != j) + sum(W[i, l, j, t] for l in J if l != j) - d[i, j, t] for i in I for j in J for t in T if t > 0),\n",
    "             name='restricao_balanco_estoque');"
   ]
  },
  {
   "cell_type": "code",
   "execution_count": 11,
   "id": "b96463c3-af9a-4df4-b8cd-a30971e09361",
   "metadata": {},
   "outputs": [],
   "source": [
    "# Restrição que obriga setup (validar o range do r)\n",
    "m.addConstrs((X[i, j, t] <= min((cap[j, t] - f[i, j]) / b[i, j], sum(sum(d[i, k, r] for r in range(t, T[-1] + 1)) for k in J)) * Z[i, j, t] for i in I for j in J for t in T)\n",
    "             , name='restricao_setup');"
   ]
  },
  {
   "cell_type": "code",
   "execution_count": 12,
   "id": "9a8cc89f-d774-4dc4-b11e-eb2b9cc4e38c",
   "metadata": {},
   "outputs": [],
   "source": [
    "# Restrição de capacidade\n",
    "m.addConstrs((sum(b[i, j] * X[i, j, t] + f[i, j] * Z[i, j, t] for i in I) <= cap[j, t] for j in J for t in T)\n",
    "             , name='restricao_capacidade');"
   ]
  },
  {
   "cell_type": "markdown",
   "id": "11ecb20e-293d-4bab-ae28-868c052be388",
   "metadata": {},
   "source": [
    "# Resolução"
   ]
  },
  {
   "cell_type": "code",
   "execution_count": null,
   "id": "91524fee-1939-42e7-9755-ae333346d9a4",
   "metadata": {},
   "outputs": [],
   "source": [
    "# Critérios de parada\n",
    "m.Params.timelimit = 1800  # Tempo (default = inf)\n",
    "# m.Params.MIPgap = 0.01  # Gap de otimalidade (default = 0.0001 = 0.01%)\n",
    "\n",
    "# Otimização\n",
    "m.optimize()"
   ]
  },
  {
   "cell_type": "code",
   "execution_count": null,
   "id": "4979d2e1-caf3-4ffa-b443-f1dbcb1e4a08",
   "metadata": {},
   "outputs": [],
   "source": [
    "# Nome do teste\n",
    "m.ModelName"
   ]
  },
  {
   "cell_type": "code",
   "execution_count": null,
   "id": "5417b64a-fe6b-43f0-be06-9abdcdfb4e2f",
   "metadata": {},
   "outputs": [],
   "source": [
    "# Número de períodos da instância\n",
    "len(T)"
   ]
  },
  {
   "cell_type": "code",
   "execution_count": null,
   "id": "9ceef625-c129-45d5-8c86-d9b1bfa65779",
   "metadata": {},
   "outputs": [],
   "source": [
    "# Número de fábricas\n",
    "len(J)"
   ]
  },
  {
   "cell_type": "code",
   "execution_count": null,
   "id": "b198daca-5743-485b-bd2b-9ea8bf166b09",
   "metadata": {},
   "outputs": [],
   "source": [
    "# Número de produtos\n",
    "len(I)"
   ]
  },
  {
   "cell_type": "code",
   "execution_count": null,
   "id": "549d7945-bfff-435f-9d19-ecf9689d735e",
   "metadata": {},
   "outputs": [],
   "source": [
    "# Tempo de execução em segundos\n",
    "m.Runtime"
   ]
  },
  {
   "cell_type": "code",
   "execution_count": null,
   "id": "c050182a-6878-4b5d-8a5b-618faf150152",
   "metadata": {},
   "outputs": [],
   "source": [
    "# Valor da função objetivo da melhor solução encontrada (upper bound da minimização)\n",
    "m.ObjVal"
   ]
  },
  {
   "cell_type": "code",
   "execution_count": null,
   "id": "160d96c6-175f-44d6-ab99-f69a4e5adf98",
   "metadata": {},
   "outputs": [],
   "source": [
    "# Lower bound da minimização\n",
    "m.ObjBound"
   ]
  },
  {
   "cell_type": "code",
   "execution_count": null,
   "id": "be3fff20-12f8-4fb3-86a7-ca80f96bc893",
   "metadata": {},
   "outputs": [],
   "source": [
    "# Gap da solução\n",
    "m.MIPgap"
   ]
  },
  {
   "cell_type": "code",
   "execution_count": null,
   "id": "2b939b33-dbd6-483f-8eda-9e035e365f1c",
   "metadata": {},
   "outputs": [],
   "source": [
    "m.Status  # Ver https://www.gurobi.com/documentation/current/refman/optimization_status_codes.html#sec:StatusCodes para interpretar códigos"
   ]
  }
 ],
 "metadata": {
  "kernelspec": {
   "display_name": "Python 3 (ipykernel)",
   "language": "python",
   "name": "python3"
  },
  "language_info": {
   "codemirror_mode": {
    "name": "ipython",
    "version": 3
   },
   "file_extension": ".py",
   "mimetype": "text/x-python",
   "name": "python",
   "nbconvert_exporter": "python",
   "pygments_lexer": "ipython3",
   "version": "3.11.3"
  }
 },
 "nbformat": 4,
 "nbformat_minor": 5
}
