{
 "cells": [
  {
   "cell_type": "code",
   "execution_count": 1,
   "id": "a8b3a0ea-3b62-41ab-82d7-f7b7f60adca2",
   "metadata": {},
   "outputs": [],
   "source": [
    "import gurobipy as gp\n",
    "from gurobipy import GRB\n",
    "import numpy as np"
   ]
  },
  {
   "cell_type": "code",
   "execution_count": 2,
   "id": "8faa80f5-f986-41eb-9520-d1a622cac0e0",
   "metadata": {},
   "outputs": [],
   "source": [
    "def read_dat_file(file_path):\n",
    "    \"\"\"\"Função para a leitura das instâncias geradas\"\"\"\n",
    "    with open(file_path, 'r') as file:\n",
    "        lines = file.readlines()\n",
    "\n",
    "    # 1. Lendo quantidade de itens e períodos\n",
    "    items, periods = map(int, lines[0].split())\n",
    "\n",
    "    # 2. Lendo número de plantas\n",
    "    num_plants = int(lines[1].strip())\n",
    "\n",
    "    # 3. Lendo capacidades das plantas\n",
    "    capacities = [int(lines[i + 2].strip()) for i in range(num_plants)]\n",
    "    capacities = np.tile(capacities, (periods, 1)).T  # Repete as capacidades ao longo dos períodos (deixar na forma j, t)\n",
    "\n",
    "    # 4. Lendo a matriz de produção (tempo de produção, tempo de setup, custo de setup, custo de produção)\n",
    "    production_data = []\n",
    "    start_line = 2 + num_plants\n",
    "    production_time = np.zeros((items, num_plants))  # Inicializar listas para armazenar separadamente os tempos e custos\n",
    "    setup_time = np.zeros((items, num_plants))\n",
    "    setup_cost = np.zeros((items, num_plants))\n",
    "    production_cost = np.zeros((items, num_plants))\n",
    "    for i in range(num_plants * items):  # Preencher as matrizes com os dados lidos\n",
    "        plant = i // items  # Determina a planta\n",
    "        item = i % items    # Determina o item\n",
    "        # Extrair os dados de cada linha\n",
    "        prod_time, set_time, set_cost, prod_cost = map(float, lines[start_line + i].split())\n",
    "        production_time[item, plant] = prod_time  # Preencher as respectivas matrizes\n",
    "        setup_time[item, plant] = set_time\n",
    "        setup_cost[item, plant] = set_cost\n",
    "        production_cost[item, plant] = prod_cost\n",
    "\n",
    "    # 5. Lendo os custos de inventário\n",
    "    inventory_costs_line = start_line + num_plants * items\n",
    "    inventory_costs = list(map(float, lines[inventory_costs_line].split()))  # Lê todos os valores de inventory_costs como uma única lista\n",
    "    inventory_costs = np.array(inventory_costs).reshape(num_plants, -1)  # Divide a lista de custos de inventário por planta\n",
    "    inventory_costs = inventory_costs.T  # Deixa na forma (i, j)\n",
    "\n",
    "    # 6. Lendo a matriz de demanda (12 linhas)\n",
    "    demand_matrix = []\n",
    "    demand_start_line = inventory_costs_line + 1\n",
    "    \n",
    "    # Leitura inicial das demandas\n",
    "    for i in range(periods):  # Lê as linhas de demandas para os períodos\n",
    "        demands = list(map(int, lines[demand_start_line + i].split()))\n",
    "        demand_matrix.append(demands)\n",
    "    \n",
    "    # Agora vamos dividir os valores de cada linha combinada entre as plantas\n",
    "    final_demand_matrix = []\n",
    "    for demands in demand_matrix:\n",
    "        period_demand = []\n",
    "        for j in range(num_plants):\n",
    "            # Divide a demanda combinada por planta, assumindo que cada planta tem o mesmo número de itens\n",
    "            plant_demand = demands[j*items:(j+1)*items]\n",
    "            period_demand.append(plant_demand)\n",
    "        final_demand_matrix.append(period_demand)\n",
    "    \n",
    "    # Transpor a matriz de demanda para o formato correto (itens, plantas, períodos)\n",
    "    final_demand_matrix = np.array(final_demand_matrix)\n",
    "    final_demand_matrix = np.transpose(final_demand_matrix, (2, 1, 0))  # Converte para o formato (itens, plantas, períodos)\n",
    "\n",
    "    # 7. Reading transfer costs directly from the document as a matrix\n",
    "    transfer_cost_matrix = []\n",
    "    transfer_cost_line = demand_start_line + periods\n",
    "\n",
    "    # Read the matrix of transfer costs line by line\n",
    "    while transfer_cost_line < len(lines):\n",
    "        line = lines[transfer_cost_line].strip()\n",
    "        if line:\n",
    "            # Split the line into individual cost values and convert them to float\n",
    "            row = [float(value) for value in line.split()]\n",
    "            transfer_cost_matrix.append(row)\n",
    "        transfer_cost_line += 1\n",
    "\n",
    "    # Convert to a numpy array (optional, if you want to work with numpy for matrix operations)\n",
    "    transfer_costs = np.array(transfer_cost_matrix)\n",
    "\n",
    "    return {\"items\": items,\n",
    "            \"periods\": periods,\n",
    "            \"num_plants\": num_plants,\n",
    "            \"capacities\": capacities,\n",
    "            \"production_time\": production_time,\n",
    "            \"setup_time\": setup_time,\n",
    "            \"setup_cost\": setup_cost,  \n",
    "            \"production_cost\": production_cost,\n",
    "            \"inventory_costs\": inventory_costs,\n",
    "            \"demand_matrix\": final_demand_matrix,\n",
    "            \"transfer_costs\": transfer_costs}"
   ]
  },
  {
   "cell_type": "code",
   "execution_count": 3,
   "id": "1a6ab3e3",
   "metadata": {},
   "outputs": [],
   "source": [
    "folder_path = '../instancias/multi_plant_instances/'\n",
    "instancia = 'NBB03_12_2_10.dat'"
   ]
  },
  {
   "cell_type": "code",
   "execution_count": 4,
   "id": "851096bb",
   "metadata": {},
   "outputs": [
    {
     "name": "stdout",
     "output_type": "stream",
     "text": [
      "Set parameter Username\n",
      "Academic license - for non-commercial use only - expires 2025-09-13\n"
     ]
    }
   ],
   "source": [
    "data = read_dat_file(folder_path + instancia)\n",
    "\n",
    "# Modelo\n",
    "m = gp.Model(instancia.replace('.dat', ''))\n",
    "\n",
    "# Conjuntos\n",
    "# Produtos (i)\n",
    "I = np.array([_ for _ in range(data['items'])])\n",
    "# Plantas (j)\n",
    "J = np.array([_ for _ in range(data['num_plants'])])\n",
    "# Períodos (t)\n",
    "T = np.array([_ for _ in range(data['periods'])])\n",
    "\n",
    "# Parâmetros\n",
    "# Demanda (i, j, t)\n",
    "d = np.array(data['demand_matrix'])\n",
    "# Capacidade (j, t)\n",
    "cap = np.array(data['capacities'])\n",
    "# Tempo de produção (i, j)\n",
    "b = np.array(data['production_time'])\n",
    "# Tempo de setup (i, j)\n",
    "f = np.array(data['setup_time'])\n",
    "# Custo de produção (i, j)\n",
    "c = np.array(data['production_cost'])\n",
    "# Custo de setup (i, j)\n",
    "s = np.array(data['setup_cost'])\n",
    "# Custo de transporte (j, k)\n",
    "r = np.array(data['transfer_costs'])\n",
    "# Custo de estoque (i, j)\n",
    "h = np.array(data['inventory_costs'])\n",
    "\n",
    "# Variáveis de decisão\n",
    "# Quantidade produzida (i, j, t)\n",
    "X = m.addVars(I, J, T, vtype=GRB.CONTINUOUS, name='X')\n",
    "# Quantidade estocada (i, j, t)\n",
    "Q = m.addVars(I, J, T, vtype=GRB.CONTINUOUS, name='Q')\n",
    "# # Quantidade transportada (i, j, k(um outro j), t)\n",
    "W = m.addVars(I, J, J, T, vtype=GRB.CONTINUOUS, name='W')\n",
    "# # Variável de setup (binária -> relaxada) (i, j, t)\n",
    "Z = m.addVars(I, J, T, lb=0, ub=1, vtype=GRB.BINARY, name='Z')\n",
    "\n",
    "# Função objetivo\n",
    "expr_objetivo = sum(sum(sum(c[i, j] * X[i, j, t] + h[i, j] * Q[i, j, t] + s[i, j] * Z[i, j, t] + \n",
    "                        sum(r[j, k] * W[i, j, k, t] for k in J if k != j) for t in T) for j in J) for i in I)\n",
    "m.setObjective(expr_objetivo, sense=GRB.MINIMIZE)\n",
    "\n",
    "# Restrições\n",
    "# Balanço de estoque (revisar comportamento)\n",
    "    # Período inicial\n",
    "m.addConstrs((Q[i, j, t] == X[i, j, t] - sum(W[i, j, k, t] for k in J if k != j) + sum(W[i, l, j, t] for l in J if l != j) - d[i, j, t] for i in I for j in J for t in T if t == 0),\n",
    "            name='restricao_balanco_estoque')\n",
    "    # Demais períodos\n",
    "m.addConstrs((Q[i, j, t] == Q[i, j, t-1] + X[i, j, t] - sum(W[i, j, k, t] for k in J if k != j) + sum(W[i, l, j, t] for l in J if l != j) - d[i, j, t] for i in I for j in J for t in T if t > 0),\n",
    "            name='restricao_balanco_estoque')\n",
    "\n",
    "# Restrição que obriga setup (validar o range do r)\n",
    "m.addConstrs((X[i, j, t] <= min((cap[j, t] - f[i, j]) / b[i, j], sum(sum(d[i, k, r] for r in range(t, T[-1] + 1)) for k in J)) * Z[i, j, t] for i in I for j in J for t in T)\n",
    "            , name='restricao_setup')\n",
    "\n",
    "# Restrição de capacidade\n",
    "m.addConstrs((sum(b[i, j] * X[i, j, t] + f[i, j] * Z[i, j, t] for i in I) <= cap[j, t] for j in J for t in T)\n",
    "            , name='restricao_capacidade');"
   ]
  },
  {
   "cell_type": "code",
   "execution_count": 5,
   "id": "a8840fdb",
   "metadata": {},
   "outputs": [
    {
     "name": "stdout",
     "output_type": "stream",
     "text": [
      "<gurobi.Model MIP instance NBB03_12_2_10: 504 constrs, 1200 vars, Parameter changes: Username=(user-defined)>\n",
      "829360891\n"
     ]
    }
   ],
   "source": [
    "m.update()\n",
    "print(m)\n",
    "print(m.Fingerprint)"
   ]
  },
  {
   "cell_type": "code",
   "execution_count": 6,
   "id": "df59fca8-b891-4de1-bbce-2b6ff2f23dfe",
   "metadata": {},
   "outputs": [],
   "source": [
    "m.Params.OutputFlag = 0  # Desativa a exibição de logs\n",
    "m.Params.SolutionLimit = 1  # Configurar o limite de solução para parar após encontrar a N_ésima solução factível  \n",
    "m.optimize()\n",
    "m.Params.SolutionLimit = 2_000_000_000  # Retorna para o default"
   ]
  },
  {
   "cell_type": "code",
   "execution_count": 7,
   "id": "fa15fecb",
   "metadata": {},
   "outputs": [
    {
     "data": {
      "text/plain": [
       "62972.66623077676"
      ]
     },
     "execution_count": 7,
     "metadata": {},
     "output_type": "execute_result"
    }
   ],
   "source": [
    "# Valor do objetivo da primeira solução\n",
    "m.ObjVal"
   ]
  },
  {
   "cell_type": "code",
   "execution_count": null,
   "id": "5e733045",
   "metadata": {},
   "outputs": [
    {
     "name": "stdout",
     "output_type": "stream",
     "text": [
      "Explorando o lado esquerdo no nó 2\n",
      "Explorando o lado direito no nó 3\n",
      "Explorando o lado esquerdo no nó 4\n",
      "Explorando o lado direito no nó 5\n",
      "Resolvendo subproblema final (nó 6)\n"
     ]
    }
   ],
   "source": [
    "# Extrair a solução inicial de referência\n",
    "reference_solution = {key: Z[key].x for key in Z.keys()}  # _x\n",
    "best_solution = reference_solution  # x*\n",
    "best_obj_val = m.objVal if m.status == GRB.OPTIMAL else float('inf')\n",
    "# Parâmetro de vizinhança\n",
    "K = 20\n",
    "node = 1\n",
    "# Adicionar a restrição Δ(x, x*) ≤ K\n",
    "delta_expr = gp.quicksum((1 - best_solution[key]) * Z[key] + best_solution[key] * (1 - Z[key]) for key in Z.keys())\n",
    "m.addConstr(delta_expr <= K, \"local_branching\")\n",
    "print(f'Explorando o lado esquerdo no nó {node + 1}')\n",
    "# Loop principal do Algoritmo de Local Branching\n",
    "while True:\n",
    "    node += 1\n",
    "    # Resolver o subproblema resultante  \n",
    "    m.optimize()\n",
    "\n",
    "    if m.SolCount > 0 and m.objVal < best_obj_val:\n",
    "        # Restringir para o espaço da melhor solução obtida (FO <= FO X*)\n",
    "        # Atualizar a melhor solução\n",
    "        best_obj_val = m.objVal\n",
    "        best_solution = {key: Z[key].x for key in Z.keys()}      \n",
    "        if node % 2 == 0:  # Após exploração do branch esquerdo (nós pares) vai para uma exploração à direita\n",
    "            # Remover a restrição anterior e adicionar Δ(x, x*) ≥ K + 1\n",
    "            m.remove(m.getConstrByName(\"local_branching\"))\n",
    "            m.addConstr(delta_expr >= K + 1, \"local_branching\")\n",
    "            print(f'Explorando o lado direito no nó {node + 1}')\n",
    "        else:  # Após exploração do branch direito (nós ímpares) vai para uma exploração à esquerda\n",
    "            # Remover a restrição anterior e adicionar Δ(x, x*) <= K\n",
    "            m.remove(m.getConstrByName(\"local_branching\"))\n",
    "            delta_expr = gp.quicksum((1 - best_solution[key]) * Z[key] + best_solution[key] * (1 - Z[key]) for key in Z.keys())\n",
    "            m.addConstr(delta_expr <= K, \"local_branching\")\n",
    "            print(f'Explorando o lado esquerdo no nó {node + 1}')\n",
    "    else:  # Se nenhuma solução melhor for encontrada, sair do loop\n",
    "        m.remove(m.getConstrByName(\"local_branching\"))\n",
    "        m.addConstr(delta_expr >= K + 1, \"local_branching\")\n",
    "        break\n",
    "\n",
    "# Resolver o subproblema final para tentar encontrar uma melhor solução\n",
    "print(f'Resolvendo subproblema final (nó {node + 1})')\n",
    "m.optimize()\n",
    "if m.SolCount > 0 and m.objVal < best_obj_val:        \n",
    "    # Atualizar a melhor solução\n",
    "    best_obj_val = m.objVal\n",
    "    best_solution = {key: Z[key].x for key in Z.keys()}"
   ]
  },
  {
   "cell_type": "code",
   "execution_count": 9,
   "id": "a35fed93",
   "metadata": {},
   "outputs": [
    {
     "name": "stdout",
     "output_type": "stream",
     "text": [
      "Melhor valor da função objetivo encontrado: 52283.28508888947\n"
     ]
    }
   ],
   "source": [
    "# Resultado final\n",
    "print(f\"Melhor valor da função objetivo encontrado: {best_obj_val}\")"
   ]
  }
 ],
 "metadata": {
  "kernelspec": {
   "display_name": "venv",
   "language": "python",
   "name": "python3"
  },
  "language_info": {
   "codemirror_mode": {
    "name": "ipython",
    "version": 3
   },
   "file_extension": ".py",
   "mimetype": "text/x-python",
   "name": "python",
   "nbconvert_exporter": "python",
   "pygments_lexer": "ipython3",
   "version": "3.11.3"
  }
 },
 "nbformat": 4,
 "nbformat_minor": 5
}
