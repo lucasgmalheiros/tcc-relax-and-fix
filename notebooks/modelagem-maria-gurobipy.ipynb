{
 "cells": [
  {
   "cell_type": "markdown",
   "id": "1039fa4d-221c-4861-8ae1-d14a23217667",
   "metadata": {},
   "source": [
    "Reformulação conforme implementada em \"Lagrangian heuristics for the capacitated multi-plant lot sizing problem with multiple periods and items\""
   ]
  },
  {
   "cell_type": "code",
   "execution_count": 1,
   "id": "956764c4-b200-458e-9d71-c81bf49cc13b",
   "metadata": {},
   "outputs": [],
   "source": [
    "import gurobipy as gp\n",
    "from gurobipy import GRB\n",
    "import numpy as np\n",
    "import math"
   ]
  },
  {
   "cell_type": "markdown",
   "id": "52639ada-84bb-4384-811a-2e1ea738d92d",
   "metadata": {},
   "source": [
    "# Leitura de instâncias"
   ]
  },
  {
   "cell_type": "code",
   "execution_count": 2,
   "id": "bdfcc335-c26e-4b06-bec3-0d97e5fc003c",
   "metadata": {},
   "outputs": [],
   "source": [
    "def read_dat_file(file_path):\n",
    "    \"\"\"\"Função para a leitura das instâncias de Mariá\"\"\"\n",
    "    with open(file_path, 'r') as file:\n",
    "        lines = file.readlines()\n",
    "\n",
    "    # 1. Lendo quantidade de itens e períodos\n",
    "    items, periods = map(int, lines[0].split())\n",
    "\n",
    "    # 2. Lendo número de plantas\n",
    "    num_plants = int(lines[1].strip())\n",
    "\n",
    "    # 3. Lendo capacidades das plantas\n",
    "    capacities = [int(lines[i + 2].strip()) for i in range(num_plants)]\n",
    "    capacities = np.tile(capacities, (periods, 1)).T  # Repete as capacidades ao longo dos períodos (deixar na forma j, t)\n",
    "\n",
    "    # 4. Lendo a matriz de produção (tempo de produção, tempo de setup, custo de setup, custo de produção)\n",
    "    production_data = []\n",
    "    start_line = 2 + num_plants\n",
    "    production_time = np.zeros((items, num_plants))  # Inicializar listas para armazenar separadamente os tempos e custos\n",
    "    setup_time = np.zeros((items, num_plants))\n",
    "    setup_cost = np.zeros((items, num_plants))\n",
    "    production_cost = np.zeros((items, num_plants))\n",
    "    for i in range(num_plants * items):  # Preencher as matrizes com os dados lidos\n",
    "        plant = i // items  # Determina a planta\n",
    "        item = i % items    # Determina o item\n",
    "        # Extrair os dados de cada linha\n",
    "        prod_time, set_time, set_cost, prod_cost = map(float, lines[start_line + i].split())\n",
    "        production_time[item, plant] = prod_time  # Preencher as respectivas matrizes\n",
    "        setup_time[item, plant] = set_time\n",
    "        setup_cost[item, plant] = set_cost\n",
    "        production_cost[item, plant] = prod_cost\n",
    "\n",
    "    # 5. Lendo os custos de inventário\n",
    "    inventory_costs_line = start_line + num_plants * items\n",
    "    inventory_costs = list(map(float, lines[inventory_costs_line].split()))  # Lê todos os valores de inventory_costs como uma única lista\n",
    "    inventory_costs = np.array(inventory_costs).reshape(num_plants, -1)  # Divide a lista de custos de inventário por planta\n",
    "    inventory_costs = inventory_costs.T  # Deixa na forma (i, j)\n",
    "\n",
    "    # 6. Lendo a matriz de demanda (12 linhas, 12 colunas)\n",
    "    demand_matrix = []\n",
    "    demand_start_line = inventory_costs_line + 1\n",
    "\n",
    "    # Verifica se a matriz de demanda está na forma padrão\n",
    "    num_demand_lines = 0\n",
    "    for i in range(demand_start_line, len(lines)):\n",
    "        if lines[i].strip():  # Se a linha não estiver vazia, contamos como linha de demanda\n",
    "            num_demand_lines += 1\n",
    "        else:\n",
    "            break  # Interrompe se encontrar uma linha vazia (ou um bloco separado)\n",
    "    \n",
    "    # Calcula o multiplicador, caso tenha mais linhas do que períodos\n",
    "    if num_demand_lines == periods * 2:\n",
    "        multiplier = 2  # A matriz de demanda tem o dobro de linhas\n",
    "    else:\n",
    "        multiplier = 1  # A matriz de demanda tem o número esperado de linhas (T)\n",
    "    \n",
    "    # Leitura inicial das demandas\n",
    "    for i in range(periods * multiplier):  # Lê as linhas de demandas para os períodos\n",
    "        demands = list(map(int, lines[demand_start_line + i].split()))\n",
    "        demand_matrix.append(demands)\n",
    "\n",
    "    # print('Linha 1:', demand_matrix[0])\n",
    "    # print('Linha 13:', demand_matrix[periods], '\\n\\n')\n",
    "    \n",
    "    # Agora, se multiplier == 2, precisamos combinar as linhas 1-12 com 13-24 corretamente\n",
    "    if multiplier == 2:\n",
    "        new_demand_matrix = []\n",
    "        \n",
    "        for i in range(periods):  # Para cada linha do primeiro bloco (1-12)\n",
    "            combined_period_demand = []  # Lista única para armazenar a demanda combinada para o período i\n",
    "            \n",
    "            # Quebrar a linha i entre as plantas\n",
    "            demands_first_part = demand_matrix[i]\n",
    "            demands_second_part = demand_matrix[i + periods]  # Linha correspondente do segundo bloco\n",
    "            \n",
    "            # Calcular o número de elementos por planta\n",
    "            elements_per_plant_first = len(demands_first_part) // num_plants\n",
    "            elements_per_plant_second = len(demands_second_part) // num_plants\n",
    "            \n",
    "            # Concatenar as demandas para cada planta\n",
    "            for j in range(num_plants):\n",
    "                # Particionar a demanda de cada planta\n",
    "                plant_demand_first = demands_first_part[j*elements_per_plant_first:(j+1)*elements_per_plant_first]\n",
    "                plant_demand_second = demands_second_part[j*elements_per_plant_second:(j+1)*elements_per_plant_second]\n",
    "                \n",
    "                # Concatenar as demandas da planta j (primeiro e segundo blocos) e adicionar diretamente à lista única\n",
    "                combined_period_demand.extend(plant_demand_first + plant_demand_second)\n",
    "            \n",
    "            # Adicionar a demanda ajustada (em formato de lista única) do período à nova matriz de demanda\n",
    "            new_demand_matrix.append(combined_period_demand)\n",
    "        \n",
    "        # Substitui a matriz de demandas pela combinada e particionada por planta\n",
    "        demand_matrix = new_demand_matrix\n",
    "    \n",
    "    # print('Linha 1 output após junção:', demand_matrix[0])\n",
    "\n",
    "    # Agora vamos dividir os valores de cada linha combinada entre as plantas\n",
    "    final_demand_matrix = []\n",
    "    for demands in demand_matrix:\n",
    "        period_demand = []\n",
    "        for j in range(num_plants):\n",
    "            # Divide a demanda combinada por planta, assumindo que cada planta tem o mesmo número de itens\n",
    "            plant_demand = demands[j*items:(j+1)*items]\n",
    "            period_demand.append(plant_demand)\n",
    "        final_demand_matrix.append(period_demand)\n",
    "    \n",
    "    # Transpor a matriz de demanda para o formato correto (itens, plantas, períodos)\n",
    "    final_demand_matrix = np.array(final_demand_matrix)\n",
    "    # print(final_demand_matrix)\n",
    "    final_demand_matrix = np.transpose(final_demand_matrix, (2, 1, 0))  # Converte para o formato (itens, plantas, períodos)\n",
    "\n",
    "    # 7. Lendo os custos de transferência\n",
    "    transfer_costs = []\n",
    "    transfer_cost_line = demand_start_line + periods * multiplier\n",
    "    while transfer_cost_line < len(lines):\n",
    "        line = lines[transfer_cost_line].strip()  # Verificar se a linha não está vazia antes de tentar ler\n",
    "        if line:\n",
    "            transfer_costs.append(float(line))\n",
    "        transfer_cost_line += 1\n",
    "\n",
    "    def create_transfer_cost_matrix(transfer_costs, num_plants):  # Criar a matriz de custos de transferência (simétrica)\n",
    "        transfer_cost_matrix = np.zeros((num_plants, num_plants))  # Inicializar a matriz de zeros\n",
    "        if len(transfer_costs) == 1:\n",
    "            transfer_cost = transfer_costs[0]  # Se houver apenas um custo de transferência, aplicar para todos os pares de plantas\n",
    "            for j in range(num_plants):\n",
    "                for k in range(j + 1, num_plants):\n",
    "                    transfer_cost_matrix[j, k] = transfer_cost\n",
    "                    transfer_cost_matrix[k, j] = transfer_cost\n",
    "        else:\n",
    "            idx = 0  # Se houver múltiplos custos, aplicar entre pares de plantas\n",
    "            for j in range(num_plants):\n",
    "                for k in range(j + 1, num_plants):\n",
    "                    transfer_cost_matrix[j, k] = transfer_costs[idx]\n",
    "                    transfer_cost_matrix[k, j] = transfer_costs[idx]\n",
    "                    idx += 1\n",
    "        return transfer_cost_matrix\n",
    "\n",
    "    transfer_costs = create_transfer_cost_matrix(transfer_costs, num_plants)\n",
    "\n",
    "    return {\"items\": items,\n",
    "            \"periods\": periods,\n",
    "            \"num_plants\": num_plants,\n",
    "            \"capacities\": capacities,\n",
    "            \"production_time\": production_time,\n",
    "            \"setup_time\": setup_time,\n",
    "            \"setup_cost\": setup_cost,  \n",
    "            \"production_cost\": production_cost,\n",
    "            \"inventory_costs\": inventory_costs,\n",
    "            \"demand_matrix\": final_demand_matrix,\n",
    "            \"transfer_costs\": transfer_costs}"
   ]
  },
  {
   "cell_type": "code",
   "execution_count": 3,
   "id": "7769846c-052e-42e0-94c6-7121bf1349bd",
   "metadata": {
    "scrolled": true
   },
   "outputs": [
    {
     "data": {
      "text/plain": [
       "{'items': 90,\n",
       " 'periods': 12,\n",
       " 'num_plants': 20,\n",
       " 'capacities': array([[27785, 27785, 27785, 27785, 27785, 27785, 27785, 27785, 27785,\n",
       "         27785, 27785, 27785],\n",
       "        [26724, 26724, 26724, 26724, 26724, 26724, 26724, 26724, 26724,\n",
       "         26724, 26724, 26724],\n",
       "        [26042, 26042, 26042, 26042, 26042, 26042, 26042, 26042, 26042,\n",
       "         26042, 26042, 26042],\n",
       "        [28408, 28408, 28408, 28408, 28408, 28408, 28408, 28408, 28408,\n",
       "         28408, 28408, 28408],\n",
       "        [27139, 27139, 27139, 27139, 27139, 27139, 27139, 27139, 27139,\n",
       "         27139, 27139, 27139],\n",
       "        [27225, 27225, 27225, 27225, 27225, 27225, 27225, 27225, 27225,\n",
       "         27225, 27225, 27225],\n",
       "        [27616, 27616, 27616, 27616, 27616, 27616, 27616, 27616, 27616,\n",
       "         27616, 27616, 27616],\n",
       "        [27808, 27808, 27808, 27808, 27808, 27808, 27808, 27808, 27808,\n",
       "         27808, 27808, 27808],\n",
       "        [28745, 28745, 28745, 28745, 28745, 28745, 28745, 28745, 28745,\n",
       "         28745, 28745, 28745],\n",
       "        [27627, 27627, 27627, 27627, 27627, 27627, 27627, 27627, 27627,\n",
       "         27627, 27627, 27627],\n",
       "        [28472, 28472, 28472, 28472, 28472, 28472, 28472, 28472, 28472,\n",
       "         28472, 28472, 28472],\n",
       "        [26000, 26000, 26000, 26000, 26000, 26000, 26000, 26000, 26000,\n",
       "         26000, 26000, 26000],\n",
       "        [26261, 26261, 26261, 26261, 26261, 26261, 26261, 26261, 26261,\n",
       "         26261, 26261, 26261],\n",
       "        [26251, 26251, 26251, 26251, 26251, 26251, 26251, 26251, 26251,\n",
       "         26251, 26251, 26251],\n",
       "        [27737, 27737, 27737, 27737, 27737, 27737, 27737, 27737, 27737,\n",
       "         27737, 27737, 27737],\n",
       "        [27164, 27164, 27164, 27164, 27164, 27164, 27164, 27164, 27164,\n",
       "         27164, 27164, 27164],\n",
       "        [26343, 26343, 26343, 26343, 26343, 26343, 26343, 26343, 26343,\n",
       "         26343, 26343, 26343],\n",
       "        [27211, 27211, 27211, 27211, 27211, 27211, 27211, 27211, 27211,\n",
       "         27211, 27211, 27211],\n",
       "        [28616, 28616, 28616, 28616, 28616, 28616, 28616, 28616, 28616,\n",
       "         28616, 28616, 28616],\n",
       "        [27063, 27063, 27063, 27063, 27063, 27063, 27063, 27063, 27063,\n",
       "         27063, 27063, 27063]]),\n",
       " 'production_time': array([[4.8, 1.3, 4.1, ..., 3.2, 2.1, 2.6],\n",
       "        [2.5, 3.2, 3.1, ..., 4.2, 3.6, 2.4],\n",
       "        [1.1, 1.6, 1.2, ..., 3.1, 5. , 4.3],\n",
       "        ...,\n",
       "        [2.3, 1.3, 4.1, ..., 2.7, 2.9, 4. ],\n",
       "        [1.8, 4.8, 4.2, ..., 3.8, 2.8, 1.1],\n",
       "        [1.1, 1.8, 1.9, ..., 3.6, 2.6, 3.1]]),\n",
       " 'setup_time': array([[13.5, 35.4, 19. , ..., 25.1, 24.8, 11.5],\n",
       "        [44.9, 47.6, 19.6, ..., 14.5, 37.4, 27.4],\n",
       "        [45.1, 40.9, 13.1, ..., 41.1, 37. , 22.8],\n",
       "        ...,\n",
       "        [29.1, 22.1, 34.5, ..., 28. , 21.8, 46.7],\n",
       "        [15. , 18.1, 37. , ..., 47.8, 13.6, 13.5],\n",
       "        [46.7, 44.5, 30.3, ..., 35.5, 16. , 42. ]]),\n",
       " 'setup_cost': array([[29.8, 75.6, 92.9, ..., 38.6, 54.5, 29.7],\n",
       "        [ 5.3, 72.8, 89.3, ..., 34.3, 58.5, 54.6],\n",
       "        [16. , 54.5, 42.7, ..., 29.9, 52.8, 76. ],\n",
       "        ...,\n",
       "        [41.4, 35.4, 56.7, ..., 89.7, 67.1, 47.7],\n",
       "        [84.4, 35. ,  8.8, ..., 33.6, 21. , 85.5],\n",
       "        [16. , 27.6, 64.6, ..., 90.8, 25.6, 66.9]]),\n",
       " 'production_cost': array([[1.8, 2.2, 1.9, ..., 1.7, 1.5, 1.5],\n",
       "        [1.6, 1.6, 1.9, ..., 1.6, 1.9, 1.9],\n",
       "        [1.9, 1.7, 2.1, ..., 2.4, 2.3, 1.9],\n",
       "        ...,\n",
       "        [1.9, 1.8, 2.4, ..., 2. , 2. , 2.5],\n",
       "        [1.8, 2.5, 1.6, ..., 1.8, 1.6, 2.3],\n",
       "        [1.9, 1.8, 1.7, ..., 2.1, 2.4, 2.1]]),\n",
       " 'inventory_costs': array([[0.4, 0.3, 0.2, ..., 0.2, 0.4, 0.3],\n",
       "        [0.3, 0.4, 0.4, ..., 0.2, 0.4, 0.3],\n",
       "        [0.3, 0.3, 0.3, ..., 0.3, 0.4, 0.4],\n",
       "        ...,\n",
       "        [0.3, 0.2, 0.2, ..., 0.4, 0.3, 0.4],\n",
       "        [0.4, 0.2, 0.4, ..., 0.3, 0.3, 0.4],\n",
       "        [0.3, 0.3, 0.2, ..., 0.3, 0.4, 0.3]]),\n",
       " 'demand_matrix': array([[[ 68,  99, 174, ..., 164, 172,  86],\n",
       "         [ 74,   5,  58, ...,  14, 150, 103],\n",
       "         [ 43, 174,  65, ...,  90, 179, 100],\n",
       "         ...,\n",
       "         [ 11, 129,   5, ...,  99,  70, 152],\n",
       "         [ 12, 135,   6, ...,  56,  96, 113],\n",
       "         [151,   9,  13, ...,  26, 151, 168]],\n",
       " \n",
       "        [[ 59,  75, 154, ..., 127,  78, 169],\n",
       "         [ 26,  23,   6, ...,  39,  91, 109],\n",
       "         [ 59, 176,  49, ...,  71,  83,  35],\n",
       "         ...,\n",
       "         [179, 163, 111, ...,  19, 106, 157],\n",
       "         [141, 127, 112, ..., 130, 154, 173],\n",
       "         [100, 179,   8, ..., 174,  61, 133]],\n",
       " \n",
       "        [[ 20, 137,   4, ..., 143,  12,  58],\n",
       "         [109, 117, 155, ..., 154,   4,  97],\n",
       "         [ 60,  14,  94, ..., 142, 127, 113],\n",
       "         ...,\n",
       "         [164,  84, 131, ..., 176,  25,  96],\n",
       "         [157, 158, 115, ...,  88,  59,  37],\n",
       "         [105,  55,   4, ...,  63,   1, 109]],\n",
       " \n",
       "        ...,\n",
       " \n",
       "        [[141, 126,  12, ...,  80,  53,  83],\n",
       "         [161, 109,  37, ...,  89, 137, 143],\n",
       "         [ 67,  73, 180, ...,  88,  16, 145],\n",
       "         ...,\n",
       "         [144, 180,  41, ...,  49, 109, 112],\n",
       "         [120, 148,  54, ...,  49,  33,  96],\n",
       "         [ 59,  93, 176, ...,  30, 171, 174]],\n",
       " \n",
       "        [[  1,  18, 123, ..., 134,  53,  13],\n",
       "         [ 73,  59, 120, ...,  42, 152, 109],\n",
       "         [104, 145,  93, ...,  65,  74, 164],\n",
       "         ...,\n",
       "         [ 56, 130,  26, ..., 149,  92,  90],\n",
       "         [149, 124,  38, ...,  33, 143,  65],\n",
       "         [172,  58, 132, ...,  42, 132,  71]],\n",
       " \n",
       "        [[157,   2,  85, ..., 104, 133,  29],\n",
       "         [127,   8, 106, ...,  94, 124,  49],\n",
       "         [ 44, 135,  90, ...,  70, 133,  79],\n",
       "         ...,\n",
       "         [ 57,  56,  15, ...,  10, 137,  60],\n",
       "         [ 83, 163, 140, ...,  27, 142, 166],\n",
       "         [132,  66, 155, ..., 109,  76,  85]]]),\n",
       " 'transfer_costs': array([[0. , 0.3, 0.3, 0.3, 0.4, 0.3, 0.3, 0.3, 0.4, 0.4, 0.2, 0.4, 0.4,\n",
       "         0.2, 0.2, 0.3, 0.3, 0.2, 0.3, 0.4],\n",
       "        [0.3, 0. , 0.3, 0.3, 0.4, 0.2, 0.3, 0.3, 0.2, 0.4, 0.4, 0.4, 0.4,\n",
       "         0.3, 0.3, 0.4, 0.2, 0.3, 0.2, 0.3],\n",
       "        [0.3, 0.3, 0. , 0.2, 0.3, 0.3, 0.3, 0.3, 0.3, 0.3, 0.3, 0.3, 0.2,\n",
       "         0.3, 0.3, 0.3, 0.2, 0.3, 0.3, 0.2],\n",
       "        [0.3, 0.3, 0.2, 0. , 0.2, 0.3, 0.3, 0.4, 0.3, 0.2, 0.3, 0.4, 0.4,\n",
       "         0.2, 0.4, 0.3, 0.3, 0.4, 0.3, 0.2],\n",
       "        [0.4, 0.4, 0.3, 0.2, 0. , 0.3, 0.3, 0.2, 0.3, 0.3, 0.2, 0.2, 0.2,\n",
       "         0.2, 0.2, 0.3, 0.2, 0.3, 0.4, 0.3],\n",
       "        [0.3, 0.2, 0.3, 0.3, 0.3, 0. , 0.2, 0.3, 0.3, 0.2, 0.4, 0.3, 0.2,\n",
       "         0.4, 0.3, 0.3, 0.4, 0.3, 0.3, 0.3],\n",
       "        [0.3, 0.3, 0.3, 0.3, 0.3, 0.2, 0. , 0.4, 0.3, 0.4, 0.2, 0.3, 0.4,\n",
       "         0.3, 0.3, 0.3, 0.3, 0.2, 0.4, 0.4],\n",
       "        [0.3, 0.3, 0.3, 0.4, 0.2, 0.3, 0.4, 0. , 0.4, 0.4, 0.3, 0.2, 0.3,\n",
       "         0.3, 0.3, 0.3, 0.2, 0.3, 0.3, 0.2],\n",
       "        [0.4, 0.2, 0.3, 0.3, 0.3, 0.3, 0.3, 0.4, 0. , 0.3, 0.3, 0.3, 0.3,\n",
       "         0.3, 0.4, 0.3, 0.3, 0.4, 0.3, 0.2],\n",
       "        [0.4, 0.4, 0.3, 0.2, 0.3, 0.2, 0.4, 0.4, 0.3, 0. , 0.3, 0.4, 0.3,\n",
       "         0.3, 0.2, 0.2, 0.4, 0.2, 0.3, 0.3],\n",
       "        [0.2, 0.4, 0.3, 0.3, 0.2, 0.4, 0.2, 0.3, 0.3, 0.3, 0. , 0.3, 0.2,\n",
       "         0.2, 0.2, 0.2, 0.4, 0.2, 0.3, 0.2],\n",
       "        [0.4, 0.4, 0.3, 0.4, 0.2, 0.3, 0.3, 0.2, 0.3, 0.4, 0.3, 0. , 0.3,\n",
       "         0.3, 0.4, 0.3, 0.4, 0.3, 0.3, 0.3],\n",
       "        [0.4, 0.4, 0.2, 0.4, 0.2, 0.2, 0.4, 0.3, 0.3, 0.3, 0.2, 0.3, 0. ,\n",
       "         0.3, 0.3, 0.4, 0.3, 0.2, 0.4, 0.3],\n",
       "        [0.2, 0.3, 0.3, 0.2, 0.2, 0.4, 0.3, 0.3, 0.3, 0.3, 0.2, 0.3, 0.3,\n",
       "         0. , 0.2, 0.3, 0.3, 0.3, 0.4, 0.4],\n",
       "        [0.2, 0.3, 0.3, 0.4, 0.2, 0.3, 0.3, 0.3, 0.4, 0.2, 0.2, 0.4, 0.3,\n",
       "         0.2, 0. , 0.2, 0.4, 0.3, 0.2, 0.3],\n",
       "        [0.3, 0.4, 0.3, 0.3, 0.3, 0.3, 0.3, 0.3, 0.3, 0.2, 0.2, 0.3, 0.4,\n",
       "         0.3, 0.2, 0. , 0.4, 0.4, 0.4, 0.3],\n",
       "        [0.3, 0.2, 0.2, 0.3, 0.2, 0.4, 0.3, 0.2, 0.3, 0.4, 0.4, 0.4, 0.3,\n",
       "         0.3, 0.4, 0.4, 0. , 0.3, 0.4, 0.2],\n",
       "        [0.2, 0.3, 0.3, 0.4, 0.3, 0.3, 0.2, 0.3, 0.4, 0.2, 0.2, 0.3, 0.2,\n",
       "         0.3, 0.3, 0.4, 0.3, 0. , 0.2, 0.3],\n",
       "        [0.3, 0.2, 0.3, 0.3, 0.4, 0.3, 0.4, 0.3, 0.3, 0.3, 0.3, 0.3, 0.4,\n",
       "         0.4, 0.2, 0.4, 0.4, 0.2, 0. , 0.3],\n",
       "        [0.4, 0.3, 0.2, 0.2, 0.3, 0.3, 0.4, 0.2, 0.2, 0.3, 0.2, 0.3, 0.3,\n",
       "         0.4, 0.3, 0.3, 0.2, 0.3, 0.3, 0. ]])}"
      ]
     },
     "metadata": {},
     "output_type": "display_data"
    }
   ],
   "source": [
    "# Exemplo de uso\n",
    "file_path = '../instancias/maria_desiree/NBB0122090_4.dat'\n",
    "data = read_dat_file(file_path)\n",
    "display(data)"
   ]
  },
  {
   "cell_type": "markdown",
   "id": "2576c1b9-b389-40f2-ae39-33bda1a0a356",
   "metadata": {},
   "source": [
    "# Modelagem"
   ]
  },
  {
   "cell_type": "code",
   "execution_count": 4,
   "id": "f5513369-f935-49de-99a4-6cec0bf7b4db",
   "metadata": {},
   "outputs": [
    {
     "name": "stdout",
     "output_type": "stream",
     "text": [
      "Set parameter Username\n",
      "Academic license - for non-commercial use only - expires 2025-09-13\n"
     ]
    }
   ],
   "source": [
    "m = gp.Model('Lot-sizing Reformulation')"
   ]
  },
  {
   "cell_type": "markdown",
   "id": "595f2fa2-1bf1-4ae9-a58f-95422587e232",
   "metadata": {},
   "source": [
    "## Conjuntos"
   ]
  },
  {
   "cell_type": "code",
   "execution_count": 5,
   "id": "337e6777-3f4c-49f3-b1e8-d3547010f4a8",
   "metadata": {},
   "outputs": [],
   "source": [
    "# Produtos (i)\n",
    "I = np.array([_ for _ in range(data['items'])])\n",
    "# Plantas (j)\n",
    "J = np.array([_ for _ in range(data['num_plants'])])\n",
    "# Períodos (t)\n",
    "T = np.array([_ for _ in range(data['periods'])])"
   ]
  },
  {
   "cell_type": "markdown",
   "id": "55ac26fa-edaf-4a2e-bd2a-4f4e1e9ea660",
   "metadata": {},
   "source": [
    "## Parâmetros"
   ]
  },
  {
   "cell_type": "code",
   "execution_count": 6,
   "id": "75ce9cbc-acad-4bac-a3aa-259cce01163e",
   "metadata": {},
   "outputs": [],
   "source": [
    "# Demanda (i, j, t)\n",
    "d = np.array(data['demand_matrix'])\n",
    "# Capacidade (j, t)\n",
    "cap = np.array(data['capacities'])\n",
    "# Tempo de produção (i, j)\n",
    "b = np.array(data['production_time'])\n",
    "# Tempo de setup (i, j)\n",
    "f = np.array(data['setup_time'])\n",
    "# Custo de produção (i, j)\n",
    "c = np.array(data['production_cost'])\n",
    "# Custo de setup (i, j)\n",
    "s = np.array(data['setup_cost'])\n",
    "# Custo de transporte (j, k)\n",
    "r = np.array(data['transfer_costs'])\n",
    "# Custo de estoque (i, j)\n",
    "h = np.array(data['inventory_costs'])"
   ]
  },
  {
   "cell_type": "markdown",
   "id": "c5f5d3c7-7d4a-4176-855e-b24febf323a9",
   "metadata": {},
   "source": [
    "## Variáveis de decisão"
   ]
  },
  {
   "cell_type": "code",
   "execution_count": 7,
   "id": "5143de99-4749-492d-a91d-43ed8c4df221",
   "metadata": {},
   "outputs": [],
   "source": [
    "# Quantidade produzida (i, j, t, k, u)\n",
    "X = m.addVars(I, J, T, J, T, vtype=GRB.INTEGER, name='X')\n",
    "# Variável de setup (binária) (i, j, t)\n",
    "Z = m.addVars(I, J, T, vtype=GRB.BINARY, name='Z')"
   ]
  },
  {
   "cell_type": "markdown",
   "id": "acfdabf5-3640-4fdb-9467-3887f426c0a1",
   "metadata": {},
   "source": [
    "## Função objetivo"
   ]
  },
  {
   "cell_type": "code",
   "execution_count": 8,
   "id": "e61bc597-0a2c-4812-9b81-292a570fd5a6",
   "metadata": {},
   "outputs": [],
   "source": [
    "expr1 = sum(sum(sum(sum(sum(\n",
    "    X[i, j, t, k, u] * (c[i, j] + min((u - t) * h[i, v] + r[j, v] + r[v, k] for v in J) if u >= t else 0) \n",
    "    for u in T) for k in J) for t in T) for j in J) for i in I)\n",
    "expr2 = sum(sum(sum(s[i, j] * Z[i, j, t] for t in T) for j in J) for i in I)\n",
    "m.setObjective(expr1 + expr2, sense=GRB.MINIMIZE)"
   ]
  },
  {
   "cell_type": "markdown",
   "id": "47df9ee1-6f26-4817-ab5f-d69a7b88fff5",
   "metadata": {},
   "source": [
    "## Restrições"
   ]
  },
  {
   "cell_type": "code",
   "execution_count": 9,
   "id": "3ae73222-b1d7-494f-b42c-da159098b56f",
   "metadata": {},
   "outputs": [],
   "source": [
    "# Balanço de estoque\n",
    "m.addConstrs((sum(sum(X[i, j, t, k, u] for t in range(u + 1)) for j in J) == d[i, k, u] for i in I for k in J for u in T), name='restricao_balanco_estoque');"
   ]
  },
  {
   "cell_type": "code",
   "execution_count": null,
   "id": "b96463c3-af9a-4df4-b8cd-a30971e09361",
   "metadata": {},
   "outputs": [],
   "source": [
    "# Restrição que obriga setup\n",
    "m.addConstrs((X[i, j, t, k, u] <= min(math.floor((cap[j, t] - f[i, j]) / b[i, j]), d[i, k, u]) * Z[i, j, t] for i in I for j in J for t in T for k in J for u in T)\n",
    "             , name='restricao_setup');"
   ]
  },
  {
   "cell_type": "code",
   "execution_count": null,
   "id": "9a8cc89f-d774-4dc4-b11e-eb2b9cc4e38c",
   "metadata": {},
   "outputs": [],
   "source": [
    "# Restrição de capacidade\n",
    "m.addConstrs((sum(f[i, j] * Z[i, j, t] + sum(sum(b[i, j] * X[i, j, t, k, u] for u in T) for k in J) for i in I) <= cap[j, t] for j in J for t in T)\n",
    "             , name='restricao_capacidade');"
   ]
  },
  {
   "cell_type": "markdown",
   "id": "11ecb20e-293d-4bab-ae28-868c052be388",
   "metadata": {},
   "source": [
    "# Resolução"
   ]
  },
  {
   "cell_type": "code",
   "execution_count": null,
   "id": "91524fee-1939-42e7-9755-ae333346d9a4",
   "metadata": {},
   "outputs": [],
   "source": [
    "# Critérios de parada\n",
    "m.Params.timelimit = 1800  # Tempo (default = inf)\n",
    "# m.Params.MIPgap = 0.01  # Gap de otimalidade (default = 0.0001 = 0.01%)\n",
    "\n",
    "# Otimização\n",
    "m.optimize()"
   ]
  },
  {
   "cell_type": "code",
   "execution_count": null,
   "id": "4979d2e1-caf3-4ffa-b443-f1dbcb1e4a08",
   "metadata": {},
   "outputs": [],
   "source": [
    "# Nome do teste\n",
    "m.ModelName"
   ]
  },
  {
   "cell_type": "code",
   "execution_count": null,
   "id": "5417b64a-fe6b-43f0-be06-9abdcdfb4e2f",
   "metadata": {},
   "outputs": [],
   "source": [
    "# Número de períodos da instância\n",
    "len(T)"
   ]
  },
  {
   "cell_type": "code",
   "execution_count": null,
   "id": "9ceef625-c129-45d5-8c86-d9b1bfa65779",
   "metadata": {},
   "outputs": [],
   "source": [
    "# Número de fábricas\n",
    "len(J)"
   ]
  },
  {
   "cell_type": "code",
   "execution_count": null,
   "id": "b198daca-5743-485b-bd2b-9ea8bf166b09",
   "metadata": {},
   "outputs": [],
   "source": [
    "# Número de produtos\n",
    "len(I)"
   ]
  },
  {
   "cell_type": "code",
   "execution_count": null,
   "id": "549d7945-bfff-435f-9d19-ecf9689d735e",
   "metadata": {},
   "outputs": [],
   "source": [
    "# Tempo de execução em segundos\n",
    "m.Runtime"
   ]
  },
  {
   "cell_type": "code",
   "execution_count": null,
   "id": "c050182a-6878-4b5d-8a5b-618faf150152",
   "metadata": {},
   "outputs": [],
   "source": [
    "# Valor da função objetivo da melhor solução encontrada (upper bound da minimização)\n",
    "m.ObjVal"
   ]
  },
  {
   "cell_type": "code",
   "execution_count": null,
   "id": "160d96c6-175f-44d6-ab99-f69a4e5adf98",
   "metadata": {},
   "outputs": [],
   "source": [
    "# Lower bound da minimização\n",
    "m.ObjBound"
   ]
  },
  {
   "cell_type": "code",
   "execution_count": null,
   "id": "be3fff20-12f8-4fb3-86a7-ca80f96bc893",
   "metadata": {},
   "outputs": [],
   "source": [
    "# Gap da solução\n",
    "m.MIPgap"
   ]
  },
  {
   "cell_type": "code",
   "execution_count": null,
   "id": "2b939b33-dbd6-483f-8eda-9e035e365f1c",
   "metadata": {},
   "outputs": [],
   "source": [
    "m.Status  # Ver https://www.gurobi.com/documentation/current/refman/optimization_status_codes.html#sec:StatusCodes para interpretar códigos"
   ]
  }
 ],
 "metadata": {
  "kernelspec": {
   "display_name": "Python 3 (ipykernel)",
   "language": "python",
   "name": "python3"
  },
  "language_info": {
   "codemirror_mode": {
    "name": "ipython",
    "version": 3
   },
   "file_extension": ".py",
   "mimetype": "text/x-python",
   "name": "python",
   "nbconvert_exporter": "python",
   "pygments_lexer": "ipython3",
   "version": "3.11.3"
  }
 },
 "nbformat": 4,
 "nbformat_minor": 5
}
