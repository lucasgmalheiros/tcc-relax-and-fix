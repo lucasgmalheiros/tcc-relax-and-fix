{
 "cells": [
  {
   "cell_type": "code",
   "execution_count": 73,
   "id": "956764c4-b200-458e-9d71-c81bf49cc13b",
   "metadata": {},
   "outputs": [],
   "source": [
    "import gurobipy as gp\n",
    "from gurobipy import GRB\n",
    "import numpy as np"
   ]
  },
  {
   "cell_type": "markdown",
   "id": "52639ada-84bb-4384-811a-2e1ea738d92d",
   "metadata": {},
   "source": [
    "# Leitura de instâncias"
   ]
  },
  {
   "cell_type": "code",
   "execution_count": 74,
   "id": "bdfcc335-c26e-4b06-bec3-0d97e5fc003c",
   "metadata": {},
   "outputs": [],
   "source": [
    "def read_dat_file(file_path):\n",
    "    \"\"\"Função para a leitura das instâncias geradas\"\"\"\n",
    "    with open(file_path, 'r') as file:\n",
    "        lines = file.readlines()\n",
    "\n",
    "    # 1. Lendo quantidade de itens e períodos\n",
    "    items, periods = map(int, lines[0].split())\n",
    "\n",
    "    # 2. Lendo número de plantas\n",
    "    num_plants = int(lines[1].strip())\n",
    "\n",
    "    # 3. Lendo capacidades das plantas\n",
    "    capacities = [int(lines[i + 2].strip()) for i in range(num_plants)]\n",
    "    capacities = np.tile(capacities, (periods, 1)).T  # Repete as capacidades ao longo dos períodos (deixar na forma j, t)\n",
    "\n",
    "    # 4. Lendo a matriz de produção (tempo de produção, tempo de setup, custo de setup, custo de produção)\n",
    "    production_data = []\n",
    "    start_line = 2 + num_plants\n",
    "    production_time = np.zeros((items, num_plants))  # Inicializar listas para armazenar separadamente os tempos e custos\n",
    "    setup_time = np.zeros((items, num_plants))\n",
    "    setup_cost = np.zeros((items, num_plants))\n",
    "    production_cost = np.zeros((items, num_plants))\n",
    "    for i in range(num_plants * items):  # Preencher as matrizes com os dados lidos\n",
    "        plant = i // items  # Determina a planta\n",
    "        item = i % items    # Determina o item\n",
    "        # Extrair os dados de cada linha\n",
    "        prod_time, set_time, set_cost, prod_cost = map(float, lines[start_line + i].split())\n",
    "        production_time[item, plant] = prod_time  # Preencher as respectivas matrizes\n",
    "        setup_time[item, plant] = set_time\n",
    "        setup_cost[item, plant] = set_cost\n",
    "        production_cost[item, plant] = prod_cost\n",
    "\n",
    "    # 5. Lendo os custos de inventário\n",
    "    inventory_costs_line = start_line + num_plants * items\n",
    "    inventory_costs = list(map(float, lines[inventory_costs_line].split()))  # Lê todos os valores de inventory_costs como uma única lista\n",
    "    inventory_costs = np.array(inventory_costs).reshape(num_plants, -1)  # Divide a lista de custos de inventário por planta\n",
    "    inventory_costs = inventory_costs.T  # Deixa na forma (i, j)\n",
    "\n",
    "    # 6. Lendo a matriz de demanda (12 linhas)\n",
    "    demand_matrix = []\n",
    "    demand_start_line = inventory_costs_line + 1\n",
    "    \n",
    "    # Leitura inicial das demandas\n",
    "    for i in range(periods):  # Lê as linhas de demandas para os períodos\n",
    "        demands = list(map(int, lines[demand_start_line + i].split()))\n",
    "        demand_matrix.append(demands)\n",
    "    \n",
    "    # Agora vamos dividir os valores de cada linha combinada entre as plantas\n",
    "    final_demand_matrix = []\n",
    "    for demands in demand_matrix:\n",
    "        period_demand = []\n",
    "        for j in range(num_plants):\n",
    "            # Divide a demanda combinada por planta, assumindo que cada planta tem o mesmo número de itens\n",
    "            plant_demand = demands[j*items:(j+1)*items]\n",
    "            period_demand.append(plant_demand)\n",
    "        final_demand_matrix.append(period_demand)\n",
    "    \n",
    "    # Transpor a matriz de demanda para o formato correto (itens, plantas, períodos)\n",
    "    final_demand_matrix = np.array(final_demand_matrix)\n",
    "    final_demand_matrix = np.transpose(final_demand_matrix, (2, 1, 0))  # Converte para o formato (itens, plantas, períodos)\n",
    "\n",
    "    # 7. Reading transfer costs directly from the document as a matrix\n",
    "    transfer_cost_matrix = []\n",
    "    transfer_cost_line = demand_start_line + periods\n",
    "\n",
    "    # Read the matrix of transfer costs line by line\n",
    "    while transfer_cost_line < len(lines):\n",
    "        line = lines[transfer_cost_line].strip()\n",
    "        if line:\n",
    "            # Split the line into individual cost values and convert them to float\n",
    "            row = [float(value) for value in line.split()]\n",
    "            transfer_cost_matrix.append(row)\n",
    "        transfer_cost_line += 1\n",
    "\n",
    "    # Convert to a numpy array (optional, if you want to work with numpy for matrix operations)\n",
    "    transfer_costs = np.array(transfer_cost_matrix)\n",
    "\n",
    "    return {\"items\": items,\n",
    "            \"periods\": periods,\n",
    "            \"num_plants\": num_plants,\n",
    "            \"capacities\": capacities,\n",
    "            \"production_time\": production_time,\n",
    "            \"setup_time\": setup_time,\n",
    "            \"setup_cost\": setup_cost,  \n",
    "            \"production_cost\": production_cost,\n",
    "            \"inventory_costs\": inventory_costs,\n",
    "            \"demand_matrix\": final_demand_matrix,\n",
    "            \"transfer_costs\": transfer_costs}\n"
   ]
  },
  {
   "cell_type": "code",
   "execution_count": 75,
   "id": "7769846c-052e-42e0-94c6-7121bf1349bd",
   "metadata": {
    "scrolled": true
   },
   "outputs": [
    {
     "data": {
      "text/plain": [
       "{'items': 10,\n",
       " 'periods': 12,\n",
       " 'num_plants': 2,\n",
       " 'capacities': array([[3069, 3069, 3069, 3069, 3069, 3069, 3069, 3069, 3069, 3069, 3069,\n",
       "         3069],\n",
       "        [2793, 2793, 2793, 2793, 2793, 2793, 2793, 2793, 2793, 2793, 2793,\n",
       "         2793]]),\n",
       " 'production_time': array([[2.4, 1.3],\n",
       "        [3.8, 4.1],\n",
       "        [1.8, 2.6],\n",
       "        [2.2, 3.2],\n",
       "        [4.4, 3.6],\n",
       "        [1.6, 1.9],\n",
       "        [3.8, 4.6],\n",
       "        [4.7, 4.7],\n",
       "        [4.2, 2.2],\n",
       "        [4.9, 1.1]]),\n",
       " 'setup_time': array([[69.1, 66.4],\n",
       "        [23.8, 48.7],\n",
       "        [23.3, 74.5],\n",
       "        [38.6, 16.8],\n",
       "        [48.9, 60.8],\n",
       "        [58.1, 67.8],\n",
       "        [71.5, 51.6],\n",
       "        [57.6, 65.5],\n",
       "        [22.4, 68.5],\n",
       "        [20.6, 44.8]]),\n",
       " 'setup_cost': array([[561.8, 139.1],\n",
       "        [946.3, 871.3],\n",
       "        [898.8,  55.2],\n",
       "        [419.1, 918.5],\n",
       "        [604.3, 937.9],\n",
       "        [643.1, 593.9],\n",
       "        [ 91.2, 143.3],\n",
       "        [821.9, 208.5],\n",
       "        [ 65. , 667.6],\n",
       "        [578.8, 221.5]]),\n",
       " 'production_cost': array([[2.1, 1.6],\n",
       "        [1.8, 2.5],\n",
       "        [2.2, 2. ],\n",
       "        [2. , 2.1],\n",
       "        [1.5, 1.9],\n",
       "        [1.7, 1.7],\n",
       "        [1.7, 1.6],\n",
       "        [2.2, 2. ],\n",
       "        [2.4, 1.5],\n",
       "        [2. , 1.8]]),\n",
       " 'inventory_costs': array([[0.2, 0.3],\n",
       "        [0.4, 0.2],\n",
       "        [0.2, 0.3],\n",
       "        [0.3, 0.2],\n",
       "        [0.3, 0.2],\n",
       "        [0.4, 0.3],\n",
       "        [0.3, 0.4],\n",
       "        [0.2, 0.2],\n",
       "        [0.4, 0.3],\n",
       "        [0.3, 0.3]]),\n",
       " 'demand_matrix': array([[[ 75,  13,  61, 136, 156, 165, 128, 145,  29, 132,  38,  92],\n",
       "         [ 27, 108,  39,  33,  80, 177,  11,  31, 154,  37, 134,  73]],\n",
       " \n",
       "        [[156,  71,  45, 112,  23, 170,  32,  69, 162,  49, 142, 154],\n",
       "         [116,  46,  79, 173, 130,  15, 101, 132, 139,  75,  74, 109]],\n",
       " \n",
       "        [[ 43, 163,  90,  31,   1, 127, 148,  19,  13,  92, 111,  63],\n",
       "         [ 76, 155,   6,  72, 104, 180,  89, 173,  42,  47,  18,  83]],\n",
       " \n",
       "        [[171,  60, 102, 180,  97,  52,  55,  88, 155,   2, 107, 163],\n",
       "         [175, 161,  22,  38, 173,  26, 169,  72, 147,  20,  30,  78]],\n",
       " \n",
       "        [[ 94, 161,  26, 152,  80,  54,   3, 114, 102,  54,  14,  61],\n",
       "         [127,  52,  52, 154,  91, 128,  52,  26,  34, 131, 142, 102]],\n",
       " \n",
       "        [[  4, 167,  82,  89, 110,  68,  44,  49, 180,  40,  53,  33],\n",
       "         [ 25,   8,  73, 178, 126,  70,  12,  15, 177,   5,  87,  46]],\n",
       " \n",
       "        [[ 25, 141,  19,  63,  79, 118, 179,  48, 155,  98, 136,  97],\n",
       "         [ 77,  89,  67,   4,  53, 148,  31,  27, 157, 145,  93, 117]],\n",
       " \n",
       "        [[  9,  27, 130,  90, 137,  74,  50,  53,  47,  99,  64,  76],\n",
       "         [126,  63, 121, 162,  42,  84, 140,  63, 117,  23,  37,   4]],\n",
       " \n",
       "        [[144,   1,  34, 118,  45, 101, 131, 145,  95, 142,  50, 106],\n",
       "         [ 99, 105,  68,  45, 109, 126,  66, 172,  73, 134,  22, 118]],\n",
       " \n",
       "        [[  2, 166,  72,  90,  31, 146, 169, 176,  37,  19,  21, 164],\n",
       "         [123,  17,  81,   9,   1, 104, 153,  14,  51,  20, 167, 130]]]),\n",
       " 'transfer_costs': array([[0.  , 0.21],\n",
       "        [0.21, 0.  ]])}"
      ]
     },
     "metadata": {},
     "output_type": "display_data"
    }
   ],
   "source": [
    "# Exemplo de uso\n",
    "file_path = '../instancias/multi_plant_instances/AAA00_12_2_10.dat'\n",
    "data = read_dat_file(file_path)\n",
    "display(data)"
   ]
  },
  {
   "cell_type": "markdown",
   "id": "2576c1b9-b389-40f2-ae39-33bda1a0a356",
   "metadata": {},
   "source": [
    "# Modelagem"
   ]
  },
  {
   "cell_type": "code",
   "execution_count": 76,
   "id": "f5513369-f935-49de-99a4-6cec0bf7b4db",
   "metadata": {},
   "outputs": [],
   "source": [
    "m = gp.Model('Lot-sizing Sambasivan and Yahya')"
   ]
  },
  {
   "cell_type": "markdown",
   "id": "595f2fa2-1bf1-4ae9-a58f-95422587e232",
   "metadata": {},
   "source": [
    "## Conjuntos"
   ]
  },
  {
   "cell_type": "code",
   "execution_count": 77,
   "id": "337e6777-3f4c-49f3-b1e8-d3547010f4a8",
   "metadata": {},
   "outputs": [],
   "source": [
    "# Produtos (i)\n",
    "I = np.array([_ for _ in range(data['items'])])\n",
    "# Plantas (j)\n",
    "J = np.array([_ for _ in range(data['num_plants'])])\n",
    "# Períodos (t)\n",
    "T = np.array([_ for _ in range(data['periods'])])"
   ]
  },
  {
   "cell_type": "markdown",
   "id": "55ac26fa-edaf-4a2e-bd2a-4f4e1e9ea660",
   "metadata": {},
   "source": [
    "## Parâmetros"
   ]
  },
  {
   "cell_type": "code",
   "execution_count": 78,
   "id": "75ce9cbc-acad-4bac-a3aa-259cce01163e",
   "metadata": {},
   "outputs": [],
   "source": [
    "# Demanda (i, j, t)\n",
    "d = np.array(data['demand_matrix'])\n",
    "# Capacidade (j, t)\n",
    "cap = np.array(data['capacities'])\n",
    "# Tempo de produção (i, j)\n",
    "b = np.array(data['production_time'])\n",
    "# Tempo de setup (i, j)\n",
    "f = np.array(data['setup_time'])\n",
    "# Custo de produção (i, j)\n",
    "c = np.array(data['production_cost'])\n",
    "# Custo de setup (i, j)\n",
    "s = np.array(data['setup_cost'])\n",
    "# Custo de transporte (j, k)\n",
    "r = np.array(data['transfer_costs'])\n",
    "# Custo de estoque (i, j)\n",
    "h = np.array(data['inventory_costs'])"
   ]
  },
  {
   "cell_type": "markdown",
   "id": "c5f5d3c7-7d4a-4176-855e-b24febf323a9",
   "metadata": {},
   "source": [
    "## Variáveis de decisão"
   ]
  },
  {
   "cell_type": "code",
   "execution_count": 79,
   "id": "5143de99-4749-492d-a91d-43ed8c4df221",
   "metadata": {},
   "outputs": [],
   "source": [
    "# Quantidade produzida (i, j, t)\n",
    "X = m.addVars(I, J, T, vtype=GRB.CONTINUOUS, name='X')\n",
    "# Quantidade estocada (i, j, t)\n",
    "Q = m.addVars(I, J, T, vtype=GRB.CONTINUOUS, name='Q')\n",
    "# Quantidade transportada (i, j, k(um outro j), t)\n",
    "W = m.addVars(I, J, J, T, vtype=GRB.CONTINUOUS, name='W')\n",
    "# Variável de setup (binária) (i, j, t)\n",
    "Z = m.addVars(I, J, T, lb=0, ub=1, vtype=GRB.CONTINUOUS, name='Z')"
   ]
  },
  {
   "cell_type": "markdown",
   "id": "acfdabf5-3640-4fdb-9467-3887f426c0a1",
   "metadata": {},
   "source": [
    "## Função objetivo"
   ]
  },
  {
   "cell_type": "code",
   "execution_count": 80,
   "id": "e61bc597-0a2c-4812-9b81-292a570fd5a6",
   "metadata": {},
   "outputs": [],
   "source": [
    "expr_objetivo = sum(sum(sum(c[i, j] * X[i, j, t] + h[i, j] * Q[i, j, t] + s[i, j] * Z[i, j, t] + \n",
    "                            sum(r[j, k] * W[i, j, k, t] for k in J if k != j) for t in T) for j in J) for i in I)\n",
    "m.setObjective(expr_objetivo, sense=GRB.MINIMIZE)"
   ]
  },
  {
   "cell_type": "markdown",
   "id": "47df9ee1-6f26-4817-ab5f-d69a7b88fff5",
   "metadata": {},
   "source": [
    "## Restrições"
   ]
  },
  {
   "cell_type": "code",
   "execution_count": 81,
   "id": "3ae73222-b1d7-494f-b42c-da159098b56f",
   "metadata": {},
   "outputs": [],
   "source": [
    "# Balanço de estoque (revisar comportamento)\n",
    "# Período inicial\n",
    "m.addConstrs((Q[i, j, t] == X[i, j, t] - sum(W[i, j, k, t] for k in J if k != j) + sum(W[i, l, j, t] for l in J if l != j) - d[i, j, t] for i in I for j in J for t in T if t == 0),\n",
    "             name='restricao_balanco_estoque')\n",
    "# Demais períodos\n",
    "m.addConstrs((Q[i, j, t] == Q[i, j, t-1] + X[i, j, t] - sum(W[i, j, k, t] for k in J if k != j) + sum(W[i, l, j, t] for l in J if l != j) - d[i, j, t] for i in I for j in J for t in T if t > 0),\n",
    "             name='restricao_balanco_estoque');"
   ]
  },
  {
   "cell_type": "code",
   "execution_count": 82,
   "id": "b96463c3-af9a-4df4-b8cd-a30971e09361",
   "metadata": {},
   "outputs": [],
   "source": [
    "# Restrição que obriga setup (validar o range do r)\n",
    "m.addConstrs((X[i, j, t] <= min((cap[j, t] - f[i, j]) / b[i, j], sum(sum(d[i, k, r] for r in range(t, T[-1] + 1)) for k in J)) * Z[i, j, t] for i in I for j in J for t in T)\n",
    "             , name='restricao_setup');"
   ]
  },
  {
   "cell_type": "code",
   "execution_count": 83,
   "id": "9a8cc89f-d774-4dc4-b11e-eb2b9cc4e38c",
   "metadata": {},
   "outputs": [],
   "source": [
    "# Restrição de capacidade\n",
    "m.addConstrs((sum(b[i, j] * X[i, j, t] + f[i, j] * Z[i, j, t] for i in I) <= cap[j, t] for j in J for t in T)\n",
    "             , name='restricao_capacidade');"
   ]
  },
  {
   "cell_type": "code",
   "execution_count": 84,
   "id": "893ab437-4650-45bc-83a9-dbe10e15b316",
   "metadata": {},
   "outputs": [
    {
     "name": "stdout",
     "output_type": "stream",
     "text": [
      "<gurobi.Model Continuous instance Lot-sizing Sambasivan and Yahya: 504 constrs, 1200 vars, Parameter changes: Username=(user-defined)>\n",
      "1862721669\n"
     ]
    }
   ],
   "source": [
    "m.update()\n",
    "print(m)\n",
    "print(m.Fingerprint)"
   ]
  },
  {
   "cell_type": "markdown",
   "id": "3bd0a066-c1e6-41cb-82bd-9cb37b0155aa",
   "metadata": {},
   "source": [
    "# Resolução (Relax-and-Fix + Local Branching)"
   ]
  },
  {
   "cell_type": "code",
   "execution_count": 85,
   "id": "18adf2fa-0839-4492-8d90-4ea7d87962f4",
   "metadata": {},
   "outputs": [],
   "source": [
    "m.setParam('OutputFlag', 0)  # Desativa a exibição de logs"
   ]
  },
  {
   "cell_type": "code",
   "execution_count": 86,
   "id": "c1614d5f-7e92-45d9-a5be-a3f18059ee4e",
   "metadata": {},
   "outputs": [],
   "source": [
    "# Parâmetros\n",
    "b = 3  # Número de períodos após o qual as variáveis são fixadas\n",
    "K = 20  # Tamanho de vizinhança\n",
    "\n",
    "# Auxiliares\n",
    "k = 1  # Iterações\n",
    "N = T[-1]  # Último período do horizonte de planejamento\n",
    "\n",
    "# Main loop\n",
    "while k <= N:\n",
    "    # Variáveis na janela tornam-se binárias\n",
    "    for i in I:\n",
    "        for j in J:\n",
    "            Z[i, j, k - 1].setAttr('VType', GRB.BINARY)\n",
    "\n",
    "    # Controle da restrição de local branching\n",
    "    if k > 1:\n",
    "        if k > 2:\n",
    "            m.remove(m.getConstrByName('local_branching'))\n",
    "        # Adicionar a restrição Δ(x, x*) ≤ K\n",
    "        delta_expr = sum(Z for Z in Z0) + sum(1 - Z for Z in Z1)\n",
    "        m.addConstr(delta_expr <= K, 'local_branching')\n",
    "\n",
    "    # Resolução do subproblema\n",
    "    m.optimize()\n",
    "    if m.Status == GRB.INFEASIBLE:\n",
    "        break\n",
    "\n",
    "    # Atualização dos auxiliares\n",
    "    auxz0, auxz1 = [], []\n",
    "    for i in I:\n",
    "        for j in J:\n",
    "            for t in range(k):\n",
    "                if Z[i, j, t].VType == 'B':\n",
    "                    if Z[i, j, t].X == 0:\n",
    "                        auxz0.append(Z[i, j, t])\n",
    "                    elif Z[i, j, t].X == 1:\n",
    "                        auxz1.append(Z[i, j, t])\n",
    "    Z0, Z1 = auxz0, auxz1\n",
    "    k += 1\n",
    "    \n",
    "    # Fixação das soluções obtidas após b períodos\n",
    "    if k > b:\n",
    "        for i in I:\n",
    "            for j in J:\n",
    "                Z[i, j, k - 1 - b].setAttr('LB', Z[i, j, k - 1 - b].X)  # Lower bound fixado para a solução encontrada\n",
    "                Z[i, j, k - 1 - b].setAttr('UB', Z[i, j, k - 1 - b].X)  # Upper bound fixado para a solução encontrada\n",
    "\n",
    "# Última iteração\n",
    "if m.Status != GRB.INFEASIBLE:\n",
    "    # Variáveis na janela tornam-se binárias\n",
    "    for i in I:\n",
    "        for j in J:\n",
    "            Z[i, j, k - 1].setAttr('VType', GRB.BINARY)\n",
    "    m.remove(m.getConstrByName('local_branching'))\n",
    "    # Adicionar a restrição Δ(x, x*) ≤ K\n",
    "    delta_expr = sum(Z for Z in Z0) + sum(1 - Z for Z in Z1)\n",
    "    m.addConstr(delta_expr <= K, 'local_branching')\n",
    "    # Última resolução\n",
    "    m.optimize()"
   ]
  },
  {
   "cell_type": "code",
   "execution_count": 87,
   "id": "a705d47e-3faa-4a3b-83e5-746d6b45101b",
   "metadata": {},
   "outputs": [
    {
     "data": {
      "text/plain": [
       "12"
      ]
     },
     "execution_count": 87,
     "metadata": {},
     "output_type": "execute_result"
    }
   ],
   "source": [
    "# Número de períodos da instância\n",
    "len(T)"
   ]
  },
  {
   "cell_type": "code",
   "execution_count": 88,
   "id": "65a01853-e952-4fae-87ad-6628296ecb51",
   "metadata": {},
   "outputs": [
    {
     "data": {
      "text/plain": [
       "2"
      ]
     },
     "execution_count": 88,
     "metadata": {},
     "output_type": "execute_result"
    }
   ],
   "source": [
    "# Número de fábricas\n",
    "len(J)"
   ]
  },
  {
   "cell_type": "code",
   "execution_count": 89,
   "id": "3f4c4a53-de6f-4543-9def-4304954a7945",
   "metadata": {},
   "outputs": [
    {
     "data": {
      "text/plain": [
       "10"
      ]
     },
     "execution_count": 89,
     "metadata": {},
     "output_type": "execute_result"
    }
   ],
   "source": [
    "# Número de produtos\n",
    "len(I)"
   ]
  },
  {
   "cell_type": "code",
   "execution_count": 90,
   "id": "c0a731a6-f6b5-4fce-b4ee-57574b845f22",
   "metadata": {},
   "outputs": [
    {
     "data": {
      "text/plain": [
       "64952.208939804164"
      ]
     },
     "execution_count": 90,
     "metadata": {},
     "output_type": "execute_result"
    }
   ],
   "source": [
    "# Valor da função objetivo da melhor solução encontrada (upper bound da minimização)\n",
    "m.ObjVal"
   ]
  }
 ],
 "metadata": {
  "kernelspec": {
   "display_name": "venv",
   "language": "python",
   "name": "python3"
  },
  "language_info": {
   "codemirror_mode": {
    "name": "ipython",
    "version": 3
   },
   "file_extension": ".py",
   "mimetype": "text/x-python",
   "name": "python",
   "nbconvert_exporter": "python",
   "pygments_lexer": "ipython3",
   "version": "3.11.3"
  }
 },
 "nbformat": 4,
 "nbformat_minor": 5
}
