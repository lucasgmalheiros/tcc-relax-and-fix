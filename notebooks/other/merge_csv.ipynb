{
 "cells": [
  {
   "cell_type": "code",
   "execution_count": 50,
   "metadata": {},
   "outputs": [],
   "source": [
    "import pandas as pd"
   ]
  },
  {
   "cell_type": "code",
   "execution_count": 51,
   "metadata": {},
   "outputs": [],
   "source": [
    "w = 6\n",
    "o = 1"
   ]
  },
  {
   "cell_type": "code",
   "execution_count": 52,
   "metadata": {},
   "outputs": [],
   "source": [
    "df1 = pd.read_csv(f'../../solve_relax_and_fix/solve_relax_and_fix_{w}_{o}/resultados1.csv')\n",
    "df2 = pd.read_csv(f'../../solve_relax_and_fix/solve_relax_and_fix_{w}_{o}/resultados2.csv')\n",
    "df3 = pd.read_csv(f'../../solve_relax_and_fix/solve_relax_and_fix_{w}_{o}/resultados3.csv')\n",
    "df4 = pd.read_csv(f'../../solve_relax_and_fix/solve_relax_and_fix_{w}_{o}/resultados4.csv')"
   ]
  },
  {
   "cell_type": "code",
   "execution_count": 53,
   "metadata": {},
   "outputs": [],
   "source": [
    "df_combined = pd.concat([df1, df2, df3, df4], axis=0)\n",
    "df_combined.to_csv(\"combined_dataframe.csv\", index=False)"
   ]
  }
 ],
 "metadata": {
  "kernelspec": {
   "display_name": "venv",
   "language": "python",
   "name": "python3"
  },
  "language_info": {
   "codemirror_mode": {
    "name": "ipython",
    "version": 3
   },
   "file_extension": ".py",
   "mimetype": "text/x-python",
   "name": "python",
   "nbconvert_exporter": "python",
   "pygments_lexer": "ipython3",
   "version": "3.12.3"
  }
 },
 "nbformat": 4,
 "nbformat_minor": 2
}
