{
 "cells": [
  {
   "cell_type": "code",
   "execution_count": 10,
   "metadata": {},
   "outputs": [],
   "source": [
    "import pandas as pd"
   ]
  },
  {
   "cell_type": "code",
   "execution_count": 11,
   "metadata": {},
   "outputs": [],
   "source": [
    "df1 = pd.read_csv('../../solve_relax_and_fix/solve_relax_and_fix_3_1/resultados1.csv')\n",
    "df2 = pd.read_csv('../../solve_relax_and_fix/solve_relax_and_fix_3_1/resultados2.csv')\n",
    "df3 = pd.read_csv('../../solve_relax_and_fix/solve_relax_and_fix_3_1/resultados3.csv')\n",
    "df4 = pd.read_csv('../../solve_relax_and_fix/solve_relax_and_fix_3_1/resultados4.csv')"
   ]
  },
  {
   "cell_type": "code",
   "execution_count": 12,
   "metadata": {},
   "outputs": [],
   "source": [
    "df_combined = pd.concat([df1, df2, df3, df4], axis=0)\n",
    "df_combined.to_csv(\"combined_dataframe.csv\", index=False)"
   ]
  }
 ],
 "metadata": {
  "kernelspec": {
   "display_name": "venv",
   "language": "python",
   "name": "python3"
  },
  "language_info": {
   "codemirror_mode": {
    "name": "ipython",
    "version": 3
   },
   "file_extension": ".py",
   "mimetype": "text/x-python",
   "name": "python",
   "nbconvert_exporter": "python",
   "pygments_lexer": "ipython3",
   "version": "3.11.3"
  }
 },
 "nbformat": 4,
 "nbformat_minor": 2
}
