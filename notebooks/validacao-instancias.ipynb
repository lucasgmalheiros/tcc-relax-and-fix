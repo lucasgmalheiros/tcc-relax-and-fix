{
 "cells": [
  {
   "cell_type": "code",
   "execution_count": 90,
   "id": "956764c4-b200-458e-9d71-c81bf49cc13b",
   "metadata": {},
   "outputs": [],
   "source": [
    "import gurobipy as gp\n",
    "from gurobipy import GRB\n",
    "import numpy as np\n",
    "import matplotlib.pyplot as plt"
   ]
  },
  {
   "cell_type": "markdown",
   "id": "52639ada-84bb-4384-811a-2e1ea738d92d",
   "metadata": {},
   "source": [
    "# Leitura de instâncias"
   ]
  },
  {
   "cell_type": "code",
   "execution_count": 91,
   "id": "bdfcc335-c26e-4b06-bec3-0d97e5fc003c",
   "metadata": {},
   "outputs": [],
   "source": [
    "def read_dat_file(file_path):\n",
    "    \"\"\"\"Função para a leitura das instâncias geradas\"\"\"\n",
    "    with open(file_path, 'r') as file:\n",
    "        lines = file.readlines()\n",
    "\n",
    "    # 1. Lendo quantidade de itens e períodos\n",
    "    items, periods = map(int, lines[0].split())\n",
    "\n",
    "    # 2. Lendo número de plantas\n",
    "    num_plants = int(lines[1].strip())\n",
    "\n",
    "    # 3. Lendo capacidades das plantas\n",
    "    capacities = [int(lines[i + 2].strip()) for i in range(num_plants)]\n",
    "    capacities = np.tile(capacities, (periods, 1)).T  # Repete as capacidades ao longo dos períodos (deixar na forma j, t)\n",
    "\n",
    "    # 4. Lendo a matriz de produção (tempo de produção, tempo de setup, custo de setup, custo de produção)\n",
    "    production_data = []\n",
    "    start_line = 2 + num_plants\n",
    "    production_time = np.zeros((items, num_plants))  # Inicializar listas para armazenar separadamente os tempos e custos\n",
    "    setup_time = np.zeros((items, num_plants))\n",
    "    setup_cost = np.zeros((items, num_plants))\n",
    "    production_cost = np.zeros((items, num_plants))\n",
    "    for i in range(num_plants * items):  # Preencher as matrizes com os dados lidos\n",
    "        plant = i // items  # Determina a planta\n",
    "        item = i % items    # Determina o item\n",
    "        # Extrair os dados de cada linha\n",
    "        prod_time, set_time, set_cost, prod_cost = map(float, lines[start_line + i].split())\n",
    "        production_time[item, plant] = prod_time  # Preencher as respectivas matrizes\n",
    "        setup_time[item, plant] = set_time\n",
    "        setup_cost[item, plant] = set_cost\n",
    "        production_cost[item, plant] = prod_cost\n",
    "\n",
    "    # 5. Lendo os custos de inventário\n",
    "    inventory_costs_line = start_line + num_plants * items\n",
    "    inventory_costs = list(map(float, lines[inventory_costs_line].split()))  # Lê todos os valores de inventory_costs como uma única lista\n",
    "    inventory_costs = np.array(inventory_costs).reshape(num_plants, -1)  # Divide a lista de custos de inventário por planta\n",
    "    inventory_costs = inventory_costs.T  # Deixa na forma (i, j)\n",
    "\n",
    "    # 6. Lendo a matriz de demanda (12 linhas)\n",
    "    demand_matrix = []\n",
    "    demand_start_line = inventory_costs_line + 1\n",
    "    \n",
    "    # Leitura inicial das demandas\n",
    "    for i in range(periods):  # Lê as linhas de demandas para os períodos\n",
    "        demands = list(map(int, lines[demand_start_line + i].split()))\n",
    "        demand_matrix.append(demands)\n",
    "    \n",
    "    # Agora vamos dividir os valores de cada linha combinada entre as plantas\n",
    "    final_demand_matrix = []\n",
    "    for demands in demand_matrix:\n",
    "        period_demand = []\n",
    "        for j in range(num_plants):\n",
    "            # Divide a demanda combinada por planta, assumindo que cada planta tem o mesmo número de itens\n",
    "            plant_demand = demands[j*items:(j+1)*items]\n",
    "            period_demand.append(plant_demand)\n",
    "        final_demand_matrix.append(period_demand)\n",
    "    \n",
    "    # Transpor a matriz de demanda para o formato correto (itens, plantas, períodos)\n",
    "    final_demand_matrix = np.array(final_demand_matrix)\n",
    "    final_demand_matrix = np.transpose(final_demand_matrix, (2, 1, 0))  # Converte para o formato (itens, plantas, períodos)\n",
    "\n",
    "    # 7. Reading transfer costs directly from the document as a matrix\n",
    "    transfer_cost_matrix = []\n",
    "    transfer_cost_line = demand_start_line + periods\n",
    "\n",
    "    # Read the matrix of transfer costs line by line\n",
    "    while transfer_cost_line < len(lines):\n",
    "        line = lines[transfer_cost_line].strip()\n",
    "        if line:\n",
    "            # Split the line into individual cost values and convert them to float\n",
    "            row = [float(value) for value in line.split()]\n",
    "            transfer_cost_matrix.append(row)\n",
    "        transfer_cost_line += 1\n",
    "\n",
    "    # Convert to a numpy array (optional, if you want to work with numpy for matrix operations)\n",
    "    transfer_costs = np.array(transfer_cost_matrix)\n",
    "\n",
    "    return {\"items\": items,\n",
    "            \"periods\": periods,\n",
    "            \"num_plants\": num_plants,\n",
    "            \"capacities\": capacities,\n",
    "            \"production_time\": production_time,\n",
    "            \"setup_time\": setup_time,\n",
    "            \"setup_cost\": setup_cost,  \n",
    "            \"production_cost\": production_cost,\n",
    "            \"inventory_costs\": inventory_costs,\n",
    "            \"demand_matrix\": final_demand_matrix,\n",
    "            \"transfer_costs\": transfer_costs}\n"
   ]
  },
  {
   "cell_type": "code",
   "execution_count": 92,
   "id": "7769846c-052e-42e0-94c6-7121bf1349bd",
   "metadata": {
    "scrolled": true
   },
   "outputs": [
    {
     "data": {
      "text/plain": [
       "{'items': 10,\n",
       " 'periods': 12,\n",
       " 'num_plants': 2,\n",
       " 'capacities': array([[2812, 2812, 2812, 2812, 2812, 2812, 2812, 2812, 2812, 2812, 2812,\n",
       "         2812],\n",
       "        [3103, 3103, 3103, 3103, 3103, 3103, 3103, 3103, 3103, 3103, 3103,\n",
       "         3103]]),\n",
       " 'production_time': array([[4.9, 2.5],\n",
       "        [4.2, 2.7],\n",
       "        [4. , 4.2],\n",
       "        [2.5, 1.1],\n",
       "        [1.6, 2.5],\n",
       "        [1.6, 4.6],\n",
       "        [2.7, 3.4],\n",
       "        [2.9, 5. ],\n",
       "        [3.7, 4.3],\n",
       "        [1.2, 1.8]]),\n",
       " 'setup_time': array([[48.8, 59.2],\n",
       "        [42. , 47.6],\n",
       "        [42. , 72. ],\n",
       "        [53.9, 70.5],\n",
       "        [29.5, 65.6],\n",
       "        [64.6, 23.2],\n",
       "        [62. , 29.6],\n",
       "        [19.8, 47.4],\n",
       "        [33.9, 59.2],\n",
       "        [69.9, 44.6]]),\n",
       " 'setup_cost': array([[320.5,  88.5],\n",
       "        [866.6, 320.5],\n",
       "        [450.1, 550.6],\n",
       "        [ 88. , 578.1],\n",
       "        [593.3, 394. ],\n",
       "        [713. , 390.3],\n",
       "        [498.3, 123. ],\n",
       "        [381.1, 767.1],\n",
       "        [267. , 431.6],\n",
       "        [396.8,  93.3]]),\n",
       " 'production_cost': array([[1.7, 2.4],\n",
       "        [2.1, 1.8],\n",
       "        [1.8, 1.9],\n",
       "        [1.7, 2.4],\n",
       "        [1.7, 1.8],\n",
       "        [2. , 1.9],\n",
       "        [1.6, 2. ],\n",
       "        [1.5, 2.1],\n",
       "        [1.8, 1.6],\n",
       "        [2.2, 1.7]]),\n",
       " 'inventory_costs': array([[0.2, 0.4],\n",
       "        [0.3, 0.4],\n",
       "        [0.4, 0.4],\n",
       "        [0.4, 0.2],\n",
       "        [0.2, 0.4],\n",
       "        [0.3, 0.4],\n",
       "        [0.2, 0.3],\n",
       "        [0.3, 0.4],\n",
       "        [0.3, 0.3],\n",
       "        [0.4, 0.3]]),\n",
       " 'demand_matrix': array([[[ 41, 134,  25,  36, 133, 106,  45,  30,  80,  56,  73,  69],\n",
       "         [ 21, 129, 179, 171, 121, 139,  75, 139,  38, 117,  53,  78]],\n",
       " \n",
       "        [[ 17, 137,  62, 134,  66,  32, 156, 145,  53, 126,  80,  34],\n",
       "         [144, 115, 148,  84,  43,  30, 148,  17, 130, 100,  29,  26]],\n",
       " \n",
       "        [[ 99, 175, 176,   7,  46,  25, 125,  54,  57,  59, 173,  92],\n",
       "         [126,  20, 167,  46,   7,  47,  31,  91,  99, 149, 102,  51]],\n",
       " \n",
       "        [[ 85,  66, 170,  97, 146, 128, 110, 103, 118, 168, 159, 117],\n",
       "         [ 30,   6,  49,  65,  70,  79,  42,  36, 132, 115,  48,  10]],\n",
       " \n",
       "        [[158,  30,  46,  26, 129,  66,  74,  98, 175, 101, 152,  44],\n",
       "         [167, 134, 135, 170, 174,  30,  49,  74,  78, 157,  47,  45]],\n",
       " \n",
       "        [[ 36, 114, 113,  17,  75,  63,   2,   8, 165,  84, 162,  81],\n",
       "         [ 69, 115,  92,  70, 122, 135,  84,  62, 136,  59, 148,  24]],\n",
       " \n",
       "        [[145, 142,  82,  36, 156, 143,  69, 160, 164,  85,  32,  20],\n",
       "         [  7,  53,  18,  88,  94, 172, 132,  68, 156, 144,  30, 121]],\n",
       " \n",
       "        [[168,  48, 132,  71, 153, 131,  55,  61,  88,  28,  99, 157],\n",
       "         [142,  12, 160,  37, 120,  61,  24,  68,  83, 159, 177,  85]],\n",
       " \n",
       "        [[168,  78,  28,  81, 151, 125,  59,  34,  91, 163,  24, 129],\n",
       "         [ 73,  96, 171,  26, 174,  31,  66, 163,  72,  56,  29, 160]],\n",
       " \n",
       "        [[ 76, 141,   3, 150,   5,  24, 138,  62, 135, 132, 163,  83],\n",
       "         [ 72, 153, 164,  66, 111, 165, 139,  38, 180,  44,  13,  93]]]),\n",
       " 'transfer_costs': array([[0. , 0.3],\n",
       "        [0.3, 0. ]])}"
      ]
     },
     "metadata": {},
     "output_type": "display_data"
    }
   ],
   "source": [
    "# Exemplo de uso\n",
    "file_path = '../instancias/multi_plant_instances/AAA02_12_2_10.dat'\n",
    "data = read_dat_file(file_path)\n",
    "display(data)"
   ]
  },
  {
   "cell_type": "markdown",
   "id": "2576c1b9-b389-40f2-ae39-33bda1a0a356",
   "metadata": {},
   "source": [
    "# Modelagem"
   ]
  },
  {
   "cell_type": "code",
   "execution_count": 93,
   "id": "f5513369-f935-49de-99a4-6cec0bf7b4db",
   "metadata": {},
   "outputs": [],
   "source": [
    "m = gp.Model('Lot-sizing Sambasivan and Yahya')"
   ]
  },
  {
   "cell_type": "markdown",
   "id": "595f2fa2-1bf1-4ae9-a58f-95422587e232",
   "metadata": {},
   "source": [
    "## Conjuntos"
   ]
  },
  {
   "cell_type": "code",
   "execution_count": 94,
   "id": "337e6777-3f4c-49f3-b1e8-d3547010f4a8",
   "metadata": {},
   "outputs": [],
   "source": [
    "# Produtos (i)\n",
    "I = np.array([_ for _ in range(data['items'])])\n",
    "# Plantas (j)\n",
    "J = np.array([_ for _ in range(data['num_plants'])])\n",
    "# Períodos (t)\n",
    "T = np.array([_ for _ in range(data['periods'])])"
   ]
  },
  {
   "cell_type": "markdown",
   "id": "55ac26fa-edaf-4a2e-bd2a-4f4e1e9ea660",
   "metadata": {},
   "source": [
    "## Parâmetros"
   ]
  },
  {
   "cell_type": "code",
   "execution_count": 95,
   "id": "75ce9cbc-acad-4bac-a3aa-259cce01163e",
   "metadata": {},
   "outputs": [],
   "source": [
    "# Demanda (i, j, t)\n",
    "d = np.array(data['demand_matrix'])\n",
    "# Capacidade (j, t)\n",
    "cap = np.array(data['capacities'])\n",
    "# Tempo de produção (i, j)\n",
    "b = np.array(data['production_time'])\n",
    "# Tempo de setup (i, j)\n",
    "f = np.array(data['setup_time'])\n",
    "# Custo de produção (i, j)\n",
    "c = np.array(data['production_cost'])\n",
    "# Custo de setup (i, j)\n",
    "s = np.array(data['setup_cost'])\n",
    "# Custo de transporte (j, k)\n",
    "r = np.array(data['transfer_costs'])\n",
    "# Custo de estoque (i, j)\n",
    "h = np.array(data['inventory_costs'])"
   ]
  },
  {
   "cell_type": "markdown",
   "id": "c5f5d3c7-7d4a-4176-855e-b24febf323a9",
   "metadata": {},
   "source": [
    "## Variáveis de decisão"
   ]
  },
  {
   "cell_type": "code",
   "execution_count": 96,
   "id": "5143de99-4749-492d-a91d-43ed8c4df221",
   "metadata": {},
   "outputs": [],
   "source": [
    "# Quantidade produzida (i, j, t)\n",
    "X = m.addVars(I, J, T, vtype=GRB.CONTINUOUS, name='X')\n",
    "# Quantidade estocada (i, j, t)\n",
    "Q = m.addVars(I, J, T, vtype=GRB.CONTINUOUS, name='Q')\n",
    "# Quantidade transportada (i, j, k(um outro j), t)\n",
    "W = m.addVars(I, J, J, T, vtype=GRB.CONTINUOUS, name='W')\n",
    "# Variável de setup (binária) (i, j, t)\n",
    "Z = m.addVars(I, J, T, lb=0, ub=1, vtype=GRB.CONTINUOUS, name='Z')"
   ]
  },
  {
   "cell_type": "markdown",
   "id": "acfdabf5-3640-4fdb-9467-3887f426c0a1",
   "metadata": {},
   "source": [
    "## Função objetivo"
   ]
  },
  {
   "cell_type": "code",
   "execution_count": 97,
   "id": "e61bc597-0a2c-4812-9b81-292a570fd5a6",
   "metadata": {},
   "outputs": [],
   "source": [
    "expr_objetivo = sum(sum(sum(c[i, j] * X[i, j, t] + h[i, j] * Q[i, j, t] + s[i, j] * Z[i, j, t] + \n",
    "                            sum(r[j, k] * W[i, j, k, t] for k in J if k != j) for t in T) for j in J) for i in I)\n",
    "m.setObjective(expr_objetivo, sense=GRB.MINIMIZE)"
   ]
  },
  {
   "cell_type": "markdown",
   "id": "47df9ee1-6f26-4817-ab5f-d69a7b88fff5",
   "metadata": {},
   "source": [
    "## Restrições"
   ]
  },
  {
   "cell_type": "code",
   "execution_count": 98,
   "id": "3ae73222-b1d7-494f-b42c-da159098b56f",
   "metadata": {},
   "outputs": [],
   "source": [
    "# Balanço de estoque (revisar comportamento)\n",
    "# Período inicial\n",
    "m.addConstrs((Q[i, j, t] == X[i, j, t] - sum(W[i, j, k, t] for k in J if k != j) + sum(W[i, l, j, t] for l in J if l != j) - d[i, j, t] for i in I for j in J for t in T if t == 0),\n",
    "             name='restricao_balanco_estoque')\n",
    "# Demais períodos\n",
    "m.addConstrs((Q[i, j, t] == Q[i, j, t-1] + X[i, j, t] - sum(W[i, j, k, t] for k in J if k != j) + sum(W[i, l, j, t] for l in J if l != j) - d[i, j, t] for i in I for j in J for t in T if t > 0),\n",
    "             name='restricao_balanco_estoque');"
   ]
  },
  {
   "cell_type": "code",
   "execution_count": 99,
   "id": "b96463c3-af9a-4df4-b8cd-a30971e09361",
   "metadata": {},
   "outputs": [],
   "source": [
    "# Restrição que obriga setup (validar o range do r)\n",
    "m.addConstrs((X[i, j, t] <= min((cap[j, t] - f[i, j]) / b[i, j], sum(sum(d[i, k, r] for r in range(t, T[-1] + 1)) for k in J)) * Z[i, j, t] for i in I for j in J for t in T)\n",
    "             , name='restricao_setup');"
   ]
  },
  {
   "cell_type": "code",
   "execution_count": 100,
   "id": "9a8cc89f-d774-4dc4-b11e-eb2b9cc4e38c",
   "metadata": {},
   "outputs": [],
   "source": [
    "# Restrição de capacidade\n",
    "m.addConstrs((sum(b[i, j] * X[i, j, t] + f[i, j] * Z[i, j, t] for i in I) <= cap[j, t] for j in J for t in T)\n",
    "             , name='restricao_capacidade');"
   ]
  },
  {
   "cell_type": "code",
   "execution_count": 101,
   "id": "893ab437-4650-45bc-83a9-dbe10e15b316",
   "metadata": {},
   "outputs": [
    {
     "name": "stdout",
     "output_type": "stream",
     "text": [
      "<gurobi.Model Continuous instance Lot-sizing Sambasivan and Yahya: 504 constrs, 1200 vars, Parameter changes: Username=(user-defined)>\n",
      "1311338229\n"
     ]
    }
   ],
   "source": [
    "m.update()\n",
    "print(m)\n",
    "print(m.Fingerprint)"
   ]
  },
  {
   "cell_type": "markdown",
   "id": "3bd0a066-c1e6-41cb-82bd-9cb37b0155aa",
   "metadata": {},
   "source": [
    "# Investigação do caráter das demandas"
   ]
  },
  {
   "cell_type": "markdown",
   "id": "141dad17",
   "metadata": {},
   "source": [
    "A média das demandas de um produto i é igual entre períodos t ao agregar a demanda entre plantas?"
   ]
  },
  {
   "cell_type": "code",
   "execution_count": 102,
   "id": "51032b24",
   "metadata": {},
   "outputs": [
    {
     "data": {
      "text/plain": [
       "array([0, 1, 2, 3, 4, 5, 6, 7, 8, 9])"
      ]
     },
     "execution_count": 102,
     "metadata": {},
     "output_type": "execute_result"
    }
   ],
   "source": [
    "# Produtos\n",
    "I"
   ]
  },
  {
   "cell_type": "code",
   "execution_count": 103,
   "id": "f8e4b880",
   "metadata": {},
   "outputs": [
    {
     "data": {
      "text/plain": [
       "array([0, 1])"
      ]
     },
     "execution_count": 103,
     "metadata": {},
     "output_type": "execute_result"
    }
   ],
   "source": [
    "# Plantas\n",
    "J"
   ]
  },
  {
   "cell_type": "code",
   "execution_count": 104,
   "id": "ac552481",
   "metadata": {},
   "outputs": [
    {
     "data": {
      "text/plain": [
       "array([ 0,  1,  2,  3,  4,  5,  6,  7,  8,  9, 10, 11])"
      ]
     },
     "execution_count": 104,
     "metadata": {},
     "output_type": "execute_result"
    }
   ],
   "source": [
    "# Períodos\n",
    "T"
   ]
  },
  {
   "cell_type": "code",
   "execution_count": 105,
   "id": "de194994",
   "metadata": {},
   "outputs": [],
   "source": [
    "# Demanda por produto por período\n",
    "demanda_agregada = np.zeros(shape=(len(I), len(T)))\n",
    "for i in I:\n",
    "    for t in T:\n",
    "        demanda_agregada[i, t] = sum(d[i, j, t] for j in J)\n",
    "# Demanda por período por produto\n",
    "# demanda_agregada = demanda_agregada.transpose()"
   ]
  },
  {
   "cell_type": "code",
   "execution_count": 106,
   "id": "29e6aefb",
   "metadata": {},
   "outputs": [],
   "source": [
    "average_demand_product = np.zeros(len(I))\n",
    "for i in I:\n",
    "    average_demand_product[i] = demanda_agregada[i].mean()"
   ]
  },
  {
   "cell_type": "code",
   "execution_count": 107,
   "id": "6e8d4b53",
   "metadata": {},
   "outputs": [
    {
     "data": {
      "image/png": "[encoded data removed]",
      "text/plain": [
       "<Figure size 640x480 with 1 Axes>"
      ]
     },
     "metadata": {},
     "output_type": "display_data"
    }
   ],
   "source": [
    "plt.hist(average_demand_product)\n",
    "plt.show()"
   ]
  },
  {
   "cell_type": "code",
   "execution_count": 108,
   "id": "613a4607",
   "metadata": {},
   "outputs": [],
   "source": [
    "average_demand_period = np.zeros(len(T))\n",
    "for t in T:\n",
    "    average_demand_period[t] = demanda_agregada.transpose()[t].mean()"
   ]
  },
  {
   "cell_type": "code",
   "execution_count": 110,
   "id": "f51616a6",
   "metadata": {},
   "outputs": [
    {
     "data": {
      "text/plain": [
       "array([184.4, 189.8, 212. , 147.8, 209.6, 173.2, 162.3, 151.1, 223. ,\n",
       "       210.2, 179.3, 151.9])"
      ]
     },
     "execution_count": 110,
     "metadata": {},
     "output_type": "execute_result"
    }
   ],
   "source": [
    "average_demand_period"
   ]
  },
  {
   "cell_type": "code",
   "execution_count": 109,
   "id": "280428ce",
   "metadata": {},
   "outputs": [
    {
     "data": {
      "image/png": "[encoded data removed]",
      "text/plain": [
       "<Figure size 640x480 with 1 Axes>"
      ]
     },
     "metadata": {},
     "output_type": "display_data"
    }
   ],
   "source": [
    "plt.hist(average_demand_period)\n",
    "plt.show()"
   ]
  }
 ],
 "metadata": {
  "kernelspec": {
   "display_name": "venv",
   "language": "python",
   "name": "python3"
  },
  "language_info": {
   "codemirror_mode": {
    "name": "ipython",
    "version": 3
   },
   "file_extension": ".py",
   "mimetype": "text/x-python",
   "name": "python",
   "nbconvert_exporter": "python",
   "pygments_lexer": "ipython3",
   "version": "3.11.3"
  }
 },
 "nbformat": 4,
 "nbformat_minor": 5
}
