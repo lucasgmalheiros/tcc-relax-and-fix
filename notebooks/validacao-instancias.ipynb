{
 "cells": [
  {
   "cell_type": "code",
   "execution_count": 1,
   "id": "956764c4-b200-458e-9d71-c81bf49cc13b",
   "metadata": {},
   "outputs": [],
   "source": [
    "import gurobipy as gp\n",
    "from gurobipy import GRB\n",
    "import numpy as np\n",
    "import matplotlib.pyplot as plt"
   ]
  },
  {
   "cell_type": "markdown",
   "id": "52639ada-84bb-4384-811a-2e1ea738d92d",
   "metadata": {},
   "source": [
    "# Leitura de instâncias"
   ]
  },
  {
   "cell_type": "code",
   "execution_count": 2,
   "id": "bdfcc335-c26e-4b06-bec3-0d97e5fc003c",
   "metadata": {},
   "outputs": [],
   "source": [
    "def read_dat_file(file_path):\n",
    "    \"\"\"\"Função para a leitura das instâncias geradas\"\"\"\n",
    "    with open(file_path, 'r') as file:\n",
    "        lines = file.readlines()\n",
    "\n",
    "    # 1. Lendo quantidade de itens e períodos\n",
    "    items, periods = map(int, lines[0].split())\n",
    "\n",
    "    # 2. Lendo número de plantas\n",
    "    num_plants = int(lines[1].strip())\n",
    "\n",
    "    # 3. Lendo capacidades das plantas\n",
    "    capacities = [int(lines[i + 2].strip()) for i in range(num_plants)]\n",
    "    capacities = np.tile(capacities, (periods, 1)).T  # Repete as capacidades ao longo dos períodos (deixar na forma j, t)\n",
    "\n",
    "    # 4. Lendo a matriz de produção (tempo de produção, tempo de setup, custo de setup, custo de produção)\n",
    "    production_data = []\n",
    "    start_line = 2 + num_plants\n",
    "    production_time = np.zeros((items, num_plants))  # Inicializar listas para armazenar separadamente os tempos e custos\n",
    "    setup_time = np.zeros((items, num_plants))\n",
    "    setup_cost = np.zeros((items, num_plants))\n",
    "    production_cost = np.zeros((items, num_plants))\n",
    "    for i in range(num_plants * items):  # Preencher as matrizes com os dados lidos\n",
    "        plant = i // items  # Determina a planta\n",
    "        item = i % items    # Determina o item\n",
    "        # Extrair os dados de cada linha\n",
    "        prod_time, set_time, set_cost, prod_cost = map(float, lines[start_line + i].split())\n",
    "        production_time[item, plant] = prod_time  # Preencher as respectivas matrizes\n",
    "        setup_time[item, plant] = set_time\n",
    "        setup_cost[item, plant] = set_cost\n",
    "        production_cost[item, plant] = prod_cost\n",
    "\n",
    "    # 5. Lendo os custos de inventário\n",
    "    inventory_costs_line = start_line + num_plants * items\n",
    "    inventory_costs = list(map(float, lines[inventory_costs_line].split()))  # Lê todos os valores de inventory_costs como uma única lista\n",
    "    inventory_costs = np.array(inventory_costs).reshape(num_plants, -1)  # Divide a lista de custos de inventário por planta\n",
    "    inventory_costs = inventory_costs.T  # Deixa na forma (i, j)\n",
    "\n",
    "    # 6. Lendo a matriz de demanda (12 linhas)\n",
    "    demand_matrix = []\n",
    "    demand_start_line = inventory_costs_line + 1\n",
    "    \n",
    "    # Leitura inicial das demandas\n",
    "    for i in range(periods):  # Lê as linhas de demandas para os períodos\n",
    "        demands = list(map(int, lines[demand_start_line + i].split()))\n",
    "        demand_matrix.append(demands)\n",
    "    \n",
    "    # Agora vamos dividir os valores de cada linha combinada entre as plantas\n",
    "    final_demand_matrix = []\n",
    "    for demands in demand_matrix:\n",
    "        period_demand = []\n",
    "        for j in range(num_plants):\n",
    "            # Divide a demanda combinada por planta, assumindo que cada planta tem o mesmo número de itens\n",
    "            plant_demand = demands[j*items:(j+1)*items]\n",
    "            period_demand.append(plant_demand)\n",
    "        final_demand_matrix.append(period_demand)\n",
    "    \n",
    "    # Transpor a matriz de demanda para o formato correto (itens, plantas, períodos)\n",
    "    final_demand_matrix = np.array(final_demand_matrix)\n",
    "    final_demand_matrix = np.transpose(final_demand_matrix, (2, 1, 0))  # Converte para o formato (itens, plantas, períodos)\n",
    "\n",
    "    # 7. Reading transfer costs directly from the document as a matrix\n",
    "    transfer_cost_matrix = []\n",
    "    transfer_cost_line = demand_start_line + periods\n",
    "\n",
    "    # Read the matrix of transfer costs line by line\n",
    "    while transfer_cost_line < len(lines):\n",
    "        line = lines[transfer_cost_line].strip()\n",
    "        if line:\n",
    "            # Split the line into individual cost values and convert them to float\n",
    "            row = [float(value) for value in line.split()]\n",
    "            transfer_cost_matrix.append(row)\n",
    "        transfer_cost_line += 1\n",
    "\n",
    "    # Convert to a numpy array (optional, if you want to work with numpy for matrix operations)\n",
    "    transfer_costs = np.array(transfer_cost_matrix)\n",
    "\n",
    "    return {\"items\": items,\n",
    "            \"periods\": periods,\n",
    "            \"num_plants\": num_plants,\n",
    "            \"capacities\": capacities,\n",
    "            \"production_time\": production_time,\n",
    "            \"setup_time\": setup_time,\n",
    "            \"setup_cost\": setup_cost,  \n",
    "            \"production_cost\": production_cost,\n",
    "            \"inventory_costs\": inventory_costs,\n",
    "            \"demand_matrix\": final_demand_matrix,\n",
    "            \"transfer_costs\": transfer_costs}\n"
   ]
  },
  {
   "cell_type": "code",
   "execution_count": 3,
   "id": "7769846c-052e-42e0-94c6-7121bf1349bd",
   "metadata": {
    "scrolled": true
   },
   "outputs": [
    {
     "data": {
      "text/plain": [
       "{'items': 20,\n",
       " 'periods': 12,\n",
       " 'num_plants': 4,\n",
       " 'capacities': array([[4243, 4243, 4243, 4243, 4243, 4243, 4243, 4243, 4243, 4243, 4243,\n",
       "         4243],\n",
       "        [4100, 4100, 4100, 4100, 4100, 4100, 4100, 4100, 4100, 4100, 4100,\n",
       "         4100],\n",
       "        [3702, 3702, 3702, 3702, 3702, 3702, 3702, 3702, 3702, 3702, 3702,\n",
       "         3702],\n",
       "        [3758, 3758, 3758, 3758, 3758, 3758, 3758, 3758, 3758, 3758, 3758,\n",
       "         3758]]),\n",
       " 'production_time': array([[4.2, 1.4, 3.5, 2. ],\n",
       "        [4.2, 1.7, 4.8, 1.6],\n",
       "        [1.6, 4.8, 1.6, 1.3],\n",
       "        [3.2, 4.4, 3.1, 4.4],\n",
       "        [1.9, 1.8, 4.5, 2.6],\n",
       "        [3.9, 3. , 2.2, 3.2],\n",
       "        [4.2, 1.8, 2. , 3.9],\n",
       "        [4.2, 4. , 1.8, 3.5],\n",
       "        [1.3, 4. , 2.1, 4. ],\n",
       "        [1.4, 4.1, 3.1, 1.5],\n",
       "        [3. , 2.4, 2.3, 3.1],\n",
       "        [3.4, 2.6, 2.8, 3.3],\n",
       "        [3.6, 3.6, 1.3, 2.7],\n",
       "        [2.9, 3.6, 4.3, 4. ],\n",
       "        [4.2, 2.7, 4. , 1.3],\n",
       "        [4.8, 3.6, 4.2, 3.8],\n",
       "        [3.3, 4.4, 1.2, 2.4],\n",
       "        [1. , 1.8, 2.3, 1.3],\n",
       "        [4.5, 3.1, 4.8, 4.7],\n",
       "        [4.5, 4.4, 3.2, 5. ]]),\n",
       " 'setup_time': array([[25.2, 29.5, 20.8, 21.7],\n",
       "        [49.1, 39.2, 25.8, 13.2],\n",
       "        [23.8, 13. , 45.9, 44.4],\n",
       "        [49.9, 20.4, 18.2, 40.7],\n",
       "        [42.6, 49.2, 35.9, 21.3],\n",
       "        [20.8, 10.3, 18.8, 31.9],\n",
       "        [14. , 26.6, 14.3, 10.9],\n",
       "        [15. , 14.3, 41.5, 33.6],\n",
       "        [21.6, 24.2, 14.6, 26.4],\n",
       "        [16.5, 29.3, 18.1, 47. ],\n",
       "        [44.1, 46.1, 17.3, 26.7],\n",
       "        [46.3, 34.2, 27.3, 20.1],\n",
       "        [10.9, 38.8, 43.4, 46.1],\n",
       "        [20.9, 19.6, 15.4, 31.9],\n",
       "        [46. , 49. , 35.3, 45.4],\n",
       "        [26.9, 25.3, 23. , 15.2],\n",
       "        [47.7, 46.8, 28.4, 21.1],\n",
       "        [22.2, 24.6, 13.9, 34.1],\n",
       "        [24.9, 21.1, 37.9, 28.6],\n",
       "        [29.2, 24.6, 35.5, 39.8]]),\n",
       " 'setup_cost': array([[697.2, 842. , 897.3, 599.7],\n",
       "        [689.1, 807.2, 160.4, 852.5],\n",
       "        [133.6, 496.9, 825.2, 904. ],\n",
       "        [ 65. ,  94.8,  58. , 625.9],\n",
       "        [924.2, 170.6, 675.5, 662.8],\n",
       "        [400.5, 346.2, 882.5, 180. ],\n",
       "        [876. , 276.3, 850.4,  89.1],\n",
       "        [360.5, 133.6, 270.1, 556. ],\n",
       "        [457.6, 698.5, 407. , 441.7],\n",
       "        [160. , 411.5, 650.6, 452.9],\n",
       "        [606. , 947. , 494.1, 497.7],\n",
       "        [496.4, 910.4, 236.1, 938.5],\n",
       "        [855.7,  90.3, 164.1, 531.7],\n",
       "        [597.9, 732.4, 204.9, 699. ],\n",
       "        [914.9, 678.3, 256.8,  54. ],\n",
       "        [898.4, 309.7, 386.9, 416.7],\n",
       "        [777.2, 123.2, 179.1, 395.7],\n",
       "        [465.6, 566.5, 207.7, 321.4],\n",
       "        [266.1, 295.4, 892. , 551.1],\n",
       "        [892.2, 108.9, 746.7, 814.8]]),\n",
       " 'production_cost': array([[1.6, 1.7, 2.2, 2.4],\n",
       "        [2.4, 2.4, 2.3, 1.8],\n",
       "        [2.5, 1.5, 1.9, 1.7],\n",
       "        [2. , 1.6, 2.3, 1.6],\n",
       "        [1.9, 2.2, 1.9, 2. ],\n",
       "        [1.6, 2.4, 2.4, 2.3],\n",
       "        [1.5, 2.1, 2.4, 1.8],\n",
       "        [2. , 2.1, 1.8, 2. ],\n",
       "        [1.6, 1.6, 1.7, 1.7],\n",
       "        [1.5, 1.8, 1.9, 1.9],\n",
       "        [2.3, 1.7, 2.3, 1.8],\n",
       "        [2.2, 1.7, 1.9, 2.4],\n",
       "        [1.5, 1.7, 2.4, 1.5],\n",
       "        [1.9, 1.9, 1.7, 1.9],\n",
       "        [2.1, 2. , 1.8, 2.1],\n",
       "        [2.4, 2.2, 1.8, 2.2],\n",
       "        [2.1, 2.5, 2.5, 2.2],\n",
       "        [2.3, 2.2, 2.2, 2.3],\n",
       "        [1.5, 2.5, 2.2, 1.6],\n",
       "        [2. , 1.8, 1.7, 1.9]]),\n",
       " 'inventory_costs': array([[0.2, 0.3, 0.2, 0.3],\n",
       "        [0.4, 0.3, 0.3, 0.4],\n",
       "        [0.2, 0.2, 0.2, 0.2],\n",
       "        [0.3, 0.2, 0.3, 0.4],\n",
       "        [0.3, 0.3, 0.2, 0.3],\n",
       "        [0.4, 0.4, 0.2, 0.2],\n",
       "        [0.3, 0.4, 0.2, 0.4],\n",
       "        [0.2, 0.4, 0.2, 0.3],\n",
       "        [0.4, 0.3, 0.3, 0.2],\n",
       "        [0.3, 0.4, 0.4, 0.2],\n",
       "        [0.3, 0.3, 0.3, 0.3],\n",
       "        [0.2, 0.2, 0.2, 0.4],\n",
       "        [0.3, 0.3, 0.4, 0.3],\n",
       "        [0.2, 0.3, 0.2, 0.3],\n",
       "        [0.2, 0.3, 0.2, 0.3],\n",
       "        [0.3, 0.4, 0.3, 0.2],\n",
       "        [0.4, 0.2, 0.3, 0.4],\n",
       "        [0.2, 0.3, 0.3, 0.3],\n",
       "        [0.3, 0.3, 0.3, 0.3],\n",
       "        [0.3, 0.4, 0.2, 0.4]]),\n",
       " 'demand_matrix': array([[[ 35,  58,  93,  50, 104, 150,  72, 154, 142, 121, 161,  34],\n",
       "         [106,  89, 131,  50, 171,  91,  97, 158, 144,  52, 173,  72],\n",
       "         [164,  24,  42, 135,   3, 106, 151, 132,  71, 170,  18, 150],\n",
       "         [ 15, 153, 148, 168,  40, 147,  76,  57, 157,  66, 130, 109]],\n",
       " \n",
       "        [[120,  99, 121, 105,  65, 130,  11, 147,  19,  35, 152,  92],\n",
       "         [ 58,   9,  20,  84,  11, 179, 165, 115, 173,  56,  43, 106],\n",
       "         [ 49, 133,  93,  71,   6,  34,  79,  64, 135,  70, 130,  14],\n",
       "         [ 18,   1,  37, 101,  10, 151,  45,  92, 112,  58,  15, 123]],\n",
       " \n",
       "        [[  4,  59, 116,  31, 158, 121,  37,  59,  28, 146, 126,  26],\n",
       "         [126,  74, 140, 137,  32,  47, 177,   8, 156, 129,  18,  93],\n",
       "         [167,  34, 131, 117, 150,   4, 104,   7, 170, 145, 145,  86],\n",
       "         [ 63,  40, 147,  74, 108, 116,  80,  98, 174,  63, 116,  61]],\n",
       " \n",
       "        [[170,  25,  47,   2, 142,  95, 147,  16, 147, 178, 126,  24],\n",
       "         [ 61, 163, 121, 103,  14, 150,  29,  92, 117, 106,  54,  81],\n",
       "         [ 68, 112, 106,  22,  97, 180, 137,   8,  70,  87,  94, 105],\n",
       "         [162,  60,  71, 158, 131, 129, 105, 145,  74,   6, 117,  24]],\n",
       " \n",
       "        [[ 16, 122, 105,  80,  82,  30, 171, 175,   5, 161, 118,  65],\n",
       "         [125,  23,  22, 157, 171, 163, 130, 102, 142,  40,  76, 142],\n",
       "         [  7,  75,  88, 135,  74,  91,  95,  14,  67, 163, 152, 109],\n",
       "         [ 86,  39, 141, 168,  41,  93,  42, 146, 154,  27,  75,  76]],\n",
       " \n",
       "        [[110,  46, 153, 130, 124, 170, 171,  21,  31,  14,  39, 170],\n",
       "         [147,  99, 143, 149,  31,  46,  68, 106, 173, 177,  28,  86],\n",
       "         [ 17,  17, 178, 165,  23,  76, 115,  15,  71, 148,   5,  64],\n",
       "         [ 44, 178,  48,  91,   7,  14, 128, 124,  87,   6,  79,  61]],\n",
       " \n",
       "        [[136,  31,  68, 134,   7, 161, 144, 116, 168, 106,  81, 100],\n",
       "         [133,  72,  44,  92, 139, 139,  71, 101,  12,   1,  37,  25],\n",
       "         [102,  93, 103,  11, 113,  77, 125, 127,  73,  64, 154, 145],\n",
       "         [145,  47,  45, 108,  24, 150, 107,  75, 179, 114,  13,  12]],\n",
       " \n",
       "        [[166,  56,   1,  51,  22, 146, 107,  41, 141,  62, 133,  32],\n",
       "         [124,  73, 147, 122,  47, 144,  59,  87,   2,  86, 102, 102],\n",
       "         [ 95, 105, 176,   5, 180,  97,  59,  44,  63,  26, 151, 117],\n",
       "         [128,  18,  45,  86, 126,  53, 110,   1,   5,  26,  47,  38]],\n",
       " \n",
       "        [[ 45, 146,  43,  61,  39,  94,  69,  83,   4, 122,  30,   5],\n",
       "         [  3, 136, 151,  83, 144,  40, 122,  10,  39, 145, 172, 114],\n",
       "         [ 72, 107, 105,  92,  34,  75, 159,  96,  20,  15, 131, 108],\n",
       "         [ 75, 157,  81,  59,  55,  35,  60,  21,  93, 120,  95, 102]],\n",
       " \n",
       "        [[ 75, 111, 117,  46,  30, 121, 150,  24, 116,  72, 111,  86],\n",
       "         [ 12, 145, 110, 166,  33,  14,  41, 131,  73,  57,  94,  11],\n",
       "         [108, 138,  25,  10, 168, 108,  13,  98,  51, 149, 150, 146],\n",
       "         [ 76,  41, 111,  55, 135,  90, 176,   8,  61, 152,  85,  11]],\n",
       " \n",
       "        [[ 72, 165, 127,  70,  55, 115,  68,  87,  20,  51, 167, 118],\n",
       "         [ 96, 161, 102, 137,  86,  51, 180, 127,  53, 110,  62, 180],\n",
       "         [141,  21, 179, 168,  78,  55, 149,  94, 151,  49, 105, 130],\n",
       "         [129,  77, 132, 105, 142,  50,  49,  16,  96, 129, 141, 102]],\n",
       " \n",
       "        [[ 50,  95,  65, 154,  80,  31,  95,  74,  20,  48, 119, 113],\n",
       "         [136, 170, 156,  40, 166,  19,  35, 178,   8,  89,  79,  39],\n",
       "         [151,  50,  57, 122,   5,  37, 174, 145, 146,  61, 105, 174],\n",
       "         [ 81,  35, 160,  76,  65, 148,  54,  36, 168,   2, 114, 178]],\n",
       " \n",
       "        [[ 45,  56, 160, 151, 126,  58, 164, 121, 159, 117, 116, 115],\n",
       "         [ 21, 157, 104,  12, 162,  16, 124,  49,  83,  91, 179,  91],\n",
       "         [  6,  22,  79, 180,   8, 168, 129, 105,  43,   8,  71,   6],\n",
       "         [174, 121,  83,   5, 139, 148, 103, 120, 110,  10,  41, 101]],\n",
       " \n",
       "        [[168,  94,  71,  42,  44,  69,  37, 101, 156,  85, 136,  98],\n",
       "         [ 34,  40,   2,  51,  10,  65,  97,  37, 108,  13,   8,  67],\n",
       "         [ 96,  69,  33,  62,  88,  26,  54, 124,  40, 179, 153, 127],\n",
       "         [ 58, 100,  45, 180, 106,  60, 123, 140, 120,  25, 137,  55]],\n",
       " \n",
       "        [[ 56,  59,  76,  94,  42,  64, 120,   5, 143, 102,  89,  91],\n",
       "         [ 78, 145,  45,  49, 168, 130, 160,  95,  41, 155, 148, 123],\n",
       "         [ 78, 149,  68, 137,  52,   5,  26,  62, 104, 153,  73,  93],\n",
       "         [ 98, 149,  10,  80, 101,  70, 106,  15,  55,  44,  27, 163]],\n",
       " \n",
       "        [[142, 103, 147, 178,   1,   6,  55,  68, 164, 174, 124, 140],\n",
       "         [ 48,  57, 177, 151,  70,  68, 147, 138, 169, 179,  29, 114],\n",
       "         [ 70, 137, 113, 153,  93, 121,  67,  93, 118,  96, 142,  46],\n",
       "         [180, 105, 159, 168, 108, 169,  63,  55, 175,  92, 109,  23]],\n",
       " \n",
       "        [[  2, 138,  51, 171,  88,  85,  29, 122,  32, 178,   7, 111],\n",
       "         [178,  18, 116,  25,  76,  95, 124,   7,  56, 143, 171,  45],\n",
       "         [ 60,  76, 157, 138, 100,  55,  25,  15,  34, 155,  65,  87],\n",
       "         [ 68, 135, 152, 123,  82,  81,  84, 172,  18,  65,  53, 124]],\n",
       " \n",
       "        [[ 76,  44,  46,  17,  50, 151,  91, 119,  70, 166, 147, 120],\n",
       "         [139, 116,  59,  53, 174, 161, 112,   5,  75, 154,  31,  51],\n",
       "         [134, 133, 139, 136, 170,  48, 139,  90, 137,  27,  99,  94],\n",
       "         [150, 105,  49,   1,  23, 110, 142, 136, 163,  31,  39,  68]],\n",
       " \n",
       "        [[ 67,  37, 174, 180, 137,  35, 118,  94,  41,   1, 169,  53],\n",
       "         [  4,  50,  91, 100, 113, 180, 145, 104, 179, 132,  90,  60],\n",
       "         [  2, 150,  43, 135,   6,   9,  88,  70,  89,  76,  97,  27],\n",
       "         [110,  96,  44,  41, 102, 163, 122, 150, 125, 106,  19, 177]],\n",
       " \n",
       "        [[ 98,  65,  64,  60, 150,  74, 162,  86,  82,  71,  99, 163],\n",
       "         [115, 121,  56,  32,  84,  28, 168, 122,  42,  87, 154, 141],\n",
       "         [ 17,   8, 176, 165,  13,  59,  61,  99, 161, 147,  39,  61],\n",
       "         [118,  34,   6, 120, 145, 113, 125,  83,  10, 108,  83, 106]]]),\n",
       " 'transfer_costs': array([[0.  , 3.03, 2.88, 3.9 ],\n",
       "        [3.03, 0.  , 3.14, 2.13],\n",
       "        [2.88, 3.14, 0.  , 2.23],\n",
       "        [3.9 , 2.13, 2.23, 0.  ]])}"
      ]
     },
     "metadata": {},
     "output_type": "display_data"
    }
   ],
   "source": [
    "# Exemplo de uso\n",
    "# file_path = 'ABB03_12_20_120.dat'\n",
    "file_path = '../instancias/conjunto1alt/AAB00_12_4_20.dat'\n",
    "data = read_dat_file(file_path)\n",
    "display(data)"
   ]
  },
  {
   "cell_type": "markdown",
   "id": "2576c1b9-b389-40f2-ae39-33bda1a0a356",
   "metadata": {},
   "source": [
    "# Modelagem"
   ]
  },
  {
   "cell_type": "code",
   "execution_count": 4,
   "id": "f5513369-f935-49de-99a4-6cec0bf7b4db",
   "metadata": {},
   "outputs": [
    {
     "name": "stdout",
     "output_type": "stream",
     "text": [
      "Set parameter Username\n",
      "Academic license - for non-commercial use only - expires 2025-09-13\n"
     ]
    }
   ],
   "source": [
    "m = gp.Model('Lot-sizing Sambasivan and Yahya')"
   ]
  },
  {
   "cell_type": "markdown",
   "id": "595f2fa2-1bf1-4ae9-a58f-95422587e232",
   "metadata": {},
   "source": [
    "## Conjuntos"
   ]
  },
  {
   "cell_type": "code",
   "execution_count": 5,
   "id": "337e6777-3f4c-49f3-b1e8-d3547010f4a8",
   "metadata": {},
   "outputs": [],
   "source": [
    "# Produtos (i)\n",
    "I = np.array([_ for _ in range(data['items'])])\n",
    "# Plantas (j)\n",
    "J = np.array([_ for _ in range(data['num_plants'])])\n",
    "# Períodos (t)\n",
    "T = np.array([_ for _ in range(data['periods'])])"
   ]
  },
  {
   "cell_type": "markdown",
   "id": "55ac26fa-edaf-4a2e-bd2a-4f4e1e9ea660",
   "metadata": {},
   "source": [
    "## Parâmetros"
   ]
  },
  {
   "cell_type": "code",
   "execution_count": 6,
   "id": "75ce9cbc-acad-4bac-a3aa-259cce01163e",
   "metadata": {},
   "outputs": [],
   "source": [
    "# Demanda (i, j, t)\n",
    "d = np.array(data['demand_matrix'])\n",
    "# Capacidade (j, t)\n",
    "cap = np.array(data['capacities'])\n",
    "# Tempo de produção (i, j)\n",
    "b = np.array(data['production_time'])\n",
    "# Tempo de setup (i, j)\n",
    "f = np.array(data['setup_time'])\n",
    "# Custo de produção (i, j)\n",
    "c = np.array(data['production_cost'])\n",
    "# Custo de setup (i, j)\n",
    "s = np.array(data['setup_cost'])\n",
    "# Custo de transporte (j, k)\n",
    "r = np.array(data['transfer_costs'])\n",
    "# Custo de estoque (i, j)\n",
    "h = np.array(data['inventory_costs'])"
   ]
  },
  {
   "cell_type": "markdown",
   "id": "c5f5d3c7-7d4a-4176-855e-b24febf323a9",
   "metadata": {},
   "source": [
    "## Variáveis de decisão"
   ]
  },
  {
   "cell_type": "code",
   "execution_count": 7,
   "id": "5143de99-4749-492d-a91d-43ed8c4df221",
   "metadata": {},
   "outputs": [],
   "source": [
    "# Quantidade produzida (i, j, t)\n",
    "X = m.addVars(I, J, T, vtype=GRB.CONTINUOUS, name='X')\n",
    "# Quantidade estocada (i, j, t)\n",
    "Q = m.addVars(I, J, T, vtype=GRB.CONTINUOUS, name='Q')\n",
    "# Quantidade transportada (i, j, k(um outro j), t)\n",
    "W = m.addVars(I, J, J, T, vtype=GRB.CONTINUOUS, name='W')\n",
    "# Variável de setup (binária) (i, j, t)\n",
    "Z = m.addVars(I, J, T, lb=0, ub=1, vtype=GRB.CONTINUOUS, name='Z')"
   ]
  },
  {
   "cell_type": "markdown",
   "id": "acfdabf5-3640-4fdb-9467-3887f426c0a1",
   "metadata": {},
   "source": [
    "## Função objetivo"
   ]
  },
  {
   "cell_type": "code",
   "execution_count": 8,
   "id": "e61bc597-0a2c-4812-9b81-292a570fd5a6",
   "metadata": {},
   "outputs": [],
   "source": [
    "expr_objetivo = sum(sum(sum(c[i, j] * X[i, j, t] + h[i, j] * Q[i, j, t] + s[i, j] * Z[i, j, t] + \n",
    "                            sum(r[j, k] * W[i, j, k, t] for k in J if k != j) for t in T) for j in J) for i in I)\n",
    "m.setObjective(expr_objetivo, sense=GRB.MINIMIZE)"
   ]
  },
  {
   "cell_type": "markdown",
   "id": "47df9ee1-6f26-4817-ab5f-d69a7b88fff5",
   "metadata": {},
   "source": [
    "## Restrições"
   ]
  },
  {
   "cell_type": "code",
   "execution_count": 9,
   "id": "3ae73222-b1d7-494f-b42c-da159098b56f",
   "metadata": {},
   "outputs": [],
   "source": [
    "# Balanço de estoque (revisar comportamento)\n",
    "# Período inicial\n",
    "m.addConstrs((Q[i, j, t] == X[i, j, t] - sum(W[i, j, k, t] for k in J if k != j) + sum(W[i, l, j, t] for l in J if l != j) - d[i, j, t] for i in I for j in J for t in T if t == 0),\n",
    "             name='restricao_balanco_estoque')\n",
    "# Demais períodos\n",
    "m.addConstrs((Q[i, j, t] == Q[i, j, t-1] + X[i, j, t] - sum(W[i, j, k, t] for k in J if k != j) + sum(W[i, l, j, t] for l in J if l != j) - d[i, j, t] for i in I for j in J for t in T if t > 0),\n",
    "             name='restricao_balanco_estoque');"
   ]
  },
  {
   "cell_type": "code",
   "execution_count": 10,
   "id": "b96463c3-af9a-4df4-b8cd-a30971e09361",
   "metadata": {},
   "outputs": [],
   "source": [
    "# Restrição que obriga setup (validar o range do r)\n",
    "m.addConstrs((X[i, j, t] <= min((cap[j, t] - f[i, j]) / b[i, j], sum(sum(d[i, k, r] for r in range(t, T[-1] + 1)) for k in J)) * Z[i, j, t] for i in I for j in J for t in T)\n",
    "             , name='restricao_setup');"
   ]
  },
  {
   "cell_type": "code",
   "execution_count": 11,
   "id": "9a8cc89f-d774-4dc4-b11e-eb2b9cc4e38c",
   "metadata": {},
   "outputs": [],
   "source": [
    "# Restrição de capacidade\n",
    "m.addConstrs((sum(b[i, j] * X[i, j, t] + f[i, j] * Z[i, j, t] for i in I) <= cap[j, t] for j in J for t in T)\n",
    "             , name='restricao_capacidade');"
   ]
  },
  {
   "cell_type": "code",
   "execution_count": 12,
   "id": "893ab437-4650-45bc-83a9-dbe10e15b316",
   "metadata": {},
   "outputs": [
    {
     "name": "stdout",
     "output_type": "stream",
     "text": [
      "<gurobi.Model Continuous instance Lot-sizing Sambasivan and Yahya: 1968 constrs, 6720 vars, Parameter changes: Username=(user-defined)>\n",
      "1384351974\n"
     ]
    }
   ],
   "source": [
    "m.update()\n",
    "print(m)\n",
    "print(m.Fingerprint)"
   ]
  },
  {
   "cell_type": "markdown",
   "id": "ad9c156d",
   "metadata": {},
   "source": [
    "# Relax and fix"
   ]
  },
  {
   "cell_type": "code",
   "execution_count": 13,
   "id": "01b15220",
   "metadata": {},
   "outputs": [],
   "source": [
    "# m.Params.timelimit = 100\n",
    "# for i in I:\n",
    "#     for j in J:\n",
    "#         for t in T:\n",
    "#             Z[i, j, t].setAttr(\"VType\", GRB.BINARY)\n",
    "# m.optimize()"
   ]
  },
  {
   "cell_type": "code",
   "execution_count": 14,
   "id": "555266b7",
   "metadata": {},
   "outputs": [
    {
     "name": "stdout",
     "output_type": "stream",
     "text": [
      "Set parameter TimeLimit to value 3.3333333333333336e+01\n",
      "k: 1 to: 0 tf: 4\n",
      "Gurobi Optimizer version 11.0.3 build v11.0.3rc0 (win64 - Windows 10.0 (19045.2))\n",
      "\n",
      "CPU model: Intel(R) Core(TM) i5-1035G1 CPU @ 1.00GHz, instruction set [SSE2|AVX|AVX2|AVX512]\n",
      "Thread count: 4 physical cores, 8 logical processors, using up to 8 threads\n",
      "\n",
      "Optimize a model with 1968 rows, 6720 columns and 12400 nonzeros\n",
      "Model fingerprint: 0x4aace06f\n",
      "Variable types: 6400 continuous, 320 integer (320 binary)\n",
      "Coefficient statistics:\n",
      "  Matrix range     [1e+00, 4e+03]\n",
      "  Objective range  [2e-01, 9e+02]\n",
      "  Bounds range     [1e+00, 1e+00]\n",
      "  RHS range        [1e+00, 4e+03]\n",
      "Presolve removed 640 rows and 1680 columns\n",
      "Presolve time: 0.04s\n",
      "Presolved: 1328 rows, 5040 columns, 10400 nonzeros\n",
      "Variable types: 4720 continuous, 320 integer (320 binary)\n",
      "\n",
      "Root relaxation: objective 3.447876e+05, 3796 iterations, 0.33 seconds (0.13 work units)\n",
      "\n",
      "    Nodes    |    Current Node    |     Objective Bounds      |     Work\n",
      " Expl Unexpl |  Obj  Depth IntInf | Incumbent    BestBd   Gap | It/Node Time\n",
      "\n",
      "     0     0 344787.629    0  144          - 344787.629      -     -    0s\n",
      "     0     0 367531.985    0   88          - 367531.985      -     -    1s\n",
      "     0     0 371619.812    0   79          - 371619.812      -     -    1s\n",
      "     0     0 371619.812    0   79          - 371619.812      -     -    2s\n",
      "     0     0 382149.412    0   68          - 382149.412      -     -    2s\n",
      "     0     0 383323.039    0   60          - 383323.039      -     -    2s\n",
      "     0     0 383403.198    0   56          - 383403.198      -     -    2s\n",
      "     0     0 383407.378    0   56          - 383407.378      -     -    2s\n",
      "     0     0 385191.682    0   47          - 385191.682      -     -    3s\n",
      "     0     0 385496.712    0   47          - 385496.712      -     -    3s\n",
      "     0     0 385666.436    0   48          - 385666.436      -     -    3s\n",
      "     0     0 385674.880    0   49          - 385674.880      -     -    3s\n",
      "     0     0 386279.103    0   40          - 386279.103      -     -    3s\n",
      "     0     0 386432.792    0   37          - 386432.792      -     -    3s\n",
      "     0     0 386432.792    0   33          - 386432.792      -     -    4s\n",
      "     0     0 386437.296    0   31          - 386437.296      -     -    4s\n",
      "     0     0 386482.417    0   35          - 386482.417      -     -    4s\n",
      "     0     0 386533.416    0   35          - 386533.416      -     -    4s\n",
      "     0     0 386581.845    0   35          - 386581.845      -     -    5s\n",
      "     0     2 386609.639    0   35          - 386609.639      -     -    7s\n",
      "   576   573 387598.565   15   30          - 386769.341      -  24.1   10s\n",
      "  1143  1026 388249.467   18   40          - 387120.859      -  24.2   15s\n",
      "  1154  1033 389273.597   48   39          - 387120.859      -  23.9   25s\n",
      "  1370  1188 389808.834   24   35          - 387594.182      -  16.0   30s\n",
      "\n",
      "Cutting planes:\n",
      "  Gomory: 15\n",
      "  Cover: 1\n",
      "  MIR: 74\n",
      "  Mixing: 13\n",
      "  Flow cover: 314\n",
      "  Flow path: 95\n",
      "\n",
      "Explored 1624 nodes (72541 simplex iterations) in 33.38 seconds (7.28 work units)\n",
      "Thread count was 8 (of 8 available processors)\n",
      "\n",
      "Solution count 0\n",
      "\n",
      "Time limit reached\n",
      "Best objective -, best bound 3.875941822058e+05, gap -\n",
      "Status: 9\n",
      "SolCount: 0\n",
      "-------------------\n",
      "STATUS: 9\n",
      "0\n"
     ]
    }
   ],
   "source": [
    "# Parâmetros\n",
    "w = 4  # Número de períodos na janela de resolução\n",
    "y = 3  # Número de períodos em overlap\n",
    "\n",
    "K = np.ceil((len(T) - w) / (w - y)) + 1  # Número total de iterações\n",
    "m.params.OutputFlag = 1\n",
    "m.Params.timelimit = 300 / K  # Tempo limite por subproblema (s)\n",
    "runtime = 0\n",
    "\n",
    "# Auxiliares\n",
    "k, to, tf = 1, 0, w\n",
    "N = T[-1]  # Último período do horizonte de planejamento\n",
    "\n",
    "# Relaxar domínio das variáveis binárias (Z_ijt)\n",
    "# for key in Z.keys():\n",
    "#     Z[key].setAttr(\"VType\", GRB.CONTINUOUS)\n",
    "#     Z[key].setAttr(\"LB\", 0)\n",
    "#     Z[key].setAttr(\"UB\", 1)\n",
    "# m.update()\n",
    "\n",
    "print('k:', k, 'to:', to, 'tf:', tf)\n",
    "\n",
    "# Main loop\n",
    "while tf <= N:\n",
    "    # Variáveis na janela tornam-se binárias\n",
    "    for i in I:\n",
    "        for j in J:\n",
    "            for t in range(to, tf):\n",
    "                Z[i, j, t].setAttr(\"VType\", GRB.BINARY)\n",
    "\n",
    "    # Resolução do subprolema\n",
    "    m.optimize()\n",
    "    print('Status:', m.Status)\n",
    "    print('SolCount:', m.SolCount)\n",
    "    if m.Status == GRB.INFEASIBLE or m.SolCount == 0:\n",
    "        break\n",
    "    # Fixação das soluções obtidas considerando overlap\n",
    "    for i in I:\n",
    "        for j in J:\n",
    "            for t in range(to, tf - y):\n",
    "                Z[i, j, t].setAttr(\"LB\", Z[i, j, t].X)  # Lower bound fixado para a solução encontrada\n",
    "                Z[i, j, t].setAttr(\"UB\", Z[i, j, t].X)  # Upper bound fixado para a solução encontrada\n",
    "\n",
    "    # Atualização dos auxiliares\n",
    "    k += 1\n",
    "    to = tf - y\n",
    "    tf = min(tf + w - y, N + 1)\n",
    "\n",
    "    print('k:', k, 'to:', to, 'tf:', tf)\n",
    "\n",
    "# Última iteração\n",
    "if m.Status != GRB.INFEASIBLE and m.SolCount > 0:\n",
    "    # Variáveis na janela tornam-se binárias\n",
    "    for i in I:\n",
    "        for j in J:\n",
    "            for t in range(to, tf):\n",
    "                Z[i, j, t].setAttr(\"VType\", GRB.BINARY)\n",
    "    m.update()\n",
    "\n",
    "    # Última resolução\n",
    "    m.optimize()\n",
    "    print('Status:', m.Status)\n",
    "    print('SolCount:', m.SolCount)\n",
    "print('-------------------')\n",
    "print('STATUS:', m.Status)\n",
    "print(m.SolCount)"
   ]
  },
  {
   "cell_type": "code",
   "execution_count": 15,
   "id": "d98d1aaa",
   "metadata": {},
   "outputs": [
    {
     "data": {
      "text/plain": [
       "inf"
      ]
     },
     "execution_count": 15,
     "metadata": {},
     "output_type": "execute_result"
    }
   ],
   "source": [
    "m.ObjVal"
   ]
  },
  {
   "cell_type": "markdown",
   "id": "3bd0a066-c1e6-41cb-82bd-9cb37b0155aa",
   "metadata": {},
   "source": [
    "# Investigação do caráter das demandas"
   ]
  },
  {
   "cell_type": "markdown",
   "id": "141dad17",
   "metadata": {},
   "source": [
    "A média das demandas de um produto i é igual entre períodos t ao agregar a demanda entre plantas?"
   ]
  },
  {
   "cell_type": "code",
   "execution_count": 16,
   "id": "51032b24",
   "metadata": {},
   "outputs": [
    {
     "data": {
      "text/plain": [
       "array([ 0,  1,  2,  3,  4,  5,  6,  7,  8,  9, 10, 11, 12, 13, 14, 15, 16,\n",
       "       17, 18, 19])"
      ]
     },
     "execution_count": 16,
     "metadata": {},
     "output_type": "execute_result"
    }
   ],
   "source": [
    "# Produtos\n",
    "I"
   ]
  },
  {
   "cell_type": "code",
   "execution_count": 17,
   "id": "f8e4b880",
   "metadata": {},
   "outputs": [
    {
     "data": {
      "text/plain": [
       "array([0, 1, 2, 3])"
      ]
     },
     "execution_count": 17,
     "metadata": {},
     "output_type": "execute_result"
    }
   ],
   "source": [
    "# Plantas\n",
    "J"
   ]
  },
  {
   "cell_type": "code",
   "execution_count": 18,
   "id": "ac552481",
   "metadata": {},
   "outputs": [
    {
     "data": {
      "text/plain": [
       "array([ 0,  1,  2,  3,  4,  5,  6,  7,  8,  9, 10, 11])"
      ]
     },
     "execution_count": 18,
     "metadata": {},
     "output_type": "execute_result"
    }
   ],
   "source": [
    "# Períodos\n",
    "T"
   ]
  },
  {
   "cell_type": "code",
   "execution_count": 19,
   "id": "de194994",
   "metadata": {},
   "outputs": [],
   "source": [
    "# Demanda por produto por período\n",
    "demanda_agregada = np.zeros(shape=(len(I), len(T)))\n",
    "for i in I:\n",
    "    for t in T:\n",
    "        demanda_agregada[i, t] = sum(d[i, j, t] for j in J)"
   ]
  },
  {
   "cell_type": "code",
   "execution_count": 20,
   "id": "8223464b",
   "metadata": {},
   "outputs": [
    {
     "data": {
      "text/plain": [
       "array([[320., 324., 414., 403., 318., 494., 396., 501., 514., 409., 482.,\n",
       "        365.],\n",
       "       [245., 242., 271., 361.,  92., 494., 300., 418., 439., 219., 340.,\n",
       "        335.],\n",
       "       [360., 207., 534., 359., 448., 288., 398., 172., 528., 483., 405.,\n",
       "        266.],\n",
       "       [461., 360., 345., 285., 384., 554., 418., 261., 408., 377., 391.,\n",
       "        234.],\n",
       "       [234., 259., 356., 540., 368., 377., 438., 437., 368., 391., 421.,\n",
       "        392.],\n",
       "       [318., 340., 522., 535., 185., 306., 482., 266., 362., 345., 151.,\n",
       "        381.],\n",
       "       [516., 243., 260., 345., 283., 527., 447., 419., 432., 285., 285.,\n",
       "        282.],\n",
       "       [513., 252., 369., 264., 375., 440., 335., 173., 211., 200., 433.,\n",
       "        289.],\n",
       "       [195., 546., 380., 295., 272., 244., 410., 210., 156., 402., 428.,\n",
       "        329.],\n",
       "       [271., 435., 363., 277., 366., 333., 380., 261., 301., 430., 440.,\n",
       "        254.],\n",
       "       [438., 424., 540., 480., 361., 271., 446., 324., 320., 339., 475.,\n",
       "        530.],\n",
       "       [418., 350., 438., 392., 316., 235., 358., 433., 342., 200., 417.,\n",
       "        504.],\n",
       "       [246., 356., 426., 348., 435., 390., 520., 395., 395., 226., 407.,\n",
       "        313.],\n",
       "       [356., 303., 151., 335., 248., 220., 311., 402., 424., 302., 434.,\n",
       "        347.],\n",
       "       [310., 502., 199., 360., 363., 269., 412., 177., 343., 454., 337.,\n",
       "        470.],\n",
       "       [440., 402., 596., 650., 272., 364., 332., 354., 626., 541., 404.,\n",
       "        323.],\n",
       "       [308., 367., 476., 457., 346., 316., 262., 316., 140., 541., 296.,\n",
       "        367.],\n",
       "       [499., 398., 293., 207., 417., 470., 484., 350., 445., 378., 316.,\n",
       "        333.],\n",
       "       [183., 333., 352., 456., 358., 387., 473., 418., 434., 315., 375.,\n",
       "        317.],\n",
       "       [348., 228., 302., 377., 392., 274., 516., 390., 295., 413., 375.,\n",
       "        471.]])"
      ]
     },
     "execution_count": 20,
     "metadata": {},
     "output_type": "execute_result"
    }
   ],
   "source": [
    "demanda_agregada"
   ]
  },
  {
   "cell_type": "code",
   "execution_count": 21,
   "id": "29e6aefb",
   "metadata": {},
   "outputs": [],
   "source": [
    "average_demand_product = np.zeros(len(I))\n",
    "for i in I:\n",
    "    average_demand_product[i] = demanda_agregada[i].sum()"
   ]
  },
  {
   "cell_type": "code",
   "execution_count": 22,
   "id": "3b48f68c",
   "metadata": {},
   "outputs": [
    {
     "data": {
      "text/plain": [
       "array([513., 252., 369., 264., 375., 440., 335., 173., 211., 200., 433.,\n",
       "       289.])"
      ]
     },
     "execution_count": 22,
     "metadata": {},
     "output_type": "execute_result"
    }
   ],
   "source": [
    "demanda_agregada[7]"
   ]
  },
  {
   "cell_type": "code",
   "execution_count": 23,
   "id": "2c64f824",
   "metadata": {},
   "outputs": [
    {
     "name": "stdout",
     "output_type": "stream",
     "text": [
      "Estatística do teste: 0.9597059852804234, Valor-p: 0.7796240205967417\n",
      "A distribuição parece ser normal (não rejeitamos H0).\n"
     ]
    }
   ],
   "source": [
    "from scipy import stats\n",
    "\n",
    "# Array de exemplo\n",
    "data = demanda_agregada[7]\n",
    "\n",
    "# Teste de Shapiro-Wilk\n",
    "stat, p_value = stats.shapiro(data)\n",
    "print(f\"Estatística do teste: {stat}, Valor-p: {p_value}\")\n",
    "\n",
    "if p_value > 0.05:\n",
    "    print(\"A distribuição parece ser normal (não rejeitamos H0).\")\n",
    "else:\n",
    "    print(\"A distribuição não é normal (rejeitamos H0).\")"
   ]
  },
  {
   "cell_type": "code",
   "execution_count": 24,
   "id": "6e8d4b53",
   "metadata": {},
   "outputs": [
    {
     "data": {
      "image/png": "[encoded data removed]",
      "text/plain": [
       "<Figure size 640x480 with 1 Axes>"
      ]
     },
     "metadata": {},
     "output_type": "display_data"
    }
   ],
   "source": [
    "plt.hist(demanda_agregada[7])\n",
    "plt.show()"
   ]
  },
  {
   "cell_type": "code",
   "execution_count": 25,
   "id": "613a4607",
   "metadata": {},
   "outputs": [],
   "source": [
    "average_demand_period = np.zeros(len(T))\n",
    "for t in T:\n",
    "    average_demand_period[t] = demanda_agregada.transpose()[t].sum()"
   ]
  },
  {
   "cell_type": "code",
   "execution_count": 26,
   "id": "f51616a6",
   "metadata": {},
   "outputs": [
    {
     "data": {
      "text/plain": [
       "array([6979., 6871., 7587., 7726., 6599., 7253., 8118., 6677., 7483.,\n",
       "       7250., 7612., 7102.])"
      ]
     },
     "execution_count": 26,
     "metadata": {},
     "output_type": "execute_result"
    }
   ],
   "source": [
    "average_demand_period"
   ]
  },
  {
   "cell_type": "code",
   "execution_count": 27,
   "id": "280428ce",
   "metadata": {},
   "outputs": [
    {
     "data": {
      "image/png": "[encoded data removed]",
      "text/plain": [
       "<Figure size 640x480 with 1 Axes>"
      ]
     },
     "metadata": {},
     "output_type": "display_data"
    }
   ],
   "source": [
    "plt.hist(average_demand_period)\n",
    "plt.show()"
   ]
  },
  {
   "cell_type": "code",
   "execution_count": 28,
   "id": "62fe913f",
   "metadata": {},
   "outputs": [
    {
     "name": "stdout",
     "output_type": "stream",
     "text": [
      "Estatística do teste: 0.9752681687028535, Valor-p: 0.9574636851479719\n",
      "A distribuição parece ser normal (não rejeitamos H0).\n"
     ]
    }
   ],
   "source": [
    "from scipy import stats\n",
    "\n",
    "# Array de exemplo\n",
    "data = average_demand_period\n",
    "\n",
    "# Teste de Shapiro-Wilk\n",
    "stat, p_value = stats.shapiro(data)\n",
    "print(f\"Estatística do teste: {stat}, Valor-p: {p_value}\")\n",
    "\n",
    "if p_value > 0.05:\n",
    "    print(\"A distribuição parece ser normal (não rejeitamos H0).\")\n",
    "else:\n",
    "    print(\"A distribuição não é normal (rejeitamos H0).\")"
   ]
  }
 ],
 "metadata": {
  "kernelspec": {
   "display_name": "venv",
   "language": "python",
   "name": "python3"
  },
  "language_info": {
   "codemirror_mode": {
    "name": "ipython",
    "version": 3
   },
   "file_extension": ".py",
   "mimetype": "text/x-python",
   "name": "python",
   "nbconvert_exporter": "python",
   "pygments_lexer": "ipython3",
   "version": "3.11.3"
  }
 },
 "nbformat": 4,
 "nbformat_minor": 5
}
