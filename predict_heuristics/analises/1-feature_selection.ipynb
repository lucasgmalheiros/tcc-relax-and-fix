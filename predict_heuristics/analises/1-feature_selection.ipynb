{
 "cells": [
  {
   "cell_type": "code",
   "execution_count": 18,
   "metadata": {},
   "outputs": [
    {
     "name": "stdout",
     "output_type": "stream",
     "text": [
      "The autoreload extension is already loaded. To reload it, use:\n",
      "  %reload_ext autoreload\n"
     ]
    }
   ],
   "source": [
    "import sys\n",
    "import os\n",
    "sys.path.append(os.path.abspath('../'))\n",
    "from sklearn.preprocessing import StandardScaler\n",
    "import functions_ml as fml\n",
    "import pandas as pd\n",
    "import numpy as np\n",
    "from sklearn.cluster import KMeans\n",
    "import matplotlib.pyplot as plt\n",
    "%load_ext autoreload\n",
    "%autoreload 2"
   ]
  },
  {
   "cell_type": "code",
   "execution_count": 19,
   "metadata": {},
   "outputs": [],
   "source": [
    "# 1. Get dataset\n",
    "results = pd.read_csv('../datasets/instances_results.csv')\n",
    "features = pd.read_csv('../datasets/multi_plant_instance_features.csv')\n",
    "dataset = fml.create_dataset(features, results)\n",
    "TOLERANCE_LIMIT = 0.005 / 100\n",
    "dataset = fml.create_multi_label_target(dataset, TOLERANCE_LIMIT)\n"
   ]
  },
  {
   "cell_type": "code",
   "execution_count": 20,
   "metadata": {},
   "outputs": [],
   "source": [
    "# Select instance-based features (excluding labels or unrelated columns)\n",
    "feature_columns = [col for col in dataset.columns if not col.startswith('RF_') and col != 'instance']\n",
    "X = dataset[feature_columns]"
   ]
  },
  {
   "cell_type": "code",
   "execution_count": 21,
   "metadata": {},
   "outputs": [
    {
     "name": "stdout",
     "output_type": "stream",
     "text": [
      "Highly Correlated Features (Sorted by Feature 1):\n",
      "                  Feature 1                 Feature 2  Correlation\n",
      "6              avg_capacity           std_utilization     0.895277\n",
      "4                avg_demand               skew_demand     0.829069\n",
      "7   avg_transportation_cost  skew_transportation_cost     0.949277\n",
      "11          max_utilization           std_utilization     0.871760\n",
      "10          min_utilization           std_utilization     0.857777\n",
      "2                num_plants   std_transportation_cost     0.875355\n",
      "3                num_plants  skew_transportation_cost     0.837387\n",
      "0              num_products              avg_capacity     0.994593\n",
      "1              num_products           std_utilization     0.895690\n",
      "5                std_demand               kurt_demand     0.877591\n",
      "9        std_inventory_cost       kurt_inventory_cost     0.985228\n",
      "8   std_transportation_cost  skew_transportation_cost     0.846863\n"
     ]
    }
   ],
   "source": [
    "# Compute the correlation matrix\n",
    "corr_matrix = X.corr().abs()  # Use absolute values to consider positive/negative correlations equally\n",
    "\n",
    "# Set a threshold for \"high correlation\"\n",
    "threshold = 0.8\n",
    "\n",
    "# Find feature pairs with correlation above the threshold\n",
    "high_corr_pairs = []\n",
    "for i in range(corr_matrix.shape[0]):\n",
    "    for j in range(i + 1, corr_matrix.shape[1]):  # Only look at the upper triangle\n",
    "        if corr_matrix.iloc[i, j] > threshold:\n",
    "            feature_1 = corr_matrix.index[i]\n",
    "            feature_2 = corr_matrix.columns[j]\n",
    "            correlation_value = corr_matrix.iloc[i, j]\n",
    "            high_corr_pairs.append((feature_1, feature_2, correlation_value))\n",
    "\n",
    "# Convert the high-correlation pairs into a DataFrame for easy visualization\n",
    "high_corr_df = pd.DataFrame(high_corr_pairs, columns=['Feature 1', 'Feature 2', 'Correlation'])\n",
    "\n",
    "# Sort by Feature 1 alphabetically, and then by Correlation (descending)\n",
    "high_corr_df = high_corr_df.sort_values(by=['Feature 1', 'Correlation'], ascending=[True, False])\n",
    "\n",
    "# Display the high-correlation table\n",
    "print(\"Highly Correlated Features (Sorted by Feature 1):\")\n",
    "print(high_corr_df)\n",
    "\n",
    "# Optional: Export to CSV for inspection\n",
    "high_corr_df.to_csv('high_correlation_features_sorted_by_feature_1.csv', index=False)"
   ]
  }
 ],
 "metadata": {
  "kernelspec": {
   "display_name": "venv",
   "language": "python",
   "name": "python3"
  },
  "language_info": {
   "codemirror_mode": {
    "name": "ipython",
    "version": 3
   },
   "file_extension": ".py",
   "mimetype": "text/x-python",
   "name": "python",
   "nbconvert_exporter": "python",
   "pygments_lexer": "ipython3",
   "version": "3.12.3"
  }
 },
 "nbformat": 4,
 "nbformat_minor": 2
}
