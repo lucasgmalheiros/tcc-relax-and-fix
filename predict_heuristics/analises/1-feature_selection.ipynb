{
 "cells": [
  {
   "cell_type": "code",
   "execution_count": 2,
   "metadata": {},
   "outputs": [],
   "source": [
    "import sys\n",
    "import os\n",
    "sys.path.append(os.path.abspath('../'))\n",
    "from sklearn.preprocessing import StandardScaler\n",
    "import functions_ml as fml\n",
    "import pandas as pd\n",
    "import numpy as np\n",
    "from sklearn.cluster import KMeans\n",
    "import matplotlib.pyplot as plt\n",
    "%load_ext autoreload\n",
    "%autoreload 2"
   ]
  },
  {
   "cell_type": "code",
   "execution_count": 3,
   "metadata": {},
   "outputs": [],
   "source": [
    "# 1. Get dataset\n",
    "results = pd.read_csv('../datasets/instances_results.csv')\n",
    "features = pd.read_csv('../datasets/multi_plant_instance_features.csv')\n",
    "dataset = fml.create_dataset(features, results)\n",
    "TOLERANCE_LIMIT = 0.01 / 100\n",
    "dataset = fml.create_multi_label_target(dataset, TOLERANCE_LIMIT)\n"
   ]
  },
  {
   "cell_type": "code",
   "execution_count": 4,
   "metadata": {},
   "outputs": [],
   "source": [
    "# Select instance-based features (excluding labels or unrelated columns)\n",
    "feature_columns = [col for col in dataset.columns if not col.startswith('RF_') and col != 'instance']\n",
    "X = dataset[feature_columns]\n",
    "X = fml.feature_selection(X)"
   ]
  },
  {
   "cell_type": "code",
   "execution_count": 6,
   "metadata": {},
   "outputs": [
    {
     "name": "stdout",
     "output_type": "stream",
     "text": [
      "Highly Correlated Features (Sorted by Feature 1):\n",
      "                 Feature 1                Feature 2  Correlation\n",
      "1               avg_demand               p50_demand     0.836055\n",
      "7          avg_utilization          p75_utilization     0.839885\n",
      "6          avg_utilization          p25_utilization     0.815972\n",
      "2              cv_capacity          std_utilization     0.811481\n",
      "8          max_utilization          std_utilization     0.871760\n",
      "3           min_setup_cost           avg_setup_cost     0.869983\n",
      "5          min_utilization          std_utilization     0.857777\n",
      "0               num_plants  std_transportation_cost     0.875355\n",
      "4  std_transportation_cost  iqr_transportation_cost     0.812355\n"
     ]
    }
   ],
   "source": [
    "# Compute the correlation matrix\n",
    "corr_matrix = X.corr().abs()  # Use absolute values to consider positive/negative correlations equally\n",
    "\n",
    "# Set a threshold for \"high correlation\"\n",
    "threshold = 0.8\n",
    "\n",
    "# Find feature pairs with correlation above the threshold\n",
    "high_corr_pairs = []\n",
    "for i in range(corr_matrix.shape[0]):\n",
    "    for j in range(i + 1, corr_matrix.shape[1]):  # Only look at the upper triangle\n",
    "        if corr_matrix.iloc[i, j] > threshold:\n",
    "            feature_1 = corr_matrix.index[i]\n",
    "            feature_2 = corr_matrix.columns[j]\n",
    "            correlation_value = corr_matrix.iloc[i, j]\n",
    "            high_corr_pairs.append((feature_1, feature_2, correlation_value))\n",
    "\n",
    "# Convert the high-correlation pairs into a DataFrame for easy visualization\n",
    "high_corr_df = pd.DataFrame(high_corr_pairs, columns=['Feature 1', 'Feature 2', 'Correlation'])\n",
    "\n",
    "# Sort by Feature 1 alphabetically, and then by Correlation (descending)\n",
    "high_corr_df = high_corr_df.sort_values(by=['Feature 1', 'Correlation'], ascending=[True, False])\n",
    "\n",
    "# Display the high-correlation table\n",
    "print(\"Highly Correlated Features (Sorted by Feature 1):\")\n",
    "print(high_corr_df)"
   ]
  }
 ],
 "metadata": {
  "kernelspec": {
   "display_name": "venv",
   "language": "python",
   "name": "python3"
  },
  "language_info": {
   "codemirror_mode": {
    "name": "ipython",
    "version": 3
   },
   "file_extension": ".py",
   "mimetype": "text/x-python",
   "name": "python",
   "nbconvert_exporter": "python",
   "pygments_lexer": "ipython3",
   "version": "3.12.3"
  }
 },
 "nbformat": 4,
 "nbformat_minor": 2
}
