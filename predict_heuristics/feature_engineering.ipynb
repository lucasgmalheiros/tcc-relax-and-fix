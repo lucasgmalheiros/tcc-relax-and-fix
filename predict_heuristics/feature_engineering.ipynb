{
 "cells": [
  {
   "cell_type": "code",
   "execution_count": 431,
   "metadata": {},
   "outputs": [],
   "source": [
    "import pandas as pd\n",
    "import numpy as np\n",
    "import matplotlib.pyplot as plt"
   ]
  },
  {
   "cell_type": "code",
   "execution_count": 432,
   "metadata": {},
   "outputs": [],
   "source": [
    "def read_instancia(file_path):\n",
    "    \"\"\"\"Função para a leitura das instâncias geradas\"\"\"\n",
    "    name = file_path.split('/')[-1].replace('.dat', '')\n",
    "    with open(file_path, 'r') as file:\n",
    "        lines = file.readlines()\n",
    "\n",
    "    # 1. Lendo quantidade de itens e períodos\n",
    "    items, periods = map(int, lines[0].split())\n",
    "\n",
    "    # 2. Lendo número de plantas\n",
    "    num_plants = int(lines[1].strip())\n",
    "\n",
    "    # 3. Lendo capacidades das plantas\n",
    "    capacities = [int(lines[i + 2].strip()) for i in range(num_plants)]\n",
    "    capacities = np.tile(capacities, (periods, 1)).T  # Repete as capacidades ao longo dos períodos (deixar na forma j, t)\n",
    "\n",
    "    # 4. Lendo a matriz de produção (tempo de produção, tempo de setup, custo de setup, custo de produção)\n",
    "    production_problem_data = []\n",
    "    start_line = 2 + num_plants\n",
    "    production_time = np.zeros((items, num_plants))  # Inicializar listas para armazenar separadamente os tempos e custos\n",
    "    setup_time = np.zeros((items, num_plants))\n",
    "    setup_cost = np.zeros((items, num_plants))\n",
    "    production_cost = np.zeros((items, num_plants))\n",
    "    for i in range(num_plants * items):  # Preencher as matrizes com os dados lidos\n",
    "        plant = i // items  # Determina a planta\n",
    "        item = i % items    # Determina o item\n",
    "        # Extrair os dados de cada linha\n",
    "        prod_time, set_time, set_cost, prod_cost = map(float, lines[start_line + i].split())\n",
    "        production_time[item, plant] = prod_time  # Preencher as respectivas matrizes\n",
    "        setup_time[item, plant] = set_time\n",
    "        setup_cost[item, plant] = set_cost\n",
    "        production_cost[item, plant] = prod_cost\n",
    "\n",
    "    # 5. Lendo os custos de inventário\n",
    "    inventory_costs_line = start_line + num_plants * items\n",
    "    inventory_costs = list(map(float, lines[inventory_costs_line].split()))  # Lê todos os valores de inventory_costs como uma única lista\n",
    "    inventory_costs = np.array(inventory_costs).reshape(num_plants, -1)  # Divide a lista de custos de inventário por planta\n",
    "    inventory_costs = inventory_costs.T  # Deixa na forma (i, j)\n",
    "\n",
    "    # 6. Lendo a matriz de demanda (12 linhas)\n",
    "    demand_matrix = []\n",
    "    demand_start_line = inventory_costs_line + 1\n",
    "    \n",
    "    # Leitura inicial das demandas\n",
    "    for i in range(periods):  # Lê as linhas de demandas para os períodos\n",
    "        demands = list(map(int, lines[demand_start_line + i].split()))\n",
    "        demand_matrix.append(demands)\n",
    "    \n",
    "    # Agora vamos dividir os valores de cada linha combinada entre as plantas\n",
    "    final_demand_matrix = []\n",
    "    for demands in demand_matrix:\n",
    "        period_demand = []\n",
    "        for j in range(num_plants):\n",
    "            # Divide a demanda combinada por planta, assumindo que cada planta tem o mesmo número de itens\n",
    "            plant_demand = demands[j*items:(j+1)*items]\n",
    "            period_demand.append(plant_demand)\n",
    "        final_demand_matrix.append(period_demand)\n",
    "    \n",
    "    # Transpor a matriz de demanda para o formato correto (itens, plantas, períodos)\n",
    "    final_demand_matrix = np.array(final_demand_matrix)\n",
    "    final_demand_matrix = np.transpose(final_demand_matrix, (2, 1, 0))  # Converte para o formato (itens, plantas, períodos)\n",
    "\n",
    "    # 7. Reading transfer costs directly from the document as a matrix\n",
    "    transfer_cost_matrix = []\n",
    "    transfer_cost_line = demand_start_line + periods\n",
    "\n",
    "    # Read the matrix of transfer costs line by line\n",
    "    while transfer_cost_line < len(lines):\n",
    "        line = lines[transfer_cost_line].strip()\n",
    "        if line:\n",
    "            # Split the line into individual cost values and convert them to float\n",
    "            row = [float(value) for value in line.split()]\n",
    "            transfer_cost_matrix.append(row)\n",
    "        transfer_cost_line += 1\n",
    "\n",
    "    # Convert to a numpy array (optional, if you want to work with numpy for matrix operations)\n",
    "    transfer_costs = np.array(transfer_cost_matrix)\n",
    "\n",
    "    return {\"instance\": name,\n",
    "            \"items\": items,\n",
    "            \"periods\": periods,\n",
    "            \"num_plants\": num_plants,\n",
    "            \"capacities\": capacities,\n",
    "            \"production_time\": production_time,\n",
    "            \"setup_time\": setup_time,\n",
    "            \"setup_cost\": setup_cost,  \n",
    "            \"production_cost\": production_cost,\n",
    "            \"inventory_costs\": inventory_costs,\n",
    "            \"demand_matrix\": final_demand_matrix,\n",
    "            \"transfer_costs\": transfer_costs}\n"
   ]
  },
  {
   "cell_type": "markdown",
   "metadata": {},
   "source": [
    "# Leitura e interpretação dos dados"
   ]
  },
  {
   "cell_type": "code",
   "execution_count": 433,
   "metadata": {},
   "outputs": [],
   "source": [
    "# Exploração a partir de instância simples\n",
    "problem_data = read_instancia('../instancias/multi_plant_instances/NAA02_12_2_10.dat')"
   ]
  },
  {
   "cell_type": "code",
   "execution_count": 434,
   "metadata": {},
   "outputs": [],
   "source": [
    "# Produtos (i)\n",
    "I = np.array([_ for _ in range(problem_data['items'])])\n",
    "# Plantas (j)\n",
    "J = np.array([_ for _ in range(problem_data['num_plants'])])\n",
    "# Períodos (t)\n",
    "T = np.array([_ for _ in range(problem_data['periods'])])\n",
    "# Demanda (i, j, t)\n",
    "d = np.array(problem_data['demand_matrix'])\n",
    "# Capacidade (j, t)\n",
    "cap = np.array(problem_data['capacities'])\n",
    "# Tempo de produção (i, j)\n",
    "b = np.array(problem_data['production_time'])\n",
    "# Tempo de setup (i, j)\n",
    "f = np.array(problem_data['setup_time'])\n",
    "# Custo de produção (i, j)\n",
    "c = np.array(problem_data['production_cost'])\n",
    "# Custo de setup (i, j)\n",
    "s = np.array(problem_data['setup_cost'])\n",
    "# Custo de transporte (j, k)\n",
    "r = np.array(problem_data['transfer_costs'])\n",
    "# Custo de estoque (i, j)\n",
    "h = np.array(problem_data['inventory_costs'])"
   ]
  },
  {
   "cell_type": "code",
   "execution_count": 472,
   "metadata": {},
   "outputs": [
    {
     "data": {
      "text/plain": [
       "'NAA02_12_2_10'"
      ]
     },
     "execution_count": 472,
     "metadata": {},
     "output_type": "execute_result"
    }
   ],
   "source": [
    "problem_data['instance']"
   ]
  },
  {
   "cell_type": "code",
   "execution_count": 469,
   "metadata": {},
   "outputs": [
    {
     "name": "stdout",
     "output_type": "stream",
     "text": [
      "num_products: 10\n",
      "num_plants: 2\n",
      "num_periods: 12\n",
      "total_demand: 21946\n",
      "avg_demand_per_product: 91.44166666666666\n",
      "variance_demand_per_product: 2620.038263888889\n",
      "max_demand_per_product: 180\n",
      "std_demand_per_product: 51.18630934037821\n",
      "mean_utilization: 1.0019875114870478\n",
      "max_utilization: 1.384483758700696\n",
      "min_utilization: 0.7451024327784892\n",
      "std_utilization: 0.14744424776180076\n",
      "avg_setup_cost: 415.5849999999999\n",
      "variance_setup_cost: 47326.13127499999\n",
      "max_setup_cost: 866.6\n",
      "std_setup_cost: 217.5456992794847\n",
      "avg_production_cost: 1.8850000000000002\n",
      "variance_production_cost: 0.06127499999999999\n",
      "max_production_cost: 2.4\n",
      "std_production_cost: 0.24753787588973125\n",
      "total_transportation_cost: 0.6\n",
      "avg_inventory_cost: 0.325\n",
      "variance_inventory_cost: 0.005875000000000001\n",
      "demand_to_capacity_ratio: 0.2782765266788395\n",
      "setup_to_production_cost_ratio: 220.46949602122012\n",
      "avg_demand_to_setup_cost_ratio: 0.2200312009977903\n",
      "total_cost_to_demand_ratio: 0.3804520185910872\n"
     ]
    }
   ],
   "source": [
    "# Sugestão GPT\n",
    "import numpy as np\n",
    "\n",
    "# Feature extraction for a given instance (corrected)\n",
    "instance_features = {\n",
    "    # Basic instance-level features\n",
    "    'num_products': len(I),\n",
    "    'num_plants': len(J),\n",
    "    'num_periods': len(T),\n",
    "\n",
    "    # Demand statistics\n",
    "    'total_demand': np.sum(d),\n",
    "    'avg_demand_per_product': np.mean(d),\n",
    "    'variance_demand_per_product': np.var(d),\n",
    "    'max_demand_per_product': np.max(d),\n",
    "    'std_demand_per_product': np.std(d),\n",
    "\n",
    "    # Capacity and utilization statistics\n",
    "    'mean_utilization': np.mean([\n",
    "        np.sum(f[:, j] + b[:, j] * d[:, j, t]) / cap[j, t]\n",
    "        for t in T for j in J\n",
    "    ]),\n",
    "    'max_utilization': np.max([\n",
    "        np.sum(f[:, j] + b[:, j] * d[:, j, t]) / cap[j, t]\n",
    "        for t in T for j in J\n",
    "    ]),\n",
    "    'min_utilization': np.min([\n",
    "        np.sum(f[:, j] + b[:, j] * d[:, j, t]) / cap[j, t]\n",
    "        for t in T for j in J\n",
    "    ]),\n",
    "    'std_utilization': np.std([\n",
    "        np.sum(f[:, j] + b[:, j] * d[:, j, t]) / cap[j, t]\n",
    "        for t in T for j in J\n",
    "    ]),\n",
    "\n",
    "    # Cost statistics\n",
    "    'avg_setup_cost': np.mean(s),\n",
    "    'variance_setup_cost': np.var(s),\n",
    "    'max_setup_cost': np.max(s),\n",
    "    'std_setup_cost': np.std(s),\n",
    "    'avg_production_cost': np.mean(c),\n",
    "    'variance_production_cost': np.var(c),\n",
    "    'max_production_cost': np.max(c),\n",
    "    'std_production_cost': np.std(c),\n",
    "    'total_transportation_cost': np.sum(r),\n",
    "    'avg_inventory_cost': np.mean(h),\n",
    "    'variance_inventory_cost': np.var(h),\n",
    "\n",
    "    # Relationships between features\n",
    "    'demand_to_capacity_ratio': np.sum(d) / np.sum(cap),\n",
    "    'setup_to_production_cost_ratio': np.sum(s) / np.sum(c),\n",
    "    'avg_demand_to_setup_cost_ratio': np.mean(d) / np.mean(s),\n",
    "    'total_cost_to_demand_ratio': (np.sum(s) + np.sum(c)) / np.sum(d),\n",
    "}\n",
    "\n",
    "# Print corrected instance-level features\n",
    "for feature, value in instance_features.items():\n",
    "    print(f'{feature}: {value}')\n"
   ]
  },
  {
   "cell_type": "markdown",
   "metadata": {},
   "source": [
    "# Features da instância"
   ]
  },
  {
   "cell_type": "markdown",
   "metadata": {},
   "source": [
    "## Nº de plantas"
   ]
  },
  {
   "cell_type": "code",
   "execution_count": 435,
   "metadata": {},
   "outputs": [
    {
     "data": {
      "text/plain": [
       "2"
      ]
     },
     "execution_count": 435,
     "metadata": {},
     "output_type": "execute_result"
    }
   ],
   "source": [
    "len(J)"
   ]
  },
  {
   "cell_type": "markdown",
   "metadata": {},
   "source": [
    "## Nº de produtos"
   ]
  },
  {
   "cell_type": "code",
   "execution_count": 436,
   "metadata": {},
   "outputs": [
    {
     "data": {
      "text/plain": [
       "10"
      ]
     },
     "execution_count": 436,
     "metadata": {},
     "output_type": "execute_result"
    }
   ],
   "source": [
    "len(I)"
   ]
  },
  {
   "cell_type": "markdown",
   "metadata": {},
   "source": [
    "## Nº de períodos"
   ]
  },
  {
   "cell_type": "code",
   "execution_count": 437,
   "metadata": {},
   "outputs": [
    {
     "data": {
      "text/plain": [
       "12"
      ]
     },
     "execution_count": 437,
     "metadata": {},
     "output_type": "execute_result"
    }
   ],
   "source": [
    "len(T)"
   ]
  },
  {
   "cell_type": "markdown",
   "metadata": {},
   "source": [
    "## Nº de variáveis binárias"
   ]
  },
  {
   "cell_type": "code",
   "execution_count": 438,
   "metadata": {},
   "outputs": [
    {
     "data": {
      "text/plain": [
       "240"
      ]
     },
     "execution_count": 438,
     "metadata": {},
     "output_type": "execute_result"
    }
   ],
   "source": [
    "len(I) * len(J) * len(T)"
   ]
  },
  {
   "cell_type": "markdown",
   "metadata": {},
   "source": [
    "## Custos de produção"
   ]
  },
  {
   "cell_type": "markdown",
   "metadata": {},
   "source": [
    "Devo procurar um valor representativo dos custos de produção para a instância"
   ]
  },
  {
   "cell_type": "code",
   "execution_count": 439,
   "metadata": {},
   "outputs": [],
   "source": [
    "custos = []\n",
    "for t in T:\n",
    "    custo_plantas = 0\n",
    "    for j in J:\n",
    "        for i in I:\n",
    "            custo_producao_i_j = s[i, j] + c[i, j] * d[i, j, t]  # Tempo de setup + produção para suprir a demanda do produto i na planta j no período t\n",
    "            custo_plantas += custo_producao_i_j\n",
    "    custos.append(custo_plantas)"
   ]
  },
  {
   "cell_type": "code",
   "execution_count": 440,
   "metadata": {},
   "outputs": [
    {
     "data": {
      "text/plain": [
       "[np.float64(11638.099999999999),\n",
       " np.float64(11856.800000000001),\n",
       " np.float64(12253.700000000003),\n",
       " np.float64(11201.4),\n",
       " np.float64(12139.800000000001),\n",
       " np.float64(11542.2),\n",
       " np.float64(11370.500000000002),\n",
       " np.float64(11145.9),\n",
       " np.float64(12481.3),\n",
       " np.float64(12365.7),\n",
       " np.float64(11723.799999999997),\n",
       " np.float64(11100.1)]"
      ]
     },
     "execution_count": 440,
     "metadata": {},
     "output_type": "execute_result"
    }
   ],
   "source": [
    "custos"
   ]
  },
  {
   "cell_type": "code",
   "execution_count": 441,
   "metadata": {},
   "outputs": [
    {
     "data": {
      "text/plain": [
       "np.float64(586.7470833333333)"
      ]
     },
     "execution_count": 441,
     "metadata": {},
     "output_type": "execute_result"
    }
   ],
   "source": [
    "# Custo médio para todos os períodos\n",
    "np.mean(custos) / (len(I) * len(J))"
   ]
  },
  {
   "cell_type": "markdown",
   "metadata": {},
   "source": [
    "## Tempos de produção"
   ]
  },
  {
   "cell_type": "code",
   "execution_count": null,
   "metadata": {},
   "outputs": [],
   "source": []
  },
  {
   "cell_type": "markdown",
   "metadata": {},
   "source": [
    "## Custos de setup"
   ]
  },
  {
   "cell_type": "code",
   "execution_count": null,
   "metadata": {},
   "outputs": [],
   "source": []
  },
  {
   "cell_type": "markdown",
   "metadata": {},
   "source": [
    "## Tempos de setup"
   ]
  },
  {
   "cell_type": "code",
   "execution_count": null,
   "metadata": {},
   "outputs": [],
   "source": []
  },
  {
   "cell_type": "markdown",
   "metadata": {},
   "source": [
    "## Uso de capacidade"
   ]
  },
  {
   "cell_type": "markdown",
   "metadata": {},
   "source": [
    "### Capacidade com setup"
   ]
  },
  {
   "cell_type": "code",
   "execution_count": 458,
   "metadata": {},
   "outputs": [],
   "source": [
    "# Utilização por planta e período\n",
    "ocupacao = ([np.sum(f[:, j] + b[:, j] * d[:, j, t]) / cap[j, t] for t in T for j in J])"
   ]
  },
  {
   "cell_type": "code",
   "execution_count": 459,
   "metadata": {},
   "outputs": [
    {
     "data": {
      "text/plain": [
       "np.float64(1.0019875114870478)"
      ]
     },
     "execution_count": 459,
     "metadata": {},
     "output_type": "execute_result"
    }
   ],
   "source": [
    "# Essa é bem fácil de fazer reverse engineering. A média dos tight é 1.1 e da capacidade normal próxima de 1.0\n",
    "np.mean(ocupacao)"
   ]
  },
  {
   "cell_type": "code",
   "execution_count": 460,
   "metadata": {},
   "outputs": [
    {
     "data": {
      "text/plain": [
       "np.float64(0.14744424776180076)"
      ]
     },
     "execution_count": 460,
     "metadata": {},
     "output_type": "execute_result"
    }
   ],
   "source": [
    "np.std(ocupacao)"
   ]
  },
  {
   "cell_type": "code",
   "execution_count": 461,
   "metadata": {},
   "outputs": [
    {
     "data": {
      "text/plain": [
       "np.float64(0.7451024327784892)"
      ]
     },
     "execution_count": 461,
     "metadata": {},
     "output_type": "execute_result"
    }
   ],
   "source": [
    "# Pode ser uma boa ideia adicionar percebntis se forem trazer alguma informação, mas acredito que não é por esses parâmetros de geração\n",
    "np.min(ocupacao)"
   ]
  },
  {
   "cell_type": "code",
   "execution_count": 446,
   "metadata": {},
   "outputs": [
    {
     "data": {
      "text/plain": [
       "np.float64(1.3844837587006962)"
      ]
     },
     "execution_count": 446,
     "metadata": {},
     "output_type": "execute_result"
    }
   ],
   "source": [
    "np.max(ocupacao)"
   ]
  },
  {
   "cell_type": "markdown",
   "metadata": {},
   "source": [
    "### Capacidade sem setup"
   ]
  },
  {
   "cell_type": "markdown",
   "metadata": {},
   "source": [
    "Essa não vai mudar tanto também, mas posso ver"
   ]
  },
  {
   "cell_type": "code",
   "execution_count": 447,
   "metadata": {},
   "outputs": [],
   "source": [
    "ocupacao = []\n",
    "for t in T:\n",
    "    for j in J:\n",
    "        necessidade_planta = 0\n",
    "        for i in I:\n",
    "            tempo_producao_i = b[i, j] * d[i, j, t]  # Tempo de produção para suprir a demanda do produto i na planta j no período t\n",
    "            necessidade_planta += tempo_producao_i\n",
    "        utilizacao = necessidade_planta / cap[j, t]\n",
    "        ocupacao.append(utilizacao)"
   ]
  },
  {
   "cell_type": "code",
   "execution_count": 448,
   "metadata": {},
   "outputs": [
    {
     "data": {
      "text/plain": [
       "np.float64(0.8520931044415264)"
      ]
     },
     "execution_count": 448,
     "metadata": {},
     "output_type": "execute_result"
    }
   ],
   "source": [
    "np.mean(ocupacao)"
   ]
  }
 ],
 "metadata": {
  "kernelspec": {
   "display_name": "venv",
   "language": "python",
   "name": "python3"
  },
  "language_info": {
   "codemirror_mode": {
    "name": "ipython",
    "version": 3
   },
   "file_extension": ".py",
   "mimetype": "text/x-python",
   "name": "python",
   "nbconvert_exporter": "python",
   "pygments_lexer": "ipython3",
   "version": "3.12.3"
  }
 },
 "nbformat": 4,
 "nbformat_minor": 2
}
