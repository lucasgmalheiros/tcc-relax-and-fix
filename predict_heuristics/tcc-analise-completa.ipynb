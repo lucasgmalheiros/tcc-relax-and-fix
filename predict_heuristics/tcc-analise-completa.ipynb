{
 "cells": [
  {
   "cell_type": "code",
   "execution_count": 1,
   "metadata": {},
   "outputs": [],
   "source": [
    "import pandas as pd\n",
    "import numpy as np\n",
    "import h2o\n",
    "from h2o.estimators import H2OGradientBoostingEstimator\n",
    "from h2o.estimators import H2OXGBoostEstimator\n",
    "from h2o.grid.grid_search import H2OGridSearch\n",
    "from sklearn.metrics import confusion_matrix, f1_score, precision_recall_curve, auc"
   ]
  },
  {
   "cell_type": "code",
   "execution_count": 2,
   "metadata": {},
   "outputs": [
    {
     "name": "stdout",
     "output_type": "stream",
     "text": [
      "Checking whether there is an H2O instance running at http://localhost:12345..... not found.\n",
      "Attempting to start a local H2O server...\n",
      "  Java Version: openjdk version \"21.0.5\" 2024-10-15; OpenJDK Runtime Environment (build 21.0.5+11-Ubuntu-1ubuntu124.04); OpenJDK 64-Bit Server VM (build 21.0.5+11-Ubuntu-1ubuntu124.04, mixed mode, sharing)\n",
      "  Starting server from /home/lucasmalheiros/Documents/Pesquisa Operacional/tcc-relax-and-fix/venv/lib/python3.12/site-packages/h2o/backend/bin/h2o.jar\n",
      "  Ice root: /tmp/tmpqo4zcd69\n",
      "  JVM stdout: /tmp/tmpqo4zcd69/h2o_lucasmalheiros_started_from_python.out\n",
      "  JVM stderr: /tmp/tmpqo4zcd69/h2o_lucasmalheiros_started_from_python.err\n",
      "  Server is running at http://127.0.0.1:12345\n",
      "Connecting to H2O server at http://127.0.0.1:12345 ... successful.\n"
     ]
    },
    {
     "data": {
      "text/html": [
       "\n",
       "<style>\n",
       "\n",
       "#h2o-table-1.h2o-container {\n",
       "  overflow-x: auto;\n",
       "}\n",
       "#h2o-table-1 .h2o-table {\n",
       "  /* width: 100%; */\n",
       "  margin-top: 1em;\n",
       "  margin-bottom: 1em;\n",
       "}\n",
       "#h2o-table-1 .h2o-table caption {\n",
       "  white-space: nowrap;\n",
       "  caption-side: top;\n",
       "  text-align: left;\n",
       "  /* margin-left: 1em; */\n",
       "  margin: 0;\n",
       "  font-size: larger;\n",
       "}\n",
       "#h2o-table-1 .h2o-table thead {\n",
       "  white-space: nowrap; \n",
       "  position: sticky;\n",
       "  top: 0;\n",
       "  box-shadow: 0 -1px inset;\n",
       "}\n",
       "#h2o-table-1 .h2o-table tbody {\n",
       "  overflow: auto;\n",
       "}\n",
       "#h2o-table-1 .h2o-table th,\n",
       "#h2o-table-1 .h2o-table td {\n",
       "  text-align: right;\n",
       "  /* border: 1px solid; */\n",
       "}\n",
       "#h2o-table-1 .h2o-table tr:nth-child(even) {\n",
       "  /* background: #F5F5F5 */\n",
       "}\n",
       "\n",
       "</style>      \n",
       "<div id=\"h2o-table-1\" class=\"h2o-container\">\n",
       "  <table class=\"h2o-table\">\n",
       "    <caption></caption>\n",
       "    <thead></thead>\n",
       "    <tbody><tr><td>H2O_cluster_uptime:</td>\n",
       "<td>06 secs</td></tr>\n",
       "<tr><td>H2O_cluster_timezone:</td>\n",
       "<td>America/Sao_Paulo</td></tr>\n",
       "<tr><td>H2O_data_parsing_timezone:</td>\n",
       "<td>UTC</td></tr>\n",
       "<tr><td>H2O_cluster_version:</td>\n",
       "<td>3.46.0.6</td></tr>\n",
       "<tr><td>H2O_cluster_version_age:</td>\n",
       "<td>1 month and 4 days</td></tr>\n",
       "<tr><td>H2O_cluster_name:</td>\n",
       "<td>H2O_from_python_lucasmalheiros_230ljg</td></tr>\n",
       "<tr><td>H2O_cluster_total_nodes:</td>\n",
       "<td>1</td></tr>\n",
       "<tr><td>H2O_cluster_free_memory:</td>\n",
       "<td>1.868 Gb</td></tr>\n",
       "<tr><td>H2O_cluster_total_cores:</td>\n",
       "<td>8</td></tr>\n",
       "<tr><td>H2O_cluster_allowed_cores:</td>\n",
       "<td>8</td></tr>\n",
       "<tr><td>H2O_cluster_status:</td>\n",
       "<td>locked, healthy</td></tr>\n",
       "<tr><td>H2O_connection_url:</td>\n",
       "<td>http://127.0.0.1:12345</td></tr>\n",
       "<tr><td>H2O_connection_proxy:</td>\n",
       "<td>{\"http\": null, \"https\": null}</td></tr>\n",
       "<tr><td>H2O_internal_security:</td>\n",
       "<td>False</td></tr>\n",
       "<tr><td>Python_version:</td>\n",
       "<td>3.12.3 final</td></tr></tbody>\n",
       "  </table>\n",
       "</div>\n"
      ],
      "text/plain": [
       "--------------------------  -------------------------------------\n",
       "H2O_cluster_uptime:         06 secs\n",
       "H2O_cluster_timezone:       America/Sao_Paulo\n",
       "H2O_data_parsing_timezone:  UTC\n",
       "H2O_cluster_version:        3.46.0.6\n",
       "H2O_cluster_version_age:    1 month and 4 days\n",
       "H2O_cluster_name:           H2O_from_python_lucasmalheiros_230ljg\n",
       "H2O_cluster_total_nodes:    1\n",
       "H2O_cluster_free_memory:    1.868 Gb\n",
       "H2O_cluster_total_cores:    8\n",
       "H2O_cluster_allowed_cores:  8\n",
       "H2O_cluster_status:         locked, healthy\n",
       "H2O_connection_url:         http://127.0.0.1:12345\n",
       "H2O_connection_proxy:       {\"http\": null, \"https\": null}\n",
       "H2O_internal_security:      False\n",
       "Python_version:             3.12.3 final\n",
       "--------------------------  -------------------------------------"
      ]
     },
     "metadata": {},
     "output_type": "display_data"
    }
   ],
   "source": [
    "h2o.init(port=12345)"
   ]
  },
  {
   "cell_type": "code",
   "execution_count": 3,
   "metadata": {},
   "outputs": [],
   "source": [
    "def convert_to_h2o_frame(data: pd.DataFrame) -> h2o.H2OFrame:\n",
    "    \"\"\"Converte um pd.DataFrame em um h2o.H2OFrame\"\"\"\n",
    "    print('Performing conversion from pd.DataFrame to h2o.H2OFrame...')\n",
    "    # Colunas de datas\n",
    "    cols_to_date = [col for col in data.dtypes[data.dtypes == 'datetime64[ns]'].index]\n",
    "    # Colunas a converter para categórica\n",
    "    cols_to_factor = [col for col in data.dtypes[(data.dtypes == 'object') | (data.dtypes == 'category')].index]\n",
    "    # Colunas a converter a numeric\n",
    "    cols_numerics = [col for col in data.dtypes[(data.dtypes != 'object') & (data.dtypes != 'category') & (data.dtypes != 'datetime64[ns]')].index]\n",
    "    # Adicionar os tipos de colunas ao dicionário col_dtypes\n",
    "    col_dtypes = {}\n",
    "    for col in cols_to_date:\n",
    "        col_dtypes[col] = 'time'\n",
    "    for col in cols_to_factor:\n",
    "        col_dtypes[col] = 'enum'\n",
    "    for col in cols_numerics:\n",
    "        col_dtypes[col] = 'numeric'\n",
    "    # Converte a h2o\n",
    "    data = h2o.H2OFrame(data, column_types=col_dtypes, na_strings=['NA', 'none', 'None', 'nan', 'NaN', '<NA>'])\n",
    "    print('Successful conversion from pd.DataFrame to h2o.H2OFrame.')\n",
    "    return data"
   ]
  },
  {
   "cell_type": "markdown",
   "metadata": {},
   "source": [
    "# Data preparation"
   ]
  },
  {
   "cell_type": "code",
   "execution_count": 4,
   "metadata": {},
   "outputs": [],
   "source": [
    "# Resultados\n",
    "df_resultados = pd.read_csv('resultados_instancias_tcc.csv')\n",
    "df_resultados = df_resultados[['Instancias'] + [col for col in df_resultados.columns if col.startswith('Obj_') or col.startswith('Time_')]]\n",
    "df_resultados = df_resultados[df_resultados['Obj_RF_T_0'] != np.inf]  # Remove infactíveis"
   ]
  },
  {
   "cell_type": "code",
   "execution_count": 5,
   "metadata": {},
   "outputs": [],
   "source": [
    "# Features criadas de create_features_dataset.py\n",
    "df_features = pd.read_csv('multi_plant_instance_features.csv')"
   ]
  },
  {
   "cell_type": "code",
   "execution_count": 6,
   "metadata": {},
   "outputs": [],
   "source": [
    "df = df_features.merge(df_resultados, left_on='instance', right_on='Instancias', how='inner').drop(columns=['Instancias', 'instance'])"
   ]
  },
  {
   "cell_type": "code",
   "execution_count": 7,
   "metadata": {},
   "outputs": [
    {
     "data": {
      "text/html": [
       "<div>\n",
       "<style scoped>\n",
       "    .dataframe tbody tr th:only-of-type {\n",
       "        vertical-align: middle;\n",
       "    }\n",
       "\n",
       "    .dataframe tbody tr th {\n",
       "        vertical-align: top;\n",
       "    }\n",
       "\n",
       "    .dataframe thead th {\n",
       "        text-align: right;\n",
       "    }\n",
       "</style>\n",
       "<table border=\"1\" class=\"dataframe\">\n",
       "  <thead>\n",
       "    <tr style=\"text-align: right;\">\n",
       "      <th></th>\n",
       "      <th>num_products</th>\n",
       "      <th>num_plants</th>\n",
       "      <th>num_periods</th>\n",
       "      <th>binary_vars</th>\n",
       "      <th>total_demand</th>\n",
       "      <th>avg_demand_per_product</th>\n",
       "      <th>variance_demand_per_product</th>\n",
       "      <th>std_demand_per_product</th>\n",
       "      <th>mean_utilization</th>\n",
       "      <th>max_utilization</th>\n",
       "      <th>...</th>\n",
       "      <th>Obj_RF_4_2</th>\n",
       "      <th>Time_RF_4_2</th>\n",
       "      <th>Obj_RF_4_3</th>\n",
       "      <th>Time_RF_4_3</th>\n",
       "      <th>Obj_RF_6_0</th>\n",
       "      <th>Time_RF_6_0</th>\n",
       "      <th>Obj_RF_6_1</th>\n",
       "      <th>Time_RF_6_1</th>\n",
       "      <th>Obj_RF_T_0</th>\n",
       "      <th>Time_RF_T_0</th>\n",
       "    </tr>\n",
       "  </thead>\n",
       "  <tbody>\n",
       "    <tr>\n",
       "      <th>0</th>\n",
       "      <td>120</td>\n",
       "      <td>2</td>\n",
       "      <td>12</td>\n",
       "      <td>2880</td>\n",
       "      <td>263136</td>\n",
       "      <td>91.366667</td>\n",
       "      <td>2807.950972</td>\n",
       "      <td>52.990103</td>\n",
       "      <td>1.000118</td>\n",
       "      <td>1.067356</td>\n",
       "      <td>...</td>\n",
       "      <td>NaN</td>\n",
       "      <td>NaN</td>\n",
       "      <td>NaN</td>\n",
       "      <td>NaN</td>\n",
       "      <td>829221.10</td>\n",
       "      <td>1800.13</td>\n",
       "      <td>811118.49</td>\n",
       "      <td>1200.63</td>\n",
       "      <td>809910.65</td>\n",
       "      <td>1800.1</td>\n",
       "    </tr>\n",
       "    <tr>\n",
       "      <th>1</th>\n",
       "      <td>60</td>\n",
       "      <td>20</td>\n",
       "      <td>12</td>\n",
       "      <td>14400</td>\n",
       "      <td>1305703</td>\n",
       "      <td>90.673819</td>\n",
       "      <td>2699.046453</td>\n",
       "      <td>51.952348</td>\n",
       "      <td>1.000154</td>\n",
       "      <td>1.143479</td>\n",
       "      <td>...</td>\n",
       "      <td>NaN</td>\n",
       "      <td>NaN</td>\n",
       "      <td>NaN</td>\n",
       "      <td>NaN</td>\n",
       "      <td>2404264.97</td>\n",
       "      <td>1069.06</td>\n",
       "      <td>2404219.27</td>\n",
       "      <td>1018.31</td>\n",
       "      <td>2404240.72</td>\n",
       "      <td>952.5</td>\n",
       "    </tr>\n",
       "    <tr>\n",
       "      <th>2</th>\n",
       "      <td>120</td>\n",
       "      <td>6</td>\n",
       "      <td>12</td>\n",
       "      <td>8640</td>\n",
       "      <td>788211</td>\n",
       "      <td>91.228125</td>\n",
       "      <td>2765.053630</td>\n",
       "      <td>52.583777</td>\n",
       "      <td>0.999516</td>\n",
       "      <td>1.092181</td>\n",
       "      <td>...</td>\n",
       "      <td>NaN</td>\n",
       "      <td>NaN</td>\n",
       "      <td>NaN</td>\n",
       "      <td>NaN</td>\n",
       "      <td>2000140.81</td>\n",
       "      <td>1800.32</td>\n",
       "      <td>1991086.02</td>\n",
       "      <td>1214.94</td>\n",
       "      <td>2106419.81</td>\n",
       "      <td>1800.2</td>\n",
       "    </tr>\n",
       "  </tbody>\n",
       "</table>\n",
       "<p>3 rows × 79 columns</p>\n",
       "</div>"
      ],
      "text/plain": [
       "   num_products  num_plants  num_periods  binary_vars  total_demand  \\\n",
       "0           120           2           12         2880        263136   \n",
       "1            60          20           12        14400       1305703   \n",
       "2           120           6           12         8640        788211   \n",
       "\n",
       "   avg_demand_per_product  variance_demand_per_product  \\\n",
       "0               91.366667                  2807.950972   \n",
       "1               90.673819                  2699.046453   \n",
       "2               91.228125                  2765.053630   \n",
       "\n",
       "   std_demand_per_product  mean_utilization  max_utilization  ...  Obj_RF_4_2  \\\n",
       "0               52.990103          1.000118         1.067356  ...         NaN   \n",
       "1               51.952348          1.000154         1.143479  ...         NaN   \n",
       "2               52.583777          0.999516         1.092181  ...         NaN   \n",
       "\n",
       "   Time_RF_4_2  Obj_RF_4_3  Time_RF_4_3  Obj_RF_6_0  Time_RF_6_0  Obj_RF_6_1  \\\n",
       "0          NaN         NaN          NaN   829221.10      1800.13   811118.49   \n",
       "1          NaN         NaN          NaN  2404264.97      1069.06  2404219.27   \n",
       "2          NaN         NaN          NaN  2000140.81      1800.32  1991086.02   \n",
       "\n",
       "   Time_RF_6_1  Obj_RF_T_0  Time_RF_T_0  \n",
       "0      1200.63   809910.65       1800.1  \n",
       "1      1018.31  2404240.72        952.5  \n",
       "2      1214.94  2106419.81       1800.2  \n",
       "\n",
       "[3 rows x 79 columns]"
      ]
     },
     "execution_count": 7,
     "metadata": {},
     "output_type": "execute_result"
    }
   ],
   "source": [
    "df.head(3)"
   ]
  },
  {
   "cell_type": "markdown",
   "metadata": {},
   "source": [
    "# Construção de targets"
   ]
  },
  {
   "cell_type": "code",
   "execution_count": 8,
   "metadata": {},
   "outputs": [],
   "source": [
    "obj_columns = [col for col in df.columns if col.startswith('Obj_')]\n",
    "time_columns = [col for col in df.columns if col.startswith('Time_')]"
   ]
  },
  {
   "cell_type": "markdown",
   "metadata": {},
   "source": [
    "## Target em função objetivo (BEST)"
   ]
  },
  {
   "cell_type": "code",
   "execution_count": 9,
   "metadata": {},
   "outputs": [],
   "source": [
    "# Seleciona para cada instância o método com menor função objetivo para a coluna BEST\n",
    "df['BEST'] = df[obj_columns].idxmin(axis=1)\n",
    "df['BEST'] = df['BEST'].str.replace('Obj_', '')"
   ]
  },
  {
   "cell_type": "code",
   "execution_count": 10,
   "metadata": {},
   "outputs": [
    {
     "data": {
      "text/plain": [
       "BEST\n",
       "RF_T_0    221\n",
       "RF_6_0     73\n",
       "RF_3_1     60\n",
       "RF_2_0     52\n",
       "RF_1_0     48\n",
       "RF_6_1     45\n",
       "RF_2_1     36\n",
       "RF_3_0     33\n",
       "RF_4_0     30\n",
       "Name: count, dtype: int64"
      ]
     },
     "execution_count": 10,
     "metadata": {},
     "output_type": "execute_result"
    }
   ],
   "source": [
    "df['BEST'].value_counts()"
   ]
  },
  {
   "cell_type": "markdown",
   "metadata": {},
   "source": [
    "## Target com compromisso de tempo (BEST_TIME)"
   ]
  },
  {
   "cell_type": "code",
   "execution_count": 11,
   "metadata": {},
   "outputs": [],
   "source": [
    "for obj_col, time_col in zip(obj_columns, time_columns):\n",
    "    df[f'Adjusted_{obj_col}'] = (\n",
    "        df[obj_col] * np.maximum(np.log(df[time_col]) / np.log(1000), 1)\n",
    "    )\n",
    "adjusted_columns = [col for col in df.columns if col.startswith('Adjusted_')]"
   ]
  },
  {
   "cell_type": "code",
   "execution_count": 12,
   "metadata": {},
   "outputs": [],
   "source": [
    "# Seleciona para cada instância o método com menor função objetivo para a coluna BEST\n",
    "df['BEST_TIME'] = df[adjusted_columns].idxmin(axis=1)\n",
    "df['BEST_TIME'] = df['BEST_TIME'].str.replace('Adjusted_Obj_', '')"
   ]
  },
  {
   "cell_type": "code",
   "execution_count": 13,
   "metadata": {},
   "outputs": [
    {
     "data": {
      "text/plain": [
       "BEST_TIME\n",
       "RF_T_0    119\n",
       "RF_1_0    115\n",
       "RF_3_1     72\n",
       "RF_6_0     72\n",
       "RF_6_1     69\n",
       "RF_2_0     58\n",
       "RF_2_1     35\n",
       "RF_3_0     30\n",
       "RF_4_0     28\n",
       "Name: count, dtype: int64"
      ]
     },
     "execution_count": 13,
     "metadata": {},
     "output_type": "execute_result"
    }
   ],
   "source": [
    "df['BEST_TIME'].value_counts()"
   ]
  },
  {
   "cell_type": "markdown",
   "metadata": {},
   "source": [
    "# Preprocessamento de dados"
   ]
  },
  {
   "cell_type": "markdown",
   "metadata": {},
   "source": [
    "## Drop Obj_ e Time_"
   ]
  },
  {
   "cell_type": "code",
   "execution_count": 14,
   "metadata": {},
   "outputs": [],
   "source": [
    "df = df.drop(columns=obj_columns + time_columns + adjusted_columns)"
   ]
  },
  {
   "cell_type": "code",
   "execution_count": 15,
   "metadata": {},
   "outputs": [],
   "source": [
    "# Embaralhar dataset\n",
    "df = df.sample(frac=1)"
   ]
  },
  {
   "cell_type": "markdown",
   "metadata": {},
   "source": [
    "## Convert para H2O frame"
   ]
  },
  {
   "cell_type": "code",
   "execution_count": 16,
   "metadata": {},
   "outputs": [
    {
     "name": "stdout",
     "output_type": "stream",
     "text": [
      "Performing conversion from pd.DataFrame to h2o.H2OFrame...\n",
      "Parse progress: |████████████████████████████████████████████████████████████████| (done) 100%\n",
      "Successful conversion from pd.DataFrame to h2o.H2OFrame.\n"
     ]
    }
   ],
   "source": [
    "# Conversão para H2O frame\n",
    "hf = convert_to_h2o_frame(df)"
   ]
  },
  {
   "cell_type": "code",
   "execution_count": 17,
   "metadata": {},
   "outputs": [],
   "source": [
    "# Train test split\n",
    "hf_train, hf_test = hf.split_frame(ratios=[.8], seed=2112)"
   ]
  },
  {
   "cell_type": "markdown",
   "metadata": {},
   "source": [
    "# Treino (GBM)"
   ]
  },
  {
   "cell_type": "code",
   "execution_count": 18,
   "metadata": {},
   "outputs": [],
   "source": [
    "target = 'BEST_TIME'\n",
    "predictors = [c for c in hf_train.columns if c not in ['BEST', 'BEST_TIME']]"
   ]
  },
  {
   "cell_type": "code",
   "execution_count": 19,
   "metadata": {},
   "outputs": [],
   "source": [
    "gbm_model = H2OGradientBoostingEstimator(\n",
    "    nfolds=10,\n",
    "    keep_cross_validation_predictions=True,\n",
    "    seed=2112,\n",
    "    stopping_rounds=10,\n",
    "    stopping_metric=\"AUTO\",\n",
    "    stopping_tolerance=0.001,\n",
    "    balance_classes=False\n",
    ")"
   ]
  },
  {
   "cell_type": "code",
   "execution_count": 20,
   "metadata": {},
   "outputs": [],
   "source": [
    "xgboost_model = H2OXGBoostEstimator(booster='dart',\n",
    "                                    normalize_type=\"tree\",\n",
    "                                    seed=2112,\n",
    "                                    nfolds=10,\n",
    "                                    keep_cross_validation_predictions=True)"
   ]
  },
  {
   "cell_type": "code",
   "execution_count": 21,
   "metadata": {},
   "outputs": [],
   "source": [
    "# Hiper Parâmetros\n",
    "hyper_params = {\n",
    "    \"learn_rate\": list(\n",
    "        np.round(np.arange(0.01, 0.1, 0.01), 3)\n",
    "    ),  # Narrowed range for learning rate list(np.round(np.arange(0.05, 0.3, 0.05), 3)),\n",
    "    \"max_depth\": list(\n",
    "        np.arange(5, 10, 1)\n",
    "    ),  # Reduced maximum depth list(np.arange(5, 15, 1)),\n",
    "    \"ntrees\": list(\n",
    "        np.arange(50, 150, 20)\n",
    "    ),  # Increased number of trees list(np.arange(20, 70, 10)),\n",
    "    \"sample_rate\": list(\n",
    "        np.round(np.arange(0.5, 0.9, 0.1), 3)\n",
    "    ),  # Adjusted sample rate range list(np.round(np.arange(0.5, 1.0, 0.1), 3)),\n",
    "    \"col_sample_rate\": list(\n",
    "        np.round(np.arange(0.5, 1.0, 0.1), 3)\n",
    "    ),  # Slightly adjusted col sample rate range list(np.round(np.arange(0.3, 1.0, 0.1), 3)),\n",
    "}\n",
    "# Tipo de pesquisa da grid. Em caso de RandomDiscrete, corre até max_models(n modelos)\n",
    "search_criteria = {\n",
    "    \"strategy\": \"RandomDiscrete\",\n",
    "    \"max_models\": 50,\n",
    "    # \"max_runtime_secs\": 180,\n",
    "    \"seed\": 1\n",
    "}"
   ]
  },
  {
   "cell_type": "code",
   "execution_count": 22,
   "metadata": {},
   "outputs": [],
   "source": [
    "# # Construir grid com parâmetros e critérios de procura de melhor modelo\n",
    "# grid = H2OGridSearch(model=gbm_model, \n",
    "#                      search_criteria=search_criteria, \n",
    "#                      hyper_params=hyper_params)\n",
    "# # Treinar grid\n",
    "# grid.train(x=predictors, y=target, training_frame=hf_train);"
   ]
  },
  {
   "cell_type": "code",
   "execution_count": 23,
   "metadata": {},
   "outputs": [],
   "source": [
    "# gbm_grid = grid.get_grid(sort_by=\"rmse\", decreasing=False)\n",
    "# model = gbm_grid.models[0]"
   ]
  },
  {
   "cell_type": "code",
   "execution_count": 24,
   "metadata": {},
   "outputs": [
    {
     "name": "stdout",
     "output_type": "stream",
     "text": [
      "gbm Model Build progress: |"
     ]
    },
    {
     "name": "stderr",
     "output_type": "stream",
     "text": [
      "/home/lucasmalheiros/Documents/Pesquisa Operacional/tcc-relax-and-fix/venv/lib/python3.12/site-packages/h2o/estimators/estimator_base.py:192: RuntimeWarning: Dropping bad and constant columns: [num_periods]\n",
      "  warnings.warn(mesg[\"message\"], RuntimeWarning)\n",
      "/home/lucasmalheiros/Documents/Pesquisa Operacional/tcc-relax-and-fix/venv/lib/python3.12/site-packages/h2o/estimators/estimator_base.py:192: RuntimeWarning: early stopping is enabled but neither score_tree_interval or score_each_iteration are defined. Early stopping will not be reproducible!\n",
      "  warnings.warn(mesg[\"message\"], RuntimeWarning)\n"
     ]
    },
    {
     "name": "stdout",
     "output_type": "stream",
     "text": [
      "██████████████████████████████████████████████████████| (done) 100%\n"
     ]
    }
   ],
   "source": [
    "model = gbm_model\n",
    "model.train(x=predictors, y=target, training_frame=hf_train);"
   ]
  },
  {
   "cell_type": "markdown",
   "metadata": {},
   "source": [
    "# Avaliação das métricas de treino"
   ]
  },
  {
   "cell_type": "code",
   "execution_count": 25,
   "metadata": {},
   "outputs": [
    {
     "data": {
      "text/html": [
       "<div>\n",
       "<style scoped>\n",
       "    .dataframe tbody tr th:only-of-type {\n",
       "        vertical-align: middle;\n",
       "    }\n",
       "\n",
       "    .dataframe tbody tr th {\n",
       "        vertical-align: top;\n",
       "    }\n",
       "\n",
       "    .dataframe thead th {\n",
       "        text-align: right;\n",
       "    }\n",
       "</style>\n",
       "<table border=\"1\" class=\"dataframe\">\n",
       "  <thead>\n",
       "    <tr style=\"text-align: right;\">\n",
       "      <th></th>\n",
       "      <th>variable</th>\n",
       "      <th>relative_importance</th>\n",
       "      <th>scaled_importance</th>\n",
       "      <th>percentage</th>\n",
       "    </tr>\n",
       "  </thead>\n",
       "  <tbody>\n",
       "    <tr>\n",
       "      <th>0</th>\n",
       "      <td>max_setup_cost</td>\n",
       "      <td>163.674973</td>\n",
       "      <td>1.000000</td>\n",
       "      <td>0.125240</td>\n",
       "    </tr>\n",
       "    <tr>\n",
       "      <th>1</th>\n",
       "      <td>total_transportation_cost</td>\n",
       "      <td>158.564621</td>\n",
       "      <td>0.968777</td>\n",
       "      <td>0.121330</td>\n",
       "    </tr>\n",
       "    <tr>\n",
       "      <th>2</th>\n",
       "      <td>max_utilization</td>\n",
       "      <td>106.451439</td>\n",
       "      <td>0.650383</td>\n",
       "      <td>0.081454</td>\n",
       "    </tr>\n",
       "    <tr>\n",
       "      <th>3</th>\n",
       "      <td>min_utilization</td>\n",
       "      <td>96.961655</td>\n",
       "      <td>0.592404</td>\n",
       "      <td>0.074193</td>\n",
       "    </tr>\n",
       "    <tr>\n",
       "      <th>4</th>\n",
       "      <td>demand_to_capacity_ratio</td>\n",
       "      <td>84.933083</td>\n",
       "      <td>0.518913</td>\n",
       "      <td>0.064989</td>\n",
       "    </tr>\n",
       "    <tr>\n",
       "      <th>5</th>\n",
       "      <td>total_demand</td>\n",
       "      <td>72.963951</td>\n",
       "      <td>0.445786</td>\n",
       "      <td>0.055830</td>\n",
       "    </tr>\n",
       "    <tr>\n",
       "      <th>6</th>\n",
       "      <td>std_utilization</td>\n",
       "      <td>65.581200</td>\n",
       "      <td>0.400679</td>\n",
       "      <td>0.050181</td>\n",
       "    </tr>\n",
       "    <tr>\n",
       "      <th>7</th>\n",
       "      <td>setup_to_production_cost_ratio</td>\n",
       "      <td>58.457039</td>\n",
       "      <td>0.357153</td>\n",
       "      <td>0.044730</td>\n",
       "    </tr>\n",
       "    <tr>\n",
       "      <th>8</th>\n",
       "      <td>std_setup_cost</td>\n",
       "      <td>55.754055</td>\n",
       "      <td>0.340639</td>\n",
       "      <td>0.042662</td>\n",
       "    </tr>\n",
       "    <tr>\n",
       "      <th>9</th>\n",
       "      <td>avg_demand_to_setup_cost_ratio</td>\n",
       "      <td>51.582096</td>\n",
       "      <td>0.315150</td>\n",
       "      <td>0.039469</td>\n",
       "    </tr>\n",
       "    <tr>\n",
       "      <th>10</th>\n",
       "      <td>num_plants</td>\n",
       "      <td>45.052284</td>\n",
       "      <td>0.275255</td>\n",
       "      <td>0.034473</td>\n",
       "    </tr>\n",
       "    <tr>\n",
       "      <th>11</th>\n",
       "      <td>avg_production_cost</td>\n",
       "      <td>43.033878</td>\n",
       "      <td>0.262923</td>\n",
       "      <td>0.032929</td>\n",
       "    </tr>\n",
       "    <tr>\n",
       "      <th>12</th>\n",
       "      <td>binary_vars</td>\n",
       "      <td>40.081810</td>\n",
       "      <td>0.244887</td>\n",
       "      <td>0.030670</td>\n",
       "    </tr>\n",
       "    <tr>\n",
       "      <th>13</th>\n",
       "      <td>variance_inventory_cost</td>\n",
       "      <td>38.602016</td>\n",
       "      <td>0.235846</td>\n",
       "      <td>0.029537</td>\n",
       "    </tr>\n",
       "    <tr>\n",
       "      <th>14</th>\n",
       "      <td>total_cost_to_demand_ratio</td>\n",
       "      <td>36.593819</td>\n",
       "      <td>0.223576</td>\n",
       "      <td>0.028001</td>\n",
       "    </tr>\n",
       "    <tr>\n",
       "      <th>15</th>\n",
       "      <td>avg_setup_cost</td>\n",
       "      <td>33.653732</td>\n",
       "      <td>0.205613</td>\n",
       "      <td>0.025751</td>\n",
       "    </tr>\n",
       "    <tr>\n",
       "      <th>16</th>\n",
       "      <td>avg_inventory_cost</td>\n",
       "      <td>32.834709</td>\n",
       "      <td>0.200609</td>\n",
       "      <td>0.025124</td>\n",
       "    </tr>\n",
       "    <tr>\n",
       "      <th>17</th>\n",
       "      <td>avg_demand_per_product</td>\n",
       "      <td>31.761835</td>\n",
       "      <td>0.194054</td>\n",
       "      <td>0.024303</td>\n",
       "    </tr>\n",
       "    <tr>\n",
       "      <th>18</th>\n",
       "      <td>variance_setup_cost</td>\n",
       "      <td>29.706413</td>\n",
       "      <td>0.181496</td>\n",
       "      <td>0.022731</td>\n",
       "    </tr>\n",
       "    <tr>\n",
       "      <th>19</th>\n",
       "      <td>variance_production_cost</td>\n",
       "      <td>17.164516</td>\n",
       "      <td>0.104870</td>\n",
       "      <td>0.013134</td>\n",
       "    </tr>\n",
       "    <tr>\n",
       "      <th>20</th>\n",
       "      <td>mean_utilization</td>\n",
       "      <td>14.301664</td>\n",
       "      <td>0.087378</td>\n",
       "      <td>0.010943</td>\n",
       "    </tr>\n",
       "    <tr>\n",
       "      <th>21</th>\n",
       "      <td>variance_demand_per_product</td>\n",
       "      <td>12.010012</td>\n",
       "      <td>0.073377</td>\n",
       "      <td>0.009190</td>\n",
       "    </tr>\n",
       "    <tr>\n",
       "      <th>22</th>\n",
       "      <td>std_demand_per_product</td>\n",
       "      <td>9.542526</td>\n",
       "      <td>0.058302</td>\n",
       "      <td>0.007302</td>\n",
       "    </tr>\n",
       "    <tr>\n",
       "      <th>23</th>\n",
       "      <td>std_production_cost</td>\n",
       "      <td>7.134268</td>\n",
       "      <td>0.043588</td>\n",
       "      <td>0.005459</td>\n",
       "    </tr>\n",
       "    <tr>\n",
       "      <th>24</th>\n",
       "      <td>num_products</td>\n",
       "      <td>0.489255</td>\n",
       "      <td>0.002989</td>\n",
       "      <td>0.000374</td>\n",
       "    </tr>\n",
       "  </tbody>\n",
       "</table>\n",
       "</div>"
      ],
      "text/plain": [
       "                          variable  relative_importance  scaled_importance  \\\n",
       "0                   max_setup_cost           163.674973           1.000000   \n",
       "1        total_transportation_cost           158.564621           0.968777   \n",
       "2                  max_utilization           106.451439           0.650383   \n",
       "3                  min_utilization            96.961655           0.592404   \n",
       "4         demand_to_capacity_ratio            84.933083           0.518913   \n",
       "5                     total_demand            72.963951           0.445786   \n",
       "6                  std_utilization            65.581200           0.400679   \n",
       "7   setup_to_production_cost_ratio            58.457039           0.357153   \n",
       "8                   std_setup_cost            55.754055           0.340639   \n",
       "9   avg_demand_to_setup_cost_ratio            51.582096           0.315150   \n",
       "10                      num_plants            45.052284           0.275255   \n",
       "11             avg_production_cost            43.033878           0.262923   \n",
       "12                     binary_vars            40.081810           0.244887   \n",
       "13         variance_inventory_cost            38.602016           0.235846   \n",
       "14      total_cost_to_demand_ratio            36.593819           0.223576   \n",
       "15                  avg_setup_cost            33.653732           0.205613   \n",
       "16              avg_inventory_cost            32.834709           0.200609   \n",
       "17          avg_demand_per_product            31.761835           0.194054   \n",
       "18             variance_setup_cost            29.706413           0.181496   \n",
       "19        variance_production_cost            17.164516           0.104870   \n",
       "20                mean_utilization            14.301664           0.087378   \n",
       "21     variance_demand_per_product            12.010012           0.073377   \n",
       "22          std_demand_per_product             9.542526           0.058302   \n",
       "23             std_production_cost             7.134268           0.043588   \n",
       "24                    num_products             0.489255           0.002989   \n",
       "\n",
       "    percentage  \n",
       "0     0.125240  \n",
       "1     0.121330  \n",
       "2     0.081454  \n",
       "3     0.074193  \n",
       "4     0.064989  \n",
       "5     0.055830  \n",
       "6     0.050181  \n",
       "7     0.044730  \n",
       "8     0.042662  \n",
       "9     0.039469  \n",
       "10    0.034473  \n",
       "11    0.032929  \n",
       "12    0.030670  \n",
       "13    0.029537  \n",
       "14    0.028001  \n",
       "15    0.025751  \n",
       "16    0.025124  \n",
       "17    0.024303  \n",
       "18    0.022731  \n",
       "19    0.013134  \n",
       "20    0.010943  \n",
       "21    0.009190  \n",
       "22    0.007302  \n",
       "23    0.005459  \n",
       "24    0.000374  "
      ]
     },
     "execution_count": 25,
     "metadata": {},
     "output_type": "execute_result"
    }
   ],
   "source": [
    "# Variáveis mais importantes na escolha\n",
    "importancia_var = model.varimp(use_pandas=True)\n",
    "importancia_var"
   ]
  },
  {
   "cell_type": "code",
   "execution_count": 26,
   "metadata": {},
   "outputs": [
    {
     "name": "stdout",
     "output_type": "stream",
     "text": [
      "PartialDependencePlot progress: |"
     ]
    },
    {
     "name": "stdout",
     "output_type": "stream",
     "text": [
      "████████████████████████████████████████████████| (done) 100%\n"
     ]
    },
    {
     "data": {
      "image/png": "[encoded data removed]",
      "text/plain": [
       "<Figure size 500x500 with 1 Axes>"
      ]
     },
     "metadata": {},
     "output_type": "display_data"
    }
   ],
   "source": [
    "model.partial_plot(frame=hf_train, cols=['total_transportation_cost'], figsize=(5, 5), targets=['RF_T_0', 'RF_1_0']);"
   ]
  },
  {
   "cell_type": "code",
   "execution_count": 27,
   "metadata": {},
   "outputs": [
    {
     "name": "stderr",
     "output_type": "stream",
     "text": [
      "/home/lucasmalheiros/Documents/Pesquisa Operacional/tcc-relax-and-fix/venv/lib/python3.12/site-packages/h2o/frame.py:1983: H2ODependencyWarning: Converting H2O frame to pandas dataframe using single-thread.  For faster conversion using multi-thread, install polars and pyarrow and use it as pandas_df = h2o_df.as_data_frame(use_multi_thread=True)\n",
      "\n",
      "  warnings.warn(\"Converting H2O frame to pandas dataframe using single-thread.  For faster conversion using\"\n",
      "/home/lucasmalheiros/Documents/Pesquisa Operacional/tcc-relax-and-fix/venv/lib/python3.12/site-packages/h2o/frame.py:1983: H2ODependencyWarning: Converting H2O frame to pandas dataframe using single-thread.  For faster conversion using multi-thread, install polars and pyarrow and use it as pandas_df = h2o_df.as_data_frame(use_multi_thread=True)\n",
      "\n",
      "  warnings.warn(\"Converting H2O frame to pandas dataframe using single-thread.  For faster conversion using\"\n"
     ]
    }
   ],
   "source": [
    "# Previsões\n",
    "actual = hf_train[target].as_data_frame(use_multi_thread=True)[target]\n",
    "predictions = model.cross_validation_holdout_predictions()\n",
    "predict = predictions[0].as_data_frame(use_multi_thread=True)['predict']"
   ]
  },
  {
   "cell_type": "code",
   "execution_count": 28,
   "metadata": {},
   "outputs": [
    {
     "name": "stdout",
     "output_type": "stream",
     "text": [
      "Confusion Matrix:\n",
      " [[79  9  1  1  0  3  0  3  2]\n",
      " [14 16  6  5  1  2  4  1  0]\n",
      " [ 1  5 11  2  4  1  0  3  1]\n",
      " [ 3  9  1  5  3  1  4  2  0]\n",
      " [ 2  1  1  4 37  0  6  7  3]\n",
      " [ 4  1  0  1  3  3  7  2  0]\n",
      " [ 1  3  0  0  3  4 29 12 11]\n",
      " [ 3  0  4  0 11  1 10 20 10]\n",
      " [ 4  0  0  0  0  0 11 11 58]]\n"
     ]
    }
   ],
   "source": [
    "# Confusion matrix\n",
    "cm = confusion_matrix(actual, predict)\n",
    "print(\"Confusion Matrix:\\n\", cm)"
   ]
  },
  {
   "cell_type": "code",
   "execution_count": 29,
   "metadata": {},
   "outputs": [
    {
     "data": {
      "text/plain": [
       "np.float64(0.5254582484725051)"
      ]
     },
     "execution_count": 29,
     "metadata": {},
     "output_type": "execute_result"
    }
   ],
   "source": [
    "# Precisão\n",
    "cm.trace() / cm.sum()"
   ]
  },
  {
   "cell_type": "code",
   "execution_count": 30,
   "metadata": {},
   "outputs": [
    {
     "name": "stdout",
     "output_type": "stream",
     "text": [
      "\n",
      "F1 Score: 0.5166\n"
     ]
    }
   ],
   "source": [
    "# F1 score\n",
    "f1 = f1_score(actual, predict, average='weighted')\n",
    "print(f'\\nF1 Score: {f1:.4f}')"
   ]
  },
  {
   "cell_type": "code",
   "execution_count": 36,
   "metadata": {},
   "outputs": [
    {
     "name": "stdout",
     "output_type": "stream",
     "text": [
      "Macro F1: 0.44\n",
      "Micro F1: 0.53\n"
     ]
    }
   ],
   "source": [
    "# Macro F1: Treat all classes equally\n",
    "macro_f1 = f1_score(actual, predict, average='macro')\n",
    "\n",
    "# Micro F1: Weigh classes by their size\n",
    "micro_f1 = f1_score(actual, predict, average='micro')\n",
    "\n",
    "print(f'Macro F1: {macro_f1:.2f}')\n",
    "print(f'Micro F1: {micro_f1:.2f}')"
   ]
  },
  {
   "cell_type": "markdown",
   "metadata": {},
   "source": [
    "# Avaliação no dataset de teste"
   ]
  },
  {
   "cell_type": "code",
   "execution_count": 31,
   "metadata": {},
   "outputs": [
    {
     "name": "stderr",
     "output_type": "stream",
     "text": [
      "/home/lucasmalheiros/Documents/Pesquisa Operacional/tcc-relax-and-fix/venv/lib/python3.12/site-packages/h2o/frame.py:1983: H2ODependencyWarning: Converting H2O frame to pandas dataframe using single-thread.  For faster conversion using multi-thread, install polars and pyarrow and use it as pandas_df = h2o_df.as_data_frame(use_multi_thread=True)\n",
      "\n",
      "  warnings.warn(\"Converting H2O frame to pandas dataframe using single-thread.  For faster conversion using\"\n"
     ]
    },
    {
     "name": "stdout",
     "output_type": "stream",
     "text": [
      "gbm prediction progress: |███████████████████████████████████████████████████████| (done) 100%\n"
     ]
    },
    {
     "name": "stderr",
     "output_type": "stream",
     "text": [
      "/home/lucasmalheiros/Documents/Pesquisa Operacional/tcc-relax-and-fix/venv/lib/python3.12/site-packages/h2o/frame.py:1983: H2ODependencyWarning: Converting H2O frame to pandas dataframe using single-thread.  For faster conversion using multi-thread, install polars and pyarrow and use it as pandas_df = h2o_df.as_data_frame(use_multi_thread=True)\n",
      "\n",
      "  warnings.warn(\"Converting H2O frame to pandas dataframe using single-thread.  For faster conversion using\"\n"
     ]
    }
   ],
   "source": [
    "# Previsões sobre teste\n",
    "actual_test = hf_test[target].as_data_frame(use_multi_thread=True)[target]\n",
    "predictions_test = model.predict(hf_test)\n",
    "predict_test = predictions_test[0].as_data_frame(use_multi_thread=True)['predict']"
   ]
  },
  {
   "cell_type": "code",
   "execution_count": 32,
   "metadata": {},
   "outputs": [
    {
     "name": "stdout",
     "output_type": "stream",
     "text": [
      "Confusion Matrix:\n",
      " [[15  2  0  0  0  0  0  0  0]\n",
      " [ 4  4  0  0  0  0  0  1  0]\n",
      " [ 1  0  6  0  0  0  0  0  0]\n",
      " [ 1  0  0  0  0  1  0  0  0]\n",
      " [ 0  1  0  1  5  3  0  1  0]\n",
      " [ 0  1  0  0  2  0  2  2  0]\n",
      " [ 0  0  0  0  0  0  6  2  1]\n",
      " [ 0  0  0  1  2  0  1  4  2]\n",
      " [ 1  0  0  0  1  1  7  2 23]]\n"
     ]
    }
   ],
   "source": [
    "# Confusion matrix\n",
    "cm = confusion_matrix(actual_test, predict_test)\n",
    "print(\"Confusion Matrix:\\n\", cm)"
   ]
  },
  {
   "cell_type": "code",
   "execution_count": 33,
   "metadata": {},
   "outputs": [
    {
     "data": {
      "text/plain": [
       "np.float64(0.5887850467289719)"
      ]
     },
     "execution_count": 33,
     "metadata": {},
     "output_type": "execute_result"
    }
   ],
   "source": [
    "# Precisão\n",
    "cm.trace() / cm.sum()"
   ]
  },
  {
   "cell_type": "code",
   "execution_count": 34,
   "metadata": {},
   "outputs": [
    {
     "name": "stdout",
     "output_type": "stream",
     "text": [
      "\n",
      "F1 Score: 0.5922\n"
     ]
    }
   ],
   "source": [
    "# F1 score\n",
    "f1 = f1_score(actual_test, predict_test, average='weighted')\n",
    "print(f'\\nF1 Score: {f1:.4f}')"
   ]
  },
  {
   "cell_type": "code",
   "execution_count": 37,
   "metadata": {},
   "outputs": [
    {
     "name": "stdout",
     "output_type": "stream",
     "text": [
      "Macro F1: 0.47\n",
      "Micro F1: 0.59\n"
     ]
    }
   ],
   "source": [
    "# Macro F1: Treat all classes equally\n",
    "macro_f1 = f1_score(actual_test, predict_test, average='macro')\n",
    "\n",
    "# Micro F1: Weigh classes by their size\n",
    "micro_f1 = f1_score(actual_test, predict_test, average='micro')\n",
    "\n",
    "print(f'Macro F1: {macro_f1:.2f}')\n",
    "print(f'Micro F1: {micro_f1:.2f}')"
   ]
  }
 ],
 "metadata": {
  "kernelspec": {
   "display_name": "venv",
   "language": "python",
   "name": "python3"
  },
  "language_info": {
   "codemirror_mode": {
    "name": "ipython",
    "version": 3
   },
   "file_extension": ".py",
   "mimetype": "text/x-python",
   "name": "python",
   "nbconvert_exporter": "python",
   "pygments_lexer": "ipython3",
   "version": "3.12.3"
  }
 },
 "nbformat": 4,
 "nbformat_minor": 4
}
