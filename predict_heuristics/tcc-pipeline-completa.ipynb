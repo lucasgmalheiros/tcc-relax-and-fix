{
 "cells": [
  {
   "cell_type": "code",
   "execution_count": 75,
   "metadata": {},
   "outputs": [],
   "source": [
    "import pandas as pd\n",
    "import numpy as np\n",
    "import h2o\n",
    "from h2o.estimators import H2OGradientBoostingEstimator\n",
    "from h2o.estimators import H2OXGBoostEstimator\n",
    "from h2o.grid.grid_search import H2OGridSearch\n",
    "from sklearn.metrics import confusion_matrix, f1_score, precision_recall_curve, auc"
   ]
  },
  {
   "cell_type": "code",
   "execution_count": 76,
   "metadata": {},
   "outputs": [
    {
     "name": "stdout",
     "output_type": "stream",
     "text": [
      "Checking whether there is an H2O instance running at http://localhost:12345..... not found.\n",
      "Attempting to start a local H2O server...\n",
      "  Java Version: openjdk version \"21.0.5\" 2024-10-15; OpenJDK Runtime Environment (build 21.0.5+11-Ubuntu-1ubuntu124.04); OpenJDK 64-Bit Server VM (build 21.0.5+11-Ubuntu-1ubuntu124.04, mixed mode, sharing)\n",
      "  Starting server from /home/lucasmalheiros/Documents/Pesquisa Operacional/tcc-relax-and-fix/venv/lib/python3.12/site-packages/h2o/backend/bin/h2o.jar\n",
      "  Ice root: /tmp/tmpxa073qfg\n",
      "  JVM stdout: /tmp/tmpxa073qfg/h2o_lucasmalheiros_started_from_python.out\n",
      "  JVM stderr: /tmp/tmpxa073qfg/h2o_lucasmalheiros_started_from_python.err\n",
      "  Server is running at http://127.0.0.1:12345\n",
      "Connecting to H2O server at http://127.0.0.1:12345 ... successful.\n"
     ]
    },
    {
     "data": {
      "text/html": [
       "\n",
       "<style>\n",
       "\n",
       "#h2o-table-3.h2o-container {\n",
       "  overflow-x: auto;\n",
       "}\n",
       "#h2o-table-3 .h2o-table {\n",
       "  /* width: 100%; */\n",
       "  margin-top: 1em;\n",
       "  margin-bottom: 1em;\n",
       "}\n",
       "#h2o-table-3 .h2o-table caption {\n",
       "  white-space: nowrap;\n",
       "  caption-side: top;\n",
       "  text-align: left;\n",
       "  /* margin-left: 1em; */\n",
       "  margin: 0;\n",
       "  font-size: larger;\n",
       "}\n",
       "#h2o-table-3 .h2o-table thead {\n",
       "  white-space: nowrap; \n",
       "  position: sticky;\n",
       "  top: 0;\n",
       "  box-shadow: 0 -1px inset;\n",
       "}\n",
       "#h2o-table-3 .h2o-table tbody {\n",
       "  overflow: auto;\n",
       "}\n",
       "#h2o-table-3 .h2o-table th,\n",
       "#h2o-table-3 .h2o-table td {\n",
       "  text-align: right;\n",
       "  /* border: 1px solid; */\n",
       "}\n",
       "#h2o-table-3 .h2o-table tr:nth-child(even) {\n",
       "  /* background: #F5F5F5 */\n",
       "}\n",
       "\n",
       "</style>      \n",
       "<div id=\"h2o-table-3\" class=\"h2o-container\">\n",
       "  <table class=\"h2o-table\">\n",
       "    <caption></caption>\n",
       "    <thead></thead>\n",
       "    <tbody><tr><td>H2O_cluster_uptime:</td>\n",
       "<td>03 secs</td></tr>\n",
       "<tr><td>H2O_cluster_timezone:</td>\n",
       "<td>America/Sao_Paulo</td></tr>\n",
       "<tr><td>H2O_data_parsing_timezone:</td>\n",
       "<td>UTC</td></tr>\n",
       "<tr><td>H2O_cluster_version:</td>\n",
       "<td>3.46.0.6</td></tr>\n",
       "<tr><td>H2O_cluster_version_age:</td>\n",
       "<td>1 month and 5 days</td></tr>\n",
       "<tr><td>H2O_cluster_name:</td>\n",
       "<td>H2O_from_python_lucasmalheiros_n6s9g3</td></tr>\n",
       "<tr><td>H2O_cluster_total_nodes:</td>\n",
       "<td>1</td></tr>\n",
       "<tr><td>H2O_cluster_free_memory:</td>\n",
       "<td>1.868 Gb</td></tr>\n",
       "<tr><td>H2O_cluster_total_cores:</td>\n",
       "<td>8</td></tr>\n",
       "<tr><td>H2O_cluster_allowed_cores:</td>\n",
       "<td>8</td></tr>\n",
       "<tr><td>H2O_cluster_status:</td>\n",
       "<td>locked, healthy</td></tr>\n",
       "<tr><td>H2O_connection_url:</td>\n",
       "<td>http://127.0.0.1:12345</td></tr>\n",
       "<tr><td>H2O_connection_proxy:</td>\n",
       "<td>{\"http\": null, \"https\": null}</td></tr>\n",
       "<tr><td>H2O_internal_security:</td>\n",
       "<td>False</td></tr>\n",
       "<tr><td>Python_version:</td>\n",
       "<td>3.12.3 final</td></tr></tbody>\n",
       "  </table>\n",
       "</div>\n"
      ],
      "text/plain": [
       "--------------------------  -------------------------------------\n",
       "H2O_cluster_uptime:         03 secs\n",
       "H2O_cluster_timezone:       America/Sao_Paulo\n",
       "H2O_data_parsing_timezone:  UTC\n",
       "H2O_cluster_version:        3.46.0.6\n",
       "H2O_cluster_version_age:    1 month and 5 days\n",
       "H2O_cluster_name:           H2O_from_python_lucasmalheiros_n6s9g3\n",
       "H2O_cluster_total_nodes:    1\n",
       "H2O_cluster_free_memory:    1.868 Gb\n",
       "H2O_cluster_total_cores:    8\n",
       "H2O_cluster_allowed_cores:  8\n",
       "H2O_cluster_status:         locked, healthy\n",
       "H2O_connection_url:         http://127.0.0.1:12345\n",
       "H2O_connection_proxy:       {\"http\": null, \"https\": null}\n",
       "H2O_internal_security:      False\n",
       "Python_version:             3.12.3 final\n",
       "--------------------------  -------------------------------------"
      ]
     },
     "metadata": {},
     "output_type": "display_data"
    }
   ],
   "source": [
    "h2o.init(port=12345)"
   ]
  },
  {
   "cell_type": "code",
   "execution_count": 77,
   "metadata": {},
   "outputs": [],
   "source": [
    "def convert_to_h2o_frame(data: pd.DataFrame) -> h2o.H2OFrame:\n",
    "    \"\"\"Converte um pd.DataFrame em um h2o.H2OFrame\"\"\"\n",
    "    print('Performing conversion from pd.DataFrame to h2o.H2OFrame...')\n",
    "    # Colunas de datas\n",
    "    cols_to_date = [col for col in data.dtypes[data.dtypes == 'datetime64[ns]'].index]\n",
    "    # Colunas a converter para categórica\n",
    "    cols_to_factor = [col for col in data.dtypes[(data.dtypes == 'object') | (data.dtypes == 'category')].index]\n",
    "    # Colunas a converter a numeric\n",
    "    cols_numerics = [col for col in data.dtypes[(data.dtypes != 'object') & (data.dtypes != 'category') & (data.dtypes != 'datetime64[ns]')].index]\n",
    "    # Adicionar os tipos de colunas ao dicionário col_dtypes\n",
    "    col_dtypes = {}\n",
    "    for col in cols_to_date:\n",
    "        col_dtypes[col] = 'time'\n",
    "    for col in cols_to_factor:\n",
    "        col_dtypes[col] = 'enum'\n",
    "    for col in cols_numerics:\n",
    "        col_dtypes[col] = 'numeric'\n",
    "    # Converte a h2o\n",
    "    data = h2o.H2OFrame(data, column_types=col_dtypes, na_strings=['NA', 'none', 'None', 'nan', 'NaN', '<NA>'])\n",
    "    print('Successful conversion from pd.DataFrame to h2o.H2OFrame.')\n",
    "    return data"
   ]
  },
  {
   "cell_type": "markdown",
   "metadata": {},
   "source": [
    "# Data preparation"
   ]
  },
  {
   "cell_type": "code",
   "execution_count": 78,
   "metadata": {},
   "outputs": [],
   "source": [
    "# Resultados\n",
    "df_resultados = pd.read_csv('resultados_instancias_tcc.csv')\n",
    "df_resultados = df_resultados[['Instancias'] + [col for col in df_resultados.columns if col.startswith('Obj_') or col.startswith('Time_')]]\n",
    "df_resultados = df_resultados[df_resultados['Obj_RF_T_0'] != np.inf]  # Remove infactíveis"
   ]
  },
  {
   "cell_type": "code",
   "execution_count": 79,
   "metadata": {},
   "outputs": [],
   "source": [
    "# Features criadas de create_features_dataset.py\n",
    "df_features = pd.read_csv('multi_plant_instance_features.csv')"
   ]
  },
  {
   "cell_type": "code",
   "execution_count": 80,
   "metadata": {},
   "outputs": [],
   "source": [
    "df = df_features.merge(df_resultados, left_on='instance', right_on='Instancias', how='inner').drop(columns=['Instancias', 'instance'])"
   ]
  },
  {
   "cell_type": "code",
   "execution_count": 81,
   "metadata": {},
   "outputs": [
    {
     "data": {
      "text/html": [
       "<div>\n",
       "<style scoped>\n",
       "    .dataframe tbody tr th:only-of-type {\n",
       "        vertical-align: middle;\n",
       "    }\n",
       "\n",
       "    .dataframe tbody tr th {\n",
       "        vertical-align: top;\n",
       "    }\n",
       "\n",
       "    .dataframe thead th {\n",
       "        text-align: right;\n",
       "    }\n",
       "</style>\n",
       "<table border=\"1\" class=\"dataframe\">\n",
       "  <thead>\n",
       "    <tr style=\"text-align: right;\">\n",
       "      <th></th>\n",
       "      <th>num_products</th>\n",
       "      <th>num_plants</th>\n",
       "      <th>num_periods</th>\n",
       "      <th>binary_vars</th>\n",
       "      <th>total_demand</th>\n",
       "      <th>avg_demand_per_product</th>\n",
       "      <th>variance_demand_per_product</th>\n",
       "      <th>std_demand_per_product</th>\n",
       "      <th>mean_utilization</th>\n",
       "      <th>max_utilization</th>\n",
       "      <th>...</th>\n",
       "      <th>Obj_RF_4_2</th>\n",
       "      <th>Time_RF_4_2</th>\n",
       "      <th>Obj_RF_4_3</th>\n",
       "      <th>Time_RF_4_3</th>\n",
       "      <th>Obj_RF_6_0</th>\n",
       "      <th>Time_RF_6_0</th>\n",
       "      <th>Obj_RF_6_1</th>\n",
       "      <th>Time_RF_6_1</th>\n",
       "      <th>Obj_RF_T_0</th>\n",
       "      <th>Time_RF_T_0</th>\n",
       "    </tr>\n",
       "  </thead>\n",
       "  <tbody>\n",
       "    <tr>\n",
       "      <th>0</th>\n",
       "      <td>120</td>\n",
       "      <td>2</td>\n",
       "      <td>12</td>\n",
       "      <td>2880</td>\n",
       "      <td>263136</td>\n",
       "      <td>91.366667</td>\n",
       "      <td>2807.950972</td>\n",
       "      <td>52.990103</td>\n",
       "      <td>1.000118</td>\n",
       "      <td>1.067356</td>\n",
       "      <td>...</td>\n",
       "      <td>NaN</td>\n",
       "      <td>NaN</td>\n",
       "      <td>NaN</td>\n",
       "      <td>NaN</td>\n",
       "      <td>829221.10</td>\n",
       "      <td>1800.13</td>\n",
       "      <td>811118.49</td>\n",
       "      <td>1200.63</td>\n",
       "      <td>809910.65</td>\n",
       "      <td>1800.1</td>\n",
       "    </tr>\n",
       "    <tr>\n",
       "      <th>1</th>\n",
       "      <td>60</td>\n",
       "      <td>20</td>\n",
       "      <td>12</td>\n",
       "      <td>14400</td>\n",
       "      <td>1305703</td>\n",
       "      <td>90.673819</td>\n",
       "      <td>2699.046453</td>\n",
       "      <td>51.952348</td>\n",
       "      <td>1.000154</td>\n",
       "      <td>1.143479</td>\n",
       "      <td>...</td>\n",
       "      <td>NaN</td>\n",
       "      <td>NaN</td>\n",
       "      <td>NaN</td>\n",
       "      <td>NaN</td>\n",
       "      <td>2404264.97</td>\n",
       "      <td>1069.06</td>\n",
       "      <td>2404219.27</td>\n",
       "      <td>1018.31</td>\n",
       "      <td>2404240.72</td>\n",
       "      <td>952.5</td>\n",
       "    </tr>\n",
       "    <tr>\n",
       "      <th>2</th>\n",
       "      <td>120</td>\n",
       "      <td>6</td>\n",
       "      <td>12</td>\n",
       "      <td>8640</td>\n",
       "      <td>788211</td>\n",
       "      <td>91.228125</td>\n",
       "      <td>2765.053630</td>\n",
       "      <td>52.583777</td>\n",
       "      <td>0.999516</td>\n",
       "      <td>1.092181</td>\n",
       "      <td>...</td>\n",
       "      <td>NaN</td>\n",
       "      <td>NaN</td>\n",
       "      <td>NaN</td>\n",
       "      <td>NaN</td>\n",
       "      <td>2000140.81</td>\n",
       "      <td>1800.32</td>\n",
       "      <td>1991086.02</td>\n",
       "      <td>1214.94</td>\n",
       "      <td>2106419.81</td>\n",
       "      <td>1800.2</td>\n",
       "    </tr>\n",
       "  </tbody>\n",
       "</table>\n",
       "<p>3 rows × 79 columns</p>\n",
       "</div>"
      ],
      "text/plain": [
       "   num_products  num_plants  num_periods  binary_vars  total_demand  \\\n",
       "0           120           2           12         2880        263136   \n",
       "1            60          20           12        14400       1305703   \n",
       "2           120           6           12         8640        788211   \n",
       "\n",
       "   avg_demand_per_product  variance_demand_per_product  \\\n",
       "0               91.366667                  2807.950972   \n",
       "1               90.673819                  2699.046453   \n",
       "2               91.228125                  2765.053630   \n",
       "\n",
       "   std_demand_per_product  mean_utilization  max_utilization  ...  Obj_RF_4_2  \\\n",
       "0               52.990103          1.000118         1.067356  ...         NaN   \n",
       "1               51.952348          1.000154         1.143479  ...         NaN   \n",
       "2               52.583777          0.999516         1.092181  ...         NaN   \n",
       "\n",
       "   Time_RF_4_2  Obj_RF_4_3  Time_RF_4_3  Obj_RF_6_0  Time_RF_6_0  Obj_RF_6_1  \\\n",
       "0          NaN         NaN          NaN   829221.10      1800.13   811118.49   \n",
       "1          NaN         NaN          NaN  2404264.97      1069.06  2404219.27   \n",
       "2          NaN         NaN          NaN  2000140.81      1800.32  1991086.02   \n",
       "\n",
       "   Time_RF_6_1  Obj_RF_T_0  Time_RF_T_0  \n",
       "0      1200.63   809910.65       1800.1  \n",
       "1      1018.31  2404240.72        952.5  \n",
       "2      1214.94  2106419.81       1800.2  \n",
       "\n",
       "[3 rows x 79 columns]"
      ]
     },
     "execution_count": 81,
     "metadata": {},
     "output_type": "execute_result"
    }
   ],
   "source": [
    "df.head(3)"
   ]
  },
  {
   "cell_type": "markdown",
   "metadata": {},
   "source": [
    "# Construção de targets"
   ]
  },
  {
   "cell_type": "code",
   "execution_count": 82,
   "metadata": {},
   "outputs": [],
   "source": [
    "obj_columns = [col for col in df.columns if col.startswith('Obj_')]\n",
    "time_columns = [col for col in df.columns if col.startswith('Time_')]"
   ]
  },
  {
   "cell_type": "markdown",
   "metadata": {},
   "source": [
    "## Target em função objetivo (BEST)"
   ]
  },
  {
   "cell_type": "code",
   "execution_count": 83,
   "metadata": {},
   "outputs": [],
   "source": [
    "# Seleciona para cada instância o método com menor função objetivo para a coluna BEST\n",
    "df['BEST'] = df[obj_columns].idxmin(axis=1)\n",
    "df['BEST'] = df['BEST'].str.replace('Obj_', '')"
   ]
  },
  {
   "cell_type": "code",
   "execution_count": 84,
   "metadata": {},
   "outputs": [
    {
     "data": {
      "text/plain": [
       "BEST\n",
       "RF_T_0    221\n",
       "RF_6_0     73\n",
       "RF_3_1     60\n",
       "RF_2_0     52\n",
       "RF_1_0     48\n",
       "RF_6_1     45\n",
       "RF_2_1     36\n",
       "RF_3_0     33\n",
       "RF_4_0     30\n",
       "Name: count, dtype: int64"
      ]
     },
     "execution_count": 84,
     "metadata": {},
     "output_type": "execute_result"
    }
   ],
   "source": [
    "df['BEST'].value_counts()"
   ]
  },
  {
   "cell_type": "markdown",
   "metadata": {},
   "source": [
    "## Target com compromisso de tempo (BEST_TIME)"
   ]
  },
  {
   "cell_type": "code",
   "execution_count": 85,
   "metadata": {},
   "outputs": [],
   "source": [
    "for obj_col, time_col in zip(obj_columns, time_columns):\n",
    "    df[f'Adjusted_{obj_col}'] = (\n",
    "        df[obj_col] * np.maximum(np.log(df[time_col]) / np.log(1000), 1)\n",
    "    )\n",
    "adjusted_columns = [col for col in df.columns if col.startswith('Adjusted_')]"
   ]
  },
  {
   "cell_type": "code",
   "execution_count": 86,
   "metadata": {},
   "outputs": [],
   "source": [
    "# Seleciona para cada instância o método com menor função objetivo para a coluna BEST\n",
    "df['BEST_TIME'] = df[adjusted_columns].idxmin(axis=1)\n",
    "df['BEST_TIME'] = df['BEST_TIME'].str.replace('Adjusted_Obj_', '')"
   ]
  },
  {
   "cell_type": "code",
   "execution_count": 87,
   "metadata": {},
   "outputs": [
    {
     "data": {
      "text/plain": [
       "BEST_TIME\n",
       "RF_T_0    119\n",
       "RF_1_0    115\n",
       "RF_3_1     72\n",
       "RF_6_0     72\n",
       "RF_6_1     69\n",
       "RF_2_0     58\n",
       "RF_2_1     35\n",
       "RF_3_0     30\n",
       "RF_4_0     28\n",
       "Name: count, dtype: int64"
      ]
     },
     "execution_count": 87,
     "metadata": {},
     "output_type": "execute_result"
    }
   ],
   "source": [
    "df['BEST_TIME'].value_counts()"
   ]
  },
  {
   "cell_type": "markdown",
   "metadata": {},
   "source": [
    "# Preprocessamento de dados"
   ]
  },
  {
   "cell_type": "markdown",
   "metadata": {},
   "source": [
    "## Drop Obj_ e Time_"
   ]
  },
  {
   "cell_type": "code",
   "execution_count": 88,
   "metadata": {},
   "outputs": [],
   "source": [
    "df = df.drop(columns=obj_columns + time_columns + adjusted_columns)"
   ]
  },
  {
   "cell_type": "code",
   "execution_count": 89,
   "metadata": {},
   "outputs": [],
   "source": [
    "# Embaralhar dataset\n",
    "df = df.sample(frac=1)"
   ]
  },
  {
   "cell_type": "code",
   "execution_count": 90,
   "metadata": {},
   "outputs": [],
   "source": [
    "# Transformar em classificação binária\n",
    "# df['BEST'] = df['BEST'].apply(lambda x: 'Gurobi' if x == 'RF_T_0' else 'RF')\n",
    "# df['BEST_TIME'] = df['BEST_TIME'].apply(lambda x: 'Gurobi' if x == 'RF_T_0' else 'RF')"
   ]
  },
  {
   "cell_type": "markdown",
   "metadata": {},
   "source": [
    "## Convert para H2O frame"
   ]
  },
  {
   "cell_type": "code",
   "execution_count": 91,
   "metadata": {},
   "outputs": [
    {
     "name": "stdout",
     "output_type": "stream",
     "text": [
      "Performing conversion from pd.DataFrame to h2o.H2OFrame...\n",
      "Parse progress: |████████████████████████████████████████████████████████████████| (done) 100%\n",
      "Successful conversion from pd.DataFrame to h2o.H2OFrame.\n"
     ]
    }
   ],
   "source": [
    "# Conversão para H2O frame\n",
    "hf = convert_to_h2o_frame(df)"
   ]
  },
  {
   "cell_type": "code",
   "execution_count": null,
   "metadata": {},
   "outputs": [],
   "source": [
    "# Train test split\n",
    "hf_train, hf_test = hf.split_frame(ratios=[.8], seed=2112)"
   ]
  },
  {
   "cell_type": "markdown",
   "metadata": {},
   "source": [
    "# Treino (GBM)"
   ]
  },
  {
   "cell_type": "code",
   "execution_count": 93,
   "metadata": {},
   "outputs": [],
   "source": [
    "target = 'BEST_TIME'\n",
    "predictors = [c for c in hf_train.columns if c not in ['BEST', 'BEST_TIME']]"
   ]
  },
  {
   "cell_type": "code",
   "execution_count": 94,
   "metadata": {},
   "outputs": [],
   "source": [
    "gbm_model = H2OGradientBoostingEstimator(\n",
    "    nfolds=20,\n",
    "    keep_cross_validation_predictions=True,\n",
    "    seed=2112,\n",
    "    stopping_rounds=10,\n",
    "    stopping_metric=\"AUTO\",\n",
    "    stopping_tolerance=0.001,\n",
    "    balance_classes=False\n",
    ")"
   ]
  },
  {
   "cell_type": "code",
   "execution_count": 95,
   "metadata": {},
   "outputs": [],
   "source": [
    "xgboost_model = H2OXGBoostEstimator(booster='dart',\n",
    "                                    normalize_type=\"tree\",\n",
    "                                    seed=2112,\n",
    "                                    nfolds=10,\n",
    "                                    keep_cross_validation_predictions=True)"
   ]
  },
  {
   "cell_type": "code",
   "execution_count": null,
   "metadata": {},
   "outputs": [],
   "source": [
    "# Hiper Parâmetros\n",
    "hyper_params = {\n",
    "    \"learn_rate\": list(\n",
    "        np.round(np.arange(0.01, 0.1, 0.01), 3)\n",
    "    ),  # Narrowed range for learning rate list(np.round(np.arange(0.05, 0.3, 0.05), 3)),\n",
    "    \"max_depth\": list(\n",
    "        np.arange(5, 10, 1)\n",
    "    ),  # Reduced maximum depth list(np.arange(5, 15, 1)),\n",
    "    \"ntrees\": list(\n",
    "        np.arange(50, 150, 20)\n",
    "    ),  # Increased number of trees list(np.arange(20, 70, 10)),\n",
    "    \"sample_rate\": list(\n",
    "        np.round(np.arange(0.5, 0.9, 0.1), 3)\n",
    "    ),  # Adjusted sample rate range list(np.round(np.arange(0.5, 1.0, 0.1), 3)),\n",
    "    \"col_sample_rate\": list(\n",
    "        np.round(np.arange(0.5, 1.0, 0.1), 3)\n",
    "    ),  # Slightly adjusted col sample rate range list(np.round(np.arange(0.3, 1.0, 0.1), 3)),\n",
    "}\n",
    "# Tipo de pesquisa da grid. Em caso de RandomDiscrete, corre até max_models(n modelos)\n",
    "search_criteria = {\n",
    "    \"strategy\": \"RandomDiscrete\",\n",
    "    \"max_models\": 10,\n",
    "    # \"max_runtime_secs\": 180,\n",
    "    \"seed\": 1\n",
    "}"
   ]
  },
  {
   "cell_type": "code",
   "execution_count": null,
   "metadata": {},
   "outputs": [],
   "source": [
    "# Construir grid com parâmetros e critérios de procura de melhor modelo\n",
    "grid = H2OGridSearch(model=gbm_model, \n",
    "                     search_criteria=search_criteria, \n",
    "                     hyper_params=hyper_params)\n",
    "# Treinar grid\n",
    "grid.train(x=predictors, y=target, training_frame=hf_train)"
   ]
  },
  {
   "cell_type": "code",
   "execution_count": 98,
   "metadata": {},
   "outputs": [],
   "source": [
    "# gbm_grid = grid.get_grid(sort_by=\"rmse\", decreasing=False)\n",
    "# model = gbm_grid.models[0]"
   ]
  },
  {
   "cell_type": "code",
   "execution_count": 99,
   "metadata": {},
   "outputs": [
    {
     "name": "stdout",
     "output_type": "stream",
     "text": [
      "gbm Model Build progress: |"
     ]
    },
    {
     "name": "stderr",
     "output_type": "stream",
     "text": [
      "/home/lucasmalheiros/Documents/Pesquisa Operacional/tcc-relax-and-fix/venv/lib/python3.12/site-packages/h2o/estimators/estimator_base.py:192: RuntimeWarning: Dropping bad and constant columns: [num_periods]\n",
      "  warnings.warn(mesg[\"message\"], RuntimeWarning)\n",
      "/home/lucasmalheiros/Documents/Pesquisa Operacional/tcc-relax-and-fix/venv/lib/python3.12/site-packages/h2o/estimators/estimator_base.py:192: RuntimeWarning: early stopping is enabled but neither score_tree_interval or score_each_iteration are defined. Early stopping will not be reproducible!\n",
      "  warnings.warn(mesg[\"message\"], RuntimeWarning)\n"
     ]
    },
    {
     "name": "stdout",
     "output_type": "stream",
     "text": [
      "██████████████████████████████████████████████████████| (done) 100%\n"
     ]
    }
   ],
   "source": [
    "model = gbm_model\n",
    "model.train(x=predictors, y=target, training_frame=hf_train);"
   ]
  },
  {
   "cell_type": "markdown",
   "metadata": {},
   "source": [
    "# Avaliação das métricas de treino"
   ]
  },
  {
   "cell_type": "code",
   "execution_count": 100,
   "metadata": {},
   "outputs": [
    {
     "data": {
      "text/html": [
       "<div>\n",
       "<style scoped>\n",
       "    .dataframe tbody tr th:only-of-type {\n",
       "        vertical-align: middle;\n",
       "    }\n",
       "\n",
       "    .dataframe tbody tr th {\n",
       "        vertical-align: top;\n",
       "    }\n",
       "\n",
       "    .dataframe thead th {\n",
       "        text-align: right;\n",
       "    }\n",
       "</style>\n",
       "<table border=\"1\" class=\"dataframe\">\n",
       "  <thead>\n",
       "    <tr style=\"text-align: right;\">\n",
       "      <th></th>\n",
       "      <th>variable</th>\n",
       "      <th>relative_importance</th>\n",
       "      <th>scaled_importance</th>\n",
       "      <th>percentage</th>\n",
       "    </tr>\n",
       "  </thead>\n",
       "  <tbody>\n",
       "    <tr>\n",
       "      <th>0</th>\n",
       "      <td>max_utilization</td>\n",
       "      <td>108.475243</td>\n",
       "      <td>1.000000</td>\n",
       "      <td>0.080883</td>\n",
       "    </tr>\n",
       "    <tr>\n",
       "      <th>1</th>\n",
       "      <td>demand_to_cost_interaction</td>\n",
       "      <td>102.533195</td>\n",
       "      <td>0.945222</td>\n",
       "      <td>0.076452</td>\n",
       "    </tr>\n",
       "    <tr>\n",
       "      <th>2</th>\n",
       "      <td>time_per_unit_of_cost</td>\n",
       "      <td>77.153641</td>\n",
       "      <td>0.711256</td>\n",
       "      <td>0.057528</td>\n",
       "    </tr>\n",
       "    <tr>\n",
       "      <th>3</th>\n",
       "      <td>min_utilization</td>\n",
       "      <td>67.361542</td>\n",
       "      <td>0.620985</td>\n",
       "      <td>0.050227</td>\n",
       "    </tr>\n",
       "    <tr>\n",
       "      <th>4</th>\n",
       "      <td>kurt_capacity</td>\n",
       "      <td>65.257256</td>\n",
       "      <td>0.601587</td>\n",
       "      <td>0.048658</td>\n",
       "    </tr>\n",
       "    <tr>\n",
       "      <th>5</th>\n",
       "      <td>avg_demand_to_setup_cost_ratio</td>\n",
       "      <td>64.747795</td>\n",
       "      <td>0.596890</td>\n",
       "      <td>0.048278</td>\n",
       "    </tr>\n",
       "    <tr>\n",
       "      <th>6</th>\n",
       "      <td>demand_to_capacity_ratio</td>\n",
       "      <td>62.153107</td>\n",
       "      <td>0.572970</td>\n",
       "      <td>0.046343</td>\n",
       "    </tr>\n",
       "    <tr>\n",
       "      <th>7</th>\n",
       "      <td>skew_transportation_cost</td>\n",
       "      <td>50.027954</td>\n",
       "      <td>0.461192</td>\n",
       "      <td>0.037303</td>\n",
       "    </tr>\n",
       "    <tr>\n",
       "      <th>8</th>\n",
       "      <td>avg_setup_cost</td>\n",
       "      <td>49.348167</td>\n",
       "      <td>0.454926</td>\n",
       "      <td>0.036796</td>\n",
       "    </tr>\n",
       "    <tr>\n",
       "      <th>9</th>\n",
       "      <td>kurt_transportation_cost</td>\n",
       "      <td>48.113979</td>\n",
       "      <td>0.443548</td>\n",
       "      <td>0.035875</td>\n",
       "    </tr>\n",
       "    <tr>\n",
       "      <th>10</th>\n",
       "      <td>kurt_production_time</td>\n",
       "      <td>47.461658</td>\n",
       "      <td>0.437534</td>\n",
       "      <td>0.035389</td>\n",
       "    </tr>\n",
       "    <tr>\n",
       "      <th>11</th>\n",
       "      <td>total_transportation_cost</td>\n",
       "      <td>42.609356</td>\n",
       "      <td>0.392803</td>\n",
       "      <td>0.031771</td>\n",
       "    </tr>\n",
       "    <tr>\n",
       "      <th>12</th>\n",
       "      <td>std_setup_cost</td>\n",
       "      <td>42.164970</td>\n",
       "      <td>0.388706</td>\n",
       "      <td>0.031440</td>\n",
       "    </tr>\n",
       "    <tr>\n",
       "      <th>13</th>\n",
       "      <td>variance_setup_cost</td>\n",
       "      <td>41.892654</td>\n",
       "      <td>0.386196</td>\n",
       "      <td>0.031237</td>\n",
       "    </tr>\n",
       "    <tr>\n",
       "      <th>14</th>\n",
       "      <td>std_utilization</td>\n",
       "      <td>40.847588</td>\n",
       "      <td>0.376561</td>\n",
       "      <td>0.030457</td>\n",
       "    </tr>\n",
       "    <tr>\n",
       "      <th>15</th>\n",
       "      <td>total_cost_to_demand_ratio</td>\n",
       "      <td>35.372097</td>\n",
       "      <td>0.326085</td>\n",
       "      <td>0.026375</td>\n",
       "    </tr>\n",
       "    <tr>\n",
       "      <th>16</th>\n",
       "      <td>demand_to_capacity_interaction</td>\n",
       "      <td>31.586596</td>\n",
       "      <td>0.291187</td>\n",
       "      <td>0.023552</td>\n",
       "    </tr>\n",
       "    <tr>\n",
       "      <th>17</th>\n",
       "      <td>capacity_utilization_efficiency</td>\n",
       "      <td>26.020512</td>\n",
       "      <td>0.239875</td>\n",
       "      <td>0.019402</td>\n",
       "    </tr>\n",
       "    <tr>\n",
       "      <th>18</th>\n",
       "      <td>kurt_utilization</td>\n",
       "      <td>24.922518</td>\n",
       "      <td>0.229753</td>\n",
       "      <td>0.018583</td>\n",
       "    </tr>\n",
       "    <tr>\n",
       "      <th>19</th>\n",
       "      <td>skew_capacity</td>\n",
       "      <td>19.207472</td>\n",
       "      <td>0.177068</td>\n",
       "      <td>0.014322</td>\n",
       "    </tr>\n",
       "    <tr>\n",
       "      <th>20</th>\n",
       "      <td>setup_to_production_time_ratio</td>\n",
       "      <td>16.803530</td>\n",
       "      <td>0.154907</td>\n",
       "      <td>0.012529</td>\n",
       "    </tr>\n",
       "    <tr>\n",
       "      <th>21</th>\n",
       "      <td>skew_utilization</td>\n",
       "      <td>16.035147</td>\n",
       "      <td>0.147823</td>\n",
       "      <td>0.011956</td>\n",
       "    </tr>\n",
       "    <tr>\n",
       "      <th>22</th>\n",
       "      <td>setup_to_production_cost_ratio</td>\n",
       "      <td>15.972024</td>\n",
       "      <td>0.147241</td>\n",
       "      <td>0.011909</td>\n",
       "    </tr>\n",
       "    <tr>\n",
       "      <th>23</th>\n",
       "      <td>total_demand</td>\n",
       "      <td>15.328018</td>\n",
       "      <td>0.141304</td>\n",
       "      <td>0.011429</td>\n",
       "    </tr>\n",
       "    <tr>\n",
       "      <th>24</th>\n",
       "      <td>kurt_setup_cost</td>\n",
       "      <td>15.101952</td>\n",
       "      <td>0.139220</td>\n",
       "      <td>0.011261</td>\n",
       "    </tr>\n",
       "    <tr>\n",
       "      <th>25</th>\n",
       "      <td>kurt_setup_time</td>\n",
       "      <td>14.372689</td>\n",
       "      <td>0.132497</td>\n",
       "      <td>0.010717</td>\n",
       "    </tr>\n",
       "    <tr>\n",
       "      <th>26</th>\n",
       "      <td>kurt_demand</td>\n",
       "      <td>12.462467</td>\n",
       "      <td>0.114888</td>\n",
       "      <td>0.009292</td>\n",
       "    </tr>\n",
       "    <tr>\n",
       "      <th>27</th>\n",
       "      <td>binary_vars</td>\n",
       "      <td>12.423176</td>\n",
       "      <td>0.114525</td>\n",
       "      <td>0.009263</td>\n",
       "    </tr>\n",
       "    <tr>\n",
       "      <th>28</th>\n",
       "      <td>skew_production_time</td>\n",
       "      <td>12.171032</td>\n",
       "      <td>0.112201</td>\n",
       "      <td>0.009075</td>\n",
       "    </tr>\n",
       "    <tr>\n",
       "      <th>29</th>\n",
       "      <td>avg_demand_per_product</td>\n",
       "      <td>11.368855</td>\n",
       "      <td>0.104806</td>\n",
       "      <td>0.008477</td>\n",
       "    </tr>\n",
       "    <tr>\n",
       "      <th>30</th>\n",
       "      <td>avg_inventory_cost</td>\n",
       "      <td>11.173440</td>\n",
       "      <td>0.103005</td>\n",
       "      <td>0.008331</td>\n",
       "    </tr>\n",
       "    <tr>\n",
       "      <th>31</th>\n",
       "      <td>skew_setup_cost</td>\n",
       "      <td>11.092179</td>\n",
       "      <td>0.102255</td>\n",
       "      <td>0.008271</td>\n",
       "    </tr>\n",
       "    <tr>\n",
       "      <th>32</th>\n",
       "      <td>skew_inventory_cost</td>\n",
       "      <td>10.346408</td>\n",
       "      <td>0.095380</td>\n",
       "      <td>0.007715</td>\n",
       "    </tr>\n",
       "    <tr>\n",
       "      <th>33</th>\n",
       "      <td>std_demand_per_product</td>\n",
       "      <td>10.063592</td>\n",
       "      <td>0.092773</td>\n",
       "      <td>0.007504</td>\n",
       "    </tr>\n",
       "    <tr>\n",
       "      <th>34</th>\n",
       "      <td>cv_demand</td>\n",
       "      <td>9.937680</td>\n",
       "      <td>0.091612</td>\n",
       "      <td>0.007410</td>\n",
       "    </tr>\n",
       "    <tr>\n",
       "      <th>35</th>\n",
       "      <td>skew_setup_time</td>\n",
       "      <td>9.886776</td>\n",
       "      <td>0.091143</td>\n",
       "      <td>0.007372</td>\n",
       "    </tr>\n",
       "    <tr>\n",
       "      <th>36</th>\n",
       "      <td>skew_production_cost</td>\n",
       "      <td>9.659287</td>\n",
       "      <td>0.089046</td>\n",
       "      <td>0.007202</td>\n",
       "    </tr>\n",
       "    <tr>\n",
       "      <th>37</th>\n",
       "      <td>variance_inventory_cost</td>\n",
       "      <td>9.280841</td>\n",
       "      <td>0.085557</td>\n",
       "      <td>0.006920</td>\n",
       "    </tr>\n",
       "    <tr>\n",
       "      <th>38</th>\n",
       "      <td>avg_production_cost</td>\n",
       "      <td>9.056057</td>\n",
       "      <td>0.083485</td>\n",
       "      <td>0.006753</td>\n",
       "    </tr>\n",
       "    <tr>\n",
       "      <th>39</th>\n",
       "      <td>kurt_inventory_cost</td>\n",
       "      <td>8.319683</td>\n",
       "      <td>0.076697</td>\n",
       "      <td>0.006203</td>\n",
       "    </tr>\n",
       "    <tr>\n",
       "      <th>40</th>\n",
       "      <td>mean_utilization</td>\n",
       "      <td>7.417464</td>\n",
       "      <td>0.068379</td>\n",
       "      <td>0.005531</td>\n",
       "    </tr>\n",
       "    <tr>\n",
       "      <th>41</th>\n",
       "      <td>p75_demand</td>\n",
       "      <td>7.099113</td>\n",
       "      <td>0.065445</td>\n",
       "      <td>0.005293</td>\n",
       "    </tr>\n",
       "    <tr>\n",
       "      <th>42</th>\n",
       "      <td>num_plants</td>\n",
       "      <td>6.972751</td>\n",
       "      <td>0.064280</td>\n",
       "      <td>0.005199</td>\n",
       "    </tr>\n",
       "    <tr>\n",
       "      <th>43</th>\n",
       "      <td>std_production_cost</td>\n",
       "      <td>6.225097</td>\n",
       "      <td>0.057387</td>\n",
       "      <td>0.004642</td>\n",
       "    </tr>\n",
       "    <tr>\n",
       "      <th>44</th>\n",
       "      <td>kurt_production_cost</td>\n",
       "      <td>5.795579</td>\n",
       "      <td>0.053428</td>\n",
       "      <td>0.004321</td>\n",
       "    </tr>\n",
       "    <tr>\n",
       "      <th>45</th>\n",
       "      <td>skew_demand</td>\n",
       "      <td>5.197357</td>\n",
       "      <td>0.047913</td>\n",
       "      <td>0.003875</td>\n",
       "    </tr>\n",
       "    <tr>\n",
       "      <th>46</th>\n",
       "      <td>variance_production_cost</td>\n",
       "      <td>5.011122</td>\n",
       "      <td>0.046196</td>\n",
       "      <td>0.003736</td>\n",
       "    </tr>\n",
       "    <tr>\n",
       "      <th>47</th>\n",
       "      <td>iqr_demand</td>\n",
       "      <td>4.280748</td>\n",
       "      <td>0.039463</td>\n",
       "      <td>0.003192</td>\n",
       "    </tr>\n",
       "    <tr>\n",
       "      <th>48</th>\n",
       "      <td>variance_demand_per_product</td>\n",
       "      <td>2.164611</td>\n",
       "      <td>0.019955</td>\n",
       "      <td>0.001614</td>\n",
       "    </tr>\n",
       "    <tr>\n",
       "      <th>49</th>\n",
       "      <td>p25_demand</td>\n",
       "      <td>2.043530</td>\n",
       "      <td>0.018839</td>\n",
       "      <td>0.001524</td>\n",
       "    </tr>\n",
       "    <tr>\n",
       "      <th>50</th>\n",
       "      <td>p50_demand</td>\n",
       "      <td>0.755697</td>\n",
       "      <td>0.006967</td>\n",
       "      <td>0.000563</td>\n",
       "    </tr>\n",
       "    <tr>\n",
       "      <th>51</th>\n",
       "      <td>num_products</td>\n",
       "      <td>0.065964</td>\n",
       "      <td>0.000608</td>\n",
       "      <td>0.000049</td>\n",
       "    </tr>\n",
       "  </tbody>\n",
       "</table>\n",
       "</div>"
      ],
      "text/plain": [
       "                           variable  relative_importance  scaled_importance  \\\n",
       "0                   max_utilization           108.475243           1.000000   \n",
       "1        demand_to_cost_interaction           102.533195           0.945222   \n",
       "2             time_per_unit_of_cost            77.153641           0.711256   \n",
       "3                   min_utilization            67.361542           0.620985   \n",
       "4                     kurt_capacity            65.257256           0.601587   \n",
       "5    avg_demand_to_setup_cost_ratio            64.747795           0.596890   \n",
       "6          demand_to_capacity_ratio            62.153107           0.572970   \n",
       "7          skew_transportation_cost            50.027954           0.461192   \n",
       "8                    avg_setup_cost            49.348167           0.454926   \n",
       "9          kurt_transportation_cost            48.113979           0.443548   \n",
       "10             kurt_production_time            47.461658           0.437534   \n",
       "11        total_transportation_cost            42.609356           0.392803   \n",
       "12                   std_setup_cost            42.164970           0.388706   \n",
       "13              variance_setup_cost            41.892654           0.386196   \n",
       "14                  std_utilization            40.847588           0.376561   \n",
       "15       total_cost_to_demand_ratio            35.372097           0.326085   \n",
       "16   demand_to_capacity_interaction            31.586596           0.291187   \n",
       "17  capacity_utilization_efficiency            26.020512           0.239875   \n",
       "18                 kurt_utilization            24.922518           0.229753   \n",
       "19                    skew_capacity            19.207472           0.177068   \n",
       "20   setup_to_production_time_ratio            16.803530           0.154907   \n",
       "21                 skew_utilization            16.035147           0.147823   \n",
       "22   setup_to_production_cost_ratio            15.972024           0.147241   \n",
       "23                     total_demand            15.328018           0.141304   \n",
       "24                  kurt_setup_cost            15.101952           0.139220   \n",
       "25                  kurt_setup_time            14.372689           0.132497   \n",
       "26                      kurt_demand            12.462467           0.114888   \n",
       "27                      binary_vars            12.423176           0.114525   \n",
       "28             skew_production_time            12.171032           0.112201   \n",
       "29           avg_demand_per_product            11.368855           0.104806   \n",
       "30               avg_inventory_cost            11.173440           0.103005   \n",
       "31                  skew_setup_cost            11.092179           0.102255   \n",
       "32              skew_inventory_cost            10.346408           0.095380   \n",
       "33           std_demand_per_product            10.063592           0.092773   \n",
       "34                        cv_demand             9.937680           0.091612   \n",
       "35                  skew_setup_time             9.886776           0.091143   \n",
       "36             skew_production_cost             9.659287           0.089046   \n",
       "37          variance_inventory_cost             9.280841           0.085557   \n",
       "38              avg_production_cost             9.056057           0.083485   \n",
       "39              kurt_inventory_cost             8.319683           0.076697   \n",
       "40                 mean_utilization             7.417464           0.068379   \n",
       "41                       p75_demand             7.099113           0.065445   \n",
       "42                       num_plants             6.972751           0.064280   \n",
       "43              std_production_cost             6.225097           0.057387   \n",
       "44             kurt_production_cost             5.795579           0.053428   \n",
       "45                      skew_demand             5.197357           0.047913   \n",
       "46         variance_production_cost             5.011122           0.046196   \n",
       "47                       iqr_demand             4.280748           0.039463   \n",
       "48      variance_demand_per_product             2.164611           0.019955   \n",
       "49                       p25_demand             2.043530           0.018839   \n",
       "50                       p50_demand             0.755697           0.006967   \n",
       "51                     num_products             0.065964           0.000608   \n",
       "\n",
       "    percentage  \n",
       "0     0.080883  \n",
       "1     0.076452  \n",
       "2     0.057528  \n",
       "3     0.050227  \n",
       "4     0.048658  \n",
       "5     0.048278  \n",
       "6     0.046343  \n",
       "7     0.037303  \n",
       "8     0.036796  \n",
       "9     0.035875  \n",
       "10    0.035389  \n",
       "11    0.031771  \n",
       "12    0.031440  \n",
       "13    0.031237  \n",
       "14    0.030457  \n",
       "15    0.026375  \n",
       "16    0.023552  \n",
       "17    0.019402  \n",
       "18    0.018583  \n",
       "19    0.014322  \n",
       "20    0.012529  \n",
       "21    0.011956  \n",
       "22    0.011909  \n",
       "23    0.011429  \n",
       "24    0.011261  \n",
       "25    0.010717  \n",
       "26    0.009292  \n",
       "27    0.009263  \n",
       "28    0.009075  \n",
       "29    0.008477  \n",
       "30    0.008331  \n",
       "31    0.008271  \n",
       "32    0.007715  \n",
       "33    0.007504  \n",
       "34    0.007410  \n",
       "35    0.007372  \n",
       "36    0.007202  \n",
       "37    0.006920  \n",
       "38    0.006753  \n",
       "39    0.006203  \n",
       "40    0.005531  \n",
       "41    0.005293  \n",
       "42    0.005199  \n",
       "43    0.004642  \n",
       "44    0.004321  \n",
       "45    0.003875  \n",
       "46    0.003736  \n",
       "47    0.003192  \n",
       "48    0.001614  \n",
       "49    0.001524  \n",
       "50    0.000563  \n",
       "51    0.000049  "
      ]
     },
     "execution_count": 100,
     "metadata": {},
     "output_type": "execute_result"
    }
   ],
   "source": [
    "# Variáveis mais importantes na escolha\n",
    "importancia_var = model.varimp(use_pandas=True)\n",
    "importancia_var"
   ]
  },
  {
   "cell_type": "code",
   "execution_count": 101,
   "metadata": {},
   "outputs": [],
   "source": [
    "# model.partial_plot(frame=hf_train, cols=['total_transportation_cost'], figsize=(5, 5), targets=['RF_T_0', 'RF_1_0']);"
   ]
  },
  {
   "cell_type": "code",
   "execution_count": 102,
   "metadata": {},
   "outputs": [
    {
     "name": "stderr",
     "output_type": "stream",
     "text": [
      "/home/lucasmalheiros/Documents/Pesquisa Operacional/tcc-relax-and-fix/venv/lib/python3.12/site-packages/h2o/frame.py:1983: H2ODependencyWarning: Converting H2O frame to pandas dataframe using single-thread.  For faster conversion using multi-thread, install polars and pyarrow and use it as pandas_df = h2o_df.as_data_frame(use_multi_thread=True)\n",
      "\n",
      "  warnings.warn(\"Converting H2O frame to pandas dataframe using single-thread.  For faster conversion using\"\n",
      "/home/lucasmalheiros/Documents/Pesquisa Operacional/tcc-relax-and-fix/venv/lib/python3.12/site-packages/h2o/frame.py:1983: H2ODependencyWarning: Converting H2O frame to pandas dataframe using single-thread.  For faster conversion using multi-thread, install polars and pyarrow and use it as pandas_df = h2o_df.as_data_frame(use_multi_thread=True)\n",
      "\n",
      "  warnings.warn(\"Converting H2O frame to pandas dataframe using single-thread.  For faster conversion using\"\n"
     ]
    }
   ],
   "source": [
    "# Previsões\n",
    "actual = hf_train[target].as_data_frame(use_multi_thread=True)[target]\n",
    "predictions = model.cross_validation_holdout_predictions()\n",
    "predict = predictions[0].as_data_frame(use_multi_thread=True)['predict']"
   ]
  },
  {
   "cell_type": "code",
   "execution_count": 103,
   "metadata": {},
   "outputs": [
    {
     "name": "stdout",
     "output_type": "stream",
     "text": [
      "Confusion Matrix:\n",
      " [[80  8  1  1  2  0  0  1  0]\n",
      " [16 14  4  3  2  0  2  3  0]\n",
      " [ 3  3 16  1  3  1  0  4  0]\n",
      " [ 1  5  1  7  2  2  3  3  0]\n",
      " [ 3  1  3  4 33  4  4  5  3]\n",
      " [ 4  0  1  1  6  5  5  3  1]\n",
      " [ 0  2  0  2  2  4 23  9 14]\n",
      " [ 2  0  3  2  8  3 12 18  9]\n",
      " [ 4  1  0  1  1  1 13  8 71]]\n"
     ]
    }
   ],
   "source": [
    "# Confusion matrix\n",
    "cm = confusion_matrix(actual, predict)\n",
    "print(\"Confusion Matrix:\\n\", cm)"
   ]
  },
  {
   "cell_type": "code",
   "execution_count": 105,
   "metadata": {},
   "outputs": [
    {
     "data": {
      "text/plain": [
       "np.float64(0.5437881873727087)"
      ]
     },
     "execution_count": 105,
     "metadata": {},
     "output_type": "execute_result"
    }
   ],
   "source": [
    "# Precisão\n",
    "cm.trace() / cm.sum()"
   ]
  },
  {
   "cell_type": "code",
   "execution_count": 120,
   "metadata": {},
   "outputs": [
    {
     "name": "stdout",
     "output_type": "stream",
     "text": [
      "Macro-Average Recall: 0.4251\n"
     ]
    }
   ],
   "source": [
    "recall_per_class = np.diag(cm) / np.sum(cm, axis=1)\n",
    "macro_average_recall = np.mean(recall_per_class)\n",
    "print(f\"Macro-Average Recall: {macro_average_recall:.4f}\")"
   ]
  },
  {
   "cell_type": "code",
   "execution_count": 106,
   "metadata": {},
   "outputs": [
    {
     "name": "stdout",
     "output_type": "stream",
     "text": [
      "\n",
      "F1 Score: 0.5353\n"
     ]
    }
   ],
   "source": [
    "# F1 score\n",
    "f1 = f1_score(actual, predict, average='weighted')\n",
    "print(f'\\nF1 Score: {f1:.4f}')"
   ]
  },
  {
   "cell_type": "markdown",
   "metadata": {},
   "source": [
    "# Avaliação no dataset de teste"
   ]
  },
  {
   "cell_type": "code",
   "execution_count": 107,
   "metadata": {},
   "outputs": [
    {
     "name": "stderr",
     "output_type": "stream",
     "text": [
      "/home/lucasmalheiros/Documents/Pesquisa Operacional/tcc-relax-and-fix/venv/lib/python3.12/site-packages/h2o/frame.py:1983: H2ODependencyWarning: Converting H2O frame to pandas dataframe using single-thread.  For faster conversion using multi-thread, install polars and pyarrow and use it as pandas_df = h2o_df.as_data_frame(use_multi_thread=True)\n",
      "\n",
      "  warnings.warn(\"Converting H2O frame to pandas dataframe using single-thread.  For faster conversion using\"\n"
     ]
    },
    {
     "name": "stdout",
     "output_type": "stream",
     "text": [
      "gbm prediction progress: |"
     ]
    },
    {
     "name": "stdout",
     "output_type": "stream",
     "text": [
      "███████████████████████████████████████████████████████| (done) 100%\n"
     ]
    },
    {
     "name": "stderr",
     "output_type": "stream",
     "text": [
      "/home/lucasmalheiros/Documents/Pesquisa Operacional/tcc-relax-and-fix/venv/lib/python3.12/site-packages/h2o/frame.py:1983: H2ODependencyWarning: Converting H2O frame to pandas dataframe using single-thread.  For faster conversion using multi-thread, install polars and pyarrow and use it as pandas_df = h2o_df.as_data_frame(use_multi_thread=True)\n",
      "\n",
      "  warnings.warn(\"Converting H2O frame to pandas dataframe using single-thread.  For faster conversion using\"\n"
     ]
    }
   ],
   "source": [
    "# Previsões sobre teste\n",
    "actual_test = hf_test[target].as_data_frame(use_multi_thread=True)[target]\n",
    "predictions_test = model.predict(hf_test)\n",
    "predict_test = predictions_test[0].as_data_frame(use_multi_thread=True)['predict']"
   ]
  },
  {
   "cell_type": "code",
   "execution_count": 108,
   "metadata": {},
   "outputs": [
    {
     "name": "stdout",
     "output_type": "stream",
     "text": [
      "Confusion Matrix:\n",
      " [[14  5  1  0  0  1  0  0  1]\n",
      " [ 5  5  0  3  1  0  0  0  0]\n",
      " [ 0  1  1  0  2  0  0  0  0]\n",
      " [ 1  0  0  1  0  1  1  1  1]\n",
      " [ 0  0  0  2  9  0  0  0  1]\n",
      " [ 0  0  0  0  1  0  0  0  1]\n",
      " [ 0  0  0  2  1  0  7  2  4]\n",
      " [ 0  0  0  2  3  0  0  4  3]\n",
      " [ 0  0  0  0  0  0  1  1 17]]\n"
     ]
    }
   ],
   "source": [
    "# Confusion matrix\n",
    "cm = confusion_matrix(actual_test, predict_test)\n",
    "print(\"Confusion Matrix:\\n\", cm)"
   ]
  },
  {
   "cell_type": "code",
   "execution_count": 109,
   "metadata": {},
   "outputs": [
    {
     "data": {
      "text/plain": [
       "np.float64(0.5420560747663551)"
      ]
     },
     "execution_count": 109,
     "metadata": {},
     "output_type": "execute_result"
    }
   ],
   "source": [
    "# Precisão\n",
    "cm.trace() / cm.sum()"
   ]
  },
  {
   "cell_type": "code",
   "execution_count": 110,
   "metadata": {},
   "outputs": [
    {
     "name": "stdout",
     "output_type": "stream",
     "text": [
      "\n",
      "F1 Score: 0.5355\n"
     ]
    }
   ],
   "source": [
    "# F1 score\n",
    "f1 = f1_score(actual_test, predict_test, average='weighted')\n",
    "print(f'\\nF1 Score: {f1:.4f}')"
   ]
  },
  {
   "cell_type": "code",
   "execution_count": 111,
   "metadata": {},
   "outputs": [
    {
     "name": "stdout",
     "output_type": "stream",
     "text": [
      "H2O session _sid_8a5b closed.\n"
     ]
    }
   ],
   "source": [
    "h2o.cluster().shutdown()"
   ]
  }
 ],
 "metadata": {
  "kernelspec": {
   "display_name": "venv",
   "language": "python",
   "name": "python3"
  },
  "language_info": {
   "codemirror_mode": {
    "name": "ipython",
    "version": 3
   },
   "file_extension": ".py",
   "mimetype": "text/x-python",
   "name": "python",
   "nbconvert_exporter": "python",
   "pygments_lexer": "ipython3",
   "version": "3.12.3"
  }
 },
 "nbformat": 4,
 "nbformat_minor": 4
}
