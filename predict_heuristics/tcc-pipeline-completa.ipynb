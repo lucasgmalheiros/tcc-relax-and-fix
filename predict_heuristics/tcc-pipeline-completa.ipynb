{
 "cells": [
  {
   "cell_type": "code",
   "execution_count": 75,
   "metadata": {},
   "outputs": [],
   "source": [
    "import pandas as pd\n",
    "import numpy as np\n",
    "import h2o\n",
    "from h2o.estimators import H2OGradientBoostingEstimator\n",
    "from h2o.estimators import H2OXGBoostEstimator\n",
    "from h2o.grid.grid_search import H2OGridSearch\n",
    "from sklearn.metrics import confusion_matrix, f1_score, precision_recall_curve, auc"
   ]
  },
  {
   "cell_type": "code",
   "execution_count": 76,
   "metadata": {},
   "outputs": [
    {
     "name": "stdout",
     "output_type": "stream",
     "text": [
      "Checking whether there is an H2O instance running at http://localhost:12345..... not found.\n",
      "Attempting to start a local H2O server...\n",
      "  Java Version: openjdk version \"21.0.5\" 2024-10-15; OpenJDK Runtime Environment (build 21.0.5+11-Ubuntu-1ubuntu124.04); OpenJDK 64-Bit Server VM (build 21.0.5+11-Ubuntu-1ubuntu124.04, mixed mode, sharing)\n",
      "  Starting server from /home/lucasmalheiros/Documents/Pesquisa Operacional/tcc-relax-and-fix/venv/lib/python3.12/site-packages/h2o/backend/bin/h2o.jar\n",
      "  Ice root: /tmp/tmpxa073qfg\n",
      "  JVM stdout: /tmp/tmpxa073qfg/h2o_lucasmalheiros_started_from_python.out\n",
      "  JVM stderr: /tmp/tmpxa073qfg/h2o_lucasmalheiros_started_from_python.err\n",
      "  Server is running at http://127.0.0.1:12345\n",
      "Connecting to H2O server at http://127.0.0.1:12345 ... successful.\n"
     ]
    },
    {
     "data": {
      "text/html": [
       "\n",
       "<style>\n",
       "\n",
       "#h2o-table-3.h2o-container {\n",
       "  overflow-x: auto;\n",
       "}\n",
       "#h2o-table-3 .h2o-table {\n",
       "  /* width: 100%; */\n",
       "  margin-top: 1em;\n",
       "  margin-bottom: 1em;\n",
       "}\n",
       "#h2o-table-3 .h2o-table caption {\n",
       "  white-space: nowrap;\n",
       "  caption-side: top;\n",
       "  text-align: left;\n",
       "  /* margin-left: 1em; */\n",
       "  margin: 0;\n",
       "  font-size: larger;\n",
       "}\n",
       "#h2o-table-3 .h2o-table thead {\n",
       "  white-space: nowrap; \n",
       "  position: sticky;\n",
       "  top: 0;\n",
       "  box-shadow: 0 -1px inset;\n",
       "}\n",
       "#h2o-table-3 .h2o-table tbody {\n",
       "  overflow: auto;\n",
       "}\n",
       "#h2o-table-3 .h2o-table th,\n",
       "#h2o-table-3 .h2o-table td {\n",
       "  text-align: right;\n",
       "  /* border: 1px solid; */\n",
       "}\n",
       "#h2o-table-3 .h2o-table tr:nth-child(even) {\n",
       "  /* background: #F5F5F5 */\n",
       "}\n",
       "\n",
       "</style>      \n",
       "<div id=\"h2o-table-3\" class=\"h2o-container\">\n",
       "  <table class=\"h2o-table\">\n",
       "    <caption></caption>\n",
       "    <thead></thead>\n",
       "    <tbody><tr><td>H2O_cluster_uptime:</td>\n",
       "<td>03 secs</td></tr>\n",
       "<tr><td>H2O_cluster_timezone:</td>\n",
       "<td>America/Sao_Paulo</td></tr>\n",
       "<tr><td>H2O_data_parsing_timezone:</td>\n",
       "<td>UTC</td></tr>\n",
       "<tr><td>H2O_cluster_version:</td>\n",
       "<td>3.46.0.6</td></tr>\n",
       "<tr><td>H2O_cluster_version_age:</td>\n",
       "<td>1 month and 5 days</td></tr>\n",
       "<tr><td>H2O_cluster_name:</td>\n",
       "<td>H2O_from_python_lucasmalheiros_n6s9g3</td></tr>\n",
       "<tr><td>H2O_cluster_total_nodes:</td>\n",
       "<td>1</td></tr>\n",
       "<tr><td>H2O_cluster_free_memory:</td>\n",
       "<td>1.868 Gb</td></tr>\n",
       "<tr><td>H2O_cluster_total_cores:</td>\n",
       "<td>8</td></tr>\n",
       "<tr><td>H2O_cluster_allowed_cores:</td>\n",
       "<td>8</td></tr>\n",
       "<tr><td>H2O_cluster_status:</td>\n",
       "<td>locked, healthy</td></tr>\n",
       "<tr><td>H2O_connection_url:</td>\n",
       "<td>http://127.0.0.1:12345</td></tr>\n",
       "<tr><td>H2O_connection_proxy:</td>\n",
       "<td>{\"http\": null, \"https\": null}</td></tr>\n",
       "<tr><td>H2O_internal_security:</td>\n",
       "<td>False</td></tr>\n",
       "<tr><td>Python_version:</td>\n",
       "<td>3.12.3 final</td></tr></tbody>\n",
       "  </table>\n",
       "</div>\n"
      ],
      "text/plain": [
       "--------------------------  -------------------------------------\n",
       "H2O_cluster_uptime:         03 secs\n",
       "H2O_cluster_timezone:       America/Sao_Paulo\n",
       "H2O_data_parsing_timezone:  UTC\n",
       "H2O_cluster_version:        3.46.0.6\n",
       "H2O_cluster_version_age:    1 month and 5 days\n",
       "H2O_cluster_name:           H2O_from_python_lucasmalheiros_n6s9g3\n",
       "H2O_cluster_total_nodes:    1\n",
       "H2O_cluster_free_memory:    1.868 Gb\n",
       "H2O_cluster_total_cores:    8\n",
       "H2O_cluster_allowed_cores:  8\n",
       "H2O_cluster_status:         locked, healthy\n",
       "H2O_connection_url:         http://127.0.0.1:12345\n",
       "H2O_connection_proxy:       {\"http\": null, \"https\": null}\n",
       "H2O_internal_security:      False\n",
       "Python_version:             3.12.3 final\n",
       "--------------------------  -------------------------------------"
      ]
     },
     "metadata": {},
     "output_type": "display_data"
    }
   ],
   "source": [
    "h2o.init(port=12345)"
   ]
  },
  {
   "cell_type": "code",
   "execution_count": 77,
   "metadata": {},
   "outputs": [],
   "source": [
    "def convert_to_h2o_frame(data: pd.DataFrame) -> h2o.H2OFrame:\n",
    "    \"\"\"Converte um pd.DataFrame em um h2o.H2OFrame\"\"\"\n",
    "    print('Performing conversion from pd.DataFrame to h2o.H2OFrame...')\n",
    "    # Colunas de datas\n",
    "    cols_to_date = [col for col in data.dtypes[data.dtypes == 'datetime64[ns]'].index]\n",
    "    # Colunas a converter para categórica\n",
    "    cols_to_factor = [col for col in data.dtypes[(data.dtypes == 'object') | (data.dtypes == 'category')].index]\n",
    "    # Colunas a converter a numeric\n",
    "    cols_numerics = [col for col in data.dtypes[(data.dtypes != 'object') & (data.dtypes != 'category') & (data.dtypes != 'datetime64[ns]')].index]\n",
    "    # Adicionar os tipos de colunas ao dicionário col_dtypes\n",
    "    col_dtypes = {}\n",
    "    for col in cols_to_date:\n",
    "        col_dtypes[col] = 'time'\n",
    "    for col in cols_to_factor:\n",
    "        col_dtypes[col] = 'enum'\n",
    "    for col in cols_numerics:\n",
    "        col_dtypes[col] = 'numeric'\n",
    "    # Converte a h2o\n",
    "    data = h2o.H2OFrame(data, column_types=col_dtypes, na_strings=['NA', 'none', 'None', 'nan', 'NaN', '<NA>'])\n",
    "    print('Successful conversion from pd.DataFrame to h2o.H2OFrame.')\n",
    "    return data"
   ]
  },
  {
   "cell_type": "markdown",
   "metadata": {},
   "source": [
    "# Data preparation"
   ]
  },
  {
   "cell_type": "code",
   "execution_count": 78,
   "metadata": {},
   "outputs": [],
   "source": [
    "# Resultados\n",
    "df_resultados = pd.read_csv('resultados_instancias_tcc.csv')\n",
    "df_resultados = df_resultados[['Instancias'] + [col for col in df_resultados.columns if col.startswith('Obj_') or col.startswith('Time_')]]\n",
    "df_resultados = df_resultados[df_resultados['Obj_RF_T_0'] != np.inf]  # Remove infactíveis"
   ]
  },
  {
   "cell_type": "code",
   "execution_count": 79,
   "metadata": {},
   "outputs": [],
   "source": [
    "# Features criadas de create_features_dataset.py\n",
    "df_features = pd.read_csv('multi_plant_instance_features.csv')"
   ]
  },
  {
   "cell_type": "code",
   "execution_count": 80,
   "metadata": {},
   "outputs": [],
   "source": [
    "df = df_features.merge(df_resultados, left_on='instance', right_on='Instancias', how='inner').drop(columns=['Instancias', 'instance'])"
   ]
  },
  {
   "cell_type": "code",
   "execution_count": 81,
   "metadata": {},
   "outputs": [
    {
     "data": {
      "text/html": [
       "<div>\n",
       "<style scoped>\n",
       "    .dataframe tbody tr th:only-of-type {\n",
       "        vertical-align: middle;\n",
       "    }\n",
       "\n",
       "    .dataframe tbody tr th {\n",
       "        vertical-align: top;\n",
       "    }\n",
       "\n",
       "    .dataframe thead th {\n",
       "        text-align: right;\n",
       "    }\n",
       "</style>\n",
       "<table border=\"1\" class=\"dataframe\">\n",
       "  <thead>\n",
       "    <tr style=\"text-align: right;\">\n",
       "      <th></th>\n",
       "      <th>num_products</th>\n",
       "      <th>num_plants</th>\n",
       "      <th>num_periods</th>\n",
       "      <th>binary_vars</th>\n",
       "      <th>total_demand</th>\n",
       "      <th>avg_demand_per_product</th>\n",
       "      <th>variance_demand_per_product</th>\n",
       "      <th>std_demand_per_product</th>\n",
       "      <th>mean_utilization</th>\n",
       "      <th>max_utilization</th>\n",
       "      <th>...</th>\n",
       "      <th>Obj_RF_4_2</th>\n",
       "      <th>Time_RF_4_2</th>\n",
       "      <th>Obj_RF_4_3</th>\n",
       "      <th>Time_RF_4_3</th>\n",
       "      <th>Obj_RF_6_0</th>\n",
       "      <th>Time_RF_6_0</th>\n",
       "      <th>Obj_RF_6_1</th>\n",
       "      <th>Time_RF_6_1</th>\n",
       "      <th>Obj_RF_T_0</th>\n",
       "      <th>Time_RF_T_0</th>\n",
       "    </tr>\n",
       "  </thead>\n",
       "  <tbody>\n",
       "    <tr>\n",
       "      <th>0</th>\n",
       "      <td>120</td>\n",
       "      <td>2</td>\n",
       "      <td>12</td>\n",
       "      <td>2880</td>\n",
       "      <td>263136</td>\n",
       "      <td>91.366667</td>\n",
       "      <td>2807.950972</td>\n",
       "      <td>52.990103</td>\n",
       "      <td>1.000118</td>\n",
       "      <td>1.067356</td>\n",
       "      <td>...</td>\n",
       "      <td>NaN</td>\n",
       "      <td>NaN</td>\n",
       "      <td>NaN</td>\n",
       "      <td>NaN</td>\n",
       "      <td>829221.10</td>\n",
       "      <td>1800.13</td>\n",
       "      <td>811118.49</td>\n",
       "      <td>1200.63</td>\n",
       "      <td>809910.65</td>\n",
       "      <td>1800.1</td>\n",
       "    </tr>\n",
       "    <tr>\n",
       "      <th>1</th>\n",
       "      <td>60</td>\n",
       "      <td>20</td>\n",
       "      <td>12</td>\n",
       "      <td>14400</td>\n",
       "      <td>1305703</td>\n",
       "      <td>90.673819</td>\n",
       "      <td>2699.046453</td>\n",
       "      <td>51.952348</td>\n",
       "      <td>1.000154</td>\n",
       "      <td>1.143479</td>\n",
       "      <td>...</td>\n",
       "      <td>NaN</td>\n",
       "      <td>NaN</td>\n",
       "      <td>NaN</td>\n",
       "      <td>NaN</td>\n",
       "      <td>2404264.97</td>\n",
       "      <td>1069.06</td>\n",
       "      <td>2404219.27</td>\n",
       "      <td>1018.31</td>\n",
       "      <td>2404240.72</td>\n",
       "      <td>952.5</td>\n",
       "    </tr>\n",
       "    <tr>\n",
       "      <th>2</th>\n",
       "      <td>120</td>\n",
       "      <td>6</td>\n",
       "      <td>12</td>\n",
       "      <td>8640</td>\n",
       "      <td>788211</td>\n",
       "      <td>91.228125</td>\n",
       "      <td>2765.053630</td>\n",
       "      <td>52.583777</td>\n",
       "      <td>0.999516</td>\n",
       "      <td>1.092181</td>\n",
       "      <td>...</td>\n",
       "      <td>NaN</td>\n",
       "      <td>NaN</td>\n",
       "      <td>NaN</td>\n",
       "      <td>NaN</td>\n",
       "      <td>2000140.81</td>\n",
       "      <td>1800.32</td>\n",
       "      <td>1991086.02</td>\n",
       "      <td>1214.94</td>\n",
       "      <td>2106419.81</td>\n",
       "      <td>1800.2</td>\n",
       "    </tr>\n",
       "  </tbody>\n",
       "</table>\n",
       "<p>3 rows × 79 columns</p>\n",
       "</div>"
      ],
      "text/plain": [
       "   num_products  num_plants  num_periods  binary_vars  total_demand  \\\n",
       "0           120           2           12         2880        263136   \n",
       "1            60          20           12        14400       1305703   \n",
       "2           120           6           12         8640        788211   \n",
       "\n",
       "   avg_demand_per_product  variance_demand_per_product  \\\n",
       "0               91.366667                  2807.950972   \n",
       "1               90.673819                  2699.046453   \n",
       "2               91.228125                  2765.053630   \n",
       "\n",
       "   std_demand_per_product  mean_utilization  max_utilization  ...  Obj_RF_4_2  \\\n",
       "0               52.990103          1.000118         1.067356  ...         NaN   \n",
       "1               51.952348          1.000154         1.143479  ...         NaN   \n",
       "2               52.583777          0.999516         1.092181  ...         NaN   \n",
       "\n",
       "   Time_RF_4_2  Obj_RF_4_3  Time_RF_4_3  Obj_RF_6_0  Time_RF_6_0  Obj_RF_6_1  \\\n",
       "0          NaN         NaN          NaN   829221.10      1800.13   811118.49   \n",
       "1          NaN         NaN          NaN  2404264.97      1069.06  2404219.27   \n",
       "2          NaN         NaN          NaN  2000140.81      1800.32  1991086.02   \n",
       "\n",
       "   Time_RF_6_1  Obj_RF_T_0  Time_RF_T_0  \n",
       "0      1200.63   809910.65       1800.1  \n",
       "1      1018.31  2404240.72        952.5  \n",
       "2      1214.94  2106419.81       1800.2  \n",
       "\n",
       "[3 rows x 79 columns]"
      ]
     },
     "execution_count": 81,
     "metadata": {},
     "output_type": "execute_result"
    }
   ],
   "source": [
    "df.head(3)"
   ]
  },
  {
   "cell_type": "markdown",
   "metadata": {},
   "source": [
    "# Construção de targets"
   ]
  },
  {
   "cell_type": "code",
   "execution_count": 82,
   "metadata": {},
   "outputs": [],
   "source": [
    "obj_columns = [col for col in df.columns if col.startswith('Obj_')]\n",
    "time_columns = [col for col in df.columns if col.startswith('Time_')]"
   ]
  },
  {
   "cell_type": "markdown",
   "metadata": {},
   "source": [
    "## Target em função objetivo (BEST)"
   ]
  },
  {
   "cell_type": "code",
   "execution_count": 83,
   "metadata": {},
   "outputs": [],
   "source": [
    "# Seleciona para cada instância o método com menor função objetivo para a coluna BEST\n",
    "df['BEST'] = df[obj_columns].idxmin(axis=1)\n",
    "df['BEST'] = df['BEST'].str.replace('Obj_', '')"
   ]
  },
  {
   "cell_type": "code",
   "execution_count": 84,
   "metadata": {},
   "outputs": [
    {
     "data": {
      "text/plain": [
       "BEST\n",
       "RF_T_0    221\n",
       "RF_6_0     73\n",
       "RF_3_1     60\n",
       "RF_2_0     52\n",
       "RF_1_0     48\n",
       "RF_6_1     45\n",
       "RF_2_1     36\n",
       "RF_3_0     33\n",
       "RF_4_0     30\n",
       "Name: count, dtype: int64"
      ]
     },
     "execution_count": 84,
     "metadata": {},
     "output_type": "execute_result"
    }
   ],
   "source": [
    "df['BEST'].value_counts()"
   ]
  },
  {
   "cell_type": "markdown",
   "metadata": {},
   "source": [
    "## Target com compromisso de tempo (BEST_TIME)"
   ]
  },
  {
   "cell_type": "code",
   "execution_count": 85,
   "metadata": {},
   "outputs": [],
   "source": [
    "for obj_col, time_col in zip(obj_columns, time_columns):\n",
    "    df[f'Adjusted_{obj_col}'] = (\n",
    "        df[obj_col] * np.maximum(np.log(df[time_col]) / np.log(1000), 1)\n",
    "    )\n",
    "adjusted_columns = [col for col in df.columns if col.startswith('Adjusted_')]"
   ]
  },
  {
   "cell_type": "code",
   "execution_count": 86,
   "metadata": {},
   "outputs": [],
   "source": [
    "# Seleciona para cada instância o método com menor função objetivo para a coluna BEST\n",
    "df['BEST_TIME'] = df[adjusted_columns].idxmin(axis=1)\n",
    "df['BEST_TIME'] = df['BEST_TIME'].str.replace('Adjusted_Obj_', '')"
   ]
  },
  {
   "cell_type": "code",
   "execution_count": 87,
   "metadata": {},
   "outputs": [
    {
     "data": {
      "text/plain": [
       "BEST_TIME\n",
       "RF_T_0    119\n",
       "RF_1_0    115\n",
       "RF_3_1     72\n",
       "RF_6_0     72\n",
       "RF_6_1     69\n",
       "RF_2_0     58\n",
       "RF_2_1     35\n",
       "RF_3_0     30\n",
       "RF_4_0     28\n",
       "Name: count, dtype: int64"
      ]
     },
     "execution_count": 87,
     "metadata": {},
     "output_type": "execute_result"
    }
   ],
   "source": [
    "df['BEST_TIME'].value_counts()"
   ]
  },
  {
   "cell_type": "markdown",
   "metadata": {},
   "source": [
    "# Preprocessamento de dados"
   ]
  },
  {
   "cell_type": "markdown",
   "metadata": {},
   "source": [
    "## Drop Obj_ e Time_"
   ]
  },
  {
   "cell_type": "code",
   "execution_count": 88,
   "metadata": {},
   "outputs": [],
   "source": [
    "df = df.drop(columns=obj_columns + time_columns + adjusted_columns)"
   ]
  },
  {
   "cell_type": "code",
   "execution_count": 89,
   "metadata": {},
   "outputs": [],
   "source": [
    "# Embaralhar dataset\n",
    "df = df.sample(frac=1)"
   ]
  },
  {
   "cell_type": "code",
   "execution_count": 90,
   "metadata": {},
   "outputs": [],
   "source": [
    "# Transformar em classificação binária\n",
    "# df['BEST'] = df['BEST'].apply(lambda x: 'Gurobi' if x == 'RF_T_0' else 'RF')\n",
    "# df['BEST_TIME'] = df['BEST_TIME'].apply(lambda x: 'Gurobi' if x == 'RF_T_0' else 'RF')"
   ]
  },
  {
   "cell_type": "markdown",
   "metadata": {},
   "source": [
    "## Convert para H2O frame"
   ]
  },
  {
   "cell_type": "code",
   "execution_count": 91,
   "metadata": {},
   "outputs": [
    {
     "name": "stdout",
     "output_type": "stream",
     "text": [
      "Performing conversion from pd.DataFrame to h2o.H2OFrame...\n",
      "Parse progress: |████████████████████████████████████████████████████████████████| (done) 100%\n",
      "Successful conversion from pd.DataFrame to h2o.H2OFrame.\n"
     ]
    }
   ],
   "source": [
    "# Conversão para H2O frame\n",
    "hf = convert_to_h2o_frame(df)"
   ]
  },
  {
   "cell_type": "code",
   "execution_count": 92,
   "metadata": {},
   "outputs": [],
   "source": [
    "# # Train test split\n",
    "hf_train, hf_test = hf.split_frame(ratios=[.8], seed=2112)"
   ]
  },
  {
   "cell_type": "markdown",
   "metadata": {},
   "source": [
    "# Treino (GBM)"
   ]
  },
  {
   "cell_type": "code",
   "execution_count": 93,
   "metadata": {},
   "outputs": [],
   "source": [
    "target = 'BEST_TIME'\n",
    "predictors = [c for c in hf_train.columns if c not in ['BEST', 'BEST_TIME']]"
   ]
  },
  {
   "cell_type": "code",
   "execution_count": 94,
   "metadata": {},
   "outputs": [],
   "source": [
    "gbm_model = H2OGradientBoostingEstimator(\n",
    "    nfolds=20,\n",
    "    keep_cross_validation_predictions=True,\n",
    "    seed=2112,\n",
    "    stopping_rounds=10,\n",
    "    stopping_metric=\"AUTO\",\n",
    "    stopping_tolerance=0.001,\n",
    "    balance_classes=False\n",
    ")"
   ]
  },
  {
   "cell_type": "code",
   "execution_count": 95,
   "metadata": {},
   "outputs": [],
   "source": [
    "xgboost_model = H2OXGBoostEstimator(booster='dart',\n",
    "                                    normalize_type=\"tree\",\n",
    "                                    seed=2112,\n",
    "                                    nfolds=10,\n",
    "                                    keep_cross_validation_predictions=True)"
   ]
  },
  {
   "cell_type": "code",
   "execution_count": 96,
   "metadata": {},
   "outputs": [],
   "source": [
    "# # Hiper Parâmetros\n",
    "# hyper_params = {\n",
    "#     \"learn_rate\": list(\n",
    "#         np.round(np.arange(0.01, 0.1, 0.01), 3)\n",
    "#     ),  # Narrowed range for learning rate list(np.round(np.arange(0.05, 0.3, 0.05), 3)),\n",
    "#     \"max_depth\": list(\n",
    "#         np.arange(5, 10, 1)\n",
    "#     ),  # Reduced maximum depth list(np.arange(5, 15, 1)),\n",
    "#     \"ntrees\": list(\n",
    "#         np.arange(50, 150, 20)\n",
    "#     ),  # Increased number of trees list(np.arange(20, 70, 10)),\n",
    "#     \"sample_rate\": list(\n",
    "#         np.round(np.arange(0.5, 0.9, 0.1), 3)\n",
    "#     ),  # Adjusted sample rate range list(np.round(np.arange(0.5, 1.0, 0.1), 3)),\n",
    "#     \"col_sample_rate\": list(\n",
    "#         np.round(np.arange(0.5, 1.0, 0.1), 3)\n",
    "#     ),  # Slightly adjusted col sample rate range list(np.round(np.arange(0.3, 1.0, 0.1), 3)),\n",
    "# }\n",
    "# # Tipo de pesquisa da grid. Em caso de RandomDiscrete, corre até max_models(n modelos)\n",
    "# search_criteria = {\n",
    "#     \"strategy\": \"RandomDiscrete\",\n",
    "#     \"max_models\": 10,\n",
    "#     # \"max_runtime_secs\": 180,\n",
    "#     \"seed\": 1\n",
    "# }"
   ]
  },
  {
   "cell_type": "code",
   "execution_count": 97,
   "metadata": {},
   "outputs": [],
   "source": [
    "# # Construir grid com parâmetros e critérios de procura de melhor modelo\n",
    "# grid = H2OGridSearch(model=gbm_model, \n",
    "#                      search_criteria=search_criteria, \n",
    "#                      hyper_params=hyper_params)\n",
    "# # Treinar grid\n",
    "# grid.train(x=predictors, y=target, training_frame=hf_train);"
   ]
  },
  {
   "cell_type": "code",
   "execution_count": 98,
   "metadata": {},
   "outputs": [],
   "source": [
    "# gbm_grid = grid.get_grid(sort_by=\"rmse\", decreasing=False)\n",
    "# model = gbm_grid.models[0]"
   ]
  },
  {
   "cell_type": "code",
   "execution_count": null,
   "metadata": {},
   "outputs": [
    {
     "name": "stdout",
     "output_type": "stream",
     "text": [
      "gbm Model Build progress: |"
     ]
    },
    {
     "name": "stderr",
     "output_type": "stream",
     "text": [
      "/home/lucasmalheiros/Documents/Pesquisa Operacional/tcc-relax-and-fix/venv/lib/python3.12/site-packages/h2o/estimators/estimator_base.py:192: RuntimeWarning: Dropping bad and constant columns: [num_periods]\n",
      "  warnings.warn(mesg[\"message\"], RuntimeWarning)\n",
      "/home/lucasmalheiros/Documents/Pesquisa Operacional/tcc-relax-and-fix/venv/lib/python3.12/site-packages/h2o/estimators/estimator_base.py:192: RuntimeWarning: early stopping is enabled but neither score_tree_interval or score_each_iteration are defined. Early stopping will not be reproducible!\n",
      "  warnings.warn(mesg[\"message\"], RuntimeWarning)\n"
     ]
    },
    {
     "name": "stdout",
     "output_type": "stream",
     "text": [
      "██████████"
     ]
    }
   ],
   "source": [
    "model = gbm_model\n",
    "model.train(x=predictors, y=target, training_frame=hf_train);"
   ]
  },
  {
   "cell_type": "markdown",
   "metadata": {},
   "source": [
    "# Avaliação das métricas de treino"
   ]
  },
  {
   "cell_type": "code",
   "execution_count": null,
   "metadata": {},
   "outputs": [
    {
     "data": {
      "text/html": [
       "<div>\n",
       "<style scoped>\n",
       "    .dataframe tbody tr th:only-of-type {\n",
       "        vertical-align: middle;\n",
       "    }\n",
       "\n",
       "    .dataframe tbody tr th {\n",
       "        vertical-align: top;\n",
       "    }\n",
       "\n",
       "    .dataframe thead th {\n",
       "        text-align: right;\n",
       "    }\n",
       "</style>\n",
       "<table border=\"1\" class=\"dataframe\">\n",
       "  <thead>\n",
       "    <tr style=\"text-align: right;\">\n",
       "      <th></th>\n",
       "      <th>variable</th>\n",
       "      <th>relative_importance</th>\n",
       "      <th>scaled_importance</th>\n",
       "      <th>percentage</th>\n",
       "    </tr>\n",
       "  </thead>\n",
       "  <tbody>\n",
       "    <tr>\n",
       "      <th>0</th>\n",
       "      <td>skew_transportation_cost</td>\n",
       "      <td>59.368675</td>\n",
       "      <td>1.000000</td>\n",
       "      <td>0.170250</td>\n",
       "    </tr>\n",
       "    <tr>\n",
       "      <th>1</th>\n",
       "      <td>max_utilization</td>\n",
       "      <td>53.719433</td>\n",
       "      <td>0.904845</td>\n",
       "      <td>0.154050</td>\n",
       "    </tr>\n",
       "    <tr>\n",
       "      <th>2</th>\n",
       "      <td>demand_to_capacity_ratio</td>\n",
       "      <td>23.158859</td>\n",
       "      <td>0.390085</td>\n",
       "      <td>0.066412</td>\n",
       "    </tr>\n",
       "    <tr>\n",
       "      <th>3</th>\n",
       "      <td>total_cost_to_demand_ratio</td>\n",
       "      <td>22.132524</td>\n",
       "      <td>0.372798</td>\n",
       "      <td>0.063469</td>\n",
       "    </tr>\n",
       "    <tr>\n",
       "      <th>4</th>\n",
       "      <td>avg_demand_to_setup_cost_ratio</td>\n",
       "      <td>17.728355</td>\n",
       "      <td>0.298615</td>\n",
       "      <td>0.050839</td>\n",
       "    </tr>\n",
       "    <tr>\n",
       "      <th>5</th>\n",
       "      <td>kurt_transportation_cost</td>\n",
       "      <td>16.249701</td>\n",
       "      <td>0.273708</td>\n",
       "      <td>0.046599</td>\n",
       "    </tr>\n",
       "    <tr>\n",
       "      <th>6</th>\n",
       "      <td>demand_to_capacity_interaction</td>\n",
       "      <td>16.087423</td>\n",
       "      <td>0.270975</td>\n",
       "      <td>0.046133</td>\n",
       "    </tr>\n",
       "    <tr>\n",
       "      <th>7</th>\n",
       "      <td>time_per_unit_of_cost</td>\n",
       "      <td>16.030695</td>\n",
       "      <td>0.270019</td>\n",
       "      <td>0.045971</td>\n",
       "    </tr>\n",
       "    <tr>\n",
       "      <th>8</th>\n",
       "      <td>kurt_demand</td>\n",
       "      <td>14.150823</td>\n",
       "      <td>0.238355</td>\n",
       "      <td>0.040580</td>\n",
       "    </tr>\n",
       "    <tr>\n",
       "      <th>9</th>\n",
       "      <td>avg_setup_cost</td>\n",
       "      <td>13.094478</td>\n",
       "      <td>0.220562</td>\n",
       "      <td>0.037551</td>\n",
       "    </tr>\n",
       "    <tr>\n",
       "      <th>10</th>\n",
       "      <td>std_setup_cost</td>\n",
       "      <td>11.061577</td>\n",
       "      <td>0.186320</td>\n",
       "      <td>0.031721</td>\n",
       "    </tr>\n",
       "    <tr>\n",
       "      <th>11</th>\n",
       "      <td>binary_vars</td>\n",
       "      <td>8.136566</td>\n",
       "      <td>0.137052</td>\n",
       "      <td>0.023333</td>\n",
       "    </tr>\n",
       "    <tr>\n",
       "      <th>12</th>\n",
       "      <td>std_utilization</td>\n",
       "      <td>7.597096</td>\n",
       "      <td>0.127965</td>\n",
       "      <td>0.021786</td>\n",
       "    </tr>\n",
       "    <tr>\n",
       "      <th>13</th>\n",
       "      <td>min_utilization</td>\n",
       "      <td>6.778786</td>\n",
       "      <td>0.114181</td>\n",
       "      <td>0.019439</td>\n",
       "    </tr>\n",
       "    <tr>\n",
       "      <th>14</th>\n",
       "      <td>total_transportation_cost</td>\n",
       "      <td>6.069926</td>\n",
       "      <td>0.102241</td>\n",
       "      <td>0.017407</td>\n",
       "    </tr>\n",
       "    <tr>\n",
       "      <th>15</th>\n",
       "      <td>skew_utilization</td>\n",
       "      <td>5.608194</td>\n",
       "      <td>0.094464</td>\n",
       "      <td>0.016082</td>\n",
       "    </tr>\n",
       "    <tr>\n",
       "      <th>16</th>\n",
       "      <td>skew_production_time</td>\n",
       "      <td>5.006690</td>\n",
       "      <td>0.084332</td>\n",
       "      <td>0.014358</td>\n",
       "    </tr>\n",
       "    <tr>\n",
       "      <th>17</th>\n",
       "      <td>demand_to_cost_interaction</td>\n",
       "      <td>4.936491</td>\n",
       "      <td>0.083150</td>\n",
       "      <td>0.014156</td>\n",
       "    </tr>\n",
       "    <tr>\n",
       "      <th>18</th>\n",
       "      <td>avg_demand_per_product</td>\n",
       "      <td>4.681589</td>\n",
       "      <td>0.078856</td>\n",
       "      <td>0.013425</td>\n",
       "    </tr>\n",
       "    <tr>\n",
       "      <th>19</th>\n",
       "      <td>variance_production_cost</td>\n",
       "      <td>3.232558</td>\n",
       "      <td>0.054449</td>\n",
       "      <td>0.009270</td>\n",
       "    </tr>\n",
       "    <tr>\n",
       "      <th>20</th>\n",
       "      <td>kurt_setup_cost</td>\n",
       "      <td>3.158720</td>\n",
       "      <td>0.053205</td>\n",
       "      <td>0.009058</td>\n",
       "    </tr>\n",
       "    <tr>\n",
       "      <th>21</th>\n",
       "      <td>variance_setup_cost</td>\n",
       "      <td>3.035150</td>\n",
       "      <td>0.051124</td>\n",
       "      <td>0.008704</td>\n",
       "    </tr>\n",
       "    <tr>\n",
       "      <th>22</th>\n",
       "      <td>kurt_production_time</td>\n",
       "      <td>2.576480</td>\n",
       "      <td>0.043398</td>\n",
       "      <td>0.007388</td>\n",
       "    </tr>\n",
       "    <tr>\n",
       "      <th>23</th>\n",
       "      <td>setup_to_production_time_ratio</td>\n",
       "      <td>2.320466</td>\n",
       "      <td>0.039086</td>\n",
       "      <td>0.006654</td>\n",
       "    </tr>\n",
       "    <tr>\n",
       "      <th>24</th>\n",
       "      <td>p75_demand</td>\n",
       "      <td>2.250183</td>\n",
       "      <td>0.037902</td>\n",
       "      <td>0.006453</td>\n",
       "    </tr>\n",
       "    <tr>\n",
       "      <th>25</th>\n",
       "      <td>skew_capacity</td>\n",
       "      <td>2.048788</td>\n",
       "      <td>0.034510</td>\n",
       "      <td>0.005875</td>\n",
       "    </tr>\n",
       "    <tr>\n",
       "      <th>26</th>\n",
       "      <td>skew_production_cost</td>\n",
       "      <td>2.039075</td>\n",
       "      <td>0.034346</td>\n",
       "      <td>0.005847</td>\n",
       "    </tr>\n",
       "    <tr>\n",
       "      <th>27</th>\n",
       "      <td>kurt_utilization</td>\n",
       "      <td>1.986017</td>\n",
       "      <td>0.033452</td>\n",
       "      <td>0.005695</td>\n",
       "    </tr>\n",
       "    <tr>\n",
       "      <th>28</th>\n",
       "      <td>avg_inventory_cost</td>\n",
       "      <td>1.824837</td>\n",
       "      <td>0.030737</td>\n",
       "      <td>0.005233</td>\n",
       "    </tr>\n",
       "    <tr>\n",
       "      <th>29</th>\n",
       "      <td>kurt_inventory_cost</td>\n",
       "      <td>1.591988</td>\n",
       "      <td>0.026815</td>\n",
       "      <td>0.004565</td>\n",
       "    </tr>\n",
       "    <tr>\n",
       "      <th>30</th>\n",
       "      <td>skew_setup_time</td>\n",
       "      <td>1.569080</td>\n",
       "      <td>0.026429</td>\n",
       "      <td>0.004500</td>\n",
       "    </tr>\n",
       "    <tr>\n",
       "      <th>31</th>\n",
       "      <td>kurt_capacity</td>\n",
       "      <td>1.316093</td>\n",
       "      <td>0.022168</td>\n",
       "      <td>0.003774</td>\n",
       "    </tr>\n",
       "    <tr>\n",
       "      <th>32</th>\n",
       "      <td>skew_demand</td>\n",
       "      <td>1.075090</td>\n",
       "      <td>0.018109</td>\n",
       "      <td>0.003083</td>\n",
       "    </tr>\n",
       "    <tr>\n",
       "      <th>33</th>\n",
       "      <td>cv_demand</td>\n",
       "      <td>1.010454</td>\n",
       "      <td>0.017020</td>\n",
       "      <td>0.002898</td>\n",
       "    </tr>\n",
       "    <tr>\n",
       "      <th>34</th>\n",
       "      <td>std_production_cost</td>\n",
       "      <td>0.828101</td>\n",
       "      <td>0.013948</td>\n",
       "      <td>0.002375</td>\n",
       "    </tr>\n",
       "    <tr>\n",
       "      <th>35</th>\n",
       "      <td>total_demand</td>\n",
       "      <td>0.824057</td>\n",
       "      <td>0.013880</td>\n",
       "      <td>0.002363</td>\n",
       "    </tr>\n",
       "    <tr>\n",
       "      <th>36</th>\n",
       "      <td>mean_utilization</td>\n",
       "      <td>0.750144</td>\n",
       "      <td>0.012635</td>\n",
       "      <td>0.002151</td>\n",
       "    </tr>\n",
       "    <tr>\n",
       "      <th>37</th>\n",
       "      <td>setup_to_production_cost_ratio</td>\n",
       "      <td>0.714042</td>\n",
       "      <td>0.012027</td>\n",
       "      <td>0.002048</td>\n",
       "    </tr>\n",
       "    <tr>\n",
       "      <th>38</th>\n",
       "      <td>capacity_utilization_efficiency</td>\n",
       "      <td>0.642988</td>\n",
       "      <td>0.010830</td>\n",
       "      <td>0.001844</td>\n",
       "    </tr>\n",
       "    <tr>\n",
       "      <th>39</th>\n",
       "      <td>avg_production_cost</td>\n",
       "      <td>0.494796</td>\n",
       "      <td>0.008334</td>\n",
       "      <td>0.001419</td>\n",
       "    </tr>\n",
       "    <tr>\n",
       "      <th>40</th>\n",
       "      <td>kurt_production_cost</td>\n",
       "      <td>0.443399</td>\n",
       "      <td>0.007469</td>\n",
       "      <td>0.001272</td>\n",
       "    </tr>\n",
       "    <tr>\n",
       "      <th>41</th>\n",
       "      <td>skew_setup_cost</td>\n",
       "      <td>0.417900</td>\n",
       "      <td>0.007039</td>\n",
       "      <td>0.001198</td>\n",
       "    </tr>\n",
       "    <tr>\n",
       "      <th>42</th>\n",
       "      <td>p25_demand</td>\n",
       "      <td>0.387456</td>\n",
       "      <td>0.006526</td>\n",
       "      <td>0.001111</td>\n",
       "    </tr>\n",
       "    <tr>\n",
       "      <th>43</th>\n",
       "      <td>std_demand_per_product</td>\n",
       "      <td>0.253721</td>\n",
       "      <td>0.004274</td>\n",
       "      <td>0.000728</td>\n",
       "    </tr>\n",
       "    <tr>\n",
       "      <th>44</th>\n",
       "      <td>variance_demand_per_product</td>\n",
       "      <td>0.115208</td>\n",
       "      <td>0.001941</td>\n",
       "      <td>0.000330</td>\n",
       "    </tr>\n",
       "    <tr>\n",
       "      <th>45</th>\n",
       "      <td>iqr_demand</td>\n",
       "      <td>0.080158</td>\n",
       "      <td>0.001350</td>\n",
       "      <td>0.000230</td>\n",
       "    </tr>\n",
       "    <tr>\n",
       "      <th>46</th>\n",
       "      <td>variance_inventory_cost</td>\n",
       "      <td>0.060915</td>\n",
       "      <td>0.001026</td>\n",
       "      <td>0.000175</td>\n",
       "    </tr>\n",
       "    <tr>\n",
       "      <th>47</th>\n",
       "      <td>kurt_setup_time</td>\n",
       "      <td>0.052367</td>\n",
       "      <td>0.000882</td>\n",
       "      <td>0.000150</td>\n",
       "    </tr>\n",
       "    <tr>\n",
       "      <th>48</th>\n",
       "      <td>p50_demand</td>\n",
       "      <td>0.014367</td>\n",
       "      <td>0.000242</td>\n",
       "      <td>0.000041</td>\n",
       "    </tr>\n",
       "    <tr>\n",
       "      <th>49</th>\n",
       "      <td>num_products</td>\n",
       "      <td>0.002571</td>\n",
       "      <td>0.000043</td>\n",
       "      <td>0.000007</td>\n",
       "    </tr>\n",
       "    <tr>\n",
       "      <th>50</th>\n",
       "      <td>num_plants</td>\n",
       "      <td>0.000000</td>\n",
       "      <td>0.000000</td>\n",
       "      <td>0.000000</td>\n",
       "    </tr>\n",
       "    <tr>\n",
       "      <th>51</th>\n",
       "      <td>skew_inventory_cost</td>\n",
       "      <td>0.000000</td>\n",
       "      <td>0.000000</td>\n",
       "      <td>0.000000</td>\n",
       "    </tr>\n",
       "  </tbody>\n",
       "</table>\n",
       "</div>"
      ],
      "text/plain": [
       "                           variable  relative_importance  scaled_importance  \\\n",
       "0          skew_transportation_cost            59.368675           1.000000   \n",
       "1                   max_utilization            53.719433           0.904845   \n",
       "2          demand_to_capacity_ratio            23.158859           0.390085   \n",
       "3        total_cost_to_demand_ratio            22.132524           0.372798   \n",
       "4    avg_demand_to_setup_cost_ratio            17.728355           0.298615   \n",
       "5          kurt_transportation_cost            16.249701           0.273708   \n",
       "6    demand_to_capacity_interaction            16.087423           0.270975   \n",
       "7             time_per_unit_of_cost            16.030695           0.270019   \n",
       "8                       kurt_demand            14.150823           0.238355   \n",
       "9                    avg_setup_cost            13.094478           0.220562   \n",
       "10                   std_setup_cost            11.061577           0.186320   \n",
       "11                      binary_vars             8.136566           0.137052   \n",
       "12                  std_utilization             7.597096           0.127965   \n",
       "13                  min_utilization             6.778786           0.114181   \n",
       "14        total_transportation_cost             6.069926           0.102241   \n",
       "15                 skew_utilization             5.608194           0.094464   \n",
       "16             skew_production_time             5.006690           0.084332   \n",
       "17       demand_to_cost_interaction             4.936491           0.083150   \n",
       "18           avg_demand_per_product             4.681589           0.078856   \n",
       "19         variance_production_cost             3.232558           0.054449   \n",
       "20                  kurt_setup_cost             3.158720           0.053205   \n",
       "21              variance_setup_cost             3.035150           0.051124   \n",
       "22             kurt_production_time             2.576480           0.043398   \n",
       "23   setup_to_production_time_ratio             2.320466           0.039086   \n",
       "24                       p75_demand             2.250183           0.037902   \n",
       "25                    skew_capacity             2.048788           0.034510   \n",
       "26             skew_production_cost             2.039075           0.034346   \n",
       "27                 kurt_utilization             1.986017           0.033452   \n",
       "28               avg_inventory_cost             1.824837           0.030737   \n",
       "29              kurt_inventory_cost             1.591988           0.026815   \n",
       "30                  skew_setup_time             1.569080           0.026429   \n",
       "31                    kurt_capacity             1.316093           0.022168   \n",
       "32                      skew_demand             1.075090           0.018109   \n",
       "33                        cv_demand             1.010454           0.017020   \n",
       "34              std_production_cost             0.828101           0.013948   \n",
       "35                     total_demand             0.824057           0.013880   \n",
       "36                 mean_utilization             0.750144           0.012635   \n",
       "37   setup_to_production_cost_ratio             0.714042           0.012027   \n",
       "38  capacity_utilization_efficiency             0.642988           0.010830   \n",
       "39              avg_production_cost             0.494796           0.008334   \n",
       "40             kurt_production_cost             0.443399           0.007469   \n",
       "41                  skew_setup_cost             0.417900           0.007039   \n",
       "42                       p25_demand             0.387456           0.006526   \n",
       "43           std_demand_per_product             0.253721           0.004274   \n",
       "44      variance_demand_per_product             0.115208           0.001941   \n",
       "45                       iqr_demand             0.080158           0.001350   \n",
       "46          variance_inventory_cost             0.060915           0.001026   \n",
       "47                  kurt_setup_time             0.052367           0.000882   \n",
       "48                       p50_demand             0.014367           0.000242   \n",
       "49                     num_products             0.002571           0.000043   \n",
       "50                       num_plants             0.000000           0.000000   \n",
       "51              skew_inventory_cost             0.000000           0.000000   \n",
       "\n",
       "    percentage  \n",
       "0     0.170250  \n",
       "1     0.154050  \n",
       "2     0.066412  \n",
       "3     0.063469  \n",
       "4     0.050839  \n",
       "5     0.046599  \n",
       "6     0.046133  \n",
       "7     0.045971  \n",
       "8     0.040580  \n",
       "9     0.037551  \n",
       "10    0.031721  \n",
       "11    0.023333  \n",
       "12    0.021786  \n",
       "13    0.019439  \n",
       "14    0.017407  \n",
       "15    0.016082  \n",
       "16    0.014358  \n",
       "17    0.014156  \n",
       "18    0.013425  \n",
       "19    0.009270  \n",
       "20    0.009058  \n",
       "21    0.008704  \n",
       "22    0.007388  \n",
       "23    0.006654  \n",
       "24    0.006453  \n",
       "25    0.005875  \n",
       "26    0.005847  \n",
       "27    0.005695  \n",
       "28    0.005233  \n",
       "29    0.004565  \n",
       "30    0.004500  \n",
       "31    0.003774  \n",
       "32    0.003083  \n",
       "33    0.002898  \n",
       "34    0.002375  \n",
       "35    0.002363  \n",
       "36    0.002151  \n",
       "37    0.002048  \n",
       "38    0.001844  \n",
       "39    0.001419  \n",
       "40    0.001272  \n",
       "41    0.001198  \n",
       "42    0.001111  \n",
       "43    0.000728  \n",
       "44    0.000330  \n",
       "45    0.000230  \n",
       "46    0.000175  \n",
       "47    0.000150  \n",
       "48    0.000041  \n",
       "49    0.000007  \n",
       "50    0.000000  \n",
       "51    0.000000  "
      ]
     },
     "execution_count": 62,
     "metadata": {},
     "output_type": "execute_result"
    }
   ],
   "source": [
    "# Variáveis mais importantes na escolha\n",
    "importancia_var = model.varimp(use_pandas=True)\n",
    "importancia_var"
   ]
  },
  {
   "cell_type": "code",
   "execution_count": null,
   "metadata": {},
   "outputs": [],
   "source": [
    "# model.partial_plot(frame=hf_train, cols=['total_transportation_cost'], figsize=(5, 5), targets=['RF_T_0', 'RF_1_0']);"
   ]
  },
  {
   "cell_type": "code",
   "execution_count": null,
   "metadata": {},
   "outputs": [
    {
     "name": "stderr",
     "output_type": "stream",
     "text": [
      "/home/lucasmalheiros/Documents/Pesquisa Operacional/tcc-relax-and-fix/venv/lib/python3.12/site-packages/h2o/frame.py:1983: H2ODependencyWarning: Converting H2O frame to pandas dataframe using single-thread.  For faster conversion using multi-thread, install polars and pyarrow and use it as pandas_df = h2o_df.as_data_frame(use_multi_thread=True)\n",
      "\n",
      "  warnings.warn(\"Converting H2O frame to pandas dataframe using single-thread.  For faster conversion using\"\n",
      "/home/lucasmalheiros/Documents/Pesquisa Operacional/tcc-relax-and-fix/venv/lib/python3.12/site-packages/h2o/frame.py:1983: H2ODependencyWarning: Converting H2O frame to pandas dataframe using single-thread.  For faster conversion using multi-thread, install polars and pyarrow and use it as pandas_df = h2o_df.as_data_frame(use_multi_thread=True)\n",
      "\n",
      "  warnings.warn(\"Converting H2O frame to pandas dataframe using single-thread.  For faster conversion using\"\n"
     ]
    }
   ],
   "source": [
    "# Previsões\n",
    "actual = hf_train[target].as_data_frame(use_multi_thread=True)[target]\n",
    "predictions = model.cross_validation_holdout_predictions()\n",
    "predict = predictions[0].as_data_frame(use_multi_thread=True)['predict']"
   ]
  },
  {
   "cell_type": "code",
   "execution_count": null,
   "metadata": {},
   "outputs": [
    {
     "name": "stdout",
     "output_type": "stream",
     "text": [
      "Confusion Matrix:\n",
      " [[ 72  24]\n",
      " [ 16 379]]\n"
     ]
    }
   ],
   "source": [
    "# Confusion matrix\n",
    "cm = confusion_matrix(actual, predict)\n",
    "print(\"Confusion Matrix:\\n\", cm)"
   ]
  },
  {
   "cell_type": "code",
   "execution_count": null,
   "metadata": {},
   "outputs": [],
   "source": [
    "# Olhar recall"
   ]
  },
  {
   "cell_type": "code",
   "execution_count": null,
   "metadata": {},
   "outputs": [
    {
     "data": {
      "text/plain": [
       "np.float64(0.9185336048879837)"
      ]
     },
     "execution_count": 67,
     "metadata": {},
     "output_type": "execute_result"
    }
   ],
   "source": [
    "# Precisão\n",
    "cm.trace() / cm.sum()"
   ]
  },
  {
   "cell_type": "code",
   "execution_count": null,
   "metadata": {},
   "outputs": [
    {
     "name": "stdout",
     "output_type": "stream",
     "text": [
      "\n",
      "F1 Score: 0.9172\n"
     ]
    }
   ],
   "source": [
    "# F1 score\n",
    "f1 = f1_score(actual, predict, average='weighted')\n",
    "print(f'\\nF1 Score: {f1:.4f}')"
   ]
  },
  {
   "cell_type": "markdown",
   "metadata": {},
   "source": [
    "# Avaliação no dataset de teste"
   ]
  },
  {
   "cell_type": "code",
   "execution_count": null,
   "metadata": {},
   "outputs": [
    {
     "name": "stderr",
     "output_type": "stream",
     "text": [
      "/home/lucasmalheiros/Documents/Pesquisa Operacional/tcc-relax-and-fix/venv/lib/python3.12/site-packages/h2o/frame.py:1983: H2ODependencyWarning: Converting H2O frame to pandas dataframe using single-thread.  For faster conversion using multi-thread, install polars and pyarrow and use it as pandas_df = h2o_df.as_data_frame(use_multi_thread=True)\n",
      "\n",
      "  warnings.warn(\"Converting H2O frame to pandas dataframe using single-thread.  For faster conversion using\"\n"
     ]
    },
    {
     "name": "stdout",
     "output_type": "stream",
     "text": [
      "gbm prediction progress: |███████████████████████████████████████████████████████| (done) 100%\n"
     ]
    },
    {
     "name": "stderr",
     "output_type": "stream",
     "text": [
      "/home/lucasmalheiros/Documents/Pesquisa Operacional/tcc-relax-and-fix/venv/lib/python3.12/site-packages/h2o/frame.py:1983: H2ODependencyWarning: Converting H2O frame to pandas dataframe using single-thread.  For faster conversion using multi-thread, install polars and pyarrow and use it as pandas_df = h2o_df.as_data_frame(use_multi_thread=True)\n",
      "\n",
      "  warnings.warn(\"Converting H2O frame to pandas dataframe using single-thread.  For faster conversion using\"\n"
     ]
    }
   ],
   "source": [
    "# Previsões sobre teste\n",
    "actual_test = hf_test[target].as_data_frame(use_multi_thread=True)[target]\n",
    "predictions_test = model.predict(hf_test)\n",
    "predict_test = predictions_test[0].as_data_frame(use_multi_thread=True)['predict']"
   ]
  },
  {
   "cell_type": "code",
   "execution_count": null,
   "metadata": {},
   "outputs": [
    {
     "name": "stdout",
     "output_type": "stream",
     "text": [
      "Confusion Matrix:\n",
      " [[15  8]\n",
      " [ 3 81]]\n"
     ]
    }
   ],
   "source": [
    "# Confusion matrix\n",
    "cm = confusion_matrix(actual_test, predict_test)\n",
    "print(\"Confusion Matrix:\\n\", cm)"
   ]
  },
  {
   "cell_type": "code",
   "execution_count": null,
   "metadata": {},
   "outputs": [
    {
     "data": {
      "text/plain": [
       "np.float64(0.897196261682243)"
      ]
     },
     "execution_count": 71,
     "metadata": {},
     "output_type": "execute_result"
    }
   ],
   "source": [
    "# Precisão\n",
    "cm.trace() / cm.sum()"
   ]
  },
  {
   "cell_type": "code",
   "execution_count": null,
   "metadata": {},
   "outputs": [
    {
     "name": "stdout",
     "output_type": "stream",
     "text": [
      "\n",
      "F1 Score: 0.8924\n"
     ]
    }
   ],
   "source": [
    "# F1 score\n",
    "f1 = f1_score(actual_test, predict_test, average='weighted')\n",
    "print(f'\\nF1 Score: {f1:.4f}')"
   ]
  },
  {
   "cell_type": "code",
   "execution_count": null,
   "metadata": {},
   "outputs": [],
   "source": [
    "h2o.cluster().shutdown()"
   ]
  }
 ],
 "metadata": {
  "kernelspec": {
   "display_name": "venv",
   "language": "python",
   "name": "python3"
  },
  "language_info": {
   "codemirror_mode": {
    "name": "ipython",
    "version": 3
   },
   "file_extension": ".py",
   "mimetype": "text/x-python",
   "name": "python",
   "nbconvert_exporter": "python",
   "pygments_lexer": "ipython3",
   "version": "3.12.3"
  }
 },
 "nbformat": 4,
 "nbformat_minor": 4
}
