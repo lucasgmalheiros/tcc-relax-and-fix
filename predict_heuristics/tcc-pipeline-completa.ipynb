{
 "cells": [
  {
   "cell_type": "code",
   "execution_count": 40,
   "metadata": {},
   "outputs": [],
   "source": [
    "import pandas as pd\n",
    "import numpy as np\n",
    "import h2o\n",
    "from h2o.estimators import H2OGradientBoostingEstimator\n",
    "from h2o.estimators import H2OXGBoostEstimator\n",
    "from h2o.grid.grid_search import H2OGridSearch\n",
    "from sklearn.metrics import confusion_matrix, f1_score, precision_recall_curve, auc"
   ]
  },
  {
   "cell_type": "code",
   "execution_count": 41,
   "metadata": {},
   "outputs": [
    {
     "name": "stdout",
     "output_type": "stream",
     "text": [
      "Checking whether there is an H2O instance running at http://localhost:12345..... not found.\n",
      "Attempting to start a local H2O server...\n",
      "  Java Version: openjdk version \"21.0.5\" 2024-10-15; OpenJDK Runtime Environment (build 21.0.5+11-Ubuntu-1ubuntu124.04); OpenJDK 64-Bit Server VM (build 21.0.5+11-Ubuntu-1ubuntu124.04, mixed mode, sharing)\n",
      "  Starting server from /home/lucasmalheiros/Documents/Pesquisa Operacional/tcc-relax-and-fix/venv/lib/python3.12/site-packages/h2o/backend/bin/h2o.jar\n",
      "  Ice root: /tmp/tmpzc9_o1yk\n",
      "  JVM stdout: /tmp/tmpzc9_o1yk/h2o_lucasmalheiros_started_from_python.out\n",
      "  JVM stderr: /tmp/tmpzc9_o1yk/h2o_lucasmalheiros_started_from_python.err\n",
      "  Server is running at http://127.0.0.1:12345\n",
      "Connecting to H2O server at http://127.0.0.1:12345 ... successful.\n"
     ]
    },
    {
     "data": {
      "text/html": [
       "\n",
       "<style>\n",
       "\n",
       "#h2o-table-2.h2o-container {\n",
       "  overflow-x: auto;\n",
       "}\n",
       "#h2o-table-2 .h2o-table {\n",
       "  /* width: 100%; */\n",
       "  margin-top: 1em;\n",
       "  margin-bottom: 1em;\n",
       "}\n",
       "#h2o-table-2 .h2o-table caption {\n",
       "  white-space: nowrap;\n",
       "  caption-side: top;\n",
       "  text-align: left;\n",
       "  /* margin-left: 1em; */\n",
       "  margin: 0;\n",
       "  font-size: larger;\n",
       "}\n",
       "#h2o-table-2 .h2o-table thead {\n",
       "  white-space: nowrap; \n",
       "  position: sticky;\n",
       "  top: 0;\n",
       "  box-shadow: 0 -1px inset;\n",
       "}\n",
       "#h2o-table-2 .h2o-table tbody {\n",
       "  overflow: auto;\n",
       "}\n",
       "#h2o-table-2 .h2o-table th,\n",
       "#h2o-table-2 .h2o-table td {\n",
       "  text-align: right;\n",
       "  /* border: 1px solid; */\n",
       "}\n",
       "#h2o-table-2 .h2o-table tr:nth-child(even) {\n",
       "  /* background: #F5F5F5 */\n",
       "}\n",
       "\n",
       "</style>      \n",
       "<div id=\"h2o-table-2\" class=\"h2o-container\">\n",
       "  <table class=\"h2o-table\">\n",
       "    <caption></caption>\n",
       "    <thead></thead>\n",
       "    <tbody><tr><td>H2O_cluster_uptime:</td>\n",
       "<td>02 secs</td></tr>\n",
       "<tr><td>H2O_cluster_timezone:</td>\n",
       "<td>America/Sao_Paulo</td></tr>\n",
       "<tr><td>H2O_data_parsing_timezone:</td>\n",
       "<td>UTC</td></tr>\n",
       "<tr><td>H2O_cluster_version:</td>\n",
       "<td>3.46.0.6</td></tr>\n",
       "<tr><td>H2O_cluster_version_age:</td>\n",
       "<td>1 month and 13 days</td></tr>\n",
       "<tr><td>H2O_cluster_name:</td>\n",
       "<td>H2O_from_python_lucasmalheiros_ikp0js</td></tr>\n",
       "<tr><td>H2O_cluster_total_nodes:</td>\n",
       "<td>1</td></tr>\n",
       "<tr><td>H2O_cluster_free_memory:</td>\n",
       "<td>1.868 Gb</td></tr>\n",
       "<tr><td>H2O_cluster_total_cores:</td>\n",
       "<td>8</td></tr>\n",
       "<tr><td>H2O_cluster_allowed_cores:</td>\n",
       "<td>8</td></tr>\n",
       "<tr><td>H2O_cluster_status:</td>\n",
       "<td>locked, healthy</td></tr>\n",
       "<tr><td>H2O_connection_url:</td>\n",
       "<td>http://127.0.0.1:12345</td></tr>\n",
       "<tr><td>H2O_connection_proxy:</td>\n",
       "<td>{\"http\": null, \"https\": null}</td></tr>\n",
       "<tr><td>H2O_internal_security:</td>\n",
       "<td>False</td></tr>\n",
       "<tr><td>Python_version:</td>\n",
       "<td>3.12.3 final</td></tr></tbody>\n",
       "  </table>\n",
       "</div>\n"
      ],
      "text/plain": [
       "--------------------------  -------------------------------------\n",
       "H2O_cluster_uptime:         02 secs\n",
       "H2O_cluster_timezone:       America/Sao_Paulo\n",
       "H2O_data_parsing_timezone:  UTC\n",
       "H2O_cluster_version:        3.46.0.6\n",
       "H2O_cluster_version_age:    1 month and 13 days\n",
       "H2O_cluster_name:           H2O_from_python_lucasmalheiros_ikp0js\n",
       "H2O_cluster_total_nodes:    1\n",
       "H2O_cluster_free_memory:    1.868 Gb\n",
       "H2O_cluster_total_cores:    8\n",
       "H2O_cluster_allowed_cores:  8\n",
       "H2O_cluster_status:         locked, healthy\n",
       "H2O_connection_url:         http://127.0.0.1:12345\n",
       "H2O_connection_proxy:       {\"http\": null, \"https\": null}\n",
       "H2O_internal_security:      False\n",
       "Python_version:             3.12.3 final\n",
       "--------------------------  -------------------------------------"
      ]
     },
     "metadata": {},
     "output_type": "display_data"
    }
   ],
   "source": [
    "h2o.init(port=12345)"
   ]
  },
  {
   "cell_type": "code",
   "execution_count": 42,
   "metadata": {},
   "outputs": [],
   "source": [
    "def convert_to_h2o_frame(data: pd.DataFrame) -> h2o.H2OFrame:\n",
    "    \"\"\"Converte um pd.DataFrame em um h2o.H2OFrame\"\"\"\n",
    "    print('Performing conversion from pd.DataFrame to h2o.H2OFrame...')\n",
    "    # Colunas de datas\n",
    "    cols_to_date = [col for col in data.dtypes[data.dtypes == 'datetime64[ns]'].index]\n",
    "    # Colunas a converter para categórica\n",
    "    cols_to_factor = [col for col in data.dtypes[(data.dtypes == 'object') | (data.dtypes == 'category')].index]\n",
    "    # Colunas a converter a numeric\n",
    "    cols_numerics = [col for col in data.dtypes[(data.dtypes != 'object') & (data.dtypes != 'category') & (data.dtypes != 'datetime64[ns]')].index]\n",
    "    # Adicionar os tipos de colunas ao dicionário col_dtypes\n",
    "    col_dtypes = {}\n",
    "    for col in cols_to_date:\n",
    "        col_dtypes[col] = 'time'\n",
    "    for col in cols_to_factor:\n",
    "        col_dtypes[col] = 'enum'\n",
    "    for col in cols_numerics:\n",
    "        col_dtypes[col] = 'numeric'\n",
    "    # Converte a h2o\n",
    "    data = h2o.H2OFrame(data, column_types=col_dtypes, na_strings=['NA', 'none', 'None', 'nan', 'NaN', '<NA>'])\n",
    "    print('Successful conversion from pd.DataFrame to h2o.H2OFrame.')\n",
    "    return data"
   ]
  },
  {
   "cell_type": "markdown",
   "metadata": {},
   "source": [
    "# Data preparation"
   ]
  },
  {
   "cell_type": "code",
   "execution_count": 43,
   "metadata": {},
   "outputs": [],
   "source": [
    "# Resultados\n",
    "df_resultados = pd.read_csv('resultados_instancias_tcc.csv')\n",
    "df_resultados = df_resultados[['Instancias'] + [col for col in df_resultados.columns if col.startswith('Obj_') or col.startswith('Time_')]]\n",
    "df_resultados = df_resultados[df_resultados['Obj_RF_T_0'] != np.inf]  # Remove infactíveis"
   ]
  },
  {
   "cell_type": "code",
   "execution_count": 44,
   "metadata": {},
   "outputs": [],
   "source": [
    "# Features criadas de create_features_dataset.py\n",
    "df_features = pd.read_csv('multi_plant_instance_features.csv')"
   ]
  },
  {
   "cell_type": "code",
   "execution_count": 45,
   "metadata": {},
   "outputs": [],
   "source": [
    "df = df_features.merge(df_resultados, left_on='instance', right_on='Instancias', how='inner').drop(columns=['Instancias', 'instance'])"
   ]
  },
  {
   "cell_type": "code",
   "execution_count": 46,
   "metadata": {},
   "outputs": [
    {
     "data": {
      "text/html": [
       "<div>\n",
       "<style scoped>\n",
       "    .dataframe tbody tr th:only-of-type {\n",
       "        vertical-align: middle;\n",
       "    }\n",
       "\n",
       "    .dataframe tbody tr th {\n",
       "        vertical-align: top;\n",
       "    }\n",
       "\n",
       "    .dataframe thead th {\n",
       "        text-align: right;\n",
       "    }\n",
       "</style>\n",
       "<table border=\"1\" class=\"dataframe\">\n",
       "  <thead>\n",
       "    <tr style=\"text-align: right;\">\n",
       "      <th></th>\n",
       "      <th>num_products</th>\n",
       "      <th>num_plants</th>\n",
       "      <th>num_periods</th>\n",
       "      <th>binary_vars</th>\n",
       "      <th>total_demand</th>\n",
       "      <th>avg_demand_per_product</th>\n",
       "      <th>variance_demand_per_product</th>\n",
       "      <th>std_demand_per_product</th>\n",
       "      <th>mean_utilization</th>\n",
       "      <th>max_utilization</th>\n",
       "      <th>...</th>\n",
       "      <th>Obj_RF_6_2</th>\n",
       "      <th>Time_RF_6_2</th>\n",
       "      <th>Obj_RF_6_3</th>\n",
       "      <th>Time_RF_6_3</th>\n",
       "      <th>Obj_RF_6_4</th>\n",
       "      <th>Time_RF_6_4</th>\n",
       "      <th>Obj_RF_6_5</th>\n",
       "      <th>Time_RF_6_5</th>\n",
       "      <th>Obj_RF_T_0</th>\n",
       "      <th>Time_RF_T_0</th>\n",
       "    </tr>\n",
       "  </thead>\n",
       "  <tbody>\n",
       "    <tr>\n",
       "      <th>0</th>\n",
       "      <td>120</td>\n",
       "      <td>2</td>\n",
       "      <td>12</td>\n",
       "      <td>2880</td>\n",
       "      <td>263136</td>\n",
       "      <td>91.366667</td>\n",
       "      <td>2807.950972</td>\n",
       "      <td>52.990103</td>\n",
       "      <td>1.000118</td>\n",
       "      <td>1.067356</td>\n",
       "      <td>...</td>\n",
       "      <td>810455.47</td>\n",
       "      <td>1202.5</td>\n",
       "      <td>NaN</td>\n",
       "      <td>NaN</td>\n",
       "      <td>NaN</td>\n",
       "      <td>NaN</td>\n",
       "      <td>NaN</td>\n",
       "      <td>NaN</td>\n",
       "      <td>809910.65</td>\n",
       "      <td>1800.1</td>\n",
       "    </tr>\n",
       "    <tr>\n",
       "      <th>1</th>\n",
       "      <td>60</td>\n",
       "      <td>20</td>\n",
       "      <td>12</td>\n",
       "      <td>14400</td>\n",
       "      <td>1305703</td>\n",
       "      <td>90.673819</td>\n",
       "      <td>2699.046453</td>\n",
       "      <td>51.952348</td>\n",
       "      <td>1.000154</td>\n",
       "      <td>1.143479</td>\n",
       "      <td>...</td>\n",
       "      <td>2404144.93</td>\n",
       "      <td>1320.7</td>\n",
       "      <td>NaN</td>\n",
       "      <td>NaN</td>\n",
       "      <td>NaN</td>\n",
       "      <td>NaN</td>\n",
       "      <td>NaN</td>\n",
       "      <td>NaN</td>\n",
       "      <td>2404240.72</td>\n",
       "      <td>952.5</td>\n",
       "    </tr>\n",
       "    <tr>\n",
       "      <th>2</th>\n",
       "      <td>120</td>\n",
       "      <td>6</td>\n",
       "      <td>12</td>\n",
       "      <td>8640</td>\n",
       "      <td>788211</td>\n",
       "      <td>91.228125</td>\n",
       "      <td>2765.053630</td>\n",
       "      <td>52.583777</td>\n",
       "      <td>0.999516</td>\n",
       "      <td>1.092181</td>\n",
       "      <td>...</td>\n",
       "      <td>1976005.90</td>\n",
       "      <td>1800.7</td>\n",
       "      <td>NaN</td>\n",
       "      <td>NaN</td>\n",
       "      <td>NaN</td>\n",
       "      <td>NaN</td>\n",
       "      <td>NaN</td>\n",
       "      <td>NaN</td>\n",
       "      <td>2106419.81</td>\n",
       "      <td>1800.2</td>\n",
       "    </tr>\n",
       "  </tbody>\n",
       "</table>\n",
       "<p>3 rows × 87 columns</p>\n",
       "</div>"
      ],
      "text/plain": [
       "   num_products  num_plants  num_periods  binary_vars  total_demand  \\\n",
       "0           120           2           12         2880        263136   \n",
       "1            60          20           12        14400       1305703   \n",
       "2           120           6           12         8640        788211   \n",
       "\n",
       "   avg_demand_per_product  variance_demand_per_product  \\\n",
       "0               91.366667                  2807.950972   \n",
       "1               90.673819                  2699.046453   \n",
       "2               91.228125                  2765.053630   \n",
       "\n",
       "   std_demand_per_product  mean_utilization  max_utilization  ...  Obj_RF_6_2  \\\n",
       "0               52.990103          1.000118         1.067356  ...   810455.47   \n",
       "1               51.952348          1.000154         1.143479  ...  2404144.93   \n",
       "2               52.583777          0.999516         1.092181  ...  1976005.90   \n",
       "\n",
       "   Time_RF_6_2  Obj_RF_6_3  Time_RF_6_3  Obj_RF_6_4  Time_RF_6_4  Obj_RF_6_5  \\\n",
       "0       1202.5         NaN          NaN         NaN          NaN         NaN   \n",
       "1       1320.7         NaN          NaN         NaN          NaN         NaN   \n",
       "2       1800.7         NaN          NaN         NaN          NaN         NaN   \n",
       "\n",
       "   Time_RF_6_5  Obj_RF_T_0  Time_RF_T_0  \n",
       "0          NaN   809910.65       1800.1  \n",
       "1          NaN  2404240.72        952.5  \n",
       "2          NaN  2106419.81       1800.2  \n",
       "\n",
       "[3 rows x 87 columns]"
      ]
     },
     "execution_count": 46,
     "metadata": {},
     "output_type": "execute_result"
    }
   ],
   "source": [
    "df.head(3)"
   ]
  },
  {
   "cell_type": "markdown",
   "metadata": {},
   "source": [
    "# Construção de targets"
   ]
  },
  {
   "cell_type": "code",
   "execution_count": 47,
   "metadata": {},
   "outputs": [],
   "source": [
    "obj_columns = [col for col in df.columns if col.startswith('Obj_')]\n",
    "time_columns = [col for col in df.columns if col.startswith('Time_')]"
   ]
  },
  {
   "cell_type": "markdown",
   "metadata": {},
   "source": [
    "## Target em função objetivo (BEST)"
   ]
  },
  {
   "cell_type": "code",
   "execution_count": 48,
   "metadata": {},
   "outputs": [],
   "source": [
    "# Seleciona para cada instância o método com menor função objetivo para a coluna BEST\n",
    "df['BEST'] = df[obj_columns].idxmin(axis=1)\n",
    "df['BEST'] = df['BEST'].str.replace('Obj_', '')"
   ]
  },
  {
   "cell_type": "code",
   "execution_count": 49,
   "metadata": {},
   "outputs": [
    {
     "data": {
      "text/plain": [
       "BEST\n",
       "RF_T_0    190\n",
       "RF_2_0     50\n",
       "RF_1_0     47\n",
       "RF_6_0     42\n",
       "RF_3_1     40\n",
       "RF_4_2     34\n",
       "RF_3_0     31\n",
       "RF_6_2     29\n",
       "RF_4_1     29\n",
       "RF_2_1     29\n",
       "RF_6_1     23\n",
       "RF_3_2     21\n",
       "RF_4_3     17\n",
       "RF_4_0     16\n",
       "Name: count, dtype: int64"
      ]
     },
     "execution_count": 49,
     "metadata": {},
     "output_type": "execute_result"
    }
   ],
   "source": [
    "df['BEST'].value_counts()"
   ]
  },
  {
   "cell_type": "markdown",
   "metadata": {},
   "source": [
    "## Target com compromisso de tempo (BEST_TIME)"
   ]
  },
  {
   "cell_type": "code",
   "execution_count": 50,
   "metadata": {},
   "outputs": [],
   "source": [
    "for obj_col, time_col in zip(obj_columns, time_columns):\n",
    "    df[f'Adjusted_{obj_col}'] = (\n",
    "        df[obj_col] * np.maximum(np.log(df[time_col]) / np.log(1000), 1)\n",
    "    )\n",
    "adjusted_columns = [col for col in df.columns if col.startswith('Adjusted_')]"
   ]
  },
  {
   "cell_type": "code",
   "execution_count": 51,
   "metadata": {},
   "outputs": [],
   "source": [
    "# Seleciona para cada instância o método com menor função objetivo para a coluna BEST\n",
    "df['BEST_TIME'] = df[adjusted_columns].idxmin(axis=1)\n",
    "df['BEST_TIME'] = df['BEST_TIME'].str.replace('Adjusted_Obj_', '')"
   ]
  },
  {
   "cell_type": "code",
   "execution_count": 52,
   "metadata": {},
   "outputs": [
    {
     "data": {
      "text/plain": [
       "BEST_TIME\n",
       "RF_1_0    111\n",
       "RF_T_0    106\n",
       "RF_2_0     57\n",
       "RF_6_0     41\n",
       "RF_6_2     39\n",
       "RF_4_2     35\n",
       "RF_4_3     31\n",
       "RF_2_1     31\n",
       "RF_3_1     29\n",
       "RF_3_2     28\n",
       "RF_6_1     28\n",
       "RF_3_0     26\n",
       "RF_4_1     20\n",
       "RF_4_0     16\n",
       "Name: count, dtype: int64"
      ]
     },
     "execution_count": 52,
     "metadata": {},
     "output_type": "execute_result"
    }
   ],
   "source": [
    "df['BEST_TIME'].value_counts()"
   ]
  },
  {
   "cell_type": "markdown",
   "metadata": {},
   "source": [
    "# Preprocessamento de dados"
   ]
  },
  {
   "cell_type": "markdown",
   "metadata": {},
   "source": [
    "## Drop Obj_ e Time_"
   ]
  },
  {
   "cell_type": "code",
   "execution_count": 53,
   "metadata": {},
   "outputs": [],
   "source": [
    "df = df.drop(columns=obj_columns + time_columns + adjusted_columns)"
   ]
  },
  {
   "cell_type": "code",
   "execution_count": 54,
   "metadata": {},
   "outputs": [],
   "source": [
    "# Embaralhar dataset\n",
    "df = df.sample(frac=1)"
   ]
  },
  {
   "cell_type": "code",
   "execution_count": 55,
   "metadata": {},
   "outputs": [],
   "source": [
    "# Transformar em classificação binária\n",
    "df['BEST'] = df['BEST'].apply(lambda x: 'Gurobi' if x == 'RF_T_0' else 'RF')\n",
    "df['BEST_TIME'] = df['BEST_TIME'].apply(lambda x: 'Gurobi' if x == 'RF_T_0' else 'RF')"
   ]
  },
  {
   "cell_type": "markdown",
   "metadata": {},
   "source": [
    "## Convert para H2O frame"
   ]
  },
  {
   "cell_type": "code",
   "execution_count": 56,
   "metadata": {},
   "outputs": [
    {
     "name": "stdout",
     "output_type": "stream",
     "text": [
      "Performing conversion from pd.DataFrame to h2o.H2OFrame...\n",
      "Parse progress: |████████████████████████████████████████████████████████████████| (done) 100%\n",
      "Successful conversion from pd.DataFrame to h2o.H2OFrame.\n"
     ]
    }
   ],
   "source": [
    "# Conversão para H2O frame\n",
    "hf = convert_to_h2o_frame(df)"
   ]
  },
  {
   "cell_type": "code",
   "execution_count": 57,
   "metadata": {},
   "outputs": [],
   "source": [
    "# Train test split\n",
    "hf_train, hf_test = hf.split_frame(ratios=[.8], seed=2112)"
   ]
  },
  {
   "cell_type": "markdown",
   "metadata": {},
   "source": [
    "# Treino (GBM)"
   ]
  },
  {
   "cell_type": "code",
   "execution_count": 58,
   "metadata": {},
   "outputs": [],
   "source": [
    "target = 'BEST_TIME'\n",
    "predictors = [c for c in hf_train.columns if c not in ['BEST', 'BEST_TIME']]"
   ]
  },
  {
   "cell_type": "code",
   "execution_count": 59,
   "metadata": {},
   "outputs": [],
   "source": [
    "gbm_model = H2OGradientBoostingEstimator(\n",
    "    nfolds=20,\n",
    "    keep_cross_validation_predictions=True,\n",
    "    seed=2112,\n",
    "    stopping_rounds=10,\n",
    "    stopping_metric=\"AUTO\",\n",
    "    stopping_tolerance=0.001,\n",
    "    balance_classes=False\n",
    ")"
   ]
  },
  {
   "cell_type": "code",
   "execution_count": 60,
   "metadata": {},
   "outputs": [],
   "source": [
    "xgboost_model = H2OXGBoostEstimator(booster='dart',\n",
    "                                    normalize_type=\"tree\",\n",
    "                                    seed=2112,\n",
    "                                    nfolds=10,\n",
    "                                    keep_cross_validation_predictions=True)"
   ]
  },
  {
   "cell_type": "code",
   "execution_count": 61,
   "metadata": {},
   "outputs": [],
   "source": [
    "# Hiper Parâmetros\n",
    "hyper_params = {\n",
    "    \"learn_rate\": list(\n",
    "        np.round(np.arange(0.01, 0.1, 0.01), 3)\n",
    "    ),  # Narrowed range for learning rate list(np.round(np.arange(0.05, 0.3, 0.05), 3)),\n",
    "    \"max_depth\": list(\n",
    "        np.arange(5, 10, 1)\n",
    "    ),  # Reduced maximum depth list(np.arange(5, 15, 1)),\n",
    "    \"ntrees\": list(\n",
    "        np.arange(50, 150, 20)\n",
    "    ),  # Increased number of trees list(np.arange(20, 70, 10)),\n",
    "    \"sample_rate\": list(\n",
    "        np.round(np.arange(0.5, 0.9, 0.1), 3)\n",
    "    ),  # Adjusted sample rate range list(np.round(np.arange(0.5, 1.0, 0.1), 3)),\n",
    "    \"col_sample_rate\": list(\n",
    "        np.round(np.arange(0.5, 1.0, 0.1), 3)\n",
    "    ),  # Slightly adjusted col sample rate range list(np.round(np.arange(0.3, 1.0, 0.1), 3)),\n",
    "}\n",
    "# Tipo de pesquisa da grid. Em caso de RandomDiscrete, corre até max_models(n modelos)\n",
    "search_criteria = {\n",
    "    \"strategy\": \"RandomDiscrete\",\n",
    "    \"max_models\": 10,\n",
    "    # \"max_runtime_secs\": 180,\n",
    "    \"seed\": 1\n",
    "}"
   ]
  },
  {
   "cell_type": "code",
   "execution_count": 62,
   "metadata": {},
   "outputs": [],
   "source": [
    "# # Construir grid com parâmetros e critérios de procura de melhor modelo\n",
    "# grid = H2OGridSearch(model=gbm_model, \n",
    "#                      search_criteria=search_criteria, \n",
    "#                      hyper_params=hyper_params)\n",
    "# # Treinar grid\n",
    "# grid.train(x=predictors, y=target, training_frame=hf_train)"
   ]
  },
  {
   "cell_type": "code",
   "execution_count": 63,
   "metadata": {},
   "outputs": [],
   "source": [
    "# gbm_grid = grid.get_grid(sort_by=\"rmse\", decreasing=False)\n",
    "# model = gbm_grid.models[0]"
   ]
  },
  {
   "cell_type": "code",
   "execution_count": 78,
   "metadata": {},
   "outputs": [
    {
     "name": "stdout",
     "output_type": "stream",
     "text": [
      "gbm Model Build progress: |"
     ]
    },
    {
     "name": "stderr",
     "output_type": "stream",
     "text": [
      "/home/lucasmalheiros/Documents/Pesquisa Operacional/tcc-relax-and-fix/venv/lib/python3.12/site-packages/h2o/estimators/estimator_base.py:192: RuntimeWarning: Dropping bad and constant columns: [num_periods]\n",
      "  warnings.warn(mesg[\"message\"], RuntimeWarning)\n",
      "/home/lucasmalheiros/Documents/Pesquisa Operacional/tcc-relax-and-fix/venv/lib/python3.12/site-packages/h2o/estimators/estimator_base.py:192: RuntimeWarning: early stopping is enabled but neither score_tree_interval or score_each_iteration are defined. Early stopping will not be reproducible!\n",
      "  warnings.warn(mesg[\"message\"], RuntimeWarning)\n"
     ]
    },
    {
     "name": "stdout",
     "output_type": "stream",
     "text": [
      "██████████████████████████████████████████████████████| (done) 100%\n"
     ]
    }
   ],
   "source": [
    "model = gbm_model\n",
    "model.train(x=predictors, y=target, training_frame=hf_train);"
   ]
  },
  {
   "cell_type": "markdown",
   "metadata": {},
   "source": [
    "# Avaliação das métricas de treino"
   ]
  },
  {
   "cell_type": "code",
   "execution_count": 79,
   "metadata": {},
   "outputs": [
    {
     "data": {
      "text/html": [
       "<div>\n",
       "<style scoped>\n",
       "    .dataframe tbody tr th:only-of-type {\n",
       "        vertical-align: middle;\n",
       "    }\n",
       "\n",
       "    .dataframe tbody tr th {\n",
       "        vertical-align: top;\n",
       "    }\n",
       "\n",
       "    .dataframe thead th {\n",
       "        text-align: right;\n",
       "    }\n",
       "</style>\n",
       "<table border=\"1\" class=\"dataframe\">\n",
       "  <thead>\n",
       "    <tr style=\"text-align: right;\">\n",
       "      <th></th>\n",
       "      <th>variable</th>\n",
       "      <th>relative_importance</th>\n",
       "      <th>scaled_importance</th>\n",
       "      <th>percentage</th>\n",
       "    </tr>\n",
       "  </thead>\n",
       "  <tbody>\n",
       "    <tr>\n",
       "      <th>0</th>\n",
       "      <td>std_setup_cost</td>\n",
       "      <td>76.081665</td>\n",
       "      <td>1.000000</td>\n",
       "      <td>0.229811</td>\n",
       "    </tr>\n",
       "    <tr>\n",
       "      <th>1</th>\n",
       "      <td>skew_transportation_cost</td>\n",
       "      <td>63.223373</td>\n",
       "      <td>0.830994</td>\n",
       "      <td>0.190972</td>\n",
       "    </tr>\n",
       "    <tr>\n",
       "      <th>2</th>\n",
       "      <td>max_utilization</td>\n",
       "      <td>42.748539</td>\n",
       "      <td>0.561877</td>\n",
       "      <td>0.129126</td>\n",
       "    </tr>\n",
       "    <tr>\n",
       "      <th>3</th>\n",
       "      <td>demand_to_cost_interaction</td>\n",
       "      <td>18.462095</td>\n",
       "      <td>0.242662</td>\n",
       "      <td>0.055766</td>\n",
       "    </tr>\n",
       "    <tr>\n",
       "      <th>4</th>\n",
       "      <td>avg_demand_to_setup_cost_ratio</td>\n",
       "      <td>17.852283</td>\n",
       "      <td>0.234646</td>\n",
       "      <td>0.053924</td>\n",
       "    </tr>\n",
       "    <tr>\n",
       "      <th>5</th>\n",
       "      <td>total_transportation_cost</td>\n",
       "      <td>9.752063</td>\n",
       "      <td>0.128179</td>\n",
       "      <td>0.029457</td>\n",
       "    </tr>\n",
       "    <tr>\n",
       "      <th>6</th>\n",
       "      <td>time_per_unit_of_cost</td>\n",
       "      <td>9.721905</td>\n",
       "      <td>0.127782</td>\n",
       "      <td>0.029366</td>\n",
       "    </tr>\n",
       "    <tr>\n",
       "      <th>7</th>\n",
       "      <td>avg_inventory_cost</td>\n",
       "      <td>8.778040</td>\n",
       "      <td>0.115377</td>\n",
       "      <td>0.026515</td>\n",
       "    </tr>\n",
       "    <tr>\n",
       "      <th>8</th>\n",
       "      <td>std_utilization</td>\n",
       "      <td>7.825897</td>\n",
       "      <td>0.102862</td>\n",
       "      <td>0.023639</td>\n",
       "    </tr>\n",
       "    <tr>\n",
       "      <th>9</th>\n",
       "      <td>min_utilization</td>\n",
       "      <td>7.049114</td>\n",
       "      <td>0.092652</td>\n",
       "      <td>0.021292</td>\n",
       "    </tr>\n",
       "    <tr>\n",
       "      <th>10</th>\n",
       "      <td>variance_setup_cost</td>\n",
       "      <td>6.680818</td>\n",
       "      <td>0.087811</td>\n",
       "      <td>0.020180</td>\n",
       "    </tr>\n",
       "    <tr>\n",
       "      <th>11</th>\n",
       "      <td>total_cost_to_demand_ratio</td>\n",
       "      <td>6.461841</td>\n",
       "      <td>0.084933</td>\n",
       "      <td>0.019519</td>\n",
       "    </tr>\n",
       "    <tr>\n",
       "      <th>12</th>\n",
       "      <td>kurt_capacity</td>\n",
       "      <td>6.118393</td>\n",
       "      <td>0.080419</td>\n",
       "      <td>0.018481</td>\n",
       "    </tr>\n",
       "    <tr>\n",
       "      <th>13</th>\n",
       "      <td>kurt_demand</td>\n",
       "      <td>5.361521</td>\n",
       "      <td>0.070471</td>\n",
       "      <td>0.016195</td>\n",
       "    </tr>\n",
       "    <tr>\n",
       "      <th>14</th>\n",
       "      <td>skew_capacity</td>\n",
       "      <td>4.462610</td>\n",
       "      <td>0.058656</td>\n",
       "      <td>0.013480</td>\n",
       "    </tr>\n",
       "    <tr>\n",
       "      <th>15</th>\n",
       "      <td>demand_to_capacity_interaction</td>\n",
       "      <td>4.400701</td>\n",
       "      <td>0.057842</td>\n",
       "      <td>0.013293</td>\n",
       "    </tr>\n",
       "    <tr>\n",
       "      <th>16</th>\n",
       "      <td>demand_to_capacity_ratio</td>\n",
       "      <td>4.290781</td>\n",
       "      <td>0.056397</td>\n",
       "      <td>0.012961</td>\n",
       "    </tr>\n",
       "    <tr>\n",
       "      <th>17</th>\n",
       "      <td>skew_production_time</td>\n",
       "      <td>3.494238</td>\n",
       "      <td>0.045927</td>\n",
       "      <td>0.010555</td>\n",
       "    </tr>\n",
       "    <tr>\n",
       "      <th>18</th>\n",
       "      <td>capacity_utilization_efficiency</td>\n",
       "      <td>2.460204</td>\n",
       "      <td>0.032336</td>\n",
       "      <td>0.007431</td>\n",
       "    </tr>\n",
       "    <tr>\n",
       "      <th>19</th>\n",
       "      <td>avg_setup_cost</td>\n",
       "      <td>2.447083</td>\n",
       "      <td>0.032164</td>\n",
       "      <td>0.007392</td>\n",
       "    </tr>\n",
       "    <tr>\n",
       "      <th>20</th>\n",
       "      <td>kurt_utilization</td>\n",
       "      <td>2.341967</td>\n",
       "      <td>0.030782</td>\n",
       "      <td>0.007074</td>\n",
       "    </tr>\n",
       "    <tr>\n",
       "      <th>21</th>\n",
       "      <td>kurt_transportation_cost</td>\n",
       "      <td>2.200327</td>\n",
       "      <td>0.028921</td>\n",
       "      <td>0.006646</td>\n",
       "    </tr>\n",
       "    <tr>\n",
       "      <th>22</th>\n",
       "      <td>skew_setup_cost</td>\n",
       "      <td>2.132022</td>\n",
       "      <td>0.028023</td>\n",
       "      <td>0.006440</td>\n",
       "    </tr>\n",
       "    <tr>\n",
       "      <th>23</th>\n",
       "      <td>kurt_production_time</td>\n",
       "      <td>2.098112</td>\n",
       "      <td>0.027577</td>\n",
       "      <td>0.006338</td>\n",
       "    </tr>\n",
       "    <tr>\n",
       "      <th>24</th>\n",
       "      <td>setup_to_production_time_ratio</td>\n",
       "      <td>1.541776</td>\n",
       "      <td>0.020265</td>\n",
       "      <td>0.004657</td>\n",
       "    </tr>\n",
       "    <tr>\n",
       "      <th>25</th>\n",
       "      <td>skew_utilization</td>\n",
       "      <td>1.500076</td>\n",
       "      <td>0.019717</td>\n",
       "      <td>0.004531</td>\n",
       "    </tr>\n",
       "    <tr>\n",
       "      <th>26</th>\n",
       "      <td>skew_production_cost</td>\n",
       "      <td>1.408253</td>\n",
       "      <td>0.018510</td>\n",
       "      <td>0.004254</td>\n",
       "    </tr>\n",
       "    <tr>\n",
       "      <th>27</th>\n",
       "      <td>total_demand</td>\n",
       "      <td>1.334471</td>\n",
       "      <td>0.017540</td>\n",
       "      <td>0.004031</td>\n",
       "    </tr>\n",
       "    <tr>\n",
       "      <th>28</th>\n",
       "      <td>cv_demand</td>\n",
       "      <td>1.296496</td>\n",
       "      <td>0.017041</td>\n",
       "      <td>0.003916</td>\n",
       "    </tr>\n",
       "    <tr>\n",
       "      <th>29</th>\n",
       "      <td>kurt_setup_cost</td>\n",
       "      <td>0.981144</td>\n",
       "      <td>0.012896</td>\n",
       "      <td>0.002964</td>\n",
       "    </tr>\n",
       "    <tr>\n",
       "      <th>30</th>\n",
       "      <td>num_plants</td>\n",
       "      <td>0.964033</td>\n",
       "      <td>0.012671</td>\n",
       "      <td>0.002912</td>\n",
       "    </tr>\n",
       "    <tr>\n",
       "      <th>31</th>\n",
       "      <td>mean_utilization</td>\n",
       "      <td>0.917013</td>\n",
       "      <td>0.012053</td>\n",
       "      <td>0.002770</td>\n",
       "    </tr>\n",
       "    <tr>\n",
       "      <th>32</th>\n",
       "      <td>std_production_cost</td>\n",
       "      <td>0.704786</td>\n",
       "      <td>0.009264</td>\n",
       "      <td>0.002129</td>\n",
       "    </tr>\n",
       "    <tr>\n",
       "      <th>33</th>\n",
       "      <td>kurt_setup_time</td>\n",
       "      <td>0.695155</td>\n",
       "      <td>0.009137</td>\n",
       "      <td>0.002100</td>\n",
       "    </tr>\n",
       "    <tr>\n",
       "      <th>34</th>\n",
       "      <td>p75_demand</td>\n",
       "      <td>0.618300</td>\n",
       "      <td>0.008127</td>\n",
       "      <td>0.001868</td>\n",
       "    </tr>\n",
       "    <tr>\n",
       "      <th>35</th>\n",
       "      <td>variance_inventory_cost</td>\n",
       "      <td>0.578033</td>\n",
       "      <td>0.007598</td>\n",
       "      <td>0.001746</td>\n",
       "    </tr>\n",
       "    <tr>\n",
       "      <th>36</th>\n",
       "      <td>skew_setup_time</td>\n",
       "      <td>0.565430</td>\n",
       "      <td>0.007432</td>\n",
       "      <td>0.001708</td>\n",
       "    </tr>\n",
       "    <tr>\n",
       "      <th>37</th>\n",
       "      <td>avg_production_cost</td>\n",
       "      <td>0.557327</td>\n",
       "      <td>0.007325</td>\n",
       "      <td>0.001683</td>\n",
       "    </tr>\n",
       "    <tr>\n",
       "      <th>38</th>\n",
       "      <td>avg_demand_per_product</td>\n",
       "      <td>0.213100</td>\n",
       "      <td>0.002801</td>\n",
       "      <td>0.000644</td>\n",
       "    </tr>\n",
       "    <tr>\n",
       "      <th>39</th>\n",
       "      <td>variance_production_cost</td>\n",
       "      <td>0.150060</td>\n",
       "      <td>0.001972</td>\n",
       "      <td>0.000453</td>\n",
       "    </tr>\n",
       "    <tr>\n",
       "      <th>40</th>\n",
       "      <td>kurt_inventory_cost</td>\n",
       "      <td>0.144183</td>\n",
       "      <td>0.001895</td>\n",
       "      <td>0.000436</td>\n",
       "    </tr>\n",
       "    <tr>\n",
       "      <th>41</th>\n",
       "      <td>p50_demand</td>\n",
       "      <td>0.135024</td>\n",
       "      <td>0.001775</td>\n",
       "      <td>0.000408</td>\n",
       "    </tr>\n",
       "    <tr>\n",
       "      <th>42</th>\n",
       "      <td>skew_inventory_cost</td>\n",
       "      <td>0.127401</td>\n",
       "      <td>0.001675</td>\n",
       "      <td>0.000385</td>\n",
       "    </tr>\n",
       "    <tr>\n",
       "      <th>43</th>\n",
       "      <td>skew_demand</td>\n",
       "      <td>0.123444</td>\n",
       "      <td>0.001623</td>\n",
       "      <td>0.000373</td>\n",
       "    </tr>\n",
       "    <tr>\n",
       "      <th>44</th>\n",
       "      <td>setup_to_production_cost_ratio</td>\n",
       "      <td>0.052709</td>\n",
       "      <td>0.000693</td>\n",
       "      <td>0.000159</td>\n",
       "    </tr>\n",
       "    <tr>\n",
       "      <th>45</th>\n",
       "      <td>p25_demand</td>\n",
       "      <td>0.007648</td>\n",
       "      <td>0.000101</td>\n",
       "      <td>0.000023</td>\n",
       "    </tr>\n",
       "    <tr>\n",
       "      <th>46</th>\n",
       "      <td>num_products</td>\n",
       "      <td>0.000000</td>\n",
       "      <td>0.000000</td>\n",
       "      <td>0.000000</td>\n",
       "    </tr>\n",
       "    <tr>\n",
       "      <th>47</th>\n",
       "      <td>binary_vars</td>\n",
       "      <td>0.000000</td>\n",
       "      <td>0.000000</td>\n",
       "      <td>0.000000</td>\n",
       "    </tr>\n",
       "    <tr>\n",
       "      <th>48</th>\n",
       "      <td>variance_demand_per_product</td>\n",
       "      <td>0.000000</td>\n",
       "      <td>0.000000</td>\n",
       "      <td>0.000000</td>\n",
       "    </tr>\n",
       "    <tr>\n",
       "      <th>49</th>\n",
       "      <td>std_demand_per_product</td>\n",
       "      <td>0.000000</td>\n",
       "      <td>0.000000</td>\n",
       "      <td>0.000000</td>\n",
       "    </tr>\n",
       "    <tr>\n",
       "      <th>50</th>\n",
       "      <td>kurt_production_cost</td>\n",
       "      <td>0.000000</td>\n",
       "      <td>0.000000</td>\n",
       "      <td>0.000000</td>\n",
       "    </tr>\n",
       "    <tr>\n",
       "      <th>51</th>\n",
       "      <td>iqr_demand</td>\n",
       "      <td>0.000000</td>\n",
       "      <td>0.000000</td>\n",
       "      <td>0.000000</td>\n",
       "    </tr>\n",
       "  </tbody>\n",
       "</table>\n",
       "</div>"
      ],
      "text/plain": [
       "                           variable  relative_importance  scaled_importance  \\\n",
       "0                    std_setup_cost            76.081665           1.000000   \n",
       "1          skew_transportation_cost            63.223373           0.830994   \n",
       "2                   max_utilization            42.748539           0.561877   \n",
       "3        demand_to_cost_interaction            18.462095           0.242662   \n",
       "4    avg_demand_to_setup_cost_ratio            17.852283           0.234646   \n",
       "5         total_transportation_cost             9.752063           0.128179   \n",
       "6             time_per_unit_of_cost             9.721905           0.127782   \n",
       "7                avg_inventory_cost             8.778040           0.115377   \n",
       "8                   std_utilization             7.825897           0.102862   \n",
       "9                   min_utilization             7.049114           0.092652   \n",
       "10              variance_setup_cost             6.680818           0.087811   \n",
       "11       total_cost_to_demand_ratio             6.461841           0.084933   \n",
       "12                    kurt_capacity             6.118393           0.080419   \n",
       "13                      kurt_demand             5.361521           0.070471   \n",
       "14                    skew_capacity             4.462610           0.058656   \n",
       "15   demand_to_capacity_interaction             4.400701           0.057842   \n",
       "16         demand_to_capacity_ratio             4.290781           0.056397   \n",
       "17             skew_production_time             3.494238           0.045927   \n",
       "18  capacity_utilization_efficiency             2.460204           0.032336   \n",
       "19                   avg_setup_cost             2.447083           0.032164   \n",
       "20                 kurt_utilization             2.341967           0.030782   \n",
       "21         kurt_transportation_cost             2.200327           0.028921   \n",
       "22                  skew_setup_cost             2.132022           0.028023   \n",
       "23             kurt_production_time             2.098112           0.027577   \n",
       "24   setup_to_production_time_ratio             1.541776           0.020265   \n",
       "25                 skew_utilization             1.500076           0.019717   \n",
       "26             skew_production_cost             1.408253           0.018510   \n",
       "27                     total_demand             1.334471           0.017540   \n",
       "28                        cv_demand             1.296496           0.017041   \n",
       "29                  kurt_setup_cost             0.981144           0.012896   \n",
       "30                       num_plants             0.964033           0.012671   \n",
       "31                 mean_utilization             0.917013           0.012053   \n",
       "32              std_production_cost             0.704786           0.009264   \n",
       "33                  kurt_setup_time             0.695155           0.009137   \n",
       "34                       p75_demand             0.618300           0.008127   \n",
       "35          variance_inventory_cost             0.578033           0.007598   \n",
       "36                  skew_setup_time             0.565430           0.007432   \n",
       "37              avg_production_cost             0.557327           0.007325   \n",
       "38           avg_demand_per_product             0.213100           0.002801   \n",
       "39         variance_production_cost             0.150060           0.001972   \n",
       "40              kurt_inventory_cost             0.144183           0.001895   \n",
       "41                       p50_demand             0.135024           0.001775   \n",
       "42              skew_inventory_cost             0.127401           0.001675   \n",
       "43                      skew_demand             0.123444           0.001623   \n",
       "44   setup_to_production_cost_ratio             0.052709           0.000693   \n",
       "45                       p25_demand             0.007648           0.000101   \n",
       "46                     num_products             0.000000           0.000000   \n",
       "47                      binary_vars             0.000000           0.000000   \n",
       "48      variance_demand_per_product             0.000000           0.000000   \n",
       "49           std_demand_per_product             0.000000           0.000000   \n",
       "50             kurt_production_cost             0.000000           0.000000   \n",
       "51                       iqr_demand             0.000000           0.000000   \n",
       "\n",
       "    percentage  \n",
       "0     0.229811  \n",
       "1     0.190972  \n",
       "2     0.129126  \n",
       "3     0.055766  \n",
       "4     0.053924  \n",
       "5     0.029457  \n",
       "6     0.029366  \n",
       "7     0.026515  \n",
       "8     0.023639  \n",
       "9     0.021292  \n",
       "10    0.020180  \n",
       "11    0.019519  \n",
       "12    0.018481  \n",
       "13    0.016195  \n",
       "14    0.013480  \n",
       "15    0.013293  \n",
       "16    0.012961  \n",
       "17    0.010555  \n",
       "18    0.007431  \n",
       "19    0.007392  \n",
       "20    0.007074  \n",
       "21    0.006646  \n",
       "22    0.006440  \n",
       "23    0.006338  \n",
       "24    0.004657  \n",
       "25    0.004531  \n",
       "26    0.004254  \n",
       "27    0.004031  \n",
       "28    0.003916  \n",
       "29    0.002964  \n",
       "30    0.002912  \n",
       "31    0.002770  \n",
       "32    0.002129  \n",
       "33    0.002100  \n",
       "34    0.001868  \n",
       "35    0.001746  \n",
       "36    0.001708  \n",
       "37    0.001683  \n",
       "38    0.000644  \n",
       "39    0.000453  \n",
       "40    0.000436  \n",
       "41    0.000408  \n",
       "42    0.000385  \n",
       "43    0.000373  \n",
       "44    0.000159  \n",
       "45    0.000023  \n",
       "46    0.000000  \n",
       "47    0.000000  \n",
       "48    0.000000  \n",
       "49    0.000000  \n",
       "50    0.000000  \n",
       "51    0.000000  "
      ]
     },
     "execution_count": 79,
     "metadata": {},
     "output_type": "execute_result"
    }
   ],
   "source": [
    "# Variáveis mais importantes na escolha\n",
    "importancia_var = model.varimp(use_pandas=True)\n",
    "importancia_var"
   ]
  },
  {
   "cell_type": "code",
   "execution_count": 80,
   "metadata": {},
   "outputs": [],
   "source": [
    "# model.partial_plot(frame=hf_train, cols=['total_transportation_cost'], figsize=(5, 5), targets=['RF_T_0', 'RF_1_0']);"
   ]
  },
  {
   "cell_type": "code",
   "execution_count": 81,
   "metadata": {},
   "outputs": [
    {
     "name": "stderr",
     "output_type": "stream",
     "text": [
      "/home/lucasmalheiros/Documents/Pesquisa Operacional/tcc-relax-and-fix/venv/lib/python3.12/site-packages/h2o/frame.py:1983: H2ODependencyWarning: Converting H2O frame to pandas dataframe using single-thread.  For faster conversion using multi-thread, install polars and pyarrow and use it as pandas_df = h2o_df.as_data_frame(use_multi_thread=True)\n",
      "\n",
      "  warnings.warn(\"Converting H2O frame to pandas dataframe using single-thread.  For faster conversion using\"\n",
      "/home/lucasmalheiros/Documents/Pesquisa Operacional/tcc-relax-and-fix/venv/lib/python3.12/site-packages/h2o/frame.py:1983: H2ODependencyWarning: Converting H2O frame to pandas dataframe using single-thread.  For faster conversion using multi-thread, install polars and pyarrow and use it as pandas_df = h2o_df.as_data_frame(use_multi_thread=True)\n",
      "\n",
      "  warnings.warn(\"Converting H2O frame to pandas dataframe using single-thread.  For faster conversion using\"\n"
     ]
    }
   ],
   "source": [
    "# Previsões\n",
    "actual = hf_train[target].as_data_frame(use_multi_thread=True)[target]\n",
    "predictions = model.cross_validation_holdout_predictions()\n",
    "predict = predictions[0].as_data_frame(use_multi_thread=True)['predict']"
   ]
  },
  {
   "cell_type": "code",
   "execution_count": 82,
   "metadata": {},
   "outputs": [
    {
     "name": "stdout",
     "output_type": "stream",
     "text": [
      "Confusion Matrix:\n",
      " [[ 64  25]\n",
      " [  9 393]]\n"
     ]
    }
   ],
   "source": [
    "# Confusion matrix\n",
    "cm = confusion_matrix(actual, predict)\n",
    "print(\"Confusion Matrix:\\n\", cm)"
   ]
  },
  {
   "cell_type": "code",
   "execution_count": 83,
   "metadata": {},
   "outputs": [
    {
     "data": {
      "text/plain": [
       "np.float64(0.9307535641547862)"
      ]
     },
     "execution_count": 83,
     "metadata": {},
     "output_type": "execute_result"
    }
   ],
   "source": [
    "# Precisão\n",
    "cm.trace() / cm.sum()"
   ]
  },
  {
   "cell_type": "code",
   "execution_count": 84,
   "metadata": {},
   "outputs": [
    {
     "name": "stdout",
     "output_type": "stream",
     "text": [
      "Macro-Average Recall: 0.8484\n"
     ]
    }
   ],
   "source": [
    "recall_per_class = np.diag(cm) / np.sum(cm, axis=1)\n",
    "macro_average_recall = np.mean(recall_per_class)\n",
    "print(f\"Macro-Average Recall: {macro_average_recall:.4f}\")"
   ]
  },
  {
   "cell_type": "code",
   "execution_count": 85,
   "metadata": {},
   "outputs": [
    {
     "name": "stdout",
     "output_type": "stream",
     "text": [
      "\n",
      "F1 Score: 0.9280\n"
     ]
    }
   ],
   "source": [
    "# F1 score\n",
    "f1 = f1_score(actual, predict, average='weighted')\n",
    "print(f'\\nF1 Score: {f1:.4f}')"
   ]
  },
  {
   "cell_type": "markdown",
   "metadata": {},
   "source": [
    "# Avaliação no dataset de teste"
   ]
  },
  {
   "cell_type": "code",
   "execution_count": 86,
   "metadata": {},
   "outputs": [
    {
     "name": "stderr",
     "output_type": "stream",
     "text": [
      "/home/lucasmalheiros/Documents/Pesquisa Operacional/tcc-relax-and-fix/venv/lib/python3.12/site-packages/h2o/frame.py:1983: H2ODependencyWarning: Converting H2O frame to pandas dataframe using single-thread.  For faster conversion using multi-thread, install polars and pyarrow and use it as pandas_df = h2o_df.as_data_frame(use_multi_thread=True)\n",
      "\n",
      "  warnings.warn(\"Converting H2O frame to pandas dataframe using single-thread.  For faster conversion using\"\n"
     ]
    },
    {
     "name": "stdout",
     "output_type": "stream",
     "text": [
      "gbm prediction progress: |███████████████████████████████████████████████████████| (done) 100%\n"
     ]
    },
    {
     "name": "stderr",
     "output_type": "stream",
     "text": [
      "/home/lucasmalheiros/Documents/Pesquisa Operacional/tcc-relax-and-fix/venv/lib/python3.12/site-packages/h2o/frame.py:1983: H2ODependencyWarning: Converting H2O frame to pandas dataframe using single-thread.  For faster conversion using multi-thread, install polars and pyarrow and use it as pandas_df = h2o_df.as_data_frame(use_multi_thread=True)\n",
      "\n",
      "  warnings.warn(\"Converting H2O frame to pandas dataframe using single-thread.  For faster conversion using\"\n"
     ]
    }
   ],
   "source": [
    "# Previsões sobre teste\n",
    "actual_test = hf_test[target].as_data_frame(use_multi_thread=True)[target]\n",
    "predictions_test = model.predict(hf_test)\n",
    "predict_test = predictions_test[0].as_data_frame(use_multi_thread=True)['predict']"
   ]
  },
  {
   "cell_type": "code",
   "execution_count": 87,
   "metadata": {},
   "outputs": [
    {
     "name": "stdout",
     "output_type": "stream",
     "text": [
      "Confusion Matrix:\n",
      " [[ 7 10]\n",
      " [ 8 82]]\n"
     ]
    }
   ],
   "source": [
    "# Confusion matrix\n",
    "cm = confusion_matrix(actual_test, predict_test)\n",
    "print(\"Confusion Matrix:\\n\", cm)"
   ]
  },
  {
   "cell_type": "code",
   "execution_count": 88,
   "metadata": {},
   "outputs": [
    {
     "data": {
      "text/plain": [
       "np.float64(0.8317757009345794)"
      ]
     },
     "execution_count": 88,
     "metadata": {},
     "output_type": "execute_result"
    }
   ],
   "source": [
    "# Precisão\n",
    "cm.trace() / cm.sum()"
   ]
  },
  {
   "cell_type": "code",
   "execution_count": 89,
   "metadata": {},
   "outputs": [
    {
     "name": "stdout",
     "output_type": "stream",
     "text": [
      "\n",
      "F1 Score: 0.8274\n"
     ]
    }
   ],
   "source": [
    "# F1 score\n",
    "f1 = f1_score(actual_test, predict_test, average='weighted')\n",
    "print(f'\\nF1 Score: {f1:.4f}')"
   ]
  },
  {
   "cell_type": "code",
   "execution_count": 90,
   "metadata": {},
   "outputs": [],
   "source": [
    "# h2o.cluster().shutdown()"
   ]
  }
 ],
 "metadata": {
  "kernelspec": {
   "display_name": "venv",
   "language": "python",
   "name": "python3"
  },
  "language_info": {
   "codemirror_mode": {
    "name": "ipython",
    "version": 3
   },
   "file_extension": ".py",
   "mimetype": "text/x-python",
   "name": "python",
   "nbconvert_exporter": "python",
   "pygments_lexer": "ipython3",
   "version": "3.12.3"
  }
 },
 "nbformat": 4,
 "nbformat_minor": 4
}
