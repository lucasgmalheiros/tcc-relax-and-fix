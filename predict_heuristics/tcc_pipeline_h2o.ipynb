{
 "cells": [
  {
   "cell_type": "code",
   "execution_count": 574,
   "metadata": {},
   "outputs": [],
   "source": [
    "import pandas as pd\n",
    "import numpy as np\n",
    "import h2o\n",
    "from h2o.estimators import H2OGradientBoostingEstimator\n",
    "from h2o.estimators import H2OXGBoostEstimator\n",
    "from h2o.grid.grid_search import H2OGridSearch\n",
    "from sklearn.metrics import confusion_matrix, f1_score, precision_recall_curve, auc"
   ]
  },
  {
   "cell_type": "code",
   "execution_count": 575,
   "metadata": {},
   "outputs": [
    {
     "name": "stdout",
     "output_type": "stream",
     "text": [
      "Checking whether there is an H2O instance running at http://localhost:12345. connected.\n"
     ]
    },
    {
     "data": {
      "text/html": [
       "\n",
       "<style>\n",
       "\n",
       "#h2o-table-19.h2o-container {\n",
       "  overflow-x: auto;\n",
       "}\n",
       "#h2o-table-19 .h2o-table {\n",
       "  /* width: 100%; */\n",
       "  margin-top: 1em;\n",
       "  margin-bottom: 1em;\n",
       "}\n",
       "#h2o-table-19 .h2o-table caption {\n",
       "  white-space: nowrap;\n",
       "  caption-side: top;\n",
       "  text-align: left;\n",
       "  /* margin-left: 1em; */\n",
       "  margin: 0;\n",
       "  font-size: larger;\n",
       "}\n",
       "#h2o-table-19 .h2o-table thead {\n",
       "  white-space: nowrap; \n",
       "  position: sticky;\n",
       "  top: 0;\n",
       "  box-shadow: 0 -1px inset;\n",
       "}\n",
       "#h2o-table-19 .h2o-table tbody {\n",
       "  overflow: auto;\n",
       "}\n",
       "#h2o-table-19 .h2o-table th,\n",
       "#h2o-table-19 .h2o-table td {\n",
       "  text-align: right;\n",
       "  /* border: 1px solid; */\n",
       "}\n",
       "#h2o-table-19 .h2o-table tr:nth-child(even) {\n",
       "  /* background: #F5F5F5 */\n",
       "}\n",
       "\n",
       "</style>      \n",
       "<div id=\"h2o-table-19\" class=\"h2o-container\">\n",
       "  <table class=\"h2o-table\">\n",
       "    <caption></caption>\n",
       "    <thead></thead>\n",
       "    <tbody><tr><td>H2O_cluster_uptime:</td>\n",
       "<td>3 hours 25 mins</td></tr>\n",
       "<tr><td>H2O_cluster_timezone:</td>\n",
       "<td>America/Sao_Paulo</td></tr>\n",
       "<tr><td>H2O_data_parsing_timezone:</td>\n",
       "<td>UTC</td></tr>\n",
       "<tr><td>H2O_cluster_version:</td>\n",
       "<td>3.46.0.6</td></tr>\n",
       "<tr><td>H2O_cluster_version_age:</td>\n",
       "<td>1 month and 13 days</td></tr>\n",
       "<tr><td>H2O_cluster_name:</td>\n",
       "<td>H2O_from_python_lucasmalheiros_ikp0js</td></tr>\n",
       "<tr><td>H2O_cluster_total_nodes:</td>\n",
       "<td>1</td></tr>\n",
       "<tr><td>H2O_cluster_free_memory:</td>\n",
       "<td>1.655 Gb</td></tr>\n",
       "<tr><td>H2O_cluster_total_cores:</td>\n",
       "<td>8</td></tr>\n",
       "<tr><td>H2O_cluster_allowed_cores:</td>\n",
       "<td>8</td></tr>\n",
       "<tr><td>H2O_cluster_status:</td>\n",
       "<td>locked, healthy</td></tr>\n",
       "<tr><td>H2O_connection_url:</td>\n",
       "<td>http://localhost:12345</td></tr>\n",
       "<tr><td>H2O_connection_proxy:</td>\n",
       "<td>{\"http\": null, \"https\": null}</td></tr>\n",
       "<tr><td>H2O_internal_security:</td>\n",
       "<td>False</td></tr>\n",
       "<tr><td>Python_version:</td>\n",
       "<td>3.12.3 final</td></tr></tbody>\n",
       "  </table>\n",
       "</div>\n"
      ],
      "text/plain": [
       "--------------------------  -------------------------------------\n",
       "H2O_cluster_uptime:         3 hours 25 mins\n",
       "H2O_cluster_timezone:       America/Sao_Paulo\n",
       "H2O_data_parsing_timezone:  UTC\n",
       "H2O_cluster_version:        3.46.0.6\n",
       "H2O_cluster_version_age:    1 month and 13 days\n",
       "H2O_cluster_name:           H2O_from_python_lucasmalheiros_ikp0js\n",
       "H2O_cluster_total_nodes:    1\n",
       "H2O_cluster_free_memory:    1.655 Gb\n",
       "H2O_cluster_total_cores:    8\n",
       "H2O_cluster_allowed_cores:  8\n",
       "H2O_cluster_status:         locked, healthy\n",
       "H2O_connection_url:         http://localhost:12345\n",
       "H2O_connection_proxy:       {\"http\": null, \"https\": null}\n",
       "H2O_internal_security:      False\n",
       "Python_version:             3.12.3 final\n",
       "--------------------------  -------------------------------------"
      ]
     },
     "metadata": {},
     "output_type": "display_data"
    }
   ],
   "source": [
    "h2o.init(port=12345)"
   ]
  },
  {
   "cell_type": "code",
   "execution_count": 576,
   "metadata": {},
   "outputs": [],
   "source": [
    "def convert_to_h2o_frame(data: pd.DataFrame) -> h2o.H2OFrame:\n",
    "    \"\"\"Converte um pd.DataFrame em um h2o.H2OFrame\"\"\"\n",
    "    print('Performing conversion from pd.DataFrame to h2o.H2OFrame...')\n",
    "    # Colunas de datas\n",
    "    cols_to_date = [col for col in data.dtypes[data.dtypes == 'datetime64[ns]'].index]\n",
    "    # Colunas a converter para categórica\n",
    "    cols_to_factor = [col for col in data.dtypes[(data.dtypes == 'object') | (data.dtypes == 'category')].index]\n",
    "    # Colunas a converter a numeric\n",
    "    cols_numerics = [col for col in data.dtypes[(data.dtypes != 'object') & (data.dtypes != 'category') & (data.dtypes != 'datetime64[ns]')].index]\n",
    "    # Adicionar os tipos de colunas ao dicionário col_dtypes\n",
    "    col_dtypes = {}\n",
    "    for col in cols_to_date:\n",
    "        col_dtypes[col] = 'time'\n",
    "    for col in cols_to_factor:\n",
    "        col_dtypes[col] = 'enum'\n",
    "    for col in cols_numerics:\n",
    "        col_dtypes[col] = 'numeric'\n",
    "    # Converte a h2o\n",
    "    data = h2o.H2OFrame(data, column_types=col_dtypes, na_strings=['NA', 'none', 'None', 'nan', 'NaN', '<NA>'])\n",
    "    print('Successful conversion from pd.DataFrame to h2o.H2OFrame.')\n",
    "    return data"
   ]
  },
  {
   "cell_type": "markdown",
   "metadata": {},
   "source": [
    "# Data preparation"
   ]
  },
  {
   "cell_type": "code",
   "execution_count": 577,
   "metadata": {},
   "outputs": [],
   "source": [
    "# Resultados\n",
    "df_resultados = pd.read_csv('resultados_instancias_tcc.csv')\n",
    "df_resultados = df_resultados[['Instancias'] + [col for col in df_resultados.columns if col.startswith('Obj_') or col.startswith('Time_')]]\n",
    "df_resultados = df_resultados[df_resultados['Obj_RF_T_0'] != np.inf]  # Remove infactíveis"
   ]
  },
  {
   "cell_type": "code",
   "execution_count": 578,
   "metadata": {},
   "outputs": [],
   "source": [
    "# Features criadas de create_features_dataset.py\n",
    "df_features = pd.read_csv('multi_plant_instance_features.csv')"
   ]
  },
  {
   "cell_type": "code",
   "execution_count": 579,
   "metadata": {},
   "outputs": [],
   "source": [
    "drop_features = [\n",
    "    'min_production_time',\n",
    "    'max_production_time',\n",
    "    'skew_production_time',\n",
    "    'kurt_production_time',\n",
    "    'iqr_production_time',\n",
    "    'min_production_cost',\n",
    "    'max_production_cost',\n",
    "    'std_production_cost',\n",
    "    'p25_production_cost',\n",
    "    'p50_production_cost',\n",
    "    'p75_production_cost',\n",
    "    'p75_setup_cost',\n",
    "    'max_transportation_cost',\n",
    "    'total_inventory_cost',\n",
    "    'avg_inventory_cost',\n",
    "    'skew_inventory_cost',\n",
    "    'p25_inventory_cost',\n",
    "    'p75_inventory_cost',\n",
    "    'iqr_inventory_cost',\n",
    "    'total_cost_to_demand_ratio',\n",
    "    'max_demand', \n",
    "    'num_periods', \n",
    "    'min_inventory_cost', \n",
    "    'min_transportation_cost', \n",
    "    'max_inventory_cost', \n",
    "    'p50_inventory_cost',\n",
    "    'avg_demand',\n",
    "    'skew_demand',\n",
    "    'cv_demand',\n",
    "    'p50_demand',\n",
    "    'iqr_demand',\n",
    "    'avg_production_time',\n",
    "    'std_production_time',\n",
    "    'cv_production_time',\n",
    "    'p50_production_time',\n",
    "    'max_setup_time',\n",
    "    'std_setup_time',\n",
    "    'cv_setup_time',\n",
    "    'iqr_setup_time',\n",
    "    'skew_production_cost',\n",
    "    'iqr_production_cost',\n",
    "    'skew_setup_cost',\n",
    "    'total_transportation_cost',\n",
    "    'kurt_transportation_cost',\n",
    "    'cv_transportation_cost',\n",
    "    'kurt_inventory_cost',\n",
    "    'cv_inventory_cost',\n",
    "    'binary_vars',\n",
    "    'avg_setup_time',\n",
    "    'min_setup_time',\n",
    "    'kurt_capacity',\n",
    "    'total_demand',\n",
    "    'total_setup_time',\n",
    "    'iqr_transportation_cost',\n",
    "    'iqr_setup_cost',\n",
    "    'p75_setup_time',\n",
    "    'setup_to_production_cost_ratio',\n",
    "    'p25_demand',\n",
    "    'num_products',\n",
    "    'num_plants',\n",
    "    'min_demand',\n",
    "    'p25_production_time',\n",
    "    'avg_setup_cost',\n",
    "    'max_setup_cost',\n",
    "    'p25_transportation_cost',\n",
    "    'avg_utilization',\n",
    "    'p75_demand',\n",
    "    'kurt_setup_cost',\n",
    "    'p75_utilization',\n",
    "    'p75_capacity',\n",
    "    'skew_setup_time',\n",
    "    'iqr_utilization',\n",
    "    'skew_utilization',\n",
    "    'cv_capacity',\n",
    "    'cv_utilization',\n",
    "    'avg_production_cost',\n",
    "    'total_production_time',\n",
    "    'p75_transportation_cost',\n",
    "    'kurt_utilization',\n",
    "    'kurt_demand',\n",
    "    'p50_setup_time',\n",
    "    'p25_setup_time',\n",
    "    'kurt_production_cost',\n",
    "    'p75_production_time',\n",
    "    'cv_production_cost',\n",
    "    'p50_setup_cost',\n",
    "    # LAST 20\n",
    "    'std_demand',\n",
    "    'demand_to_capacity_ratio',\n",
    "    'p50_transportation_cost',\n",
    "    'skew_capacity',\n",
    "    'capacity_utilization_efficiency',\n",
    "    'cv_setup_cost',\n",
    "    'time_per_unit_of_cost',\n",
    "    'avg_transportation_cost',\n",
    "    'iqr_capacity',\n",
    "    'avg_demand_to_setup_cost_ratio',\n",
    "    'p50_utilization',\n",
    "    'std_setup_cost',\n",
    "    'p25_utilization',\n",
    "    'avg_capacity',\n",
    "    'std_capacity',\n",
    "    'total_production_cost',\n",
    "    'min_setup_cost',\n",
    "    'kurt_setup_time',\n",
    "    'std_transportation_cost',\n",
    "    'setup_to_production_time_ratio',\n",
    " ]\n",
    "\n",
    "df_features = df_features.drop(columns=drop_features)"
   ]
  },
  {
   "cell_type": "code",
   "execution_count": 580,
   "metadata": {},
   "outputs": [],
   "source": [
    "df = df_features.merge(df_resultados, left_on='instance', right_on='Instancias', how='inner').drop(columns=['Instancias', 'instance'])"
   ]
  },
  {
   "cell_type": "code",
   "execution_count": 581,
   "metadata": {},
   "outputs": [
    {
     "data": {
      "text/html": [
       "<div>\n",
       "<style scoped>\n",
       "    .dataframe tbody tr th:only-of-type {\n",
       "        vertical-align: middle;\n",
       "    }\n",
       "\n",
       "    .dataframe tbody tr th {\n",
       "        vertical-align: top;\n",
       "    }\n",
       "\n",
       "    .dataframe thead th {\n",
       "        text-align: right;\n",
       "    }\n",
       "</style>\n",
       "<table border=\"1\" class=\"dataframe\">\n",
       "  <thead>\n",
       "    <tr style=\"text-align: right;\">\n",
       "      <th></th>\n",
       "      <th>total_capacity</th>\n",
       "      <th>min_capacity</th>\n",
       "      <th>max_capacity</th>\n",
       "      <th>p25_capacity</th>\n",
       "      <th>p50_capacity</th>\n",
       "      <th>total_setup_cost</th>\n",
       "      <th>p25_setup_cost</th>\n",
       "      <th>skew_transportation_cost</th>\n",
       "      <th>std_inventory_cost</th>\n",
       "      <th>total_utilization</th>\n",
       "      <th>...</th>\n",
       "      <th>Obj_RF_6_2</th>\n",
       "      <th>Time_RF_6_2</th>\n",
       "      <th>Obj_RF_6_3</th>\n",
       "      <th>Time_RF_6_3</th>\n",
       "      <th>Obj_RF_6_4</th>\n",
       "      <th>Time_RF_6_4</th>\n",
       "      <th>Obj_RF_6_5</th>\n",
       "      <th>Time_RF_6_5</th>\n",
       "      <th>Obj_RF_T_0</th>\n",
       "      <th>Time_RF_T_0</th>\n",
       "    </tr>\n",
       "  </thead>\n",
       "  <tbody>\n",
       "    <tr>\n",
       "      <th>0</th>\n",
       "      <td>954348</td>\n",
       "      <td>39004</td>\n",
       "      <td>40525</td>\n",
       "      <td>39004.0</td>\n",
       "      <td>39764.5</td>\n",
       "      <td>125632.4</td>\n",
       "      <td>284.525</td>\n",
       "      <td>0.000000</td>\n",
       "      <td>0.072714</td>\n",
       "      <td>24.002836</td>\n",
       "      <td>...</td>\n",
       "      <td>810455.47</td>\n",
       "      <td>1202.5</td>\n",
       "      <td>NaN</td>\n",
       "      <td>NaN</td>\n",
       "      <td>NaN</td>\n",
       "      <td>NaN</td>\n",
       "      <td>NaN</td>\n",
       "      <td>NaN</td>\n",
       "      <td>809910.65</td>\n",
       "      <td>1800.1</td>\n",
       "    </tr>\n",
       "    <tr>\n",
       "      <th>1</th>\n",
       "      <td>4553988</td>\n",
       "      <td>17561</td>\n",
       "      <td>20483</td>\n",
       "      <td>18568.5</td>\n",
       "      <td>18889.0</td>\n",
       "      <td>58316.7</td>\n",
       "      <td>25.575</td>\n",
       "      <td>-1.682507</td>\n",
       "      <td>0.071177</td>\n",
       "      <td>240.036883</td>\n",
       "      <td>...</td>\n",
       "      <td>2404144.93</td>\n",
       "      <td>1320.7</td>\n",
       "      <td>NaN</td>\n",
       "      <td>NaN</td>\n",
       "      <td>NaN</td>\n",
       "      <td>NaN</td>\n",
       "      <td>NaN</td>\n",
       "      <td>NaN</td>\n",
       "      <td>2404240.72</td>\n",
       "      <td>952.5</td>\n",
       "    </tr>\n",
       "    <tr>\n",
       "      <th>2</th>\n",
       "      <td>2580192</td>\n",
       "      <td>34731</td>\n",
       "      <td>36564</td>\n",
       "      <td>35633.0</td>\n",
       "      <td>35941.0</td>\n",
       "      <td>359891.7</td>\n",
       "      <td>269.725</td>\n",
       "      <td>-1.215962</td>\n",
       "      <td>0.072546</td>\n",
       "      <td>71.965132</td>\n",
       "      <td>...</td>\n",
       "      <td>1976005.90</td>\n",
       "      <td>1800.7</td>\n",
       "      <td>NaN</td>\n",
       "      <td>NaN</td>\n",
       "      <td>NaN</td>\n",
       "      <td>NaN</td>\n",
       "      <td>NaN</td>\n",
       "      <td>NaN</td>\n",
       "      <td>2106419.81</td>\n",
       "      <td>1800.2</td>\n",
       "    </tr>\n",
       "  </tbody>\n",
       "</table>\n",
       "<p>3 rows × 49 columns</p>\n",
       "</div>"
      ],
      "text/plain": [
       "   total_capacity  min_capacity  max_capacity  p25_capacity  p50_capacity  \\\n",
       "0          954348         39004         40525       39004.0       39764.5   \n",
       "1         4553988         17561         20483       18568.5       18889.0   \n",
       "2         2580192         34731         36564       35633.0       35941.0   \n",
       "\n",
       "   total_setup_cost  p25_setup_cost  skew_transportation_cost  \\\n",
       "0          125632.4         284.525                  0.000000   \n",
       "1           58316.7          25.575                 -1.682507   \n",
       "2          359891.7         269.725                 -1.215962   \n",
       "\n",
       "   std_inventory_cost  total_utilization  ...  Obj_RF_6_2  Time_RF_6_2  \\\n",
       "0            0.072714          24.002836  ...   810455.47       1202.5   \n",
       "1            0.071177         240.036883  ...  2404144.93       1320.7   \n",
       "2            0.072546          71.965132  ...  1976005.90       1800.7   \n",
       "\n",
       "   Obj_RF_6_3  Time_RF_6_3  Obj_RF_6_4  Time_RF_6_4  Obj_RF_6_5  Time_RF_6_5  \\\n",
       "0         NaN          NaN         NaN          NaN         NaN          NaN   \n",
       "1         NaN          NaN         NaN          NaN         NaN          NaN   \n",
       "2         NaN          NaN         NaN          NaN         NaN          NaN   \n",
       "\n",
       "   Obj_RF_T_0  Time_RF_T_0  \n",
       "0   809910.65       1800.1  \n",
       "1  2404240.72        952.5  \n",
       "2  2106419.81       1800.2  \n",
       "\n",
       "[3 rows x 49 columns]"
      ]
     },
     "execution_count": 581,
     "metadata": {},
     "output_type": "execute_result"
    }
   ],
   "source": [
    "df.head(3)"
   ]
  },
  {
   "cell_type": "markdown",
   "metadata": {},
   "source": [
    "# Construção de targets"
   ]
  },
  {
   "cell_type": "code",
   "execution_count": 582,
   "metadata": {},
   "outputs": [],
   "source": [
    "obj_columns = [col for col in df.columns if col.startswith('Obj_')]\n",
    "time_columns = [col for col in df.columns if col.startswith('Time_')]"
   ]
  },
  {
   "cell_type": "markdown",
   "metadata": {},
   "source": [
    "## Target em função objetivo (BEST)"
   ]
  },
  {
   "cell_type": "code",
   "execution_count": 583,
   "metadata": {},
   "outputs": [],
   "source": [
    "# Seleciona para cada instância o método com menor função objetivo para a coluna BEST\n",
    "df['BEST'] = df[obj_columns].idxmin(axis=1)\n",
    "df['BEST'] = df['BEST'].str.replace('Obj_', '')"
   ]
  },
  {
   "cell_type": "code",
   "execution_count": 584,
   "metadata": {},
   "outputs": [
    {
     "data": {
      "text/plain": [
       "BEST\n",
       "RF_T_0    190\n",
       "RF_2_0     50\n",
       "RF_1_0     47\n",
       "RF_6_0     42\n",
       "RF_3_1     40\n",
       "RF_4_2     34\n",
       "RF_3_0     31\n",
       "RF_6_2     29\n",
       "RF_4_1     29\n",
       "RF_2_1     29\n",
       "RF_6_1     23\n",
       "RF_3_2     21\n",
       "RF_4_3     17\n",
       "RF_4_0     16\n",
       "Name: count, dtype: int64"
      ]
     },
     "execution_count": 584,
     "metadata": {},
     "output_type": "execute_result"
    }
   ],
   "source": [
    "df['BEST'].value_counts()"
   ]
  },
  {
   "cell_type": "markdown",
   "metadata": {},
   "source": [
    "## Target com compromisso de tempo (BEST_TIME)"
   ]
  },
  {
   "cell_type": "code",
   "execution_count": 585,
   "metadata": {},
   "outputs": [],
   "source": [
    "for obj_col, time_col in zip(obj_columns, time_columns):\n",
    "    df[f'Adjusted_{obj_col}'] = (\n",
    "        df[obj_col] * np.maximum(np.log(df[time_col]) / np.log(1000), 1)\n",
    "    )\n",
    "adjusted_columns = [col for col in df.columns if col.startswith('Adjusted_')]"
   ]
  },
  {
   "cell_type": "code",
   "execution_count": 586,
   "metadata": {},
   "outputs": [],
   "source": [
    "# Seleciona para cada instância o método com menor função objetivo para a coluna BEST\n",
    "df['BEST_TIME'] = df[adjusted_columns].idxmin(axis=1)\n",
    "df['BEST_TIME'] = df['BEST_TIME'].str.replace('Adjusted_Obj_', '')"
   ]
  },
  {
   "cell_type": "code",
   "execution_count": 587,
   "metadata": {},
   "outputs": [
    {
     "data": {
      "text/plain": [
       "BEST_TIME\n",
       "RF_1_0    111\n",
       "RF_T_0    106\n",
       "RF_2_0     57\n",
       "RF_6_0     41\n",
       "RF_6_2     39\n",
       "RF_4_2     35\n",
       "RF_4_3     31\n",
       "RF_2_1     31\n",
       "RF_3_1     29\n",
       "RF_3_2     28\n",
       "RF_6_1     28\n",
       "RF_3_0     26\n",
       "RF_4_1     20\n",
       "RF_4_0     16\n",
       "Name: count, dtype: int64"
      ]
     },
     "execution_count": 587,
     "metadata": {},
     "output_type": "execute_result"
    }
   ],
   "source": [
    "df['BEST_TIME'].value_counts()"
   ]
  },
  {
   "cell_type": "markdown",
   "metadata": {},
   "source": [
    "# Preprocessamento de dados"
   ]
  },
  {
   "cell_type": "markdown",
   "metadata": {},
   "source": [
    "## Drop Obj_ e Time_"
   ]
  },
  {
   "cell_type": "code",
   "execution_count": 588,
   "metadata": {},
   "outputs": [],
   "source": [
    "df = df.drop(columns=obj_columns + time_columns + adjusted_columns)"
   ]
  },
  {
   "cell_type": "code",
   "execution_count": 589,
   "metadata": {},
   "outputs": [],
   "source": [
    "# Embaralhar dataset\n",
    "df = df.sample(frac=1)"
   ]
  },
  {
   "cell_type": "code",
   "execution_count": 590,
   "metadata": {},
   "outputs": [],
   "source": [
    "# Transformar em classificação binária\n",
    "df['BEST'] = df['BEST'].apply(lambda x: 'Gurobi' if x == 'RF_T_0' else 'RF')\n",
    "df['BEST_TIME'] = df['BEST_TIME'].apply(lambda x: 'Gurobi' if x == 'RF_T_0' else 'RF')"
   ]
  },
  {
   "cell_type": "markdown",
   "metadata": {},
   "source": [
    "## Convert para H2O frame"
   ]
  },
  {
   "cell_type": "code",
   "execution_count": 591,
   "metadata": {},
   "outputs": [
    {
     "name": "stdout",
     "output_type": "stream",
     "text": [
      "Performing conversion from pd.DataFrame to h2o.H2OFrame...\n",
      "Parse progress: |████████████████████████████████████████████████████████████████| (done) 100%\n",
      "Successful conversion from pd.DataFrame to h2o.H2OFrame.\n"
     ]
    }
   ],
   "source": [
    "# Conversão para H2O frame\n",
    "hf = convert_to_h2o_frame(df)"
   ]
  },
  {
   "cell_type": "code",
   "execution_count": 592,
   "metadata": {},
   "outputs": [],
   "source": [
    "# Train test split\n",
    "hf_train, hf_test = hf.split_frame(ratios=[.8], seed=2112)"
   ]
  },
  {
   "cell_type": "markdown",
   "metadata": {},
   "source": [
    "# Treino (GBM)"
   ]
  },
  {
   "cell_type": "code",
   "execution_count": 593,
   "metadata": {},
   "outputs": [],
   "source": [
    "target = 'BEST_TIME'\n",
    "predictors = [c for c in hf_train.columns if c not in ['BEST', 'BEST_TIME']]"
   ]
  },
  {
   "cell_type": "code",
   "execution_count": 594,
   "metadata": {},
   "outputs": [],
   "source": [
    "gbm_model = H2OGradientBoostingEstimator(\n",
    "    nfolds=20,\n",
    "    keep_cross_validation_predictions=True,\n",
    "    seed=2112,\n",
    "    stopping_rounds=10,\n",
    "    stopping_metric=\"AUTO\",\n",
    "    stopping_tolerance=0.001,\n",
    "    balance_classes=False\n",
    ")"
   ]
  },
  {
   "cell_type": "code",
   "execution_count": 595,
   "metadata": {},
   "outputs": [],
   "source": [
    "xgboost_model = H2OXGBoostEstimator(booster='dart',\n",
    "                                    normalize_type=\"tree\",\n",
    "                                    seed=2112,\n",
    "                                    nfolds=10,\n",
    "                                    keep_cross_validation_predictions=True)"
   ]
  },
  {
   "cell_type": "code",
   "execution_count": 596,
   "metadata": {},
   "outputs": [],
   "source": [
    "# Hiper Parâmetros\n",
    "hyper_params = {\n",
    "    \"learn_rate\": list(\n",
    "        np.round(np.arange(0.01, 0.1, 0.01), 3)\n",
    "    ),  # Narrowed range for learning rate list(np.round(np.arange(0.05, 0.3, 0.05), 3)),\n",
    "    \"max_depth\": list(\n",
    "        np.arange(5, 10, 1)\n",
    "    ),  # Reduced maximum depth list(np.arange(5, 15, 1)),\n",
    "    \"ntrees\": list(\n",
    "        np.arange(50, 150, 20)\n",
    "    ),  # Increased number of trees list(np.arange(20, 70, 10)),\n",
    "    \"sample_rate\": list(\n",
    "        np.round(np.arange(0.5, 0.9, 0.1), 3)\n",
    "    ),  # Adjusted sample rate range list(np.round(np.arange(0.5, 1.0, 0.1), 3)),\n",
    "    \"col_sample_rate\": list(\n",
    "        np.round(np.arange(0.5, 1.0, 0.1), 3)\n",
    "    ),  # Slightly adjusted col sample rate range list(np.round(np.arange(0.3, 1.0, 0.1), 3)),\n",
    "}\n",
    "# Tipo de pesquisa da grid. Em caso de RandomDiscrete, corre até max_models(n modelos)\n",
    "search_criteria = {\n",
    "    \"strategy\": \"RandomDiscrete\",\n",
    "    \"max_models\": 10,\n",
    "    # \"max_runtime_secs\": 180,\n",
    "    \"seed\": 1\n",
    "}"
   ]
  },
  {
   "cell_type": "code",
   "execution_count": 597,
   "metadata": {},
   "outputs": [],
   "source": [
    "# # Construir grid com parâmetros e critérios de procura de melhor modelo\n",
    "# grid = H2OGridSearch(model=gbm_model, \n",
    "#                      search_criteria=search_criteria, \n",
    "#                      hyper_params=hyper_params)\n",
    "# # Treinar grid\n",
    "# grid.train(x=predictors, y=target, training_frame=hf_train)"
   ]
  },
  {
   "cell_type": "code",
   "execution_count": 598,
   "metadata": {},
   "outputs": [],
   "source": [
    "# gbm_grid = grid.get_grid(sort_by=\"rmse\", decreasing=False)\n",
    "# model = gbm_grid.models[0]"
   ]
  },
  {
   "cell_type": "code",
   "execution_count": 599,
   "metadata": {},
   "outputs": [
    {
     "name": "stdout",
     "output_type": "stream",
     "text": [
      "gbm Model Build progress: |"
     ]
    },
    {
     "name": "stderr",
     "output_type": "stream",
     "text": [
      "/home/lucasmalheiros/Documents/Pesquisa Operacional/tcc-relax-and-fix/venv/lib/python3.12/site-packages/h2o/estimators/estimator_base.py:192: RuntimeWarning: early stopping is enabled but neither score_tree_interval or score_each_iteration are defined. Early stopping will not be reproducible!\n",
      "  warnings.warn(mesg[\"message\"], RuntimeWarning)\n"
     ]
    },
    {
     "name": "stdout",
     "output_type": "stream",
     "text": [
      "██████████████████████████████████████████████████████| (done) 100%\n"
     ]
    }
   ],
   "source": [
    "model = gbm_model\n",
    "model.train(x=predictors, y=target, training_frame=hf_train);"
   ]
  },
  {
   "cell_type": "markdown",
   "metadata": {},
   "source": [
    "# Avaliação das métricas de treino"
   ]
  },
  {
   "cell_type": "code",
   "execution_count": 600,
   "metadata": {},
   "outputs": [
    {
     "data": {
      "text/html": [
       "<div>\n",
       "<style scoped>\n",
       "    .dataframe tbody tr th:only-of-type {\n",
       "        vertical-align: middle;\n",
       "    }\n",
       "\n",
       "    .dataframe tbody tr th {\n",
       "        vertical-align: top;\n",
       "    }\n",
       "\n",
       "    .dataframe thead th {\n",
       "        text-align: right;\n",
       "    }\n",
       "</style>\n",
       "<table border=\"1\" class=\"dataframe\">\n",
       "  <thead>\n",
       "    <tr style=\"text-align: right;\">\n",
       "      <th></th>\n",
       "      <th>variable</th>\n",
       "      <th>relative_importance</th>\n",
       "      <th>scaled_importance</th>\n",
       "      <th>percentage</th>\n",
       "    </tr>\n",
       "  </thead>\n",
       "  <tbody>\n",
       "    <tr>\n",
       "      <th>0</th>\n",
       "      <td>total_utilization</td>\n",
       "      <td>86.193016</td>\n",
       "      <td>1.000000</td>\n",
       "      <td>0.285162</td>\n",
       "    </tr>\n",
       "    <tr>\n",
       "      <th>1</th>\n",
       "      <td>p25_setup_cost</td>\n",
       "      <td>54.376366</td>\n",
       "      <td>0.630867</td>\n",
       "      <td>0.179900</td>\n",
       "    </tr>\n",
       "    <tr>\n",
       "      <th>2</th>\n",
       "      <td>max_utilization</td>\n",
       "      <td>42.055149</td>\n",
       "      <td>0.487918</td>\n",
       "      <td>0.139136</td>\n",
       "    </tr>\n",
       "    <tr>\n",
       "      <th>3</th>\n",
       "      <td>min_utilization</td>\n",
       "      <td>20.585314</td>\n",
       "      <td>0.238828</td>\n",
       "      <td>0.068105</td>\n",
       "    </tr>\n",
       "    <tr>\n",
       "      <th>4</th>\n",
       "      <td>total_capacity</td>\n",
       "      <td>20.018642</td>\n",
       "      <td>0.232254</td>\n",
       "      <td>0.066230</td>\n",
       "    </tr>\n",
       "    <tr>\n",
       "      <th>5</th>\n",
       "      <td>min_capacity</td>\n",
       "      <td>19.842421</td>\n",
       "      <td>0.230209</td>\n",
       "      <td>0.065647</td>\n",
       "    </tr>\n",
       "    <tr>\n",
       "      <th>6</th>\n",
       "      <td>total_setup_cost</td>\n",
       "      <td>17.806467</td>\n",
       "      <td>0.206588</td>\n",
       "      <td>0.058911</td>\n",
       "    </tr>\n",
       "    <tr>\n",
       "      <th>7</th>\n",
       "      <td>std_utilization</td>\n",
       "      <td>14.286460</td>\n",
       "      <td>0.165750</td>\n",
       "      <td>0.047266</td>\n",
       "    </tr>\n",
       "    <tr>\n",
       "      <th>8</th>\n",
       "      <td>std_inventory_cost</td>\n",
       "      <td>6.192740</td>\n",
       "      <td>0.071847</td>\n",
       "      <td>0.020488</td>\n",
       "    </tr>\n",
       "    <tr>\n",
       "      <th>9</th>\n",
       "      <td>max_capacity</td>\n",
       "      <td>5.777295</td>\n",
       "      <td>0.067027</td>\n",
       "      <td>0.019114</td>\n",
       "    </tr>\n",
       "    <tr>\n",
       "      <th>10</th>\n",
       "      <td>skew_transportation_cost</td>\n",
       "      <td>4.582550</td>\n",
       "      <td>0.053166</td>\n",
       "      <td>0.015161</td>\n",
       "    </tr>\n",
       "    <tr>\n",
       "      <th>11</th>\n",
       "      <td>p50_capacity</td>\n",
       "      <td>3.466222</td>\n",
       "      <td>0.040215</td>\n",
       "      <td>0.011468</td>\n",
       "    </tr>\n",
       "    <tr>\n",
       "      <th>12</th>\n",
       "      <td>p25_capacity</td>\n",
       "      <td>2.729897</td>\n",
       "      <td>0.031672</td>\n",
       "      <td>0.009032</td>\n",
       "    </tr>\n",
       "    <tr>\n",
       "      <th>13</th>\n",
       "      <td>demand_to_cost_interaction</td>\n",
       "      <td>2.289727</td>\n",
       "      <td>0.026565</td>\n",
       "      <td>0.007575</td>\n",
       "    </tr>\n",
       "    <tr>\n",
       "      <th>14</th>\n",
       "      <td>demand_to_capacity_interaction</td>\n",
       "      <td>2.057175</td>\n",
       "      <td>0.023867</td>\n",
       "      <td>0.006806</td>\n",
       "    </tr>\n",
       "  </tbody>\n",
       "</table>\n",
       "</div>"
      ],
      "text/plain": [
       "                          variable  relative_importance  scaled_importance  \\\n",
       "0                total_utilization            86.193016           1.000000   \n",
       "1                   p25_setup_cost            54.376366           0.630867   \n",
       "2                  max_utilization            42.055149           0.487918   \n",
       "3                  min_utilization            20.585314           0.238828   \n",
       "4                   total_capacity            20.018642           0.232254   \n",
       "5                     min_capacity            19.842421           0.230209   \n",
       "6                 total_setup_cost            17.806467           0.206588   \n",
       "7                  std_utilization            14.286460           0.165750   \n",
       "8               std_inventory_cost             6.192740           0.071847   \n",
       "9                     max_capacity             5.777295           0.067027   \n",
       "10        skew_transportation_cost             4.582550           0.053166   \n",
       "11                    p50_capacity             3.466222           0.040215   \n",
       "12                    p25_capacity             2.729897           0.031672   \n",
       "13      demand_to_cost_interaction             2.289727           0.026565   \n",
       "14  demand_to_capacity_interaction             2.057175           0.023867   \n",
       "\n",
       "    percentage  \n",
       "0     0.285162  \n",
       "1     0.179900  \n",
       "2     0.139136  \n",
       "3     0.068105  \n",
       "4     0.066230  \n",
       "5     0.065647  \n",
       "6     0.058911  \n",
       "7     0.047266  \n",
       "8     0.020488  \n",
       "9     0.019114  \n",
       "10    0.015161  \n",
       "11    0.011468  \n",
       "12    0.009032  \n",
       "13    0.007575  \n",
       "14    0.006806  "
      ]
     },
     "execution_count": 600,
     "metadata": {},
     "output_type": "execute_result"
    }
   ],
   "source": [
    "# Variáveis mais importantes na escolha\n",
    "importancia_var = model.varimp(use_pandas=True)\n",
    "importancia_var"
   ]
  },
  {
   "cell_type": "code",
   "execution_count": 601,
   "metadata": {},
   "outputs": [
    {
     "data": {
      "text/html": [
       "<div>\n",
       "<style scoped>\n",
       "    .dataframe tbody tr th:only-of-type {\n",
       "        vertical-align: middle;\n",
       "    }\n",
       "\n",
       "    .dataframe tbody tr th {\n",
       "        vertical-align: top;\n",
       "    }\n",
       "\n",
       "    .dataframe thead th {\n",
       "        text-align: right;\n",
       "    }\n",
       "</style>\n",
       "<table border=\"1\" class=\"dataframe\">\n",
       "  <thead>\n",
       "    <tr style=\"text-align: right;\">\n",
       "      <th></th>\n",
       "      <th>variable</th>\n",
       "      <th>relative_importance</th>\n",
       "      <th>scaled_importance</th>\n",
       "      <th>percentage</th>\n",
       "    </tr>\n",
       "  </thead>\n",
       "  <tbody>\n",
       "    <tr>\n",
       "      <th>0</th>\n",
       "      <td>total_utilization</td>\n",
       "      <td>86.193016</td>\n",
       "      <td>1.000000</td>\n",
       "      <td>0.285162</td>\n",
       "    </tr>\n",
       "    <tr>\n",
       "      <th>1</th>\n",
       "      <td>p25_setup_cost</td>\n",
       "      <td>54.376366</td>\n",
       "      <td>0.630867</td>\n",
       "      <td>0.179900</td>\n",
       "    </tr>\n",
       "    <tr>\n",
       "      <th>2</th>\n",
       "      <td>max_utilization</td>\n",
       "      <td>42.055149</td>\n",
       "      <td>0.487918</td>\n",
       "      <td>0.139136</td>\n",
       "    </tr>\n",
       "    <tr>\n",
       "      <th>3</th>\n",
       "      <td>min_utilization</td>\n",
       "      <td>20.585314</td>\n",
       "      <td>0.238828</td>\n",
       "      <td>0.068105</td>\n",
       "    </tr>\n",
       "    <tr>\n",
       "      <th>4</th>\n",
       "      <td>total_capacity</td>\n",
       "      <td>20.018642</td>\n",
       "      <td>0.232254</td>\n",
       "      <td>0.066230</td>\n",
       "    </tr>\n",
       "    <tr>\n",
       "      <th>5</th>\n",
       "      <td>min_capacity</td>\n",
       "      <td>19.842421</td>\n",
       "      <td>0.230209</td>\n",
       "      <td>0.065647</td>\n",
       "    </tr>\n",
       "    <tr>\n",
       "      <th>6</th>\n",
       "      <td>total_setup_cost</td>\n",
       "      <td>17.806467</td>\n",
       "      <td>0.206588</td>\n",
       "      <td>0.058911</td>\n",
       "    </tr>\n",
       "    <tr>\n",
       "      <th>7</th>\n",
       "      <td>std_utilization</td>\n",
       "      <td>14.286460</td>\n",
       "      <td>0.165750</td>\n",
       "      <td>0.047266</td>\n",
       "    </tr>\n",
       "    <tr>\n",
       "      <th>8</th>\n",
       "      <td>std_inventory_cost</td>\n",
       "      <td>6.192740</td>\n",
       "      <td>0.071847</td>\n",
       "      <td>0.020488</td>\n",
       "    </tr>\n",
       "    <tr>\n",
       "      <th>9</th>\n",
       "      <td>max_capacity</td>\n",
       "      <td>5.777295</td>\n",
       "      <td>0.067027</td>\n",
       "      <td>0.019114</td>\n",
       "    </tr>\n",
       "    <tr>\n",
       "      <th>10</th>\n",
       "      <td>skew_transportation_cost</td>\n",
       "      <td>4.582550</td>\n",
       "      <td>0.053166</td>\n",
       "      <td>0.015161</td>\n",
       "    </tr>\n",
       "    <tr>\n",
       "      <th>11</th>\n",
       "      <td>p50_capacity</td>\n",
       "      <td>3.466222</td>\n",
       "      <td>0.040215</td>\n",
       "      <td>0.011468</td>\n",
       "    </tr>\n",
       "    <tr>\n",
       "      <th>12</th>\n",
       "      <td>p25_capacity</td>\n",
       "      <td>2.729897</td>\n",
       "      <td>0.031672</td>\n",
       "      <td>0.009032</td>\n",
       "    </tr>\n",
       "    <tr>\n",
       "      <th>13</th>\n",
       "      <td>demand_to_cost_interaction</td>\n",
       "      <td>2.289727</td>\n",
       "      <td>0.026565</td>\n",
       "      <td>0.007575</td>\n",
       "    </tr>\n",
       "    <tr>\n",
       "      <th>14</th>\n",
       "      <td>demand_to_capacity_interaction</td>\n",
       "      <td>2.057175</td>\n",
       "      <td>0.023867</td>\n",
       "      <td>0.006806</td>\n",
       "    </tr>\n",
       "  </tbody>\n",
       "</table>\n",
       "</div>"
      ],
      "text/plain": [
       "                          variable  relative_importance  scaled_importance  \\\n",
       "0                total_utilization            86.193016           1.000000   \n",
       "1                   p25_setup_cost            54.376366           0.630867   \n",
       "2                  max_utilization            42.055149           0.487918   \n",
       "3                  min_utilization            20.585314           0.238828   \n",
       "4                   total_capacity            20.018642           0.232254   \n",
       "5                     min_capacity            19.842421           0.230209   \n",
       "6                 total_setup_cost            17.806467           0.206588   \n",
       "7                  std_utilization            14.286460           0.165750   \n",
       "8               std_inventory_cost             6.192740           0.071847   \n",
       "9                     max_capacity             5.777295           0.067027   \n",
       "10        skew_transportation_cost             4.582550           0.053166   \n",
       "11                    p50_capacity             3.466222           0.040215   \n",
       "12                    p25_capacity             2.729897           0.031672   \n",
       "13      demand_to_cost_interaction             2.289727           0.026565   \n",
       "14  demand_to_capacity_interaction             2.057175           0.023867   \n",
       "\n",
       "    percentage  \n",
       "0     0.285162  \n",
       "1     0.179900  \n",
       "2     0.139136  \n",
       "3     0.068105  \n",
       "4     0.066230  \n",
       "5     0.065647  \n",
       "6     0.058911  \n",
       "7     0.047266  \n",
       "8     0.020488  \n",
       "9     0.019114  \n",
       "10    0.015161  \n",
       "11    0.011468  \n",
       "12    0.009032  \n",
       "13    0.007575  \n",
       "14    0.006806  "
      ]
     },
     "execution_count": 601,
     "metadata": {},
     "output_type": "execute_result"
    }
   ],
   "source": [
    "importancia_var.tail(20)"
   ]
  },
  {
   "cell_type": "code",
   "execution_count": 602,
   "metadata": {},
   "outputs": [
    {
     "data": {
      "text/plain": [
       "['total_utilization',\n",
       " 'p25_setup_cost',\n",
       " 'max_utilization',\n",
       " 'min_utilization',\n",
       " 'total_capacity',\n",
       " 'min_capacity',\n",
       " 'total_setup_cost',\n",
       " 'std_utilization',\n",
       " 'std_inventory_cost',\n",
       " 'max_capacity',\n",
       " 'skew_transportation_cost',\n",
       " 'p50_capacity',\n",
       " 'p25_capacity',\n",
       " 'demand_to_cost_interaction',\n",
       " 'demand_to_capacity_interaction']"
      ]
     },
     "execution_count": 602,
     "metadata": {},
     "output_type": "execute_result"
    }
   ],
   "source": [
    "importancia_var.tail(20)['variable'].tolist()"
   ]
  },
  {
   "cell_type": "code",
   "execution_count": 603,
   "metadata": {},
   "outputs": [
    {
     "name": "stdout",
     "output_type": "stream",
     "text": [
      "PartialDependencePlot progress: |████████████████████████████████████████████████| (done) 100%\n"
     ]
    },
    {
     "data": {
      "text/plain": [
       "[PartialDependence: Partial Dependence Plot of model GBM_model_python_1734293274334_23936 on column 'max_utilization'.\n",
       "max_utilization    mean_response    stddev_response    std_error_mean_response\n",
       "-----------------  ---------------  -----------------  -------------------------\n",
       "1.06736            0.730819         0.338699           0.0152853\n",
       "1.10163            0.738103         0.334783           0.0151085\n",
       "1.13591            0.755692         0.32445            0.0146422\n",
       "1.17019            0.753062         0.326594           0.014739\n",
       "1.20447            0.778735         0.317419           0.0143249\n",
       "1.23875            0.86675          0.220587           0.00995494\n",
       "1.27303            0.868985         0.217726           0.00982582\n",
       "1.30731            0.86966          0.220417           0.00994729\n",
       "1.34158            0.86966          0.220417           0.00994729\n",
       "1.37586            0.86966          0.220417           0.00994729\n",
       "1.41014            0.867919         0.220146           0.00993507\n",
       "1.44442            0.867919         0.220146           0.00993507\n",
       "1.4787             0.869633         0.220426           0.0099477\n",
       "1.51298            0.869631         0.220426           0.00994767\n",
       "1.54726            0.885562         0.198786           0.00897108\n",
       "1.58154            0.885562         0.198786           0.00897108\n",
       "1.61581            0.885562         0.198786           0.00897108\n",
       "1.65009            0.885562         0.198786           0.00897108\n",
       "1.68437            0.885562         0.198786           0.00897108\n",
       "1.71865            0.885562         0.198786           0.00897108]"
      ]
     },
     "execution_count": 603,
     "metadata": {},
     "output_type": "execute_result"
    },
    {
     "data": {
      "image/png": "[encoded data removed]",
      "text/plain": [
       "<Figure size 500x500 with 1 Axes>"
      ]
     },
     "metadata": {},
     "output_type": "display_data"
    }
   ],
   "source": [
    "model.partial_plot(frame=hf_train, cols=['max_utilization'], figsize=(5, 5))#, targets=['RF_T_0', 'RF_1_0']);"
   ]
  },
  {
   "cell_type": "code",
   "execution_count": 604,
   "metadata": {},
   "outputs": [
    {
     "name": "stderr",
     "output_type": "stream",
     "text": [
      "/home/lucasmalheiros/Documents/Pesquisa Operacional/tcc-relax-and-fix/venv/lib/python3.12/site-packages/h2o/frame.py:1983: H2ODependencyWarning: Converting H2O frame to pandas dataframe using single-thread.  For faster conversion using multi-thread, install polars and pyarrow and use it as pandas_df = h2o_df.as_data_frame(use_multi_thread=True)\n",
      "\n",
      "  warnings.warn(\"Converting H2O frame to pandas dataframe using single-thread.  For faster conversion using\"\n",
      "/home/lucasmalheiros/Documents/Pesquisa Operacional/tcc-relax-and-fix/venv/lib/python3.12/site-packages/h2o/frame.py:1983: H2ODependencyWarning: Converting H2O frame to pandas dataframe using single-thread.  For faster conversion using multi-thread, install polars and pyarrow and use it as pandas_df = h2o_df.as_data_frame(use_multi_thread=True)\n",
      "\n",
      "  warnings.warn(\"Converting H2O frame to pandas dataframe using single-thread.  For faster conversion using\"\n"
     ]
    }
   ],
   "source": [
    "# Previsões\n",
    "actual = hf_train[target].as_data_frame(use_multi_thread=True)[target]\n",
    "predictions = model.cross_validation_holdout_predictions()\n",
    "predict = predictions[0].as_data_frame(use_multi_thread=True)['predict']"
   ]
  },
  {
   "cell_type": "code",
   "execution_count": 605,
   "metadata": {},
   "outputs": [
    {
     "name": "stdout",
     "output_type": "stream",
     "text": [
      "Confusion Matrix:\n",
      " [[ 62  25]\n",
      " [ 10 394]]\n"
     ]
    }
   ],
   "source": [
    "# Confusion matrix\n",
    "cm = confusion_matrix(actual, predict)\n",
    "print(\"Confusion Matrix:\\n\", cm)"
   ]
  },
  {
   "cell_type": "code",
   "execution_count": 606,
   "metadata": {},
   "outputs": [
    {
     "data": {
      "text/plain": [
       "np.float64(0.9287169042769857)"
      ]
     },
     "execution_count": 606,
     "metadata": {},
     "output_type": "execute_result"
    }
   ],
   "source": [
    "# Precisão\n",
    "cm.trace() / cm.sum()"
   ]
  },
  {
   "cell_type": "code",
   "execution_count": 607,
   "metadata": {},
   "outputs": [
    {
     "name": "stdout",
     "output_type": "stream",
     "text": [
      "Macro-Average Recall: 0.8439\n"
     ]
    }
   ],
   "source": [
    "recall_per_class = np.diag(cm) / np.sum(cm, axis=1)\n",
    "macro_average_recall = np.mean(recall_per_class)\n",
    "print(f\"Macro-Average Recall: {macro_average_recall:.4f}\")"
   ]
  },
  {
   "cell_type": "code",
   "execution_count": 608,
   "metadata": {},
   "outputs": [
    {
     "name": "stdout",
     "output_type": "stream",
     "text": [
      "\n",
      "F1 Score: 0.9260\n"
     ]
    }
   ],
   "source": [
    "# F1 score\n",
    "f1 = f1_score(actual, predict, average='weighted')\n",
    "print(f'\\nF1 Score: {f1:.4f}')"
   ]
  },
  {
   "cell_type": "markdown",
   "metadata": {},
   "source": [
    "# Avaliação no dataset de teste"
   ]
  },
  {
   "cell_type": "code",
   "execution_count": 609,
   "metadata": {},
   "outputs": [
    {
     "name": "stdout",
     "output_type": "stream",
     "text": [
      "gbm prediction progress: |███████████████████████████████████████████████████████| (done) 100%\n"
     ]
    },
    {
     "name": "stderr",
     "output_type": "stream",
     "text": [
      "/home/lucasmalheiros/Documents/Pesquisa Operacional/tcc-relax-and-fix/venv/lib/python3.12/site-packages/h2o/frame.py:1983: H2ODependencyWarning: Converting H2O frame to pandas dataframe using single-thread.  For faster conversion using multi-thread, install polars and pyarrow and use it as pandas_df = h2o_df.as_data_frame(use_multi_thread=True)\n",
      "\n",
      "  warnings.warn(\"Converting H2O frame to pandas dataframe using single-thread.  For faster conversion using\"\n",
      "/home/lucasmalheiros/Documents/Pesquisa Operacional/tcc-relax-and-fix/venv/lib/python3.12/site-packages/h2o/frame.py:1983: H2ODependencyWarning: Converting H2O frame to pandas dataframe using single-thread.  For faster conversion using multi-thread, install polars and pyarrow and use it as pandas_df = h2o_df.as_data_frame(use_multi_thread=True)\n",
      "\n",
      "  warnings.warn(\"Converting H2O frame to pandas dataframe using single-thread.  For faster conversion using\"\n"
     ]
    }
   ],
   "source": [
    "# Previsões sobre teste\n",
    "actual_test = hf_test[target].as_data_frame(use_multi_thread=True)[target]\n",
    "predictions_test = model.predict(hf_test)\n",
    "predict_test = predictions_test[0].as_data_frame(use_multi_thread=True)['predict']"
   ]
  },
  {
   "cell_type": "code",
   "execution_count": 610,
   "metadata": {},
   "outputs": [
    {
     "name": "stdout",
     "output_type": "stream",
     "text": [
      "Confusion Matrix:\n",
      " [[14  5]\n",
      " [ 2 86]]\n"
     ]
    }
   ],
   "source": [
    "# Confusion matrix\n",
    "cm = confusion_matrix(actual_test, predict_test)\n",
    "print(\"Confusion Matrix:\\n\", cm)"
   ]
  },
  {
   "cell_type": "code",
   "execution_count": 611,
   "metadata": {},
   "outputs": [
    {
     "data": {
      "text/plain": [
       "np.float64(0.9345794392523364)"
      ]
     },
     "execution_count": 611,
     "metadata": {},
     "output_type": "execute_result"
    }
   ],
   "source": [
    "# Precisão\n",
    "cm.trace() / cm.sum()"
   ]
  },
  {
   "cell_type": "code",
   "execution_count": 612,
   "metadata": {},
   "outputs": [
    {
     "name": "stdout",
     "output_type": "stream",
     "text": [
      "\n",
      "F1 Score: 0.9323\n"
     ]
    }
   ],
   "source": [
    "# F1 score\n",
    "f1 = f1_score(actual_test, predict_test, average='weighted')\n",
    "print(f'\\nF1 Score: {f1:.4f}')"
   ]
  },
  {
   "cell_type": "code",
   "execution_count": 613,
   "metadata": {},
   "outputs": [],
   "source": [
    "# h2o.cluster().shutdown()"
   ]
  }
 ],
 "metadata": {
  "kernelspec": {
   "display_name": "venv",
   "language": "python",
   "name": "python3"
  },
  "language_info": {
   "codemirror_mode": {
    "name": "ipython",
    "version": 3
   },
   "file_extension": ".py",
   "mimetype": "text/x-python",
   "name": "python",
   "nbconvert_exporter": "python",
   "pygments_lexer": "ipython3",
   "version": "3.12.3"
  }
 },
 "nbformat": 4,
 "nbformat_minor": 4
}
