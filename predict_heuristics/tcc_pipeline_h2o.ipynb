{
 "cells": [
  {
   "cell_type": "code",
   "execution_count": 1,
   "metadata": {},
   "outputs": [],
   "source": [
    "import pandas as pd\n",
    "import numpy as np\n",
    "import h2o\n",
    "from h2o.estimators import H2OGradientBoostingEstimator\n",
    "from h2o.estimators import H2OXGBoostEstimator\n",
    "from h2o.grid.grid_search import H2OGridSearch\n",
    "from sklearn.metrics import confusion_matrix, f1_score, precision_recall_curve, auc"
   ]
  },
  {
   "cell_type": "code",
   "execution_count": 2,
   "metadata": {},
   "outputs": [
    {
     "name": "stdout",
     "output_type": "stream",
     "text": [
      "Checking whether there is an H2O instance running at http://localhost:12345..... not found.\n",
      "Attempting to start a local H2O server...\n",
      "  Java Version: openjdk version \"21.0.5\" 2024-10-15; OpenJDK Runtime Environment (build 21.0.5+11-Ubuntu-1ubuntu124.04); OpenJDK 64-Bit Server VM (build 21.0.5+11-Ubuntu-1ubuntu124.04, mixed mode, sharing)\n",
      "  Starting server from /home/lucasmalheiros/Documents/Pesquisa Operacional/tcc-relax-and-fix/venv/lib/python3.12/site-packages/h2o/backend/bin/h2o.jar\n",
      "  Ice root: /tmp/tmp_v7xphah\n",
      "  JVM stdout: /tmp/tmp_v7xphah/h2o_lucasmalheiros_started_from_python.out\n",
      "  JVM stderr: /tmp/tmp_v7xphah/h2o_lucasmalheiros_started_from_python.err\n",
      "  Server is running at http://127.0.0.1:12345\n",
      "Connecting to H2O server at http://127.0.0.1:12345 ... successful.\n"
     ]
    },
    {
     "data": {
      "text/html": [
       "\n",
       "<style>\n",
       "\n",
       "#h2o-table-1.h2o-container {\n",
       "  overflow-x: auto;\n",
       "}\n",
       "#h2o-table-1 .h2o-table {\n",
       "  /* width: 100%; */\n",
       "  margin-top: 1em;\n",
       "  margin-bottom: 1em;\n",
       "}\n",
       "#h2o-table-1 .h2o-table caption {\n",
       "  white-space: nowrap;\n",
       "  caption-side: top;\n",
       "  text-align: left;\n",
       "  /* margin-left: 1em; */\n",
       "  margin: 0;\n",
       "  font-size: larger;\n",
       "}\n",
       "#h2o-table-1 .h2o-table thead {\n",
       "  white-space: nowrap; \n",
       "  position: sticky;\n",
       "  top: 0;\n",
       "  box-shadow: 0 -1px inset;\n",
       "}\n",
       "#h2o-table-1 .h2o-table tbody {\n",
       "  overflow: auto;\n",
       "}\n",
       "#h2o-table-1 .h2o-table th,\n",
       "#h2o-table-1 .h2o-table td {\n",
       "  text-align: right;\n",
       "  /* border: 1px solid; */\n",
       "}\n",
       "#h2o-table-1 .h2o-table tr:nth-child(even) {\n",
       "  /* background: #F5F5F5 */\n",
       "}\n",
       "\n",
       "</style>      \n",
       "<div id=\"h2o-table-1\" class=\"h2o-container\">\n",
       "  <table class=\"h2o-table\">\n",
       "    <caption></caption>\n",
       "    <thead></thead>\n",
       "    <tbody><tr><td>H2O_cluster_uptime:</td>\n",
       "<td>02 secs</td></tr>\n",
       "<tr><td>H2O_cluster_timezone:</td>\n",
       "<td>America/Sao_Paulo</td></tr>\n",
       "<tr><td>H2O_data_parsing_timezone:</td>\n",
       "<td>UTC</td></tr>\n",
       "<tr><td>H2O_cluster_version:</td>\n",
       "<td>3.46.0.6</td></tr>\n",
       "<tr><td>H2O_cluster_version_age:</td>\n",
       "<td>1 month and 19 days</td></tr>\n",
       "<tr><td>H2O_cluster_name:</td>\n",
       "<td>H2O_from_python_lucasmalheiros_c35iqk</td></tr>\n",
       "<tr><td>H2O_cluster_total_nodes:</td>\n",
       "<td>1</td></tr>\n",
       "<tr><td>H2O_cluster_free_memory:</td>\n",
       "<td>1.868 Gb</td></tr>\n",
       "<tr><td>H2O_cluster_total_cores:</td>\n",
       "<td>8</td></tr>\n",
       "<tr><td>H2O_cluster_allowed_cores:</td>\n",
       "<td>8</td></tr>\n",
       "<tr><td>H2O_cluster_status:</td>\n",
       "<td>locked, healthy</td></tr>\n",
       "<tr><td>H2O_connection_url:</td>\n",
       "<td>http://127.0.0.1:12345</td></tr>\n",
       "<tr><td>H2O_connection_proxy:</td>\n",
       "<td>{\"http\": null, \"https\": null}</td></tr>\n",
       "<tr><td>H2O_internal_security:</td>\n",
       "<td>False</td></tr>\n",
       "<tr><td>Python_version:</td>\n",
       "<td>3.12.3 final</td></tr></tbody>\n",
       "  </table>\n",
       "</div>\n"
      ],
      "text/plain": [
       "--------------------------  -------------------------------------\n",
       "H2O_cluster_uptime:         02 secs\n",
       "H2O_cluster_timezone:       America/Sao_Paulo\n",
       "H2O_data_parsing_timezone:  UTC\n",
       "H2O_cluster_version:        3.46.0.6\n",
       "H2O_cluster_version_age:    1 month and 19 days\n",
       "H2O_cluster_name:           H2O_from_python_lucasmalheiros_c35iqk\n",
       "H2O_cluster_total_nodes:    1\n",
       "H2O_cluster_free_memory:    1.868 Gb\n",
       "H2O_cluster_total_cores:    8\n",
       "H2O_cluster_allowed_cores:  8\n",
       "H2O_cluster_status:         locked, healthy\n",
       "H2O_connection_url:         http://127.0.0.1:12345\n",
       "H2O_connection_proxy:       {\"http\": null, \"https\": null}\n",
       "H2O_internal_security:      False\n",
       "Python_version:             3.12.3 final\n",
       "--------------------------  -------------------------------------"
      ]
     },
     "metadata": {},
     "output_type": "display_data"
    }
   ],
   "source": [
    "h2o.init(port=12345)"
   ]
  },
  {
   "cell_type": "code",
   "execution_count": 3,
   "metadata": {},
   "outputs": [],
   "source": [
    "def convert_to_h2o_frame(data: pd.DataFrame) -> h2o.H2OFrame:\n",
    "    \"\"\"Converte um pd.DataFrame em um h2o.H2OFrame\"\"\"\n",
    "    print('Performing conversion from pd.DataFrame to h2o.H2OFrame...')\n",
    "    # Colunas de datas\n",
    "    cols_to_date = [col for col in data.dtypes[data.dtypes == 'datetime64[ns]'].index]\n",
    "    # Colunas a converter para categórica\n",
    "    cols_to_factor = [col for col in data.dtypes[(data.dtypes == 'object') | (data.dtypes == 'category')].index]\n",
    "    # Colunas a converter a numeric\n",
    "    cols_numerics = [col for col in data.dtypes[(data.dtypes != 'object') & (data.dtypes != 'category') & (data.dtypes != 'datetime64[ns]')].index]\n",
    "    # Adicionar os tipos de colunas ao dicionário col_dtypes\n",
    "    col_dtypes = {}\n",
    "    for col in cols_to_date:\n",
    "        col_dtypes[col] = 'time'\n",
    "    for col in cols_to_factor:\n",
    "        col_dtypes[col] = 'enum'\n",
    "    for col in cols_numerics:\n",
    "        col_dtypes[col] = 'numeric'\n",
    "    # Converte a h2o\n",
    "    data = h2o.H2OFrame(data, column_types=col_dtypes, na_strings=['NA', 'none', 'None', 'nan', 'NaN', '<NA>'])\n",
    "    print('Successful conversion from pd.DataFrame to h2o.H2OFrame.')\n",
    "    return data"
   ]
  },
  {
   "cell_type": "markdown",
   "metadata": {},
   "source": [
    "# Data preparation"
   ]
  },
  {
   "cell_type": "code",
   "execution_count": 6,
   "metadata": {},
   "outputs": [],
   "source": [
    "# Resultados\n",
    "df_resultados = pd.read_csv('datasets/instances_results.csv')\n",
    "df_resultados = df_resultados[['Instancias'] + [col for col in df_resultados.columns if col.startswith('Obj_') or col.startswith('Time_')]]\n",
    "df_resultados = df_resultados[df_resultados['Obj_RF_T_0'] != np.inf]  # Remove infactíveis"
   ]
  },
  {
   "cell_type": "code",
   "execution_count": 10,
   "metadata": {},
   "outputs": [],
   "source": [
    "# Features criadas de create_features_dataset.py\n",
    "df_features = pd.read_csv('datasets/multi_plant_instance_features.csv')"
   ]
  },
  {
   "cell_type": "code",
   "execution_count": 11,
   "metadata": {},
   "outputs": [],
   "source": [
    "df = df_features.merge(df_resultados, left_on='instance', right_on='Instancias', how='inner').drop(columns=['Instancias', 'instance'])"
   ]
  },
  {
   "cell_type": "code",
   "execution_count": 12,
   "metadata": {},
   "outputs": [
    {
     "data": {
      "text/html": [
       "<div>\n",
       "<style scoped>\n",
       "    .dataframe tbody tr th:only-of-type {\n",
       "        vertical-align: middle;\n",
       "    }\n",
       "\n",
       "    .dataframe tbody tr th {\n",
       "        vertical-align: top;\n",
       "    }\n",
       "\n",
       "    .dataframe thead th {\n",
       "        text-align: right;\n",
       "    }\n",
       "</style>\n",
       "<table border=\"1\" class=\"dataframe\">\n",
       "  <thead>\n",
       "    <tr style=\"text-align: right;\">\n",
       "      <th></th>\n",
       "      <th>num_products</th>\n",
       "      <th>num_plants</th>\n",
       "      <th>num_periods</th>\n",
       "      <th>binary_vars</th>\n",
       "      <th>min_demand</th>\n",
       "      <th>avg_demand</th>\n",
       "      <th>max_demand</th>\n",
       "      <th>std_demand</th>\n",
       "      <th>cv_demand</th>\n",
       "      <th>p75_demand</th>\n",
       "      <th>...</th>\n",
       "      <th>Obj_RF_6_1</th>\n",
       "      <th>Time_RF_6_1</th>\n",
       "      <th>Obj_RF_6_2</th>\n",
       "      <th>Time_RF_6_2</th>\n",
       "      <th>Obj_RF_6_3</th>\n",
       "      <th>Time_RF_6_3</th>\n",
       "      <th>Obj_RF_6_4</th>\n",
       "      <th>Time_RF_6_4</th>\n",
       "      <th>Obj_RF_T_0</th>\n",
       "      <th>Time_RF_T_0</th>\n",
       "    </tr>\n",
       "  </thead>\n",
       "  <tbody>\n",
       "    <tr>\n",
       "      <th>0</th>\n",
       "      <td>120</td>\n",
       "      <td>2</td>\n",
       "      <td>12</td>\n",
       "      <td>2880</td>\n",
       "      <td>1</td>\n",
       "      <td>91.366667</td>\n",
       "      <td>180</td>\n",
       "      <td>52.990103</td>\n",
       "      <td>0.579972</td>\n",
       "      <td>138.0</td>\n",
       "      <td>...</td>\n",
       "      <td>811118.49</td>\n",
       "      <td>1200.63</td>\n",
       "      <td>810455.47</td>\n",
       "      <td>1202.5</td>\n",
       "      <td>810826.56</td>\n",
       "      <td>1338.43</td>\n",
       "      <td>809546.92</td>\n",
       "      <td>1437.74</td>\n",
       "      <td>809910.65</td>\n",
       "      <td>1800.1</td>\n",
       "    </tr>\n",
       "    <tr>\n",
       "      <th>1</th>\n",
       "      <td>60</td>\n",
       "      <td>20</td>\n",
       "      <td>12</td>\n",
       "      <td>14400</td>\n",
       "      <td>1</td>\n",
       "      <td>90.673819</td>\n",
       "      <td>180</td>\n",
       "      <td>51.952348</td>\n",
       "      <td>0.572959</td>\n",
       "      <td>135.0</td>\n",
       "      <td>...</td>\n",
       "      <td>2404219.27</td>\n",
       "      <td>1018.31</td>\n",
       "      <td>2404144.93</td>\n",
       "      <td>1320.7</td>\n",
       "      <td>2404372.62</td>\n",
       "      <td>1543.79</td>\n",
       "      <td>2406932.24</td>\n",
       "      <td>1640.32</td>\n",
       "      <td>2404240.72</td>\n",
       "      <td>952.5</td>\n",
       "    </tr>\n",
       "    <tr>\n",
       "      <th>2</th>\n",
       "      <td>120</td>\n",
       "      <td>6</td>\n",
       "      <td>12</td>\n",
       "      <td>8640</td>\n",
       "      <td>1</td>\n",
       "      <td>91.228125</td>\n",
       "      <td>180</td>\n",
       "      <td>52.583777</td>\n",
       "      <td>0.576399</td>\n",
       "      <td>138.0</td>\n",
       "      <td>...</td>\n",
       "      <td>1991086.02</td>\n",
       "      <td>1214.94</td>\n",
       "      <td>1976005.90</td>\n",
       "      <td>1800.7</td>\n",
       "      <td>1972303.15</td>\n",
       "      <td>1800.97</td>\n",
       "      <td>1942660.20</td>\n",
       "      <td>1800.62</td>\n",
       "      <td>2106419.81</td>\n",
       "      <td>1800.2</td>\n",
       "    </tr>\n",
       "  </tbody>\n",
       "</table>\n",
       "<p>3 rows × 89 columns</p>\n",
       "</div>"
      ],
      "text/plain": [
       "   num_products  num_plants  num_periods  binary_vars  min_demand  avg_demand  \\\n",
       "0           120           2           12         2880           1   91.366667   \n",
       "1            60          20           12        14400           1   90.673819   \n",
       "2           120           6           12         8640           1   91.228125   \n",
       "\n",
       "   max_demand  std_demand  cv_demand  p75_demand  ...  Obj_RF_6_1  \\\n",
       "0         180   52.990103   0.579972       138.0  ...   811118.49   \n",
       "1         180   51.952348   0.572959       135.0  ...  2404219.27   \n",
       "2         180   52.583777   0.576399       138.0  ...  1991086.02   \n",
       "\n",
       "   Time_RF_6_1  Obj_RF_6_2  Time_RF_6_2  Obj_RF_6_3  Time_RF_6_3  Obj_RF_6_4  \\\n",
       "0      1200.63   810455.47       1202.5   810826.56      1338.43   809546.92   \n",
       "1      1018.31  2404144.93       1320.7  2404372.62      1543.79  2406932.24   \n",
       "2      1214.94  1976005.90       1800.7  1972303.15      1800.97  1942660.20   \n",
       "\n",
       "   Time_RF_6_4  Obj_RF_T_0  Time_RF_T_0  \n",
       "0      1437.74   809910.65       1800.1  \n",
       "1      1640.32  2404240.72        952.5  \n",
       "2      1800.62  2106419.81       1800.2  \n",
       "\n",
       "[3 rows x 89 columns]"
      ]
     },
     "execution_count": 12,
     "metadata": {},
     "output_type": "execute_result"
    }
   ],
   "source": [
    "df.head(3)"
   ]
  },
  {
   "cell_type": "markdown",
   "metadata": {},
   "source": [
    "# Construção de targets"
   ]
  },
  {
   "cell_type": "code",
   "execution_count": 13,
   "metadata": {},
   "outputs": [],
   "source": [
    "obj_columns = [col for col in df.columns if col.startswith('Obj_')]\n",
    "time_columns = [col for col in df.columns if col.startswith('Time_')]"
   ]
  },
  {
   "cell_type": "markdown",
   "metadata": {},
   "source": [
    "## Target em função objetivo (BEST)"
   ]
  },
  {
   "cell_type": "code",
   "execution_count": 14,
   "metadata": {},
   "outputs": [],
   "source": [
    "# Seleciona para cada instância o método com menor função objetivo para a coluna BEST\n",
    "df['BEST'] = df[obj_columns].idxmin(axis=1)\n",
    "df['BEST'] = df['BEST'].str.replace('Obj_', '')"
   ]
  },
  {
   "cell_type": "code",
   "execution_count": 15,
   "metadata": {},
   "outputs": [
    {
     "data": {
      "text/plain": [
       "BEST\n",
       "RF_T_0    163\n",
       "RF_2_0     50\n",
       "RF_1_0     47\n",
       "RF_3_1     40\n",
       "RF_6_4     33\n",
       "RF_6_0     33\n",
       "RF_4_2     31\n",
       "RF_3_0     30\n",
       "RF_2_1     29\n",
       "RF_6_3     27\n",
       "RF_4_1     27\n",
       "RF_3_2     21\n",
       "RF_6_1     20\n",
       "RF_6_2     16\n",
       "RF_4_0     16\n",
       "RF_4_3     15\n",
       "Name: count, dtype: int64"
      ]
     },
     "execution_count": 15,
     "metadata": {},
     "output_type": "execute_result"
    }
   ],
   "source": [
    "df['BEST'].value_counts()"
   ]
  },
  {
   "cell_type": "markdown",
   "metadata": {},
   "source": [
    "## Target com compromisso de tempo (BEST_TIME)"
   ]
  },
  {
   "cell_type": "code",
   "execution_count": 16,
   "metadata": {},
   "outputs": [],
   "source": [
    "for obj_col, time_col in zip(obj_columns, time_columns):\n",
    "    df[f'Adjusted_{obj_col}'] = (\n",
    "        df[obj_col] * np.maximum(np.log(df[time_col]) / np.log(1000), 1)\n",
    "    )\n",
    "adjusted_columns = [col for col in df.columns if col.startswith('Adjusted_')]"
   ]
  },
  {
   "cell_type": "code",
   "execution_count": 17,
   "metadata": {},
   "outputs": [],
   "source": [
    "# Seleciona para cada instância o método com menor função objetivo para a coluna BEST\n",
    "df['BEST_TIME'] = df[adjusted_columns].idxmin(axis=1)\n",
    "df['BEST_TIME'] = df['BEST_TIME'].str.replace('Adjusted_Obj_', '')"
   ]
  },
  {
   "cell_type": "code",
   "execution_count": 18,
   "metadata": {},
   "outputs": [
    {
     "data": {
      "text/plain": [
       "BEST_TIME\n",
       "RF_1_0    110\n",
       "RF_T_0     97\n",
       "RF_2_0     57\n",
       "RF_6_0     34\n",
       "RF_4_2     33\n",
       "RF_2_1     31\n",
       "RF_3_1     29\n",
       "RF_3_2     27\n",
       "RF_6_4     27\n",
       "RF_3_0     26\n",
       "RF_6_2     24\n",
       "RF_6_1     24\n",
       "RF_6_3     22\n",
       "RF_4_3     22\n",
       "RF_4_1     19\n",
       "RF_4_0     16\n",
       "Name: count, dtype: int64"
      ]
     },
     "execution_count": 18,
     "metadata": {},
     "output_type": "execute_result"
    }
   ],
   "source": [
    "df['BEST_TIME'].value_counts()"
   ]
  },
  {
   "cell_type": "markdown",
   "metadata": {},
   "source": [
    "# Preprocessamento de dados"
   ]
  },
  {
   "cell_type": "markdown",
   "metadata": {},
   "source": [
    "## Drop Obj_ e Time_"
   ]
  },
  {
   "cell_type": "code",
   "execution_count": 19,
   "metadata": {},
   "outputs": [],
   "source": [
    "df = df.drop(columns=obj_columns + time_columns + adjusted_columns)"
   ]
  },
  {
   "cell_type": "code",
   "execution_count": 20,
   "metadata": {},
   "outputs": [],
   "source": [
    "# Embaralhar dataset\n",
    "df = df.sample(frac=1)"
   ]
  },
  {
   "cell_type": "code",
   "execution_count": 21,
   "metadata": {},
   "outputs": [],
   "source": [
    "# Transformar em classificação binária\n",
    "df['BEST'] = df['BEST'].apply(lambda x: 'Gurobi' if x == 'RF_T_0' else 'RF')\n",
    "df['BEST_TIME'] = df['BEST_TIME'].apply(lambda x: 'Gurobi' if x == 'RF_T_0' else 'RF')"
   ]
  },
  {
   "cell_type": "markdown",
   "metadata": {},
   "source": [
    "## Convert para H2O frame"
   ]
  },
  {
   "cell_type": "code",
   "execution_count": 22,
   "metadata": {},
   "outputs": [
    {
     "name": "stdout",
     "output_type": "stream",
     "text": [
      "Performing conversion from pd.DataFrame to h2o.H2OFrame...\n",
      "Parse progress: |████████████████████████████████████████████████████████████████| (done) 100%\n",
      "Successful conversion from pd.DataFrame to h2o.H2OFrame.\n"
     ]
    }
   ],
   "source": [
    "# Conversão para H2O frame\n",
    "hf = convert_to_h2o_frame(df)"
   ]
  },
  {
   "cell_type": "code",
   "execution_count": 23,
   "metadata": {},
   "outputs": [],
   "source": [
    "# Train test split\n",
    "hf_train, hf_test = hf.split_frame(ratios=[.8], seed=2112)"
   ]
  },
  {
   "cell_type": "markdown",
   "metadata": {},
   "source": [
    "# Treino (GBM)"
   ]
  },
  {
   "cell_type": "code",
   "execution_count": 24,
   "metadata": {},
   "outputs": [],
   "source": [
    "target = 'BEST'\n",
    "predictors = [c for c in hf_train.columns if c not in ['BEST', 'BEST_TIME']]"
   ]
  },
  {
   "cell_type": "code",
   "execution_count": 25,
   "metadata": {},
   "outputs": [],
   "source": [
    "gbm_model = H2OGradientBoostingEstimator(\n",
    "    nfolds=20,\n",
    "    keep_cross_validation_predictions=True,\n",
    "    seed=2112,\n",
    "    stopping_rounds=10,\n",
    "    stopping_metric=\"AUTO\",\n",
    "    stopping_tolerance=0.001,\n",
    "    balance_classes=False\n",
    ")"
   ]
  },
  {
   "cell_type": "code",
   "execution_count": 26,
   "metadata": {},
   "outputs": [],
   "source": [
    "xgboost_model = H2OXGBoostEstimator(booster='dart',\n",
    "                                    normalize_type=\"tree\",\n",
    "                                    seed=2112,\n",
    "                                    nfolds=10,\n",
    "                                    keep_cross_validation_predictions=True)"
   ]
  },
  {
   "cell_type": "code",
   "execution_count": 27,
   "metadata": {},
   "outputs": [],
   "source": [
    "# Hiper Parâmetros\n",
    "hyper_params = {\n",
    "    \"learn_rate\": list(\n",
    "        np.round(np.arange(0.01, 0.1, 0.01), 3)\n",
    "    ),  # Narrowed range for learning rate list(np.round(np.arange(0.05, 0.3, 0.05), 3)),\n",
    "    \"max_depth\": list(\n",
    "        np.arange(5, 10, 1)\n",
    "    ),  # Reduced maximum depth list(np.arange(5, 15, 1)),\n",
    "    \"ntrees\": list(\n",
    "        np.arange(50, 150, 20)\n",
    "    ),  # Increased number of trees list(np.arange(20, 70, 10)),\n",
    "    \"sample_rate\": list(\n",
    "        np.round(np.arange(0.5, 0.9, 0.1), 3)\n",
    "    ),  # Adjusted sample rate range list(np.round(np.arange(0.5, 1.0, 0.1), 3)),\n",
    "    \"col_sample_rate\": list(\n",
    "        np.round(np.arange(0.5, 1.0, 0.1), 3)\n",
    "    ),  # Slightly adjusted col sample rate range list(np.round(np.arange(0.3, 1.0, 0.1), 3)),\n",
    "}\n",
    "# Tipo de pesquisa da grid. Em caso de RandomDiscrete, corre até max_models(n modelos)\n",
    "search_criteria = {\n",
    "    \"strategy\": \"RandomDiscrete\",\n",
    "    \"max_models\": 10,\n",
    "    # \"max_runtime_secs\": 180,\n",
    "    \"seed\": 1\n",
    "}"
   ]
  },
  {
   "cell_type": "code",
   "execution_count": 28,
   "metadata": {},
   "outputs": [],
   "source": [
    "# # Construir grid com parâmetros e critérios de procura de melhor modelo\n",
    "# grid = H2OGridSearch(model=gbm_model, \n",
    "#                      search_criteria=search_criteria, \n",
    "#                      hyper_params=hyper_params)\n",
    "# # Treinar grid\n",
    "# grid.train(x=predictors, y=target, training_frame=hf_train)"
   ]
  },
  {
   "cell_type": "code",
   "execution_count": 29,
   "metadata": {},
   "outputs": [],
   "source": [
    "# gbm_grid = grid.get_grid(sort_by=\"rmse\", decreasing=False)\n",
    "# model = gbm_grid.models[0]"
   ]
  },
  {
   "cell_type": "code",
   "execution_count": 30,
   "metadata": {},
   "outputs": [
    {
     "name": "stdout",
     "output_type": "stream",
     "text": [
      "gbm Model Build progress: |"
     ]
    },
    {
     "name": "stderr",
     "output_type": "stream",
     "text": [
      "/home/lucasmalheiros/Documents/Pesquisa Operacional/tcc-relax-and-fix/venv/lib/python3.12/site-packages/h2o/estimators/estimator_base.py:192: RuntimeWarning: Dropping bad and constant columns: [max_demand, num_periods, min_inventory_cost, min_transportation_cost, max_inventory_cost, p50_inventory_cost]\n",
      "  warnings.warn(mesg[\"message\"], RuntimeWarning)\n",
      "/home/lucasmalheiros/Documents/Pesquisa Operacional/tcc-relax-and-fix/venv/lib/python3.12/site-packages/h2o/estimators/estimator_base.py:192: RuntimeWarning: early stopping is enabled but neither score_tree_interval or score_each_iteration are defined. Early stopping will not be reproducible!\n",
      "  warnings.warn(mesg[\"message\"], RuntimeWarning)\n"
     ]
    },
    {
     "name": "stdout",
     "output_type": "stream",
     "text": [
      "██████████████████████████████████████████████████████| (done) 100%\n"
     ]
    }
   ],
   "source": [
    "model = gbm_model\n",
    "model.train(x=predictors, y=target, training_frame=hf_train);"
   ]
  },
  {
   "cell_type": "markdown",
   "metadata": {},
   "source": [
    "# Avaliação das métricas de treino"
   ]
  },
  {
   "cell_type": "code",
   "execution_count": 31,
   "metadata": {},
   "outputs": [
    {
     "data": {
      "text/html": [
       "<div>\n",
       "<style scoped>\n",
       "    .dataframe tbody tr th:only-of-type {\n",
       "        vertical-align: middle;\n",
       "    }\n",
       "\n",
       "    .dataframe tbody tr th {\n",
       "        vertical-align: top;\n",
       "    }\n",
       "\n",
       "    .dataframe thead th {\n",
       "        text-align: right;\n",
       "    }\n",
       "</style>\n",
       "<table border=\"1\" class=\"dataframe\">\n",
       "  <thead>\n",
       "    <tr style=\"text-align: right;\">\n",
       "      <th></th>\n",
       "      <th>variable</th>\n",
       "      <th>relative_importance</th>\n",
       "      <th>scaled_importance</th>\n",
       "      <th>percentage</th>\n",
       "    </tr>\n",
       "  </thead>\n",
       "  <tbody>\n",
       "    <tr>\n",
       "      <th>0</th>\n",
       "      <td>kurt_capacity</td>\n",
       "      <td>86.296814</td>\n",
       "      <td>1.000000</td>\n",
       "      <td>0.197597</td>\n",
       "    </tr>\n",
       "    <tr>\n",
       "      <th>1</th>\n",
       "      <td>binary_vars</td>\n",
       "      <td>69.175674</td>\n",
       "      <td>0.801602</td>\n",
       "      <td>0.158394</td>\n",
       "    </tr>\n",
       "    <tr>\n",
       "      <th>2</th>\n",
       "      <td>total_setup_cost</td>\n",
       "      <td>58.899883</td>\n",
       "      <td>0.682527</td>\n",
       "      <td>0.134865</td>\n",
       "    </tr>\n",
       "    <tr>\n",
       "      <th>3</th>\n",
       "      <td>min_utilization</td>\n",
       "      <td>47.656979</td>\n",
       "      <td>0.552245</td>\n",
       "      <td>0.109122</td>\n",
       "    </tr>\n",
       "    <tr>\n",
       "      <th>4</th>\n",
       "      <td>iqr_transportation_cost</td>\n",
       "      <td>31.455757</td>\n",
       "      <td>0.364507</td>\n",
       "      <td>0.072026</td>\n",
       "    </tr>\n",
       "    <tr>\n",
       "      <th>5</th>\n",
       "      <td>avg_setup_cost</td>\n",
       "      <td>27.465837</td>\n",
       "      <td>0.318272</td>\n",
       "      <td>0.062890</td>\n",
       "    </tr>\n",
       "    <tr>\n",
       "      <th>6</th>\n",
       "      <td>max_utilization</td>\n",
       "      <td>24.556065</td>\n",
       "      <td>0.284554</td>\n",
       "      <td>0.056227</td>\n",
       "    </tr>\n",
       "    <tr>\n",
       "      <th>7</th>\n",
       "      <td>avg_setup_time</td>\n",
       "      <td>13.391972</td>\n",
       "      <td>0.155185</td>\n",
       "      <td>0.030664</td>\n",
       "    </tr>\n",
       "    <tr>\n",
       "      <th>8</th>\n",
       "      <td>std_capacity</td>\n",
       "      <td>11.322621</td>\n",
       "      <td>0.131206</td>\n",
       "      <td>0.025926</td>\n",
       "    </tr>\n",
       "    <tr>\n",
       "      <th>9</th>\n",
       "      <td>cv_capacity</td>\n",
       "      <td>9.320844</td>\n",
       "      <td>0.108009</td>\n",
       "      <td>0.021342</td>\n",
       "    </tr>\n",
       "    <tr>\n",
       "      <th>10</th>\n",
       "      <td>avg_transportation_cost</td>\n",
       "      <td>8.387940</td>\n",
       "      <td>0.097199</td>\n",
       "      <td>0.019206</td>\n",
       "    </tr>\n",
       "    <tr>\n",
       "      <th>11</th>\n",
       "      <td>num_plants</td>\n",
       "      <td>8.259008</td>\n",
       "      <td>0.095705</td>\n",
       "      <td>0.018911</td>\n",
       "    </tr>\n",
       "    <tr>\n",
       "      <th>12</th>\n",
       "      <td>skew_capacity</td>\n",
       "      <td>4.512393</td>\n",
       "      <td>0.052289</td>\n",
       "      <td>0.010332</td>\n",
       "    </tr>\n",
       "    <tr>\n",
       "      <th>13</th>\n",
       "      <td>iqr_production_time</td>\n",
       "      <td>4.099310</td>\n",
       "      <td>0.047502</td>\n",
       "      <td>0.009386</td>\n",
       "    </tr>\n",
       "    <tr>\n",
       "      <th>14</th>\n",
       "      <td>skew_production_time</td>\n",
       "      <td>4.003741</td>\n",
       "      <td>0.046395</td>\n",
       "      <td>0.009168</td>\n",
       "    </tr>\n",
       "    <tr>\n",
       "      <th>15</th>\n",
       "      <td>std_production_cost</td>\n",
       "      <td>2.748233</td>\n",
       "      <td>0.031846</td>\n",
       "      <td>0.006293</td>\n",
       "    </tr>\n",
       "    <tr>\n",
       "      <th>16</th>\n",
       "      <td>skew_utilization</td>\n",
       "      <td>2.523903</td>\n",
       "      <td>0.029247</td>\n",
       "      <td>0.005779</td>\n",
       "    </tr>\n",
       "    <tr>\n",
       "      <th>17</th>\n",
       "      <td>avg_utilization</td>\n",
       "      <td>2.282713</td>\n",
       "      <td>0.026452</td>\n",
       "      <td>0.005227</td>\n",
       "    </tr>\n",
       "    <tr>\n",
       "      <th>18</th>\n",
       "      <td>avg_demand</td>\n",
       "      <td>2.243091</td>\n",
       "      <td>0.025993</td>\n",
       "      <td>0.005136</td>\n",
       "    </tr>\n",
       "    <tr>\n",
       "      <th>19</th>\n",
       "      <td>avg_inventory_cost</td>\n",
       "      <td>2.226836</td>\n",
       "      <td>0.025804</td>\n",
       "      <td>0.005099</td>\n",
       "    </tr>\n",
       "    <tr>\n",
       "      <th>20</th>\n",
       "      <td>cv_setup_time</td>\n",
       "      <td>1.803762</td>\n",
       "      <td>0.020902</td>\n",
       "      <td>0.004130</td>\n",
       "    </tr>\n",
       "    <tr>\n",
       "      <th>21</th>\n",
       "      <td>std_demand</td>\n",
       "      <td>1.726690</td>\n",
       "      <td>0.020009</td>\n",
       "      <td>0.003954</td>\n",
       "    </tr>\n",
       "    <tr>\n",
       "      <th>22</th>\n",
       "      <td>kurt_setup_cost</td>\n",
       "      <td>1.613231</td>\n",
       "      <td>0.018694</td>\n",
       "      <td>0.003694</td>\n",
       "    </tr>\n",
       "    <tr>\n",
       "      <th>23</th>\n",
       "      <td>avg_production_cost</td>\n",
       "      <td>1.417075</td>\n",
       "      <td>0.016421</td>\n",
       "      <td>0.003245</td>\n",
       "    </tr>\n",
       "    <tr>\n",
       "      <th>24</th>\n",
       "      <td>kurt_setup_time</td>\n",
       "      <td>1.262867</td>\n",
       "      <td>0.014634</td>\n",
       "      <td>0.002892</td>\n",
       "    </tr>\n",
       "    <tr>\n",
       "      <th>25</th>\n",
       "      <td>cv_demand</td>\n",
       "      <td>0.951919</td>\n",
       "      <td>0.011031</td>\n",
       "      <td>0.002180</td>\n",
       "    </tr>\n",
       "    <tr>\n",
       "      <th>26</th>\n",
       "      <td>std_production_time</td>\n",
       "      <td>0.792617</td>\n",
       "      <td>0.009185</td>\n",
       "      <td>0.001815</td>\n",
       "    </tr>\n",
       "    <tr>\n",
       "      <th>27</th>\n",
       "      <td>p75_transportation_cost</td>\n",
       "      <td>0.773234</td>\n",
       "      <td>0.008960</td>\n",
       "      <td>0.001771</td>\n",
       "    </tr>\n",
       "    <tr>\n",
       "      <th>28</th>\n",
       "      <td>std_inventory_cost</td>\n",
       "      <td>0.714907</td>\n",
       "      <td>0.008284</td>\n",
       "      <td>0.001637</td>\n",
       "    </tr>\n",
       "    <tr>\n",
       "      <th>29</th>\n",
       "      <td>kurt_utilization</td>\n",
       "      <td>0.710951</td>\n",
       "      <td>0.008238</td>\n",
       "      <td>0.001628</td>\n",
       "    </tr>\n",
       "    <tr>\n",
       "      <th>30</th>\n",
       "      <td>iqr_inventory_cost</td>\n",
       "      <td>0.695356</td>\n",
       "      <td>0.008058</td>\n",
       "      <td>0.001592</td>\n",
       "    </tr>\n",
       "    <tr>\n",
       "      <th>31</th>\n",
       "      <td>cv_setup_cost</td>\n",
       "      <td>0.644760</td>\n",
       "      <td>0.007471</td>\n",
       "      <td>0.001476</td>\n",
       "    </tr>\n",
       "    <tr>\n",
       "      <th>32</th>\n",
       "      <td>kurt_production_time</td>\n",
       "      <td>0.534143</td>\n",
       "      <td>0.006190</td>\n",
       "      <td>0.001223</td>\n",
       "    </tr>\n",
       "    <tr>\n",
       "      <th>33</th>\n",
       "      <td>skew_setup_time</td>\n",
       "      <td>0.522516</td>\n",
       "      <td>0.006055</td>\n",
       "      <td>0.001196</td>\n",
       "    </tr>\n",
       "    <tr>\n",
       "      <th>34</th>\n",
       "      <td>p75_demand</td>\n",
       "      <td>0.395295</td>\n",
       "      <td>0.004581</td>\n",
       "      <td>0.000905</td>\n",
       "    </tr>\n",
       "    <tr>\n",
       "      <th>35</th>\n",
       "      <td>kurt_production_cost</td>\n",
       "      <td>0.360256</td>\n",
       "      <td>0.004175</td>\n",
       "      <td>0.000825</td>\n",
       "    </tr>\n",
       "    <tr>\n",
       "      <th>36</th>\n",
       "      <td>p75_inventory_cost</td>\n",
       "      <td>0.342865</td>\n",
       "      <td>0.003973</td>\n",
       "      <td>0.000785</td>\n",
       "    </tr>\n",
       "    <tr>\n",
       "      <th>37</th>\n",
       "      <td>avg_production_time</td>\n",
       "      <td>0.287618</td>\n",
       "      <td>0.003333</td>\n",
       "      <td>0.000659</td>\n",
       "    </tr>\n",
       "    <tr>\n",
       "      <th>38</th>\n",
       "      <td>skew_setup_cost</td>\n",
       "      <td>0.257424</td>\n",
       "      <td>0.002983</td>\n",
       "      <td>0.000589</td>\n",
       "    </tr>\n",
       "    <tr>\n",
       "      <th>39</th>\n",
       "      <td>p75_production_time</td>\n",
       "      <td>0.093539</td>\n",
       "      <td>0.001084</td>\n",
       "      <td>0.000214</td>\n",
       "    </tr>\n",
       "    <tr>\n",
       "      <th>40</th>\n",
       "      <td>num_products</td>\n",
       "      <td>0.000000</td>\n",
       "      <td>0.000000</td>\n",
       "      <td>0.000000</td>\n",
       "    </tr>\n",
       "    <tr>\n",
       "      <th>41</th>\n",
       "      <td>min_demand</td>\n",
       "      <td>0.000000</td>\n",
       "      <td>0.000000</td>\n",
       "      <td>0.000000</td>\n",
       "    </tr>\n",
       "    <tr>\n",
       "      <th>42</th>\n",
       "      <td>min_production_time</td>\n",
       "      <td>0.000000</td>\n",
       "      <td>0.000000</td>\n",
       "      <td>0.000000</td>\n",
       "    </tr>\n",
       "    <tr>\n",
       "      <th>43</th>\n",
       "      <td>max_production_time</td>\n",
       "      <td>0.000000</td>\n",
       "      <td>0.000000</td>\n",
       "      <td>0.000000</td>\n",
       "    </tr>\n",
       "    <tr>\n",
       "      <th>44</th>\n",
       "      <td>p25_production_time</td>\n",
       "      <td>0.000000</td>\n",
       "      <td>0.000000</td>\n",
       "      <td>0.000000</td>\n",
       "    </tr>\n",
       "    <tr>\n",
       "      <th>45</th>\n",
       "      <td>min_production_cost</td>\n",
       "      <td>0.000000</td>\n",
       "      <td>0.000000</td>\n",
       "      <td>0.000000</td>\n",
       "    </tr>\n",
       "    <tr>\n",
       "      <th>46</th>\n",
       "      <td>max_production_cost</td>\n",
       "      <td>0.000000</td>\n",
       "      <td>0.000000</td>\n",
       "      <td>0.000000</td>\n",
       "    </tr>\n",
       "    <tr>\n",
       "      <th>47</th>\n",
       "      <td>p25_production_cost</td>\n",
       "      <td>0.000000</td>\n",
       "      <td>0.000000</td>\n",
       "      <td>0.000000</td>\n",
       "    </tr>\n",
       "    <tr>\n",
       "      <th>48</th>\n",
       "      <td>p75_production_cost</td>\n",
       "      <td>0.000000</td>\n",
       "      <td>0.000000</td>\n",
       "      <td>0.000000</td>\n",
       "    </tr>\n",
       "    <tr>\n",
       "      <th>49</th>\n",
       "      <td>iqr_production_cost</td>\n",
       "      <td>0.000000</td>\n",
       "      <td>0.000000</td>\n",
       "      <td>0.000000</td>\n",
       "    </tr>\n",
       "    <tr>\n",
       "      <th>50</th>\n",
       "      <td>p25_inventory_cost</td>\n",
       "      <td>0.000000</td>\n",
       "      <td>0.000000</td>\n",
       "      <td>0.000000</td>\n",
       "    </tr>\n",
       "  </tbody>\n",
       "</table>\n",
       "</div>"
      ],
      "text/plain": [
       "                   variable  relative_importance  scaled_importance  \\\n",
       "0             kurt_capacity            86.296814           1.000000   \n",
       "1               binary_vars            69.175674           0.801602   \n",
       "2          total_setup_cost            58.899883           0.682527   \n",
       "3           min_utilization            47.656979           0.552245   \n",
       "4   iqr_transportation_cost            31.455757           0.364507   \n",
       "5            avg_setup_cost            27.465837           0.318272   \n",
       "6           max_utilization            24.556065           0.284554   \n",
       "7            avg_setup_time            13.391972           0.155185   \n",
       "8              std_capacity            11.322621           0.131206   \n",
       "9               cv_capacity             9.320844           0.108009   \n",
       "10  avg_transportation_cost             8.387940           0.097199   \n",
       "11               num_plants             8.259008           0.095705   \n",
       "12            skew_capacity             4.512393           0.052289   \n",
       "13      iqr_production_time             4.099310           0.047502   \n",
       "14     skew_production_time             4.003741           0.046395   \n",
       "15      std_production_cost             2.748233           0.031846   \n",
       "16         skew_utilization             2.523903           0.029247   \n",
       "17          avg_utilization             2.282713           0.026452   \n",
       "18               avg_demand             2.243091           0.025993   \n",
       "19       avg_inventory_cost             2.226836           0.025804   \n",
       "20            cv_setup_time             1.803762           0.020902   \n",
       "21               std_demand             1.726690           0.020009   \n",
       "22          kurt_setup_cost             1.613231           0.018694   \n",
       "23      avg_production_cost             1.417075           0.016421   \n",
       "24          kurt_setup_time             1.262867           0.014634   \n",
       "25                cv_demand             0.951919           0.011031   \n",
       "26      std_production_time             0.792617           0.009185   \n",
       "27  p75_transportation_cost             0.773234           0.008960   \n",
       "28       std_inventory_cost             0.714907           0.008284   \n",
       "29         kurt_utilization             0.710951           0.008238   \n",
       "30       iqr_inventory_cost             0.695356           0.008058   \n",
       "31            cv_setup_cost             0.644760           0.007471   \n",
       "32     kurt_production_time             0.534143           0.006190   \n",
       "33          skew_setup_time             0.522516           0.006055   \n",
       "34               p75_demand             0.395295           0.004581   \n",
       "35     kurt_production_cost             0.360256           0.004175   \n",
       "36       p75_inventory_cost             0.342865           0.003973   \n",
       "37      avg_production_time             0.287618           0.003333   \n",
       "38          skew_setup_cost             0.257424           0.002983   \n",
       "39      p75_production_time             0.093539           0.001084   \n",
       "40             num_products             0.000000           0.000000   \n",
       "41               min_demand             0.000000           0.000000   \n",
       "42      min_production_time             0.000000           0.000000   \n",
       "43      max_production_time             0.000000           0.000000   \n",
       "44      p25_production_time             0.000000           0.000000   \n",
       "45      min_production_cost             0.000000           0.000000   \n",
       "46      max_production_cost             0.000000           0.000000   \n",
       "47      p25_production_cost             0.000000           0.000000   \n",
       "48      p75_production_cost             0.000000           0.000000   \n",
       "49      iqr_production_cost             0.000000           0.000000   \n",
       "50       p25_inventory_cost             0.000000           0.000000   \n",
       "\n",
       "    percentage  \n",
       "0     0.197597  \n",
       "1     0.158394  \n",
       "2     0.134865  \n",
       "3     0.109122  \n",
       "4     0.072026  \n",
       "5     0.062890  \n",
       "6     0.056227  \n",
       "7     0.030664  \n",
       "8     0.025926  \n",
       "9     0.021342  \n",
       "10    0.019206  \n",
       "11    0.018911  \n",
       "12    0.010332  \n",
       "13    0.009386  \n",
       "14    0.009168  \n",
       "15    0.006293  \n",
       "16    0.005779  \n",
       "17    0.005227  \n",
       "18    0.005136  \n",
       "19    0.005099  \n",
       "20    0.004130  \n",
       "21    0.003954  \n",
       "22    0.003694  \n",
       "23    0.003245  \n",
       "24    0.002892  \n",
       "25    0.002180  \n",
       "26    0.001815  \n",
       "27    0.001771  \n",
       "28    0.001637  \n",
       "29    0.001628  \n",
       "30    0.001592  \n",
       "31    0.001476  \n",
       "32    0.001223  \n",
       "33    0.001196  \n",
       "34    0.000905  \n",
       "35    0.000825  \n",
       "36    0.000785  \n",
       "37    0.000659  \n",
       "38    0.000589  \n",
       "39    0.000214  \n",
       "40    0.000000  \n",
       "41    0.000000  \n",
       "42    0.000000  \n",
       "43    0.000000  \n",
       "44    0.000000  \n",
       "45    0.000000  \n",
       "46    0.000000  \n",
       "47    0.000000  \n",
       "48    0.000000  \n",
       "49    0.000000  \n",
       "50    0.000000  "
      ]
     },
     "execution_count": 31,
     "metadata": {},
     "output_type": "execute_result"
    }
   ],
   "source": [
    "# Variáveis mais importantes na escolha\n",
    "importancia_var = model.varimp(use_pandas=True)\n",
    "importancia_var"
   ]
  },
  {
   "cell_type": "code",
   "execution_count": 48,
   "metadata": {},
   "outputs": [
    {
     "name": "stdout",
     "output_type": "stream",
     "text": [
      "PartialDependencePlot progress: |"
     ]
    },
    {
     "name": "stdout",
     "output_type": "stream",
     "text": [
      "████████████████████████████████████████████████| (done) 100%\n"
     ]
    },
    {
     "data": {
      "text/plain": [
       "[PartialDependence: Partial Dependence Plot of model GBM_model_python_1734839180088_1 on column 'min_utilization'.\n",
       "min_utilization    mean_response    stddev_response    std_error_mean_response\n",
       "-----------------  ---------------  -----------------  -------------------------\n",
       "0.475032           0.771438         0.301176           0.0135919\n",
       "0.504765           0.771438         0.301176           0.0135919\n",
       "0.534499           0.771438         0.301176           0.0135919\n",
       "0.564232           0.771438         0.301176           0.0135919\n",
       "0.593965           0.771438         0.301176           0.0135919\n",
       "0.623699           0.771438         0.301176           0.0135919\n",
       "0.653432           0.771438         0.301176           0.0135919\n",
       "0.683165           0.776506         0.297705           0.0134353\n",
       "0.712898           0.729409         0.337046           0.0152107\n",
       "0.742632           0.762289         0.315134           0.0142218\n",
       "0.772365           0.767033         0.31048            0.0140118\n",
       "0.802098           0.769087         0.310705           0.0140219\n",
       "0.831832           0.7416           0.331818           0.0149748\n",
       "0.861565           0.703872         0.358792           0.016192\n",
       "0.891298           0.70114          0.361716           0.016324\n",
       "0.921032           0.700649         0.362435           0.0163565\n",
       "0.950765           0.6983           0.364718           0.0164595\n",
       "0.980498           0.683861         0.370274           0.0167102\n",
       "1.01023            0.681648         0.370198           0.0167068\n",
       "1.03996            0.703799         0.36069            0.0162777]"
      ]
     },
     "execution_count": 48,
     "metadata": {},
     "output_type": "execute_result"
    },
    {
     "data": {
      "image/png": "[encoded data removed]",
      "text/plain": [
       "<Figure size 500x500 with 1 Axes>"
      ]
     },
     "metadata": {},
     "output_type": "display_data"
    }
   ],
   "source": [
    "model.partial_plot(frame=hf_train, cols=['min_utilization'], figsize=(5, 5))#, targets=['RF_T_0', 'RF_1_0']);"
   ]
  },
  {
   "cell_type": "code",
   "execution_count": 35,
   "metadata": {},
   "outputs": [
    {
     "name": "stderr",
     "output_type": "stream",
     "text": [
      "/home/lucasmalheiros/Documents/Pesquisa Operacional/tcc-relax-and-fix/venv/lib/python3.12/site-packages/h2o/frame.py:1983: H2ODependencyWarning: Converting H2O frame to pandas dataframe using single-thread.  For faster conversion using multi-thread, install polars and pyarrow and use it as pandas_df = h2o_df.as_data_frame(use_multi_thread=True)\n",
      "\n",
      "  warnings.warn(\"Converting H2O frame to pandas dataframe using single-thread.  For faster conversion using\"\n",
      "/home/lucasmalheiros/Documents/Pesquisa Operacional/tcc-relax-and-fix/venv/lib/python3.12/site-packages/h2o/frame.py:1983: H2ODependencyWarning: Converting H2O frame to pandas dataframe using single-thread.  For faster conversion using multi-thread, install polars and pyarrow and use it as pandas_df = h2o_df.as_data_frame(use_multi_thread=True)\n",
      "\n",
      "  warnings.warn(\"Converting H2O frame to pandas dataframe using single-thread.  For faster conversion using\"\n"
     ]
    }
   ],
   "source": [
    "# Previsões\n",
    "actual = hf_train[target].as_data_frame(use_multi_thread=True)[target]\n",
    "predictions = model.cross_validation_holdout_predictions()\n",
    "predict = predictions[0].as_data_frame(use_multi_thread=True)['predict']"
   ]
  },
  {
   "cell_type": "code",
   "execution_count": 36,
   "metadata": {},
   "outputs": [
    {
     "name": "stdout",
     "output_type": "stream",
     "text": [
      "Confusion Matrix:\n",
      " [[110  26]\n",
      " [ 16 339]]\n"
     ]
    }
   ],
   "source": [
    "# Confusion matrix\n",
    "cm = confusion_matrix(actual, predict)\n",
    "print(\"Confusion Matrix:\\n\", cm)"
   ]
  },
  {
   "cell_type": "code",
   "execution_count": 37,
   "metadata": {},
   "outputs": [
    {
     "data": {
      "text/plain": [
       "np.float64(0.9144602851323829)"
      ]
     },
     "execution_count": 37,
     "metadata": {},
     "output_type": "execute_result"
    }
   ],
   "source": [
    "# Precisão\n",
    "cm.trace() / cm.sum()"
   ]
  },
  {
   "cell_type": "code",
   "execution_count": 38,
   "metadata": {},
   "outputs": [
    {
     "name": "stdout",
     "output_type": "stream",
     "text": [
      "Macro-Average Recall: 0.8819\n"
     ]
    }
   ],
   "source": [
    "recall_per_class = np.diag(cm) / np.sum(cm, axis=1)\n",
    "macro_average_recall = np.mean(recall_per_class)\n",
    "print(f\"Macro-Average Recall: {macro_average_recall:.4f}\")"
   ]
  },
  {
   "cell_type": "code",
   "execution_count": 39,
   "metadata": {},
   "outputs": [
    {
     "name": "stdout",
     "output_type": "stream",
     "text": [
      "\n",
      "F1 Score: 0.9134\n"
     ]
    }
   ],
   "source": [
    "# F1 score\n",
    "f1 = f1_score(actual, predict, average='weighted')\n",
    "print(f'\\nF1 Score: {f1:.4f}')"
   ]
  },
  {
   "cell_type": "markdown",
   "metadata": {},
   "source": [
    "# Avaliação no dataset de teste"
   ]
  },
  {
   "cell_type": "code",
   "execution_count": 40,
   "metadata": {},
   "outputs": [
    {
     "name": "stderr",
     "output_type": "stream",
     "text": [
      "/home/lucasmalheiros/Documents/Pesquisa Operacional/tcc-relax-and-fix/venv/lib/python3.12/site-packages/h2o/frame.py:1983: H2ODependencyWarning: Converting H2O frame to pandas dataframe using single-thread.  For faster conversion using multi-thread, install polars and pyarrow and use it as pandas_df = h2o_df.as_data_frame(use_multi_thread=True)\n",
      "\n",
      "  warnings.warn(\"Converting H2O frame to pandas dataframe using single-thread.  For faster conversion using\"\n"
     ]
    },
    {
     "name": "stdout",
     "output_type": "stream",
     "text": [
      "gbm prediction progress: |███████████████████████████████████████████████████████| (done) 100%\n"
     ]
    },
    {
     "name": "stderr",
     "output_type": "stream",
     "text": [
      "/home/lucasmalheiros/Documents/Pesquisa Operacional/tcc-relax-and-fix/venv/lib/python3.12/site-packages/h2o/frame.py:1983: H2ODependencyWarning: Converting H2O frame to pandas dataframe using single-thread.  For faster conversion using multi-thread, install polars and pyarrow and use it as pandas_df = h2o_df.as_data_frame(use_multi_thread=True)\n",
      "\n",
      "  warnings.warn(\"Converting H2O frame to pandas dataframe using single-thread.  For faster conversion using\"\n"
     ]
    }
   ],
   "source": [
    "# Previsões sobre teste\n",
    "actual_test = hf_test[target].as_data_frame(use_multi_thread=True)[target]\n",
    "predictions_test = model.predict(hf_test)\n",
    "predict_test = predictions_test[0].as_data_frame(use_multi_thread=True)['predict']"
   ]
  },
  {
   "cell_type": "code",
   "execution_count": 41,
   "metadata": {},
   "outputs": [
    {
     "name": "stdout",
     "output_type": "stream",
     "text": [
      "Confusion Matrix:\n",
      " [[21  6]\n",
      " [ 9 71]]\n"
     ]
    }
   ],
   "source": [
    "# Confusion matrix\n",
    "cm = confusion_matrix(actual_test, predict_test)\n",
    "print(\"Confusion Matrix:\\n\", cm)"
   ]
  },
  {
   "cell_type": "code",
   "execution_count": 42,
   "metadata": {},
   "outputs": [
    {
     "data": {
      "text/plain": [
       "np.float64(0.8598130841121495)"
      ]
     },
     "execution_count": 42,
     "metadata": {},
     "output_type": "execute_result"
    }
   ],
   "source": [
    "# Precisão\n",
    "cm.trace() / cm.sum()"
   ]
  },
  {
   "cell_type": "code",
   "execution_count": 43,
   "metadata": {},
   "outputs": [
    {
     "name": "stdout",
     "output_type": "stream",
     "text": [
      "\n",
      "F1 Score: 0.8622\n"
     ]
    }
   ],
   "source": [
    "# F1 score\n",
    "f1 = f1_score(actual_test, predict_test, average='weighted')\n",
    "print(f'\\nF1 Score: {f1:.4f}')"
   ]
  },
  {
   "cell_type": "code",
   "execution_count": 613,
   "metadata": {},
   "outputs": [],
   "source": [
    "# h2o.cluster().shutdown()"
   ]
  }
 ],
 "metadata": {
  "kernelspec": {
   "display_name": "venv",
   "language": "python",
   "name": "python3"
  },
  "language_info": {
   "codemirror_mode": {
    "name": "ipython",
    "version": 3
   },
   "file_extension": ".py",
   "mimetype": "text/x-python",
   "name": "python",
   "nbconvert_exporter": "python",
   "pygments_lexer": "ipython3",
   "version": "3.12.3"
  }
 },
 "nbformat": 4,
 "nbformat_minor": 4
}
